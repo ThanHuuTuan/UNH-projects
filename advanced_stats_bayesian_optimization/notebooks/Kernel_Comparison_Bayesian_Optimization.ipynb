{
 "cells": [
  {
   "cell_type": "code",
   "execution_count": 4,
   "metadata": {
    "collapsed": true
   },
   "outputs": [],
   "source": [
    "import itertools\n",
    "import numpy as np"
   ]
  },
  {
   "cell_type": "markdown",
   "metadata": {
    "collapsed": true
   },
   "source": [
    "# RBF kernel"
   ]
  },
  {
   "cell_type": "code",
   "execution_count": 3,
   "metadata": {
    "collapsed": true
   },
   "outputs": [],
   "source": [
    "def squarred_kernel(self, a, b, param=2.0, train=False,\n",
    "                            train_noise = 5e-3, vertical_scale=1.5):\n",
    "        \"\"\"Calculated the squarred exponential kernel.\n",
    "        Adds a noise term for the covariance of the training data\n",
    "        Adjusting the param changes the difference where points will have a positive covariance\n",
    "        Returns a covaraince Matrix.\n",
    "        Vertical scale controls the vertical scale of the function\"\"\"\n",
    "\n",
    "\n",
    "        if train == False:\n",
    "            # ensure a and b are numpy arrays\n",
    "            a = np.array(a)\n",
    "            b = np.array(b)\n",
    "            sqdist = np.sum(a**2,1).reshape(-1,1) + np.sum(b**2,1) - 2*np.dot(a, b.T)\n",
    "            return vertical_scale*np.exp(-.5 * (1/param) * sqdist)\n",
    "\n",
    "        else:\n",
    "            # ensure a and b are numpy arrays\n",
    "            a = np.array(a)\n",
    "            b = np.array(b)\n",
    "            noisy_observations = train_noise*np.eye(len(a))\n",
    "            sqdist = np.sum(a**2,1).reshape(-1,1) + np.sum(b**2,1) - 2*np.dot(a, b.T)\n",
    "            return vertical_scale*np.exp(-.5 * (1/param) * sqdist) + noisy_observations"
   ]
  },
  {
   "cell_type": "markdown",
   "metadata": {},
   "source": [
    "# Matern Kernel"
   ]
  },
  {
   "cell_type": "code",
   "execution_count": 6,
   "metadata": {
    "collapsed": true
   },
   "outputs": [],
   "source": [
    "def matern_kernel(self, a,b,C_smoothness=3/2,train=False, train_noise = 5e-2):\n",
    "        \"\"\"The class of Matern kernels is a generalization of the RBF and the\n",
    "        absolute exponential kernel parameterized by an additional parameter\n",
    "        nu. The smaller nu, the less smooth the approximated function is.\n",
    "        For nu=inf, the kernel becomes equivalent to the RBF kernel and for nu=0.5\n",
    "        to the absolute exponential kernel. Important intermediate values are\n",
    "        nu=1.5 (once differentiable functions) and nu=2.5 (twice differentiable\n",
    "        functions).\n",
    "\n",
    "        c_smoother = inf = RBF\n",
    "\n",
    "        The train keyword is used to add noisy observations to the matrix\"\"\"\n",
    "        if C_smoothness not in [1/2,3/2]:\n",
    "            return \"You choose an incorrect hyparameter, please choose either 1/2 or 3/2\"\n",
    "        matrix_norm = np.array([np.linalg.norm(a[i] - b,axis=(1)) for i in range(len(a))])\n",
    "        if C_smoothness == 1/2:\n",
    "            if train == True:\n",
    "                max(np.var(a),np.var(b)) * np.exp(-matrix_norm) + np.eye(len(matrix_norm))*train_noise\n",
    "            else:\n",
    "                return max(np.var(a),np.var(b)) * np.exp(-matrix_norm)\n",
    "        elif C_smoothness == 3/2:\n",
    "            if train == True:\n",
    "                return max(np.var(a),np.var(b))* (1\n",
    "                    + np.sqrt(3)*matrix_norm)*np.exp(-np.sqrt(3)*matrix_norm) \\\n",
    "                    + np.eye(len(matrix_norm))*train_noise\n",
    "            else:\n",
    "                return max(np.var(a),np.var(b))* (1 +np.sqrt(3) *\n",
    "                                matrix_norm) * np.exp(-np.sqrt(3)*matrix_norm)"
   ]
  },
  {
   "cell_type": "code",
   "execution_count": null,
   "metadata": {
    "collapsed": true
   },
   "outputs": [],
   "source": []
  }
 ],
 "metadata": {
  "kernelspec": {
   "display_name": "stats",
   "language": "python",
   "name": "stats"
  },
  "language_info": {
   "codemirror_mode": {
    "name": "ipython",
    "version": 3
   },
   "file_extension": ".py",
   "mimetype": "text/x-python",
   "name": "python",
   "nbconvert_exporter": "python",
   "pygments_lexer": "ipython3",
   "version": "3.6.1"
  }
 },
 "nbformat": 4,
 "nbformat_minor": 2
}
