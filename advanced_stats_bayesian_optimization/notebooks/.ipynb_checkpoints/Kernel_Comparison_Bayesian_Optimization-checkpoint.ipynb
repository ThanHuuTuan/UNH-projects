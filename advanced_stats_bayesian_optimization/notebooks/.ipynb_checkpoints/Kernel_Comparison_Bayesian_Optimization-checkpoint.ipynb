{
 "cells": [
  {
   "cell_type": "code",
   "execution_count": 4,
   "metadata": {
    "collapsed": true
   },
   "outputs": [],
   "source": [
    "import itertools\n",
    "import numpy as np"
   ]
  },
  {
   "cell_type": "markdown",
   "metadata": {
    "collapsed": true
   },
   "source": [
    "# RBF kernel"
   ]
  },
  {
   "cell_type": "code",
   "execution_count": 3,
   "metadata": {
    "collapsed": true
   },
   "outputs": [],
   "source": [
    "def squarred_kernel(self, a, b, param=2.0, train=False,\n",
    "                            train_noise = 5e-3, vertical_scale=1.5):\n",
    "        \"\"\"Calculated the squarred exponential kernel.\n",
    "        Adds a noise term for the covariance of the training data\n",
    "        Adjusting the param changes the difference where points will have a positive covariance\n",
    "        Returns a covaraince Matrix.\n",
    "        Vertical scale controls the vertical scale of the function\"\"\"\n",
    "\n",
    "\n",
    "        if train == False:\n",
    "            # ensure a and b are numpy arrays\n",
    "            a = np.array(a)\n",
    "            b = np.array(b)\n",
    "            sqdist = np.sum(a**2,1).reshape(-1,1) + np.sum(b**2,1) - 2*np.dot(a, b.T)\n",
    "            return vertical_scale*np.exp(-.5 * (1/param) * sqdist)\n",
    "\n",
    "        else:\n",
    "            # ensure a and b are numpy arrays\n",
    "            a = np.array(a)\n",
    "            b = np.array(b)\n",
    "            noisy_observations = train_noise*np.eye(len(a))\n",
    "            sqdist = np.sum(a**2,1).reshape(-1,1) + np.sum(b**2,1) - 2*np.dot(a, b.T)\n",
    "            return vertical_scale*np.exp(-.5 * (1/param) * sqdist) + noisy_observations"
   ]
  },
  {
   "cell_type": "code",
   "execution_count": null,
   "metadata": {
    "collapsed": true
   },
   "outputs": [],
   "source": []
  },
  {
   "cell_type": "code",
   "execution_count": null,
   "metadata": {
    "collapsed": true
   },
   "outputs": [],
   "source": [
    "squ"
   ]
  }
 ],
 "metadata": {
  "kernelspec": {
   "display_name": "stats",
   "language": "python",
   "name": "stats"
  },
  "language_info": {
   "codemirror_mode": {
    "name": "ipython",
    "version": 3
   },
   "file_extension": ".py",
   "mimetype": "text/x-python",
   "name": "python",
   "nbconvert_exporter": "python",
   "pygments_lexer": "ipython3",
   "version": "3.6.1"
  }
 },
 "nbformat": 4,
 "nbformat_minor": 2
}
