{
 "cells": [
  {
   "cell_type": "code",
   "execution_count": 1,
   "metadata": {},
   "outputs": [
    {
     "name": "stdout",
     "output_type": "stream",
     "text": [
      "Populating the interactive namespace from numpy and matplotlib\n"
     ]
    },
    {
     "name": "stderr",
     "output_type": "stream",
     "text": [
      "/Users/jonathanhilgart/anaconda/envs/stats/lib/python3.6/site-packages/IPython/core/magics/pylab.py:160: UserWarning: pylab import has clobbered these variables: ['sin']\n",
      "`%matplotlib` prevents importing * from pylab and numpy\n",
      "  \"\\n`%matplotlib` prevents importing * from pylab and numpy\"\n"
     ]
    }
   ],
   "source": [
    "import numpy as np\n",
    "import pandas as pd\n",
    "from math import sin\n",
    "import matplotlib.pyplot as plt\n",
    "from matplotlib import cm\n",
    "%pylab inline"
   ]
  },
  {
   "cell_type": "markdown",
   "metadata": {},
   "source": [
    "- Maximize the log probability of y given the parameters of the kernel\n",
    "- Reference: https://math.stackexchange.com/questions/1030534/gradients-of-marginal-likelihood-of-gaussian-process-with-squared-exponential-co/1072701#1072701\n",
    "- $lnP(y|x,θ)=−1/2*ln|K|−1/2*ytK−1y−N2ln2π$"
   ]
  },
  {
   "cell_type": "markdown",
   "metadata": {},
   "source": [
    "- Define the kernel"
   ]
  },
  {
   "cell_type": "code",
   "execution_count": 15,
   "metadata": {
    "collapsed": true
   },
   "outputs": [],
   "source": [
    "def rbf( a, b, length=2.0, train=False,\n",
    "                            train_noise = 5e-3, theta=1.5):\n",
    "        \"\"\"Calculated the squarred exponential kernel.\n",
    "        Adds a noise term for the covariance of the training data\n",
    "        Adjusting the length changes the difference where points will have a positive covariance\n",
    "        Returns a covaraince Matrix.\n",
    "        Vertical scale controls the vertical scale of the function\"\"\"\n",
    "\n",
    "\n",
    "        if train == False:\n",
    "            # ensure a and b are numpy arrays\n",
    "            a = np.array(a)\n",
    "            b = np.array(b)\n",
    "            sqdist = np.sum(a**2,1).reshape(-1,1) + np.sum(b**2,1) - 2*np.dot(a, b.T)\n",
    "            return theta*np.exp(-.5 * (1/length) * sqdist)\n",
    "\n",
    "        else:\n",
    "            # ensure a and b are numpy arrays\n",
    "            a = np.array(a)\n",
    "            b = np.array(b)\n",
    "            noisy_observations = train_noise*np.eye(len(a))\n",
    "            sqdist = np.sum(a**2,1).reshape(-1,1) + np.sum(b**2,1) - 2*np.dot(a, b.T)\n",
    "            return theta*np.exp(-.5 * (1/length) * sqdist) + noisy_observations"
   ]
  },
  {
   "cell_type": "markdown",
   "metadata": {},
   "source": [
    "- Define the RBF gradients"
   ]
  },
  {
   "cell_type": "code",
   "execution_count": 16,
   "metadata": {
    "collapsed": true
   },
   "outputs": [],
   "source": [
    "def rbf_grad_theta(a,b, theta = 1.5, length = 2.0):\n",
    "    \"\"\"Computes the derivative of the RBF kernel wrt the theta parameter.\n",
    "    Only use with the training points (points that have a corresponding y-value)\"\"\"\n",
    "    sqdist = np.sum(a**2,1).reshape(-1,1) + np.sum(b**2,1) - 2*np.dot(a, b.T)\n",
    "\n",
    "    return 2*theta*np.exp( - sqdist / (2*length**2 ))"
   ]
  },
  {
   "cell_type": "code",
   "execution_count": 17,
   "metadata": {
    "collapsed": true
   },
   "outputs": [],
   "source": [
    "def rbf_grad_length(a,b, theta = 1.5, length = 2.0 ):\n",
    "    \"\"\"COmputes the derivative of the RBF kernel wrt the length parameter.\n",
    "    Only use with the training points (points that have a corresponding y-value\n",
    "    \"\"\"\n",
    "    sqdist = np.sum(a**2,1).reshape(-1,1) + np.sum(b**2,1) - 2*np.dot(a, b.T)\n",
    "    \n",
    "    return theta**2 * np.exp(-sqdist / (2*length**2)  )* ( sqdist / length**3)"
   ]
  },
  {
   "cell_type": "markdown",
   "metadata": {},
   "source": [
    "- Define test points"
   ]
  },
  {
   "cell_type": "code",
   "execution_count": 18,
   "metadata": {
    "collapsed": true
   },
   "outputs": [],
   "source": [
    "test_x = np.array(np.linspace(-100,100,1_000)).reshape(-1,1)\n",
    "train_x = np.array([[-5,10,40]]).reshape(-1,1)\n",
    "\n",
    "train_y_func = lambda x: 1000*sin(.1*x)/abs(x+10*x+5)\n",
    "train_y_func_two_d = lambda a,b : (a*b)/(a-1/(b+1)) - b\n",
    "train_y_numbers = np.array([train_y_func(_) for _ in train_x]).reshape(-1,1)\n",
    "y_var = 100\n",
    "max_covariance = 5\n"
   ]
  },
  {
   "cell_type": "code",
   "execution_count": 19,
   "metadata": {},
   "outputs": [
    {
     "data": {
      "image/png": "[encoded data removed]",
      "text/plain": [
       "<matplotlib.figure.Figure at 0x11b7db8d0>"
      ]
     },
     "metadata": {},
     "output_type": "display_data"
    }
   ],
   "source": [
    "plt.figure(figsize=(10,8))\n",
    "plt.title('Demo 1D Function')\n",
    "plt.plot(np.linspace(-100,100,1_000),np.array([train_y_func(_) for _ in test_x]).reshape(-1,1) );"
   ]
  },
  {
   "cell_type": "markdown",
   "metadata": {},
   "source": [
    "### Test the gradients\n",
    "- returns a matrix of first derivatives"
   ]
  },
  {
   "cell_type": "code",
   "execution_count": 20,
   "metadata": {},
   "outputs": [
    {
     "data": {
      "text/plain": [
       "array([[  0.00000000e+000,   0.00000000e+000,   0.00000000e+000, ...,\n",
       "          0.00000000e+000,   0.00000000e+000,   0.00000000e+000],\n",
       "       [  0.00000000e+000,   0.00000000e+000,   0.00000000e+000, ...,\n",
       "          0.00000000e+000,   0.00000000e+000,   0.00000000e+000],\n",
       "       [  0.00000000e+000,   0.00000000e+000,   0.00000000e+000, ...,\n",
       "          4.40835314e-193,   2.22134600e-194,   1.10816492e-195]])"
      ]
     },
     "execution_count": 20,
     "metadata": {},
     "output_type": "execute_result"
    }
   ],
   "source": [
    "rbf_grad_theta(train_x,test_x)"
   ]
  },
  {
   "cell_type": "code",
   "execution_count": 21,
   "metadata": {},
   "outputs": [
    {
     "data": {
      "text/plain": [
       "array([[  0.00000000e+000,   0.00000000e+000,   0.00000000e+000, ...,\n",
       "          0.00000000e+000,   0.00000000e+000,   0.00000000e+000],\n",
       "       [  0.00000000e+000,   0.00000000e+000,   0.00000000e+000, ...,\n",
       "          0.00000000e+000,   0.00000000e+000,   0.00000000e+000],\n",
       "       [  0.00000000e+000,   0.00000000e+000,   0.00000000e+000, ...,\n",
       "          1.46802800e-190,   7.44709589e-192,   3.74005661e-193]])"
      ]
     },
     "execution_count": 21,
     "metadata": {},
     "output_type": "execute_result"
    }
   ],
   "source": [
    "rbf_grad_length(train_x,test_x)"
   ]
  },
  {
   "cell_type": "markdown",
   "metadata": {},
   "source": [
    "# Define the gradient of the marginal log-likelihood and the marginal log-likelihood"
   ]
  },
  {
   "cell_type": "code",
   "execution_count": 22,
   "metadata": {
    "collapsed": true
   },
   "outputs": [],
   "source": [
    "def marginal_log_likehood_grad(covariance_matrix, y_values, cov_gradient_matrix):\n",
    "    \"\"\"\n",
    "    covaraince_matrix: the covaraince given the kernel \n",
    "    y_values: returning y-vals from the underlying function\n",
    "    cov_gradient_matrix: the jacobian matrix for the given parameter\n",
    "    \n",
    "    return the gradient of the marginal log-likelihood\"\"\"\n",
    "    \n",
    "    return 1/2 * y_values.T @ np.linalg.inv(covariance_matrix) @  cov_gradient_matrix @np.linalg.inv(covariance_matrix)\\\n",
    "            @ y_values -\\\n",
    "            .5* np.trace(np.linalg.inv(covariance_matrix) @ cov_gradient_matrix)"
   ]
  },
  {
   "cell_type": "code",
   "execution_count": 23,
   "metadata": {
    "collapsed": true
   },
   "outputs": [],
   "source": [
    "def marginal_log_likehood(covariance_matrix, y_values):\n",
    "    \"\"\"Return the marginal likelihood of the y-values over the latent variables\"\"\"\n",
    "    from math import pi\n",
    "    return -.5*np.log(abs(covariance_matrix))- (.5*y_values.T @ np.linalg.inv(covariance_matrix) @ y_values)  - \\\n",
    "        len(y_values)/2*np.log(2*pi)"
   ]
  },
  {
   "cell_type": "code",
   "execution_count": 24,
   "metadata": {
    "collapsed": true
   },
   "outputs": [],
   "source": [
    "cov_train_train = rbf(train_x,train_x)"
   ]
  },
  {
   "cell_type": "code",
   "execution_count": 25,
   "metadata": {
    "collapsed": true
   },
   "outputs": [],
   "source": [
    "length_grad = rbf_grad_length(train_x,train_x)\n",
    "theta_grad = rbf_grad_theta(train_x,train_x)"
   ]
  },
  {
   "cell_type": "code",
   "execution_count": 26,
   "metadata": {},
   "outputs": [
    {
     "data": {
      "text/plain": [
       "array([[ -1.20407265e-09]])"
      ]
     },
     "execution_count": 26,
     "metadata": {},
     "output_type": "execute_result"
    }
   ],
   "source": [
    "marginal_log_likehood_grad(cov_train_train,train_y_numbers, length_grad )"
   ]
  },
  {
   "cell_type": "code",
   "execution_count": 27,
   "metadata": {},
   "outputs": [
    {
     "data": {
      "text/plain": [
       "array([[ 95.91491574]])"
      ]
     },
     "execution_count": 27,
     "metadata": {},
     "output_type": "execute_result"
    }
   ],
   "source": [
    "marginal_log_likehood_grad(cov_train_train,train_y_numbers, theta_grad  )"
   ]
  },
  {
   "cell_type": "markdown",
   "metadata": {},
   "source": [
    "## Hill climbing optimization"
   ]
  },
  {
   "cell_type": "code",
   "execution_count": 42,
   "metadata": {},
   "outputs": [
    {
     "name": "stdout",
     "output_type": "stream",
     "text": [
      "New theta = [[ 10.9875699]]\n",
      "New length = [[ 4.85970564]]\n",
      "\n",
      "New theta = [[ 12.02703554]]\n",
      "New length = [[ 4.74230974]]\n",
      "\n",
      "New theta = [[ 12.95284968]]\n",
      "New length = [[ 4.64281062]]\n",
      "\n",
      "New theta = [[ 13.79246673]]\n",
      "New length = [[ 4.55743535]]\n",
      "\n",
      "New theta = [[ 14.56369583]]\n",
      "New length = [[ 4.48333902]]\n",
      "\n",
      "New theta = [[ 15.27890439]]\n",
      "New length = [[ 4.41836237]]\n",
      "\n",
      "New theta = [[ 15.94711139]]\n",
      "New length = [[ 4.36085016]]\n",
      "\n",
      "New theta = [[ 16.57514141]]\n",
      "New length = [[ 4.30951894]]\n",
      "\n",
      "New theta = [[ 17.16831023]]\n",
      "New length = [[ 4.26336161]]\n",
      "\n",
      "New theta = [[ 17.73085619]]\n",
      "New length = [[ 4.22157872]]\n",
      "\n",
      "New theta = [[ 18.26622424]]\n",
      "New length = [[ 4.18352844]]\n",
      "\n",
      "New theta = [[ 18.77726011]]\n",
      "New length = [[ 4.14869002]]\n",
      "\n",
      "New theta = [[ 19.26634715]]\n",
      "New length = [[ 4.11663675]]\n",
      "\n",
      "New theta = [[ 19.73550534]]\n",
      "New length = [[ 4.08701572]]\n",
      "\n",
      "New theta = [[ 20.18646457]]\n",
      "New length = [[ 4.05953252]]\n",
      "\n",
      "New theta = [[ 20.62071984]]\n",
      "New length = [[ 4.03393963]]\n",
      "\n",
      "New theta = [[ 21.03957373]]\n",
      "New length = [[ 4.01002734]]\n",
      "\n",
      "New theta = [[ 21.44416938]]\n",
      "New length = [[ 3.98761679]]\n",
      "\n",
      "New theta = [[ 21.83551657]]\n",
      "New length = [[ 3.96655445]]\n",
      "\n",
      "New theta = [[ 22.21451253]]\n",
      "New length = [[ 3.94670773]]\n",
      "\n",
      "New theta = [[ 22.5819588]]\n",
      "New length = [[ 3.9279615]]\n",
      "\n",
      "New theta = [[ 22.93857488]]\n",
      "New length = [[ 3.91021526]]\n",
      "\n",
      "New theta = [[ 23.28500959]]\n",
      "New length = [[ 3.89338087]]\n",
      "\n",
      "New theta = [[ 23.62185037]]\n",
      "New length = [[ 3.87738066]]\n",
      "\n",
      "New theta = [[ 23.94963114]]\n",
      "New length = [[ 3.86214593]]\n",
      "\n",
      "New theta = [[ 24.26883887]]\n",
      "New length = [[ 3.84761562]]\n",
      "\n",
      "New theta = [[ 24.57991918]]\n",
      "New length = [[ 3.8337353]]\n",
      "\n",
      "New theta = [[ 24.88328107]]\n",
      "New length = [[ 3.82045625]]\n",
      "\n",
      "New theta = [[ 25.17930101]]\n",
      "New length = [[ 3.80773474]]\n",
      "\n",
      "New theta = [[ 25.46832644]]\n",
      "New length = [[ 3.79553136]]\n",
      "\n",
      "New theta = [[ 25.75067883]]\n",
      "New length = [[ 3.78381053]]\n",
      "\n",
      "New theta = [[ 26.02665627]]\n",
      "New length = [[ 3.77254]]\n",
      "\n",
      "New theta = [[ 26.29653583]]\n",
      "New length = [[ 3.76169048]]\n",
      "\n",
      "New theta = [[ 26.56057554]]\n",
      "New length = [[ 3.7512353]]\n",
      "\n",
      "New theta = [[ 26.8190162]]\n",
      "New length = [[ 3.74115011]]\n",
      "\n",
      "New theta = [[ 27.07208291]]\n",
      "New length = [[ 3.73141263]]\n",
      "\n",
      "New theta = [[ 27.31998651]]\n",
      "New length = [[ 3.72200242]]\n",
      "\n",
      "New theta = [[ 27.56292476]]\n",
      "New length = [[ 3.71290071]]\n",
      "\n",
      "New theta = [[ 27.8010835]]\n",
      "New length = [[ 3.7040902]]\n",
      "\n",
      "New theta = [[ 28.03463758]]\n",
      "New length = [[ 3.69555496]]\n",
      "\n",
      "New theta = [[ 28.26375179]]\n",
      "New length = [[ 3.68728023]]\n",
      "\n",
      "New theta = [[ 28.48858162]]\n",
      "New length = [[ 3.67925238]]\n",
      "\n",
      "New theta = [[ 28.70927399]]\n",
      "New length = [[ 3.67145874]]\n",
      "\n",
      "New theta = [[ 28.92596789]]\n",
      "New length = [[ 3.66388756]]\n",
      "\n",
      "New theta = [[ 29.13879497]]\n",
      "New length = [[ 3.6565279]]\n",
      "\n",
      "New theta = [[ 29.34788008]]\n",
      "New length = [[ 3.64936957]]\n",
      "\n",
      "New theta = [[ 29.55334172]]\n",
      "New length = [[ 3.64240307]]\n",
      "\n",
      "New theta = [[ 29.75529252]]\n",
      "New length = [[ 3.6356195]]\n",
      "\n",
      "New theta = [[ 29.95383961]]\n",
      "New length = [[ 3.62901058]]\n",
      "\n",
      "New theta = [[ 30.14908498]]\n",
      "New length = [[ 3.6225685]]\n",
      "\n",
      "New theta = [[ 30.34112587]]\n",
      "New length = [[ 3.61628597]]\n",
      "\n",
      "New theta = [[ 30.53005501]]\n",
      "New length = [[ 3.61015614]]\n",
      "\n",
      "New theta = [[ 30.71596094]]\n",
      "New length = [[ 3.60417256]]\n",
      "\n",
      "New theta = [[ 30.89892827]]\n",
      "New length = [[ 3.59832917]]\n",
      "\n",
      "New theta = [[ 31.0790379]]\n",
      "New length = [[ 3.59262026]]\n",
      "\n",
      "New theta = [[ 31.25636727]]\n",
      "New length = [[ 3.58704045]]\n",
      "\n",
      "New theta = [[ 31.43099053]]\n",
      "New length = [[ 3.58158464]]\n",
      "\n",
      "New theta = [[ 31.60297877]]\n",
      "New length = [[ 3.57624804]]\n",
      "\n",
      "New theta = [[ 31.77240017]]\n",
      "New length = [[ 3.5710261]]\n",
      "\n",
      "New theta = [[ 31.93932014]]\n",
      "New length = [[ 3.56591452]]\n",
      "\n",
      "New theta = [[ 32.10380154]]\n",
      "New length = [[ 3.56090923]]\n",
      "\n",
      "New theta = [[ 32.26590474]]\n",
      "New length = [[ 3.55600636]]\n",
      "\n",
      "New theta = [[ 32.42568782]]\n",
      "New length = [[ 3.55120225]]\n",
      "\n",
      "New theta = [[ 32.58320666]]\n",
      "New length = [[ 3.54649342]]\n",
      "\n",
      "New theta = [[ 32.73851503]]\n",
      "New length = [[ 3.54187655]]\n",
      "\n",
      "New theta = [[ 32.89166475]]\n",
      "New length = [[ 3.53734851]]\n",
      "\n",
      "New theta = [[ 33.04270576]]\n",
      "New length = [[ 3.53290628]]\n",
      "\n",
      "New theta = [[ 33.1916862]]\n",
      "New length = [[ 3.52854703]]\n",
      "\n",
      "New theta = [[ 33.33865254]]\n",
      "New length = [[ 3.52426803]]\n",
      "\n",
      "New theta = [[ 33.4836496]]\n",
      "New length = [[ 3.52006668]]\n",
      "\n",
      "New theta = [[ 33.62672071]]\n",
      "New length = [[ 3.51594051]]\n",
      "\n",
      "New theta = [[ 33.76790769]]\n",
      "New length = [[ 3.51188715]]\n",
      "\n",
      "New theta = [[ 33.90725099]]\n",
      "New length = [[ 3.50790435]]\n",
      "\n",
      "New theta = [[ 34.04478971]]\n",
      "New length = [[ 3.50398993]]\n",
      "\n",
      "New theta = [[ 34.18056171]]\n",
      "New length = [[ 3.50014184]]\n",
      "\n",
      "New theta = [[ 34.31460358]]\n",
      "New length = [[ 3.49635809]]\n",
      "\n",
      "New theta = [[ 34.44695081]]\n",
      "New length = [[ 3.49263678]]\n",
      "\n",
      "New theta = [[ 34.57763772]]\n",
      "New length = [[ 3.4889761]]\n",
      "\n",
      "New theta = [[ 34.70669762]]\n",
      "New length = [[ 3.48537431]]\n",
      "\n",
      "New theta = [[ 34.83416276]]\n",
      "New length = [[ 3.48182973]]\n",
      "\n",
      "New theta = [[ 34.96006443]]\n",
      "New length = [[ 3.47834076]]\n",
      "\n",
      "New theta = [[ 35.084433]]\n",
      "New length = [[ 3.47490586]]\n",
      "\n",
      "New theta = [[ 35.20729792]]\n",
      "New length = [[ 3.47152355]]\n",
      "\n",
      "New theta = [[ 35.32868778]]\n",
      "New length = [[ 3.46819239]]\n",
      "\n",
      "New theta = [[ 35.44863037]]\n",
      "New length = [[ 3.46491103]]\n",
      "\n",
      "New theta = [[ 35.56715266]]\n",
      "New length = [[ 3.46167815]]\n",
      "\n",
      "New theta = [[ 35.68428087]]\n",
      "New length = [[ 3.45849248]]\n",
      "\n",
      "New theta = [[ 35.80004048]]\n",
      "New length = [[ 3.45535279]]\n",
      "\n",
      "New theta = [[ 35.91445628]]\n",
      "New length = [[ 3.45225792]]\n",
      "\n",
      "New theta = [[ 36.02755237]]\n",
      "New length = [[ 3.44920672]]\n",
      "\n",
      "New theta = [[ 36.1393522]]\n",
      "New length = [[ 3.44619811]]\n",
      "\n",
      "New theta = [[ 36.2498786]]\n",
      "New length = [[ 3.44323103]]\n",
      "\n",
      "New theta = [[ 36.35915377]]\n",
      "New length = [[ 3.44030446]]\n",
      "\n",
      "New theta = [[ 36.46719936]]\n",
      "New length = [[ 3.43741742]]\n",
      "\n",
      "New theta = [[ 36.57403645]]\n",
      "New length = [[ 3.43456897]]\n",
      "\n",
      "New theta = [[ 36.67968555]]\n",
      "New length = [[ 3.43175819]]\n",
      "\n",
      "New theta = [[ 36.78416668]]\n",
      "New length = [[ 3.42898419]]\n",
      "\n",
      "New theta = [[ 36.88749935]]\n",
      "New length = [[ 3.42624611]]\n",
      "\n",
      "New theta = [[ 36.98970257]]\n",
      "New length = [[ 3.42354314]]\n",
      "\n",
      "New theta = [[ 37.09079489]]\n",
      "New length = [[ 3.42087446]]\n",
      "\n",
      "New theta = [[ 37.1907944]]\n",
      "New length = [[ 3.41823931]]\n",
      "\n",
      "New theta = [[ 37.28971874]]\n",
      "New length = [[ 3.41563694]]\n",
      "\n",
      "New theta = [[ 37.38758517]]\n",
      "New length = [[ 3.41306662]]\n",
      "\n",
      "New theta = [[ 37.48441047]]\n",
      "New length = [[ 3.41052764]]\n",
      "\n",
      "New theta = [[ 37.58021109]]\n",
      "New length = [[ 3.40801934]]\n",
      "\n",
      "New theta = [[ 37.67500306]]\n",
      "New length = [[ 3.40554103]]\n",
      "\n",
      "New theta = [[ 37.76880203]]\n",
      "New length = [[ 3.4030921]]\n",
      "\n",
      "New theta = [[ 37.86162332]]\n",
      "New length = [[ 3.40067191]]\n",
      "\n",
      "New theta = [[ 37.95348188]]\n",
      "New length = [[ 3.39827987]]\n",
      "\n",
      "New theta = [[ 38.04439233]]\n",
      "New length = [[ 3.39591539]]\n",
      "\n",
      "New theta = [[ 38.13436895]]\n",
      "New length = [[ 3.3935779]]\n",
      "\n",
      "New theta = [[ 38.22342572]]\n",
      "New length = [[ 3.39126686]]\n",
      "\n",
      "New theta = [[ 38.31157631]]\n",
      "New length = [[ 3.38898172]]\n",
      "\n",
      "New theta = [[ 38.39883408]]\n",
      "New length = [[ 3.38672198]]\n",
      "\n",
      "New theta = [[ 38.48521211]]\n",
      "New length = [[ 3.38448713]]\n",
      "\n",
      "New theta = [[ 38.57072318]]\n",
      "New length = [[ 3.38227668]]\n",
      "\n",
      "New theta = [[ 38.65537984]]\n",
      "New length = [[ 3.38009015]]\n",
      "\n",
      "New theta = [[ 38.73919433]]\n",
      "New length = [[ 3.37792707]]\n",
      "\n",
      "New theta = [[ 38.82217865]]\n",
      "New length = [[ 3.37578701]]\n",
      "\n",
      "New theta = [[ 38.90434456]]\n",
      "New length = [[ 3.37366952]]\n",
      "\n",
      "New theta = [[ 38.98570357]]\n",
      "New length = [[ 3.37157418]]\n",
      "\n",
      "New theta = [[ 39.06626694]]\n",
      "New length = [[ 3.36950057]]\n",
      "\n",
      "New theta = [[ 39.14604573]]\n",
      "New length = [[ 3.36744828]]\n",
      "\n",
      "New theta = [[ 39.22505075]]\n",
      "New length = [[ 3.36541694]]\n",
      "\n",
      "New theta = [[ 39.30329261]]\n",
      "New length = [[ 3.36340614]]\n",
      "\n",
      "New theta = [[ 39.3807817]]\n",
      "New length = [[ 3.36141553]]\n",
      "\n",
      "New theta = [[ 39.45752821]]\n",
      "New length = [[ 3.35944473]]\n",
      "\n",
      "New theta = [[ 39.53354212]]\n",
      "New length = [[ 3.35749341]]\n",
      "\n",
      "New theta = [[ 39.60883324]]\n",
      "New length = [[ 3.3555612]]\n",
      "\n",
      "New theta = [[ 39.68341117]]\n",
      "New length = [[ 3.35364777]]\n",
      "\n",
      "New theta = [[ 39.75728533]]\n",
      "New length = [[ 3.35175281]]\n",
      "\n",
      "New theta = [[ 39.83046497]]\n",
      "New length = [[ 3.34987598]]\n",
      "\n",
      "New theta = [[ 39.90295914]]\n",
      "New length = [[ 3.34801698]]\n",
      "\n",
      "New theta = [[ 39.97477676]]\n",
      "New length = [[ 3.3461755]]\n",
      "\n",
      "New theta = [[ 40.04592654]]\n",
      "New length = [[ 3.34435125]]\n",
      "\n",
      "New theta = [[ 40.11641707]]\n",
      "New length = [[ 3.34254394]]\n",
      "\n",
      "New theta = [[ 40.18625675]]\n",
      "New length = [[ 3.34075328]]\n",
      "\n",
      "New theta = [[ 40.25545385]]\n",
      "New length = [[ 3.33897901]]\n",
      "\n",
      "New theta = [[ 40.32401647]]\n",
      "New length = [[ 3.33722084]]\n",
      "\n",
      "New theta = [[ 40.39195258]]\n",
      "New length = [[ 3.33547852]]\n",
      "\n",
      "New theta = [[ 40.45927]]\n",
      "New length = [[ 3.3337518]]\n",
      "\n",
      "New theta = [[ 40.52597641]]\n",
      "New length = [[ 3.33204042]]\n",
      "\n",
      "New theta = [[ 40.59207936]]\n",
      "New length = [[ 3.33034413]]\n",
      "\n",
      "New theta = [[ 40.65758627]]\n",
      "New length = [[ 3.3286627]]\n",
      "\n",
      "New theta = [[ 40.72250441]]\n",
      "New length = [[ 3.32699589]]\n",
      "\n",
      "New theta = [[ 40.78684095]]\n",
      "New length = [[ 3.32534348]]\n",
      "\n",
      "New theta = [[ 40.85060293]]\n",
      "New length = [[ 3.32370524]]\n",
      "\n",
      "New theta = [[ 40.91379726]]\n",
      "New length = [[ 3.32208095]]\n",
      "\n",
      "New theta = [[ 40.97643073]]\n",
      "New length = [[ 3.3204704]]\n",
      "\n",
      "New theta = [[ 41.03851004]]\n",
      "New length = [[ 3.31887338]]\n",
      "\n",
      "New theta = [[ 41.10004175]]\n",
      "New length = [[ 3.31728969]]\n",
      "\n",
      "New theta = [[ 41.16103233]]\n",
      "New length = [[ 3.31571912]]\n",
      "\n",
      "New theta = [[ 41.22148812]]\n",
      "New length = [[ 3.31416148]]\n",
      "\n",
      "New theta = [[ 41.28141539]]\n",
      "New length = [[ 3.31261658]]\n",
      "\n",
      "New theta = [[ 41.34082027]]\n",
      "New length = [[ 3.31108423]]\n",
      "\n",
      "New theta = [[ 41.39970881]]\n",
      "New length = [[ 3.30956424]]\n",
      "\n",
      "New theta = [[ 41.45808698]]\n",
      "New length = [[ 3.30805644]]\n",
      "\n",
      "New theta = [[ 41.5159606]]\n",
      "New length = [[ 3.30656066]]\n",
      "\n",
      "New theta = [[ 41.57333546]]\n",
      "New length = [[ 3.30507671]]\n",
      "\n",
      "New theta = [[ 41.63021722]]\n",
      "New length = [[ 3.30360444]]\n",
      "\n",
      "New theta = [[ 41.68661145]]\n",
      "New length = [[ 3.30214366]]\n",
      "\n",
      "New theta = [[ 41.74252364]]\n",
      "New length = [[ 3.30069423]]\n",
      "\n",
      "New theta = [[ 41.79795921]]\n",
      "New length = [[ 3.29925599]]\n",
      "\n",
      "New theta = [[ 41.85292347]]\n",
      "New length = [[ 3.29782877]]\n",
      "\n",
      "New theta = [[ 41.90742167]]\n",
      "New length = [[ 3.29641243]]\n",
      "\n",
      "New theta = [[ 41.96145895]]\n",
      "New length = [[ 3.29500682]]\n",
      "\n",
      "New theta = [[ 42.01504041]]\n",
      "New length = [[ 3.29361178]]\n",
      "\n",
      "New theta = [[ 42.06817104]]\n",
      "New length = [[ 3.29222718]]\n",
      "\n",
      "New theta = [[ 42.12085577]]\n",
      "New length = [[ 3.29085288]]\n",
      "\n",
      "New theta = [[ 42.17309945]]\n",
      "New length = [[ 3.28948874]]\n",
      "\n",
      "New theta = [[ 42.22490686]]\n",
      "New length = [[ 3.28813461]]\n",
      "\n",
      "New theta = [[ 42.27628271]]\n",
      "New length = [[ 3.28679038]]\n",
      "\n",
      "New theta = [[ 42.32723164]]\n",
      "New length = [[ 3.2854559]]\n",
      "\n",
      "New theta = [[ 42.37775822]]\n",
      "New length = [[ 3.28413106]]\n",
      "\n",
      "New theta = [[ 42.42786695]]\n",
      "New length = [[ 3.28281572]]\n",
      "\n",
      "New theta = [[ 42.47756227]]\n",
      "New length = [[ 3.28150976]]\n",
      "\n",
      "New theta = [[ 42.52684856]]\n",
      "New length = [[ 3.28021307]]\n",
      "\n",
      "New theta = [[ 42.57573013]]\n",
      "New length = [[ 3.27892551]]\n",
      "\n",
      "New theta = [[ 42.62421121]]\n",
      "New length = [[ 3.27764699]]\n",
      "\n",
      "New theta = [[ 42.67229601]]\n",
      "New length = [[ 3.27637737]]\n",
      "\n",
      "New theta = [[ 42.71998865]]\n",
      "New length = [[ 3.27511656]]\n",
      "\n",
      "New theta = [[ 42.7672932]]\n",
      "New length = [[ 3.27386443]]\n",
      "\n",
      "New theta = [[ 42.81421367]]\n",
      "New length = [[ 3.27262089]]\n",
      "\n",
      "New theta = [[ 42.86075402]]\n",
      "New length = [[ 3.27138582]]\n",
      "\n",
      "New theta = [[ 42.90691815]]\n",
      "New length = [[ 3.27015912]]\n",
      "\n",
      "New theta = [[ 42.9527099]]\n",
      "New length = [[ 3.26894069]]\n",
      "\n",
      "New theta = [[ 42.99813308]]\n",
      "New length = [[ 3.26773043]]\n",
      "\n",
      "New theta = [[ 43.04319142]]\n",
      "New length = [[ 3.26652823]]\n",
      "\n",
      "New theta = [[ 43.08788862]]\n",
      "New length = [[ 3.26533401]]\n",
      "\n",
      "New theta = [[ 43.13222831]]\n",
      "New length = [[ 3.26414766]]\n",
      "\n",
      "New theta = [[ 43.17621409]]\n",
      "New length = [[ 3.26296909]]\n",
      "\n",
      "New theta = [[ 43.21984949]]\n",
      "New length = [[ 3.26179821]]\n",
      "\n",
      "New theta = [[ 43.26313802]]\n",
      "New length = [[ 3.26063493]]\n",
      "\n",
      "New theta = [[ 43.30608312]]\n",
      "New length = [[ 3.25947916]]\n",
      "\n",
      "New theta = [[ 43.34868819]]\n",
      "New length = [[ 3.25833081]]\n",
      "\n",
      "New theta = [[ 43.3909566]]\n",
      "New length = [[ 3.2571898]]\n",
      "\n",
      "New theta = [[ 43.43289166]]\n",
      "New length = [[ 3.25605604]]\n",
      "\n",
      "New theta = [[ 43.47449663]]\n",
      "New length = [[ 3.25492944]]\n",
      "\n",
      "New theta = [[ 43.51577474]]\n",
      "New length = [[ 3.25380993]]\n",
      "\n",
      "New theta = [[ 43.55672918]]\n",
      "New length = [[ 3.25269742]]\n",
      "\n"
     ]
    }
   ],
   "source": [
    "original_theta = 1.5\n",
    "original_length = 5\n",
    "learning_rate = .1\n",
    "thetas = []\n",
    "lengths = []\n",
    "marginal_likelihood_nums = []\n",
    "\n",
    "for i in range(200):\n",
    "    if i == 0:\n",
    "        cov_train_train = rbf(train_x,train_x , theta=original_theta, length = original_length)\n",
    "        length_grad = rbf_grad_length(train_x,train_x, theta=original_theta, length = original_length)\n",
    "        theta_grad = rbf_grad_theta(train_x,train_x, theta=original_theta, length = original_length)\n",
    "        \n",
    "        new_theta = original_theta+learning_rate* marginal_log_likehood_grad(cov_train_train,train_y_numbers, \n",
    "                                                                             theta_grad )\n",
    "\n",
    "        new_length = original_length+ learning_rate * marginal_log_likehood_grad(cov_train_train,train_y_numbers, \n",
    "                                                                                 length_grad)\n",
    "        thetas.append(new_theta.ravel())\n",
    "        lengths.append(new_length.ravel())\n",
    "        marginal_likelihood_nums.append(np.sum(marginal_log_likehood(cov_train_train,train_y_numbers)))\n",
    "        \n",
    "    else:\n",
    "        # hill climb\n",
    "        cov_train_train = rbf(train_x,train_x , theta=new_theta, length = new_length)\n",
    "        length_grad = rbf_grad_length(train_x,train_x, theta=new_theta, length = new_length)\n",
    "        theta_grad = rbf_grad_theta(train_x,train_x, theta=new_theta, length = new_length)\n",
    "        new_theta = new_theta+learning_rate* marginal_log_likehood_grad(cov_train_train,train_y_numbers, \n",
    "                                                                             theta_grad )\n",
    "        new_length = new_length+ learning_rate * marginal_log_likehood_grad(cov_train_train,train_y_numbers, \n",
    "                                                                                 length_grad)\n",
    "        thetas.append(new_theta.ravel())\n",
    "        lengths.append(new_length.ravel())\n",
    "        marginal_likelihood_nums.append(np.sum((marginal_log_likehood(cov_train_train,train_y_numbers))))\n",
    "        \n",
    "    print(f\"New theta = {new_theta}\")\n",
    "    print(f\"New length = {new_length}\")\n",
    "    print()"
   ]
  },
  {
   "cell_type": "code",
   "execution_count": 43,
   "metadata": {},
   "outputs": [
    {
     "data": {
      "image/png": "[encoded data removed]",
      "text/plain": [
       "<matplotlib.figure.Figure at 0x11bdd2128>"
      ]
     },
     "metadata": {},
     "output_type": "display_data"
    }
   ],
   "source": [
    "plt.plot(marginal_likelihood_nums, label='Marginal Likelihood Over Time');\n",
    "plt.legend()\n",
    "plt.ylabel('Maringal Likelihood')\n",
    "plt.xlabel('Iteration No.');"
   ]
  },
  {
   "cell_type": "code",
   "execution_count": null,
   "metadata": {
    "collapsed": true
   },
   "outputs": [],
   "source": []
  },
  {
   "cell_type": "code",
   "execution_count": 90,
   "metadata": {},
   "outputs": [
    {
     "data": {
      "image/png": "[encoded data removed]",
      "text/plain": [
       "<matplotlib.figure.Figure at 0x11cde3e80>"
      ]
     },
     "metadata": {},
     "output_type": "display_data"
    }
   ],
   "source": [
    "fig = plt.figure(figsize=(15,5))\n",
    "ax = fig.add_subplot(111)\n",
    "u = np.linspace(-1,1,100)\n",
    "x,y = np.meshgrid(thetas,lengths)\n",
    "z_ = np.meshgrid(np.array(marginal_likelihood_nums),np.array(marginal_likelihood_nums))\n",
    "ax.set_xlabel('thetas - RBF kernel')\n",
    "ax.set_ylabel('length - RBF kernel')\n",
    "CS = ax.contourf(x,y,np.array(z_)[0,:,:])\n",
    "cbar = plt.colorbar(CS)\n",
    "cbar.ax.set_ylabel('Marginal Likelihood')\n",
    "plt.title('Marginal Likelihood - RBF kernel');\n",
    "#ax.legend()\n"
   ]
  },
  {
   "cell_type": "code",
   "execution_count": 78,
   "metadata": {},
   "outputs": [],
   "source": [
    "z_ = np.meshgrid(np.array(marginal_likelihood_nums),np.array(marginal_likelihood_nums))"
   ]
  },
  {
   "cell_type": "code",
   "execution_count": 79,
   "metadata": {},
   "outputs": [
    {
     "data": {
      "text/plain": [
       "(200, 200)"
      ]
     },
     "execution_count": 79,
     "metadata": {},
     "output_type": "execute_result"
    }
   ],
   "source": [
    "np.array(z_)[0,:,:].shape"
   ]
  },
  {
   "cell_type": "code",
   "execution_count": 76,
   "metadata": {},
   "outputs": [
    {
     "data": {
      "text/plain": [
       "(100, 100)"
      ]
     },
     "execution_count": 76,
     "metadata": {},
     "output_type": "execute_result"
    }
   ],
   "source": [
    "z.shape"
   ]
  },
  {
   "cell_type": "code",
   "execution_count": 160,
   "metadata": {},
   "outputs": [
    {
     "data": {
      "text/plain": [
       "(2.0, 40.0)"
      ]
     },
     "execution_count": 160,
     "metadata": {},
     "output_type": "execute_result"
    }
   ],
   "source": [
    "combos[np.argmax(demo_marginal_likelihoods)]"
   ]
  },
  {
   "cell_type": "code",
   "execution_count": null,
   "metadata": {
    "collapsed": true
   },
   "outputs": [],
   "source": []
  }
 ],
 "metadata": {
  "kernelspec": {
   "display_name": "stats",
   "language": "python",
   "name": "stats"
  },
  "language_info": {
   "codemirror_mode": {
    "name": "ipython",
    "version": 3
   },
   "file_extension": ".py",
   "mimetype": "text/x-python",
   "name": "python",
   "nbconvert_exporter": "python",
   "pygments_lexer": "ipython3",
   "version": "3.6.1"
  }
 },
 "nbformat": 4,
 "nbformat_minor": 2
}
