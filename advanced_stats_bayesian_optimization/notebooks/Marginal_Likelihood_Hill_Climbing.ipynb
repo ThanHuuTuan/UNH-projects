{
 "cells": [
  {
   "cell_type": "code",
   "execution_count": 14,
   "metadata": {},
   "outputs": [
    {
     "name": "stdout",
     "output_type": "stream",
     "text": [
      "Populating the interactive namespace from numpy and matplotlib\n"
     ]
    },
    {
     "name": "stderr",
     "output_type": "stream",
     "text": [
      "/Users/jonathanhilgart/anaconda/envs/stats/lib/python3.6/site-packages/IPython/core/magics/pylab.py:160: UserWarning: pylab import has clobbered these variables: ['sin']\n",
      "`%matplotlib` prevents importing * from pylab and numpy\n",
      "  \"\\n`%matplotlib` prevents importing * from pylab and numpy\"\n"
     ]
    }
   ],
   "source": [
    "import numpy as np\n",
    "import pandas as pd\n",
    "from math import sin\n",
    "import matplotlib.pyplot as plt\n",
    "%pylab inline"
   ]
  },
  {
   "cell_type": "markdown",
   "metadata": {},
   "source": [
    "- Maximize the log probability of y given the parameters of the kernel\n",
    "- Reference: https://math.stackexchange.com/questions/1030534/gradients-of-marginal-likelihood-of-gaussian-process-with-squared-exponential-co/1072701#1072701\n",
    "- $lnP(y|x,θ)=−1/2*ln|K|−1/2*ytK−1y−N2ln2π$"
   ]
  },
  {
   "cell_type": "markdown",
   "metadata": {},
   "source": [
    "- Define the kernel"
   ]
  },
  {
   "cell_type": "code",
   "execution_count": 15,
   "metadata": {
    "collapsed": true
   },
   "outputs": [],
   "source": [
    "def rbf( a, b, param=2.0, train=False,\n",
    "                            train_noise = 5e-3, vertical_scale=1.5):\n",
    "        \"\"\"Calculated the squarred exponential kernel.\n",
    "        Adds a noise term for the covariance of the training data\n",
    "        Adjusting the param changes the difference where points will have a positive covariance\n",
    "        Returns a covaraince Matrix.\n",
    "        Vertical scale controls the vertical scale of the function\"\"\"\n",
    "\n",
    "\n",
    "        if train == False:\n",
    "            # ensure a and b are numpy arrays\n",
    "            a = np.array(a)\n",
    "            b = np.array(b)\n",
    "            sqdist = np.sum(a**2,1).reshape(-1,1) + np.sum(b**2,1) - 2*np.dot(a, b.T)\n",
    "            return vertical_scale*np.exp(-.5 * (1/param) * sqdist)\n",
    "\n",
    "        else:\n",
    "            # ensure a and b are numpy arrays\n",
    "            a = np.array(a)\n",
    "            b = np.array(b)\n",
    "            noisy_observations = train_noise*np.eye(len(a))\n",
    "            sqdist = np.sum(a**2,1).reshape(-1,1) + np.sum(b**2,1) - 2*np.dot(a, b.T)\n",
    "            return vertical_scale*np.exp(-.5 * (1/param) * sqdist) + noisy_observations"
   ]
  },
  {
   "cell_type": "markdown",
   "metadata": {},
   "source": [
    "- Define the RBF gradients"
   ]
  },
  {
   "cell_type": "code",
   "execution_count": 87,
   "metadata": {
    "collapsed": true
   },
   "outputs": [],
   "source": [
    "def rbf_grad_theta(a,b, theta = 1.5, length = 2.0):\n",
    "    \"\"\"Computes the derivative of the RBF kernel wrt the theta parameter.\n",
    "    Only use with the training points (points that have a corresponding y-value)\"\"\"\n",
    "    sqdist = np.sum(a**2,1).reshape(-1,1) + np.sum(b**2,1) - 2*np.dot(a, b.T)\n",
    "\n",
    "    return 2*theta*np.exp( - sqdist / (2*length**2 ))"
   ]
  },
  {
   "cell_type": "code",
   "execution_count": 88,
   "metadata": {
    "collapsed": true
   },
   "outputs": [],
   "source": [
    "def rbf_grad_length(a,b, theta = 1.5, length = 2.0 ):\n",
    "    \"\"\"COmputes the derivative of the RBF kernel wrt the length parameter.\n",
    "    Only use with the training points (points that have a corresponding y-value\n",
    "    \"\"\"\n",
    "    sqdist = np.sum(a**2,1).reshape(-1,1) + np.sum(b**2,1) - 2*np.dot(a, b.T)\n",
    "    \n",
    "    return theta**2 * np.exp(-sqdist / (2*length**2)  )* ( sqdist / length**3)"
   ]
  },
  {
   "cell_type": "markdown",
   "metadata": {},
   "source": [
    "- Define test points"
   ]
  },
  {
   "cell_type": "code",
   "execution_count": 47,
   "metadata": {},
   "outputs": [],
   "source": [
    "test_x = np.array(np.linspace(-100,100,1_000)).reshape(-1,1)\n",
    "train_x = np.array([[-5,10,40]]).reshape(-1,1)\n",
    "\n",
    "train_y_func = lambda x: 1000*sin(.1*x)/abs(x+10*x+5)\n",
    "train_y_func_two_d = lambda a,b : (a*b)/(a-1/(b+1)) - b\n",
    "train_y_numbers = np.array([train_y_func(_) for _ in train_x]).reshape(-1,1)\n",
    "y_var = 100\n",
    "max_covariance = 5\n"
   ]
  },
  {
   "cell_type": "code",
   "execution_count": 48,
   "metadata": {},
   "outputs": [
    {
     "data": {
      "image/png": "[encoded data removed]",
      "text/plain": [
       "<matplotlib.figure.Figure at 0x11d5b4128>"
      ]
     },
     "metadata": {},
     "output_type": "display_data"
    }
   ],
   "source": [
    "plt.figure(figsize=(10,8))\n",
    "plt.title('Demo 1D Function')\n",
    "plt.plot(np.linspace(-100,100,1_000),np.array([train_y_func(_) for _ in test_x]).reshape(-1,1) );"
   ]
  },
  {
   "cell_type": "markdown",
   "metadata": {},
   "source": [
    "### Test the gradients\n",
    "- returns a matrix of first derivatives"
   ]
  },
  {
   "cell_type": "code",
   "execution_count": 94,
   "metadata": {},
   "outputs": [
    {
     "data": {
      "text/plain": [
       "array([[  0.00000000e+000,   0.00000000e+000,   0.00000000e+000, ...,\n",
       "          0.00000000e+000,   0.00000000e+000,   0.00000000e+000],\n",
       "       [  0.00000000e+000,   0.00000000e+000,   0.00000000e+000, ...,\n",
       "          0.00000000e+000,   0.00000000e+000,   0.00000000e+000],\n",
       "       [  0.00000000e+000,   0.00000000e+000,   0.00000000e+000, ...,\n",
       "          4.40835314e-193,   2.22134600e-194,   1.10816492e-195]])"
      ]
     },
     "execution_count": 94,
     "metadata": {},
     "output_type": "execute_result"
    }
   ],
   "source": [
    "rbf_grad_theta(train_x,test_x)"
   ]
  },
  {
   "cell_type": "code",
   "execution_count": 97,
   "metadata": {},
   "outputs": [
    {
     "data": {
      "text/plain": [
       "array([[  0.00000000e+000,   0.00000000e+000,   0.00000000e+000, ...,\n",
       "          0.00000000e+000,   0.00000000e+000,   0.00000000e+000],\n",
       "       [  0.00000000e+000,   0.00000000e+000,   0.00000000e+000, ...,\n",
       "          0.00000000e+000,   0.00000000e+000,   0.00000000e+000],\n",
       "       [  0.00000000e+000,   0.00000000e+000,   0.00000000e+000, ...,\n",
       "          1.46802800e-190,   7.44709589e-192,   3.74005661e-193]])"
      ]
     },
     "execution_count": 97,
     "metadata": {},
     "output_type": "execute_result"
    }
   ],
   "source": [
    "rbf_grad_length(train_x,test_x)"
   ]
  },
  {
   "cell_type": "markdown",
   "metadata": {},
   "source": [
    "# Define the gradient of the marginal log-likelihood"
   ]
  },
  {
   "cell_type": "code",
   "execution_count": 134,
   "metadata": {
    "collapsed": true
   },
   "outputs": [],
   "source": [
    "def marginal_log_likehood_grad(covariance_matrix, y_values, cov_gradient_matrix):\n",
    "    \"\"\"\n",
    "    covaraince_matrix: the covaraince given the kernel \n",
    "    y_values: returning y-vals from the underlying function\n",
    "    cov_gradient_matrix: the jacobian matrix for the given parameter\n",
    "    \n",
    "    return the gradient of the marginal log-likelihood\"\"\"\n",
    "    \n",
    "    return 1/2 * y_values.T @ np.linalg.inv(covariance_matrix) @  cov_gradient_matrix @np.linalg.inv(covariance_matrix)\\\n",
    "            @ y_values -\\\n",
    "            .5* np.trace(np.linalg.inv(covariance_matrix) @ cov_gradient_matrix)"
   ]
  },
  {
   "cell_type": "code",
   "execution_count": 135,
   "metadata": {
    "collapsed": true
   },
   "outputs": [],
   "source": [
    "cov_train_train = rbf(train_x,train_x)"
   ]
  },
  {
   "cell_type": "code",
   "execution_count": 140,
   "metadata": {},
   "outputs": [],
   "source": [
    "length_grad = rbf_grad_length(train_x,train_x)\n",
    "theta_grad = rbf_grad_theta(train_x,train_x)"
   ]
  },
  {
   "cell_type": "code",
   "execution_count": 137,
   "metadata": {},
   "outputs": [
    {
     "data": {
      "text/plain": [
       "array([[ -1.20407265e-09]])"
      ]
     },
     "execution_count": 137,
     "metadata": {},
     "output_type": "execute_result"
    }
   ],
   "source": [
    "marginal_log_likehood_grad(cov_train_train,train_y_numbers, length_grad )"
   ]
  },
  {
   "cell_type": "code",
   "execution_count": 141,
   "metadata": {},
   "outputs": [
    {
     "data": {
      "text/plain": [
       "array([[ 95.91491574]])"
      ]
     },
     "execution_count": 141,
     "metadata": {},
     "output_type": "execute_result"
    }
   ],
   "source": [
    "marginal_log_likehood_grad(cov_train_train,train_y_numbers, theta_grad  )"
   ]
  },
  {
   "cell_type": "code",
   "execution_count": 115,
   "metadata": {},
   "outputs": [
    {
     "data": {
      "text/plain": [
       "array([[-4.79425539,  3.6585695 , -0.85033988]])"
      ]
     },
     "execution_count": 115,
     "metadata": {},
     "output_type": "execute_result"
    }
   ],
   "source": [
    ".5* train_y_numbers.T"
   ]
  },
  {
   "cell_type": "code",
   "execution_count": 131,
   "metadata": {},
   "outputs": [
    {
     "data": {
      "text/plain": [
       "array([[-3.19617026,  2.43904633, -0.56689325]])"
      ]
     },
     "execution_count": 131,
     "metadata": {},
     "output_type": "execute_result"
    }
   ],
   "source": [
    ".5* train_y_numbers.T @ np.linalg.inv(cov_train_train) @ cov_train_train @ np.linalg.inv(cov_train_train) "
   ]
  },
  {
   "cell_type": "code",
   "execution_count": 133,
   "metadata": {},
   "outputs": [
    {
     "data": {
      "text/plain": [
       "array([[-9.58851077],\n",
       "       [ 7.317139  ],\n",
       "       [-1.70067976]])"
      ]
     },
     "execution_count": 133,
     "metadata": {},
     "output_type": "execute_result"
    }
   ],
   "source": [
    "train_y_numbers"
   ]
  },
  {
   "cell_type": "code",
   "execution_count": null,
   "metadata": {
    "collapsed": true
   },
   "outputs": [],
   "source": []
  }
 ],
 "metadata": {
  "kernelspec": {
   "display_name": "stats",
   "language": "python",
   "name": "stats"
  },
  "language_info": {
   "codemirror_mode": {
    "name": "ipython",
    "version": 3
   },
   "file_extension": ".py",
   "mimetype": "text/x-python",
   "name": "python",
   "nbconvert_exporter": "python",
   "pygments_lexer": "ipython3",
   "version": "3.6.1"
  }
 },
 "nbformat": 4,
 "nbformat_minor": 2
}
