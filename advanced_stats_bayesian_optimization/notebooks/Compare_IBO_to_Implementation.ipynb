{
 "cells": [
  {
   "cell_type": "code",
   "execution_count": 6,
   "metadata": {},
   "outputs": [
    {
     "name": "stdout",
     "output_type": "stream",
     "text": [
      "Populating the interactive namespace from numpy and matplotlib\n"
     ]
    },
    {
     "name": "stderr",
     "output_type": "stream",
     "text": [
      "/Users/jonathanhilgart/anaconda/envs/stats/lib/python3.6/site-packages/IPython/core/magics/pylab.py:160: UserWarning: pylab import has clobbered these variables: ['cos']\n",
      "`%matplotlib` prevents importing * from pylab and numpy\n",
      "  \"\\n`%matplotlib` prevents importing * from pylab and numpy\"\n"
     ]
    }
   ],
   "source": [
    "from bayes_opt import BayesianOptimization\n",
    "import matplotlib.pyplot as plt\n",
    "import numpy as np\n",
    "from math import cos\n",
    "from sklearn.gaussian_process.kernels import RBF\n",
    "from mpl_toolkits.mplot3d import Axes3D\n",
    "import itertools\n",
    "import sys\n",
    "sys.path.insert(0,'../python_scripts/')\n",
    "from bayesian_optimization import IBO\n",
    "import time\n",
    "import seaborn as sns\n",
    "import pandas as pd\n",
    "from sklearn.ensemble import GradientBoostingRegressor\n",
    "from sklearn.model_selection import train_test_split\n",
    "from sklearn.metrics import mean_squared_error\n",
    "%pylab inline\n",
    "%load_ext autoreload "
   ]
  },
  {
   "cell_type": "markdown",
   "metadata": {},
   "source": [
    "# This notebook assumes that you have an understanding of how Bayesian Optimization works.\n",
    "- For a review, please visit the notebook Overview_of_Intelligent_Bayesian_Optimization"
   ]
  },
  {
   "cell_type": "markdown",
   "metadata": {},
   "source": [
    "## We will compare my implementation of Bayesian Optimization with the bayesian_optimization package\n",
    "> Bayesian_optimization package: https://github.com/fmfn/BayesianOptimization\n",
    "- First, compare performance on a one-dimensional function\n",
    "- Second, compare performance on a two-dimensional function\n",
    "- Third, compare performance using an objective function to find the best hyperparameters of gradient boosting"
   ]
  },
  {
   "cell_type": "markdown",
   "metadata": {},
   "source": [
    "### Define the one-dimensional function"
   ]
  },
  {
   "cell_type": "code",
   "execution_count": 7,
   "metadata": {
    "collapsed": true
   },
   "outputs": [],
   "source": [
    "oneD_function =lambda x: cos(1000*x-500)+(abs(x*100_000))/(x**4+1000)"
   ]
  },
  {
   "cell_type": "code",
   "execution_count": 8,
   "metadata": {},
   "outputs": [
    {
     "data": {
      "image/png": "[encoded data removed]",
      "text/plain": [
       "<matplotlib.figure.Figure at 0x119e2c978>"
      ]
     },
     "metadata": {},
     "output_type": "display_data"
    }
   ],
   "source": [
    "plt.plot(np.linspace(-10,10),[oneD_function(_) for _ in np.linspace(-10,10)])\n",
    "plt.title('1D Demo Function');"
   ]
  },
  {
   "cell_type": "markdown",
   "metadata": {},
   "source": [
    "### Setup the package Bayesian_Optimization"
   ]
  },
  {
   "cell_type": "code",
   "execution_count": 9,
   "metadata": {},
   "outputs": [],
   "source": [
    "bayes_opt = BayesianOptimization(oneD_function,\n",
    "                          {'x': (-10, 10)}) # the bounds to explore\n",
    "bayes_opt .explore({'x': np.linspace(-10,10)}) # the points to explore"
   ]
  },
  {
   "cell_type": "markdown",
   "metadata": {},
   "source": [
    "### Setup my implementation\n",
    "- Import IBO (Intelligent Bayesian Optimization)"
   ]
  },
  {
   "cell_type": "code",
   "execution_count": 10,
   "metadata": {},
   "outputs": [],
   "source": [
    "bo_implementation = IBO()"
   ]
  },
  {
   "cell_type": "markdown",
   "metadata": {},
   "source": [
    "- Define the one train point, as well as the testing domain"
   ]
  },
  {
   "cell_type": "code",
   "execution_count": 11,
   "metadata": {
    "collapsed": true
   },
   "outputs": [],
   "source": [
    "test_x_oneD = np.array(np.linspace(-10,10,2_000)).reshape(-1,1)\n",
    "train_x_oneD = np.array(np.random.choice(test_x_oneD.ravel())).reshape(-1,1)\n",
    "train_y_numbers_oneD = np.array([oneD_function(_) for _ in train_x_oneD]).reshape(-1,1)"
   ]
  },
  {
   "cell_type": "markdown",
   "metadata": {},
   "source": [
    "- Fit the gaussian process from IBO"
   ]
  },
  {
   "cell_type": "code",
   "execution_count": 12,
   "metadata": {
    "collapsed": true
   },
   "outputs": [],
   "source": [
    "bo_implementation.fit(train_x_oneD,train_y_numbers_oneD, test_x_oneD, oneD_function, y_func_type='real' )"
   ]
  },
  {
   "cell_type": "markdown",
   "metadata": {},
   "source": [
    "- There are two primary methods in my implementation\n",
    "        - 1) Predict: predict the next x-coordinates\n",
    "        - 2) Maximize: try to find the best x-coordinates given the number of steps"
   ]
  },
  {
   "cell_type": "markdown",
   "metadata": {},
   "source": [
    "# Run one trial of the bayes_opt vs my implementataion\n",
    "### Compare performance and time"
   ]
  },
  {
   "cell_type": "markdown",
   "metadata": {},
   "source": [
    "- My implementation"
   ]
  },
  {
   "cell_type": "code",
   "execution_count": 328,
   "metadata": {},
   "outputs": [
    {
     "name": "stdout",
     "output_type": "stream",
     "text": [
      "Bayesian Optimization just sampled point = [ 3.1865933]\n",
      "Best x (Bayesian Optimization) = [ 3.1865933],                         Best y = [ 288.01120847]\n",
      "Bayesian Optimization just sampled point = [ 3.38669335]\n",
      "Best x (Bayesian Optimization) = [ 3.38669335], Best y = [ 298.3869829]\n",
      "Bayesian Optimization just sampled point = [ 3.79689845]\n",
      "Best x (Bayesian Optimization) = [ 3.79689845], Best y = [ 314.15441828]\n",
      "Bayesian Optimization just sampled point = [ 3.2066033]\n",
      "Best x (Bayesian Optimization) = [ 3.79689845], Best y = [ 314.15441828]\n",
      "Bayesian Optimization just sampled point = [ 3.36668334]\n",
      "Best x (Bayesian Optimization) = [ 3.79689845], Best y = [ 314.15441828]\n",
      "Bayesian Optimization just sampled point = [ 4.19709855]\n",
      "Best x (Bayesian Optimization) = [ 4.19709855], Best y = [ 319.4638755]\n",
      "Bayesian Optimization just sampled point = [ 5.17758879]\n",
      "Best x (Bayesian Optimization) = [ 4.19709855], Best y = [ 319.4638755]\n",
      "Bayesian Optimization just sampled point = [ 4.52726363]\n",
      "Best x (Bayesian Optimization) = [ 4.52726363], Best y = [ 319.76786769]\n",
      "Bayesian Optimization just sampled point = [ 3.31665833]\n",
      "Best x (Bayesian Optimization) = [ 4.52726363], Best y = [ 319.76786769]\n",
      "Bayesian Optimization just sampled point = [ 5.28764382]\n",
      "Best x (Bayesian Optimization) = [ 4.52726363], Best y = [ 319.76786769]\n"
     ]
    }
   ],
   "source": [
    "# find the max\n",
    "start_my_bo = time.time()\n",
    "bo_implementation.maximize(n_steps=10)\n",
    "end_my_bo = time.time()"
   ]
  },
  {
   "cell_type": "markdown",
   "metadata": {},
   "source": [
    "- Bayes Opt implementation\n",
    "- Ensure to use the same number of initialization points, same number of steps, same acquisition function (Expected Improvement)"
   ]
  },
  {
   "cell_type": "code",
   "execution_count": 333,
   "metadata": {},
   "outputs": [
    {
     "name": "stdout",
     "output_type": "stream",
     "text": [
      "\u001b[31mInitialization\u001b[0m\n",
      "\u001b[94m-----------------------------------------\u001b[0m\n",
      " Step |   Time |      Value |         x | \n",
      "    1 | 00m00s | \u001b[35m  91.60769\u001b[0m | \u001b[32m -10.0000\u001b[0m | \n",
      "    2 | 00m00s | \u001b[35m 101.84945\u001b[0m | \u001b[32m  -9.5918\u001b[0m | \n",
      "    3 | 00m00s | \u001b[35m 113.47606\u001b[0m | \u001b[32m  -9.1837\u001b[0m | \n",
      "    4 | 00m00s | \u001b[35m 126.66415\u001b[0m | \u001b[32m  -8.7755\u001b[0m | \n",
      "    5 | 00m00s | \u001b[35m 141.57709\u001b[0m | \u001b[32m  -8.3673\u001b[0m | \n",
      "    6 | 00m00s | \u001b[35m 158.33855\u001b[0m | \u001b[32m  -7.9592\u001b[0m | \n",
      "    7 | 00m00s | \u001b[35m 176.99157\u001b[0m | \u001b[32m  -7.5510\u001b[0m | \n",
      "    8 | 00m00s | \u001b[35m 197.43956\u001b[0m | \u001b[32m  -7.1429\u001b[0m | \n",
      "    9 | 00m00s | \u001b[35m 219.36796\u001b[0m | \u001b[32m  -6.7347\u001b[0m | \n",
      "   10 | 00m00s | \u001b[35m 242.15235\u001b[0m | \u001b[32m  -6.3265\u001b[0m | \n",
      "   11 | 00m00s | \u001b[35m 264.77197\u001b[0m | \u001b[32m  -5.9184\u001b[0m | \n",
      "   12 | 00m00s | \u001b[35m 285.76658\u001b[0m | \u001b[32m  -5.5102\u001b[0m | \n",
      "   13 | 00m00s | \u001b[35m 303.29087\u001b[0m | \u001b[32m  -5.1020\u001b[0m | \n",
      "   14 | 00m00s | \u001b[35m 315.31580\u001b[0m | \u001b[32m  -4.6939\u001b[0m | \n",
      "   15 | 00m00s | \u001b[35m 319.97963\u001b[0m | \u001b[32m  -4.2857\u001b[0m | \n",
      "   16 | 00m00s |  316.00478 |   -3.8776 | \n",
      "   17 | 00m00s |  303.02024 |   -3.4694 | \n",
      "   18 | 00m00s |  281.63698 |   -3.0612 | \n",
      "   19 | 00m00s |  253.23789 |   -2.6531 | \n",
      "   20 | 00m00s |  219.58655 |   -2.2449 | \n",
      "   21 | 00m00s |  182.42609 |   -1.8367 | \n",
      "   22 | 00m00s |  143.19822 |   -1.4286 | \n",
      "   23 | 00m00s |  102.92279 |   -1.0204 | \n",
      "   24 | 00m00s |   62.20857 |   -0.6122 | \n",
      "   25 | 00m00s |   21.34230 |   -0.2041 | \n",
      "   26 | 00m00s |   21.22854 |    0.2041 | \n",
      "   27 | 00m00s |   61.87404 |    0.6122 | \n",
      "   28 | 00m00s |  102.38727 |    1.0204 | \n",
      "   29 | 00m00s |  142.49338 |    1.4286 | \n",
      "   30 | 00m00s |  181.59360 |    1.8367 | \n",
      "   31 | 00m00s |  218.67564 |    2.2449 | \n",
      "   32 | 00m00s |  252.30243 |    2.6531 | \n",
      "   33 | 00m00s |  280.73230 |    3.0612 | \n",
      "   34 | 00m00s |  302.19982 |    3.4694 | \n",
      "   35 | 00m00s |  315.31715 |    3.8776 | \n",
      "   36 | 00m00s |  319.46544 |    4.2857 | \n",
      "   37 | 00m00s |  315.00546 |    4.6939 | \n",
      "   38 | 00m00s |  303.20273 |    5.1020 | \n",
      "   39 | 00m00s |  285.90586 |    5.5102 | \n",
      "   40 | 00m00s |  265.13043 |    5.9184 | \n",
      "   41 | 00m00s |  242.70879 |    6.3265 | \n",
      "   42 | 00m00s |  220.08948 |    6.7347 | \n",
      "   43 | 00m00s |  198.28349 |    7.1429 | \n",
      "   44 | 00m00s |  177.90801 |    7.5510 | \n",
      "   45 | 00m00s |  159.27330 |    7.9592 | \n",
      "   46 | 00m00s |  142.47487 |    8.3673 | \n",
      "   47 | 00m00s |  127.47187 |    8.7755 | \n",
      "   48 | 00m00s |  114.14597 |    9.1837 | \n",
      "   49 | 00m00s |  102.34192 |    9.5918 | \n",
      "   50 | 00m00s |   91.89361 |   10.0000 | \n",
      "   51 | 00m00s |  307.45725 |    4.9769 | \n",
      "\u001b[31mBayesian Optimization\u001b[0m\n",
      "\u001b[94m-----------------------------------------\u001b[0m\n",
      " Step |   Time |      Value |         x | \n",
      "   52 | 00m03s | \u001b[35m 321.07268\u001b[0m | \u001b[32m  -4.2636\u001b[0m | \n",
      "   53 | 00m02s |  319.08731 |   -4.1526 | \n",
      "   54 | 00m01s | \u001b[35m 321.38282\u001b[0m | \u001b[32m  -4.2372\u001b[0m | \n"
     ]
    },
    {
     "name": "stderr",
     "output_type": "stream",
     "text": [
      "/Users/jonathanhilgart/anaconda/envs/stats/lib/python3.6/site-packages/sklearn/gaussian_process/gpr.py:427: UserWarning: fmin_l_bfgs_b terminated abnormally with the  state: {'grad': array([ 1.52453594]), 'task': b'ABNORMAL_TERMINATION_IN_LNSRCH', 'funcalls': 50, 'nit': 5, 'warnflag': 2}\n",
      "  \" state: %s\" % convergence_dict)\n"
     ]
    },
    {
     "name": "stdout",
     "output_type": "stream",
     "text": [
      "   55 | 00m01s |  320.80285 |   -4.2426 | \n",
      "   56 | 00m01s |  321.25755 |   -4.2119 | \n",
      "   57 | 00m03s |  319.59456 |   -4.2275 | \n",
      "   58 | 00m03s |  321.03280 |   -4.1928 | \n"
     ]
    },
    {
     "name": "stderr",
     "output_type": "stream",
     "text": [
      "/Users/jonathanhilgart/anaconda/envs/stats/lib/python3.6/site-packages/sklearn/gaussian_process/gpr.py:427: UserWarning: fmin_l_bfgs_b terminated abnormally with the  state: {'grad': array([-0.14630812]), 'task': b'ABNORMAL_TERMINATION_IN_LNSRCH', 'funcalls': 59, 'nit': 4, 'warnflag': 2}\n",
      "  \" state: %s\" % convergence_dict)\n"
     ]
    },
    {
     "name": "stdout",
     "output_type": "stream",
     "text": [
      "   59 | 00m02s |  320.72717 |   -4.2049 | \n"
     ]
    },
    {
     "name": "stderr",
     "output_type": "stream",
     "text": [
      "/Users/jonathanhilgart/anaconda/envs/stats/lib/python3.6/site-packages/sklearn/gaussian_process/gpr.py:427: UserWarning: fmin_l_bfgs_b terminated abnormally with the  state: {'grad': array([ 5.19919738]), 'task': b'ABNORMAL_TERMINATION_IN_LNSRCH', 'funcalls': 51, 'nit': 3, 'warnflag': 2}\n",
      "  \" state: %s\" % convergence_dict)\n",
      "/Users/jonathanhilgart/anaconda/envs/stats/lib/python3.6/site-packages/sklearn/gaussian_process/gpr.py:427: UserWarning: fmin_l_bfgs_b terminated abnormally with the  state: {'grad': array([-0.18158552]), 'task': b'ABNORMAL_TERMINATION_IN_LNSRCH', 'funcalls': 52, 'nit': 4, 'warnflag': 2}\n",
      "  \" state: %s\" % convergence_dict)\n",
      "/Users/jonathanhilgart/anaconda/envs/stats/lib/python3.6/site-packages/sklearn/gaussian_process/gpr.py:427: UserWarning: fmin_l_bfgs_b terminated abnormally with the  state: {'grad': array([-17427.12230572]), 'task': b'ABNORMAL_TERMINATION_IN_LNSRCH', 'funcalls': 30, 'nit': 1, 'warnflag': 2}\n",
      "  \" state: %s\" % convergence_dict)\n",
      "/Users/jonathanhilgart/anaconda/envs/stats/lib/python3.6/site-packages/sklearn/gaussian_process/gpr.py:308: UserWarning: Predicted variances smaller than 0. Setting those variances to 0.\n",
      "  warnings.warn(\"Predicted variances smaller than 0. \"\n",
      "/Users/jonathanhilgart/anaconda/envs/stats/lib/python3.6/site-packages/bayes_opt/helpers.py:101: RuntimeWarning: divide by zero encountered in true_divide\n",
      "  z = (mean - y_max - xi)/std\n"
     ]
    },
    {
     "name": "stdout",
     "output_type": "stream",
     "text": [
      "   60 | 00m03s | \u001b[35m 321.43131\u001b[0m | \u001b[32m  -4.2376\u001b[0m | \n"
     ]
    },
    {
     "name": "stderr",
     "output_type": "stream",
     "text": [
      "/Users/jonathanhilgart/anaconda/envs/stats/lib/python3.6/site-packages/sklearn/gaussian_process/gpr.py:427: UserWarning: fmin_l_bfgs_b terminated abnormally with the  state: {'grad': array([-0.88750339]), 'task': b'ABNORMAL_TERMINATION_IN_LNSRCH', 'funcalls': 51, 'nit': 3, 'warnflag': 2}\n",
      "  \" state: %s\" % convergence_dict)\n",
      "/Users/jonathanhilgart/anaconda/envs/stats/lib/python3.6/site-packages/sklearn/gaussian_process/gpr.py:427: UserWarning: fmin_l_bfgs_b terminated abnormally with the  state: {'grad': array([-23.89322162]), 'task': b'ABNORMAL_TERMINATION_IN_LNSRCH', 'funcalls': 55, 'nit': 5, 'warnflag': 2}\n",
      "  \" state: %s\" % convergence_dict)\n"
     ]
    },
    {
     "name": "stdout",
     "output_type": "stream",
     "text": [
      "   61 | 00m03s |  321.27788 |   -4.2381 | \n"
     ]
    }
   ],
   "source": [
    "start_bayes_opt = time.time()\n",
    "bayes_opt .maximize(init_points=1, n_iter=10, acq='ei') # ei = expected improvement\n",
    "end_bayes_opt = time.time()"
   ]
  },
  {
   "cell_type": "code",
   "execution_count": null,
   "metadata": {
    "collapsed": true
   },
   "outputs": [],
   "source": []
  },
  {
   "cell_type": "markdown",
   "metadata": {},
   "source": [
    "#### Compare the results"
   ]
  },
  {
   "cell_type": "code",
   "execution_count": 329,
   "metadata": {},
   "outputs": [
    {
     "name": "stdout",
     "output_type": "stream",
     "text": [
      "The best y-value from my bayesian optimization implementation was [ 319.76786769].      The best x-coordiantes from my bayesian optimiztion implementation was [ 4.52726363].      My implementation took 58.25 seconds for 10 steps\n"
     ]
    }
   ],
   "source": [
    "print(f\"The best y-value from my bayesian optimization implementation was {bo_implementation.best_y}.\\\n",
    "      The best x-coordiantes from my bayesian optimiztion implementation was {bo_implementation.best_x}.\\\n",
    "      My implementation took {round(end_my_bo -start_my_bo,2)} seconds for 10 steps\")"
   ]
  },
  {
   "cell_type": "code",
   "execution_count": 334,
   "metadata": {},
   "outputs": [
    {
     "name": "stdout",
     "output_type": "stream",
     "text": [
      " The best values from the Bayes_Opt package was {'max_val': 321.43131427152485, 'max_params': {'x': -4.2375673129286318}}.    The Bayes_Opt implementation took 27.22 seconds for 10 steps\n"
     ]
    }
   ],
   "source": [
    "print(f\" The best values from the Bayes_Opt package was {bayes_opt.res['max']}.\\\n",
    "    The Bayes_Opt implementation took {round(end_bayes_opt -start_bayes_opt,2) } seconds for 10 steps\")"
   ]
  },
  {
   "cell_type": "markdown",
   "metadata": {},
   "source": [
    "- The Bayes_Opt package beat my implementation in time and speed"
   ]
  },
  {
   "cell_type": "markdown",
   "metadata": {},
   "source": [
    "## Run each implmentation for 10 trials of 10 steps. See how many times each algo wins.\n",
    "- One dimensional implementation"
   ]
  },
  {
   "cell_type": "code",
   "execution_count": 281,
   "metadata": {
    "scrolled": true
   },
   "outputs": [
    {
     "name": "stdout",
     "output_type": "stream",
     "text": [
      "Step Number = 1\n",
      "\u001b[31mInitialization\u001b[0m\n",
      "\u001b[94m-----------------------------------------\u001b[0m\n",
      " Step |   Time |      Value |         x | \n",
      "    1 | 00m00s | \u001b[35m  91.60769\u001b[0m | \u001b[32m -10.0000\u001b[0m | \n",
      "    2 | 00m00s | \u001b[35m 101.84945\u001b[0m | \u001b[32m  -9.5918\u001b[0m | \n",
      "    3 | 00m00s | \u001b[35m 113.47606\u001b[0m | \u001b[32m  -9.1837\u001b[0m | \n",
      "    4 | 00m00s | \u001b[35m 126.66415\u001b[0m | \u001b[32m  -8.7755\u001b[0m | \n",
      "    5 | 00m00s | \u001b[35m 141.57709\u001b[0m | \u001b[32m  -8.3673\u001b[0m | \n",
      "    6 | 00m00s | \u001b[35m 158.33855\u001b[0m | \u001b[32m  -7.9592\u001b[0m | \n",
      "    7 | 00m00s | \u001b[35m 176.99157\u001b[0m | \u001b[32m  -7.5510\u001b[0m | \n",
      "    8 | 00m00s | \u001b[35m 197.43956\u001b[0m | \u001b[32m  -7.1429\u001b[0m | \n",
      "    9 | 00m00s | \u001b[35m 219.36796\u001b[0m | \u001b[32m  -6.7347\u001b[0m | \n",
      "   10 | 00m00s | \u001b[35m 242.15235\u001b[0m | \u001b[32m  -6.3265\u001b[0m | \n",
      "   11 | 00m00s | \u001b[35m 264.77197\u001b[0m | \u001b[32m  -5.9184\u001b[0m | \n",
      "   12 | 00m00s | \u001b[35m 285.76658\u001b[0m | \u001b[32m  -5.5102\u001b[0m | \n",
      "   13 | 00m00s | \u001b[35m 303.29087\u001b[0m | \u001b[32m  -5.1020\u001b[0m | \n",
      "   14 | 00m00s | \u001b[35m 315.31580\u001b[0m | \u001b[32m  -4.6939\u001b[0m | \n",
      "   15 | 00m00s | \u001b[35m 319.97963\u001b[0m | \u001b[32m  -4.2857\u001b[0m | \n",
      "   16 | 00m00s |  316.00478 |   -3.8776 | \n",
      "   17 | 00m00s |  303.02024 |   -3.4694 | \n",
      "   18 | 00m00s |  281.63698 |   -3.0612 | \n",
      "   19 | 00m00s |  253.23789 |   -2.6531 | \n",
      "   20 | 00m00s |  219.58655 |   -2.2449 | \n",
      "   21 | 00m00s |  182.42609 |   -1.8367 | \n",
      "   22 | 00m00s |  143.19822 |   -1.4286 | \n",
      "   23 | 00m00s |  102.92279 |   -1.0204 | \n",
      "   24 | 00m00s |   62.20857 |   -0.6122 | \n",
      "   25 | 00m00s |   21.34230 |   -0.2041 | \n",
      "   26 | 00m00s |   21.22854 |    0.2041 | \n",
      "   27 | 00m00s |   61.87404 |    0.6122 | \n",
      "   28 | 00m00s |  102.38727 |    1.0204 | \n",
      "   29 | 00m00s |  142.49338 |    1.4286 | \n",
      "   30 | 00m00s |  181.59360 |    1.8367 | \n",
      "   31 | 00m00s |  218.67564 |    2.2449 | \n",
      "   32 | 00m00s |  252.30243 |    2.6531 | \n",
      "   33 | 00m00s |  280.73230 |    3.0612 | \n",
      "   34 | 00m00s |  302.19982 |    3.4694 | \n",
      "   35 | 00m00s |  315.31715 |    3.8776 | \n",
      "   36 | 00m00s |  319.46544 |    4.2857 | \n",
      "   37 | 00m00s |  315.00546 |    4.6939 | \n",
      "   38 | 00m00s |  303.20273 |    5.1020 | \n",
      "   39 | 00m00s |  285.90586 |    5.5102 | \n",
      "   40 | 00m00s |  265.13043 |    5.9184 | \n",
      "   41 | 00m00s |  242.70879 |    6.3265 | \n",
      "   42 | 00m00s |  220.08948 |    6.7347 | \n",
      "   43 | 00m00s |  198.28349 |    7.1429 | \n",
      "   44 | 00m00s |  177.90801 |    7.5510 | \n",
      "   45 | 00m00s |  159.27330 |    7.9592 | \n",
      "   46 | 00m00s |  142.47487 |    8.3673 | \n",
      "   47 | 00m00s |  127.47187 |    8.7755 | \n",
      "   48 | 00m00s |  114.14597 |    9.1837 | \n",
      "   49 | 00m00s |  102.34192 |    9.5918 | \n",
      "   50 | 00m00s |   91.89361 |   10.0000 | \n",
      "   51 | 00m00s |  107.81191 |    9.3970 | \n",
      "\u001b[31mBayesian Optimization\u001b[0m\n",
      "\u001b[94m-----------------------------------------\u001b[0m\n",
      " Step |   Time |      Value |         x | \n",
      "   52 | 00m03s | \u001b[35m 321.04131\u001b[0m | \u001b[32m  -4.2636\u001b[0m | \n"
     ]
    },
    {
     "name": "stderr",
     "output_type": "stream",
     "text": [
      "/Users/jonathanhilgart/anaconda/envs/stats/lib/python3.6/site-packages/sklearn/gaussian_process/gpr.py:427: UserWarning: fmin_l_bfgs_b terminated abnormally with the  state: {'grad': array([ 0.04911578]), 'task': b'ABNORMAL_TERMINATION_IN_LNSRCH', 'funcalls': 49, 'nit': 5, 'warnflag': 2}\n",
      "  \" state: %s\" % convergence_dict)\n"
     ]
    },
    {
     "name": "stdout",
     "output_type": "stream",
     "text": [
      "   53 | 00m01s |  319.15748 |   -4.1531 | \n",
      "   54 | 00m01s | \u001b[35m 321.32829\u001b[0m | \u001b[32m  -4.2371\u001b[0m | \n"
     ]
    },
    {
     "name": "stderr",
     "output_type": "stream",
     "text": [
      "/Users/jonathanhilgart/anaconda/envs/stats/lib/python3.6/site-packages/sklearn/gaussian_process/gpr.py:427: UserWarning: fmin_l_bfgs_b terminated abnormally with the  state: {'grad': array([-2855.25666682]), 'task': b'ABNORMAL_TERMINATION_IN_LNSRCH', 'funcalls': 34, 'nit': 2, 'warnflag': 2}\n",
      "  \" state: %s\" % convergence_dict)\n",
      "/Users/jonathanhilgart/anaconda/envs/stats/lib/python3.6/site-packages/sklearn/gaussian_process/gpr.py:308: UserWarning: Predicted variances smaller than 0. Setting those variances to 0.\n",
      "  warnings.warn(\"Predicted variances smaller than 0. \"\n",
      "/Users/jonathanhilgart/anaconda/envs/stats/lib/python3.6/site-packages/bayes_opt/helpers.py:101: RuntimeWarning: divide by zero encountered in true_divide\n",
      "  z = (mean - y_max - xi)/std\n"
     ]
    },
    {
     "name": "stdout",
     "output_type": "stream",
     "text": [
      "   55 | 00m01s |  321.32484 |   -4.2433 | \n",
      "   56 | 00m01s |  320.21777 |   -4.2393 | \n",
      "   57 | 00m01s |  320.92728 |   -4.2052 | \n",
      "   58 | 00m02s | \u001b[35m 321.40137\u001b[0m | \u001b[32m  -4.2249\u001b[0m | \n",
      "   59 | 00m02s |  321.29894 |   -4.2506 | \n",
      "   60 | 00m02s |  321.04138 |   -4.2321 | \n"
     ]
    },
    {
     "name": "stderr",
     "output_type": "stream",
     "text": [
      "/Users/jonathanhilgart/anaconda/envs/stats/lib/python3.6/site-packages/sklearn/gaussian_process/gpr.py:427: UserWarning: fmin_l_bfgs_b terminated abnormally with the  state: {'grad': array([-0.41926343]), 'task': b'ABNORMAL_TERMINATION_IN_LNSRCH', 'funcalls': 51, 'nit': 4, 'warnflag': 2}\n",
      "  \" state: %s\" % convergence_dict)\n"
     ]
    },
    {
     "name": "stdout",
     "output_type": "stream",
     "text": [
      "   61 | 00m03s |  319.72784 |   -4.2462 | \n",
      "Bayes Opt Won\n",
      "Step Number = 2\n",
      "\u001b[31mInitialization\u001b[0m\n",
      "\u001b[94m-----------------------------------------\u001b[0m\n",
      " Step |   Time |      Value |         x | \n",
      "    1 | 00m00s | \u001b[35m  91.60769\u001b[0m | \u001b[32m -10.0000\u001b[0m | \n",
      "    2 | 00m00s | \u001b[35m 101.84945\u001b[0m | \u001b[32m  -9.5918\u001b[0m | \n",
      "    3 | 00m00s | \u001b[35m 113.47606\u001b[0m | \u001b[32m  -9.1837\u001b[0m | \n",
      "    4 | 00m00s | \u001b[35m 126.66415\u001b[0m | \u001b[32m  -8.7755\u001b[0m | \n",
      "    5 | 00m00s | \u001b[35m 141.57709\u001b[0m | \u001b[32m  -8.3673\u001b[0m | \n",
      "    6 | 00m00s | \u001b[35m 158.33855\u001b[0m | \u001b[32m  -7.9592\u001b[0m | \n",
      "    7 | 00m00s | \u001b[35m 176.99157\u001b[0m | \u001b[32m  -7.5510\u001b[0m | \n",
      "    8 | 00m00s | \u001b[35m 197.43956\u001b[0m | \u001b[32m  -7.1429\u001b[0m | \n",
      "    9 | 00m00s | \u001b[35m 219.36796\u001b[0m | \u001b[32m  -6.7347\u001b[0m | \n",
      "   10 | 00m00s | \u001b[35m 242.15235\u001b[0m | \u001b[32m  -6.3265\u001b[0m | \n",
      "   11 | 00m00s | \u001b[35m 264.77197\u001b[0m | \u001b[32m  -5.9184\u001b[0m | \n",
      "   12 | 00m00s | \u001b[35m 285.76658\u001b[0m | \u001b[32m  -5.5102\u001b[0m | \n",
      "   13 | 00m00s | \u001b[35m 303.29087\u001b[0m | \u001b[32m  -5.1020\u001b[0m | \n",
      "   14 | 00m00s | \u001b[35m 315.31580\u001b[0m | \u001b[32m  -4.6939\u001b[0m | \n",
      "   15 | 00m00s | \u001b[35m 319.97963\u001b[0m | \u001b[32m  -4.2857\u001b[0m | \n",
      "   16 | 00m00s |  316.00478 |   -3.8776 | \n",
      "   17 | 00m00s |  303.02024 |   -3.4694 | \n",
      "   18 | 00m00s |  281.63698 |   -3.0612 | \n",
      "   19 | 00m00s |  253.23789 |   -2.6531 | \n",
      "   20 | 00m00s |  219.58655 |   -2.2449 | \n",
      "   21 | 00m00s |  182.42609 |   -1.8367 | \n",
      "   22 | 00m00s |  143.19822 |   -1.4286 | \n",
      "   23 | 00m00s |  102.92279 |   -1.0204 | \n",
      "   24 | 00m00s |   62.20857 |   -0.6122 | \n",
      "   25 | 00m00s |   21.34230 |   -0.2041 | \n",
      "   26 | 00m00s |   21.22854 |    0.2041 | \n",
      "   27 | 00m00s |   61.87404 |    0.6122 | \n",
      "   28 | 00m00s |  102.38727 |    1.0204 | \n",
      "   29 | 00m00s |  142.49338 |    1.4286 | \n",
      "   30 | 00m00s |  181.59360 |    1.8367 | \n",
      "   31 | 00m00s |  218.67564 |    2.2449 | \n",
      "   32 | 00m00s |  252.30243 |    2.6531 | \n",
      "   33 | 00m00s |  280.73230 |    3.0612 | \n",
      "   34 | 00m00s |  302.19982 |    3.4694 | \n",
      "   35 | 00m00s |  315.31715 |    3.8776 | \n",
      "   36 | 00m00s |  319.46544 |    4.2857 | \n",
      "   37 | 00m00s |  315.00546 |    4.6939 | \n",
      "   38 | 00m00s |  303.20273 |    5.1020 | \n",
      "   39 | 00m00s |  285.90586 |    5.5102 | \n",
      "   40 | 00m00s |  265.13043 |    5.9184 | \n",
      "   41 | 00m00s |  242.70879 |    6.3265 | \n",
      "   42 | 00m00s |  220.08948 |    6.7347 | \n",
      "   43 | 00m00s |  198.28349 |    7.1429 | \n",
      "   44 | 00m00s |  177.90801 |    7.5510 | \n",
      "   45 | 00m00s |  159.27330 |    7.9592 | \n",
      "   46 | 00m00s |  142.47487 |    8.3673 | \n",
      "   47 | 00m00s |  127.47187 |    8.7755 | \n",
      "   48 | 00m00s |  114.14597 |    9.1837 | \n",
      "   49 | 00m00s |  102.34192 |    9.5918 | \n",
      "   50 | 00m00s |   91.89361 |   10.0000 | \n",
      "   51 | 00m00s |  312.77504 |    4.8599 | \n",
      "\u001b[31mBayesian Optimization\u001b[0m\n",
      "\u001b[94m-----------------------------------------\u001b[0m\n",
      " Step |   Time |      Value |         x | \n",
      "   52 | 00m03s | \u001b[35m 321.08305\u001b[0m | \u001b[32m  -4.2636\u001b[0m | \n",
      "   53 | 00m01s |  319.11250 |   -4.1524 | \n"
     ]
    },
    {
     "name": "stderr",
     "output_type": "stream",
     "text": [
      "/Users/jonathanhilgart/anaconda/envs/stats/lib/python3.6/site-packages/sklearn/gaussian_process/gpr.py:427: UserWarning: fmin_l_bfgs_b terminated abnormally with the  state: {'grad': array([ 0.54976831]), 'task': b'ABNORMAL_TERMINATION_IN_LNSRCH', 'funcalls': 50, 'nit': 5, 'warnflag': 2}\n",
      "  \" state: %s\" % convergence_dict)\n"
     ]
    },
    {
     "name": "stdout",
     "output_type": "stream",
     "text": [
      "   54 | 00m01s | \u001b[35m 321.27264\u001b[0m | \u001b[32m  -4.2370\u001b[0m | \n",
      "   55 | 00m01s |  319.44777 |   -4.2469 | \n"
     ]
    },
    {
     "name": "stderr",
     "output_type": "stream",
     "text": [
      "/Users/jonathanhilgart/anaconda/envs/stats/lib/python3.6/site-packages/sklearn/gaussian_process/gpr.py:427: UserWarning: fmin_l_bfgs_b terminated abnormally with the  state: {'grad': array([ 0.59775613]), 'task': b'ABNORMAL_TERMINATION_IN_LNSRCH', 'funcalls': 57, 'nit': 7, 'warnflag': 2}\n",
      "  \" state: %s\" % convergence_dict)\n"
     ]
    },
    {
     "name": "stdout",
     "output_type": "stream",
     "text": [
      "   56 | 00m01s |  320.11636 |   -4.2079 | \n",
      "   57 | 00m01s |  319.46820 |   -4.2284 | \n",
      "   58 | 00m01s | \u001b[35m 321.38464\u001b[0m | \u001b[32m  -4.2693\u001b[0m | \n",
      "   59 | 00m02s | \u001b[35m 321.45535\u001b[0m | \u001b[32m  -4.2691\u001b[0m | \n",
      "   60 | 00m02s |  320.76590 |   -4.2677 | \n",
      "   61 | 00m02s |  320.98690 |   -4.1802 | \n",
      "Bayes Opt Won\n",
      "Step Number = 3\n",
      "\u001b[31mInitialization\u001b[0m\n",
      "\u001b[94m-----------------------------------------\u001b[0m\n",
      " Step |   Time |      Value |         x | \n",
      "    1 | 00m00s | \u001b[35m  91.60769\u001b[0m | \u001b[32m -10.0000\u001b[0m | \n",
      "    2 | 00m00s | \u001b[35m 101.84945\u001b[0m | \u001b[32m  -9.5918\u001b[0m | \n",
      "    3 | 00m00s | \u001b[35m 113.47606\u001b[0m | \u001b[32m  -9.1837\u001b[0m | \n",
      "    4 | 00m00s | \u001b[35m 126.66415\u001b[0m | \u001b[32m  -8.7755\u001b[0m | \n",
      "    5 | 00m00s | \u001b[35m 141.57709\u001b[0m | \u001b[32m  -8.3673\u001b[0m | \n",
      "    6 | 00m00s | \u001b[35m 158.33855\u001b[0m | \u001b[32m  -7.9592\u001b[0m | \n",
      "    7 | 00m00s | \u001b[35m 176.99157\u001b[0m | \u001b[32m  -7.5510\u001b[0m | \n",
      "    8 | 00m00s | \u001b[35m 197.43956\u001b[0m | \u001b[32m  -7.1429\u001b[0m | \n",
      "    9 | 00m00s | \u001b[35m 219.36796\u001b[0m | \u001b[32m  -6.7347\u001b[0m | \n",
      "   10 | 00m00s | \u001b[35m 242.15235\u001b[0m | \u001b[32m  -6.3265\u001b[0m | \n",
      "   11 | 00m00s | \u001b[35m 264.77197\u001b[0m | \u001b[32m  -5.9184\u001b[0m | \n",
      "   12 | 00m00s | \u001b[35m 285.76658\u001b[0m | \u001b[32m  -5.5102\u001b[0m | \n",
      "   13 | 00m00s | \u001b[35m 303.29087\u001b[0m | \u001b[32m  -5.1020\u001b[0m | \n",
      "   14 | 00m00s | \u001b[35m 315.31580\u001b[0m | \u001b[32m  -4.6939\u001b[0m | \n",
      "   15 | 00m00s | \u001b[35m 319.97963\u001b[0m | \u001b[32m  -4.2857\u001b[0m | \n",
      "   16 | 00m00s |  316.00478 |   -3.8776 | \n",
      "   17 | 00m00s |  303.02024 |   -3.4694 | \n",
      "   18 | 00m00s |  281.63698 |   -3.0612 | \n",
      "   19 | 00m00s |  253.23789 |   -2.6531 | \n",
      "   20 | 00m00s |  219.58655 |   -2.2449 | \n",
      "   21 | 00m00s |  182.42609 |   -1.8367 | \n",
      "   22 | 00m00s |  143.19822 |   -1.4286 | \n",
      "   23 | 00m00s |  102.92279 |   -1.0204 | \n",
      "   24 | 00m00s |   62.20857 |   -0.6122 | \n",
      "   25 | 00m00s |   21.34230 |   -0.2041 | \n",
      "   26 | 00m00s |   21.22854 |    0.2041 | \n",
      "   27 | 00m00s |   61.87404 |    0.6122 | \n",
      "   28 | 00m00s |  102.38727 |    1.0204 | \n",
      "   29 | 00m00s |  142.49338 |    1.4286 | \n",
      "   30 | 00m00s |  181.59360 |    1.8367 | \n",
      "   31 | 00m00s |  218.67564 |    2.2449 | \n",
      "   32 | 00m00s |  252.30243 |    2.6531 | \n",
      "   33 | 00m00s |  280.73230 |    3.0612 | \n",
      "   34 | 00m00s |  302.19982 |    3.4694 | \n",
      "   35 | 00m00s |  315.31715 |    3.8776 | \n",
      "   36 | 00m00s |  319.46544 |    4.2857 | \n",
      "   37 | 00m00s |  315.00546 |    4.6939 | \n",
      "   38 | 00m00s |  303.20273 |    5.1020 | \n",
      "   39 | 00m00s |  285.90586 |    5.5102 | \n",
      "   40 | 00m00s |  265.13043 |    5.9184 | \n",
      "   41 | 00m00s |  242.70879 |    6.3265 | \n",
      "   42 | 00m00s |  220.08948 |    6.7347 | \n",
      "   43 | 00m00s |  198.28349 |    7.1429 | \n",
      "   44 | 00m00s |  177.90801 |    7.5510 | \n",
      "   45 | 00m00s |  159.27330 |    7.9592 | \n",
      "   46 | 00m00s |  142.47487 |    8.3673 | \n",
      "   47 | 00m00s |  127.47187 |    8.7755 | \n",
      "   48 | 00m00s |  114.14597 |    9.1837 | \n",
      "   49 | 00m00s |  102.34192 |    9.5918 | \n",
      "   50 | 00m00s |   91.89361 |   10.0000 | \n",
      "   51 | 00m00s |  130.47909 |   -8.6525 | \n",
      "\u001b[31mBayesian Optimization\u001b[0m\n",
      "\u001b[94m-----------------------------------------\u001b[0m\n",
      " Step |   Time |      Value |         x | \n",
      "   52 | 00m03s | \u001b[35m 321.06423\u001b[0m | \u001b[32m  -4.2636\u001b[0m | \n",
      "   53 | 00m01s |  319.08216 |   -4.1527 | \n"
     ]
    },
    {
     "name": "stderr",
     "output_type": "stream",
     "text": [
      "/Users/jonathanhilgart/anaconda/envs/stats/lib/python3.6/site-packages/sklearn/gaussian_process/gpr.py:427: UserWarning: fmin_l_bfgs_b terminated abnormally with the  state: {'grad': array([ 0.32676724]), 'task': b'ABNORMAL_TERMINATION_IN_LNSRCH', 'funcalls': 50, 'nit': 5, 'warnflag': 2}\n",
      "  \" state: %s\" % convergence_dict)\n"
     ]
    },
    {
     "name": "stdout",
     "output_type": "stream",
     "text": [
      "   54 | 00m01s | \u001b[35m 321.40454\u001b[0m | \u001b[32m  -4.2373\u001b[0m | \n",
      "   55 | 00m02s |  319.81629 |   -4.2416 | \n",
      "   56 | 00m02s |  321.27697 |   -4.2065 | \n"
     ]
    },
    {
     "name": "stderr",
     "output_type": "stream",
     "text": [
      "/Users/jonathanhilgart/anaconda/envs/stats/lib/python3.6/site-packages/sklearn/gaussian_process/gpr.py:427: UserWarning: fmin_l_bfgs_b terminated abnormally with the  state: {'grad': array([ 0.18812683]), 'task': b'ABNORMAL_TERMINATION_IN_LNSRCH', 'funcalls': 51, 'nit': 2, 'warnflag': 2}\n",
      "  \" state: %s\" % convergence_dict)\n"
     ]
    },
    {
     "name": "stdout",
     "output_type": "stream",
     "text": [
      "   57 | 00m02s |  321.33290 |   -4.2253 | \n",
      "   58 | 00m02s |  320.34598 |   -4.2329 | \n",
      "   59 | 00m02s |  321.07614 |   -4.2179 | \n",
      "   60 | 00m02s |  320.31758 |   -4.2707 | \n",
      "   61 | 00m02s |  319.80252 |   -4.1956 | \n",
      "Bayes Opt Won\n",
      "Step Number = 4\n",
      "\u001b[31mInitialization\u001b[0m\n",
      "\u001b[94m-----------------------------------------\u001b[0m\n",
      " Step |   Time |      Value |         x | \n",
      "    1 | 00m00s | \u001b[35m  91.60769\u001b[0m | \u001b[32m -10.0000\u001b[0m | \n",
      "    2 | 00m00s | \u001b[35m 101.84945\u001b[0m | \u001b[32m  -9.5918\u001b[0m | \n",
      "    3 | 00m00s | \u001b[35m 113.47606\u001b[0m | \u001b[32m  -9.1837\u001b[0m | \n",
      "    4 | 00m00s | \u001b[35m 126.66415\u001b[0m | \u001b[32m  -8.7755\u001b[0m | \n",
      "    5 | 00m00s | \u001b[35m 141.57709\u001b[0m | \u001b[32m  -8.3673\u001b[0m | \n",
      "    6 | 00m00s | \u001b[35m 158.33855\u001b[0m | \u001b[32m  -7.9592\u001b[0m | \n",
      "    7 | 00m00s | \u001b[35m 176.99157\u001b[0m | \u001b[32m  -7.5510\u001b[0m | \n",
      "    8 | 00m00s | \u001b[35m 197.43956\u001b[0m | \u001b[32m  -7.1429\u001b[0m | \n",
      "    9 | 00m00s | \u001b[35m 219.36796\u001b[0m | \u001b[32m  -6.7347\u001b[0m | \n",
      "   10 | 00m00s | \u001b[35m 242.15235\u001b[0m | \u001b[32m  -6.3265\u001b[0m | \n",
      "   11 | 00m00s | \u001b[35m 264.77197\u001b[0m | \u001b[32m  -5.9184\u001b[0m | \n",
      "   12 | 00m00s | \u001b[35m 285.76658\u001b[0m | \u001b[32m  -5.5102\u001b[0m | \n",
      "   13 | 00m00s | \u001b[35m 303.29087\u001b[0m | \u001b[32m  -5.1020\u001b[0m | \n",
      "   14 | 00m00s | \u001b[35m 315.31580\u001b[0m | \u001b[32m  -4.6939\u001b[0m | \n",
      "   15 | 00m00s | \u001b[35m 319.97963\u001b[0m | \u001b[32m  -4.2857\u001b[0m | \n",
      "   16 | 00m00s |  316.00478 |   -3.8776 | \n",
      "   17 | 00m00s |  303.02024 |   -3.4694 | \n",
      "   18 | 00m00s |  281.63698 |   -3.0612 | \n",
      "   19 | 00m00s |  253.23789 |   -2.6531 | \n",
      "   20 | 00m00s |  219.58655 |   -2.2449 | \n",
      "   21 | 00m00s |  182.42609 |   -1.8367 | \n",
      "   22 | 00m00s |  143.19822 |   -1.4286 | \n",
      "   23 | 00m00s |  102.92279 |   -1.0204 | \n",
      "   24 | 00m00s |   62.20857 |   -0.6122 | \n",
      "   25 | 00m00s |   21.34230 |   -0.2041 | \n",
      "   26 | 00m00s |   21.22854 |    0.2041 | \n",
      "   27 | 00m00s |   61.87404 |    0.6122 | \n",
      "   28 | 00m00s |  102.38727 |    1.0204 | \n",
      "   29 | 00m00s |  142.49338 |    1.4286 | \n",
      "   30 | 00m00s |  181.59360 |    1.8367 | \n",
      "   31 | 00m00s |  218.67564 |    2.2449 | \n",
      "   32 | 00m00s |  252.30243 |    2.6531 | \n",
      "   33 | 00m00s |  280.73230 |    3.0612 | \n",
      "   34 | 00m00s |  302.19982 |    3.4694 | \n",
      "   35 | 00m00s |  315.31715 |    3.8776 | \n",
      "   36 | 00m00s |  319.46544 |    4.2857 | \n",
      "   37 | 00m00s |  315.00546 |    4.6939 | \n",
      "   38 | 00m00s |  303.20273 |    5.1020 | \n",
      "   39 | 00m00s |  285.90586 |    5.5102 | \n",
      "   40 | 00m00s |  265.13043 |    5.9184 | \n",
      "   41 | 00m00s |  242.70879 |    6.3265 | \n",
      "   42 | 00m00s |  220.08948 |    6.7347 | \n",
      "   43 | 00m00s |  198.28349 |    7.1429 | \n",
      "   44 | 00m00s |  177.90801 |    7.5510 | \n",
      "   45 | 00m00s |  159.27330 |    7.9592 | \n",
      "   46 | 00m00s |  142.47487 |    8.3673 | \n",
      "   47 | 00m00s |  127.47187 |    8.7755 | \n",
      "   48 | 00m00s |  114.14597 |    9.1837 | \n",
      "   49 | 00m00s |  102.34192 |    9.5918 | \n",
      "   50 | 00m00s |   91.89361 |   10.0000 | \n",
      "   51 | 00m00s |  311.15472 |    3.6659 | \n",
      "\u001b[31mBayesian Optimization\u001b[0m\n",
      "\u001b[94m-----------------------------------------\u001b[0m\n",
      " Step |   Time |      Value |         x | \n",
      "   52 | 00m03s | \u001b[35m 321.07599\u001b[0m | \u001b[32m  -4.2636\u001b[0m | \n",
      "   53 | 00m01s |  319.09235 |   -4.1525 | \n",
      "   54 | 00m01s | \u001b[35m 321.36209\u001b[0m | \u001b[32m  -4.2371\u001b[0m | \n",
      "   55 | 00m01s | \u001b[35m 321.41000\u001b[0m | \u001b[32m  -4.2435\u001b[0m | \n"
     ]
    },
    {
     "name": "stderr",
     "output_type": "stream",
     "text": [
      "/Users/jonathanhilgart/anaconda/envs/stats/lib/python3.6/site-packages/sklearn/gaussian_process/gpr.py:427: UserWarning: fmin_l_bfgs_b terminated abnormally with the  state: {'grad': array([-3.86554539]), 'task': b'ABNORMAL_TERMINATION_IN_LNSRCH', 'funcalls': 51, 'nit': 2, 'warnflag': 2}\n",
      "  \" state: %s\" % convergence_dict)\n"
     ]
    },
    {
     "name": "stdout",
     "output_type": "stream",
     "text": [
      "   56 | 00m02s |  320.76238 |   -4.2451 | \n",
      "   57 | 00m02s |  319.44189 |   -4.2408 | \n",
      "   58 | 00m02s |  321.21515 |   -4.2003 | \n"
     ]
    },
    {
     "name": "stderr",
     "output_type": "stream",
     "text": [
      "/Users/jonathanhilgart/anaconda/envs/stats/lib/python3.6/site-packages/sklearn/gaussian_process/gpr.py:427: UserWarning: fmin_l_bfgs_b terminated abnormally with the  state: {'grad': array([-974.8617298]), 'task': b'ABNORMAL_TERMINATION_IN_LNSRCH', 'funcalls': 30, 'nit': 1, 'warnflag': 2}\n",
      "  \" state: %s\" % convergence_dict)\n"
     ]
    },
    {
     "name": "stdout",
     "output_type": "stream",
     "text": [
      "   59 | 00m02s |  320.74893 |   -4.2237 | \n",
      "   60 | 00m02s |  320.05086 |   -4.1730 | \n",
      "   61 | 00m02s |  320.85551 |   -4.2324 | \n",
      "Bayes Opt Won\n",
      "Step Number = 5\n",
      "\u001b[31mInitialization\u001b[0m\n",
      "\u001b[94m-----------------------------------------\u001b[0m\n",
      " Step |   Time |      Value |         x | \n",
      "    1 | 00m00s | \u001b[35m  91.60769\u001b[0m | \u001b[32m -10.0000\u001b[0m | \n",
      "    2 | 00m00s | \u001b[35m 101.84945\u001b[0m | \u001b[32m  -9.5918\u001b[0m | \n",
      "    3 | 00m00s | \u001b[35m 113.47606\u001b[0m | \u001b[32m  -9.1837\u001b[0m | \n",
      "    4 | 00m00s | \u001b[35m 126.66415\u001b[0m | \u001b[32m  -8.7755\u001b[0m | \n",
      "    5 | 00m00s | \u001b[35m 141.57709\u001b[0m | \u001b[32m  -8.3673\u001b[0m | \n",
      "    6 | 00m00s | \u001b[35m 158.33855\u001b[0m | \u001b[32m  -7.9592\u001b[0m | \n",
      "    7 | 00m00s | \u001b[35m 176.99157\u001b[0m | \u001b[32m  -7.5510\u001b[0m | \n",
      "    8 | 00m00s | \u001b[35m 197.43956\u001b[0m | \u001b[32m  -7.1429\u001b[0m | \n",
      "    9 | 00m00s | \u001b[35m 219.36796\u001b[0m | \u001b[32m  -6.7347\u001b[0m | \n",
      "   10 | 00m00s | \u001b[35m 242.15235\u001b[0m | \u001b[32m  -6.3265\u001b[0m | \n",
      "   11 | 00m00s | \u001b[35m 264.77197\u001b[0m | \u001b[32m  -5.9184\u001b[0m | \n",
      "   12 | 00m00s | \u001b[35m 285.76658\u001b[0m | \u001b[32m  -5.5102\u001b[0m | \n",
      "   13 | 00m00s | \u001b[35m 303.29087\u001b[0m | \u001b[32m  -5.1020\u001b[0m | \n",
      "   14 | 00m00s | \u001b[35m 315.31580\u001b[0m | \u001b[32m  -4.6939\u001b[0m | \n",
      "   15 | 00m00s | \u001b[35m 319.97963\u001b[0m | \u001b[32m  -4.2857\u001b[0m | \n",
      "   16 | 00m00s |  316.00478 |   -3.8776 | \n",
      "   17 | 00m00s |  303.02024 |   -3.4694 | \n",
      "   18 | 00m00s |  281.63698 |   -3.0612 | \n",
      "   19 | 00m00s |  253.23789 |   -2.6531 | \n",
      "   20 | 00m00s |  219.58655 |   -2.2449 | \n",
      "   21 | 00m00s |  182.42609 |   -1.8367 | \n",
      "   22 | 00m00s |  143.19822 |   -1.4286 | \n",
      "   23 | 00m00s |  102.92279 |   -1.0204 | \n",
      "   24 | 00m00s |   62.20857 |   -0.6122 | \n",
      "   25 | 00m00s |   21.34230 |   -0.2041 | \n",
      "   26 | 00m00s |   21.22854 |    0.2041 | \n",
      "   27 | 00m00s |   61.87404 |    0.6122 | \n",
      "   28 | 00m00s |  102.38727 |    1.0204 | \n",
      "   29 | 00m00s |  142.49338 |    1.4286 | \n",
      "   30 | 00m00s |  181.59360 |    1.8367 | \n",
      "   31 | 00m00s |  218.67564 |    2.2449 | \n",
      "   32 | 00m00s |  252.30243 |    2.6531 | \n",
      "   33 | 00m00s |  280.73230 |    3.0612 | \n",
      "   34 | 00m00s |  302.19982 |    3.4694 | \n",
      "   35 | 00m00s |  315.31715 |    3.8776 | \n",
      "   36 | 00m00s |  319.46544 |    4.2857 | \n",
      "   37 | 00m00s |  315.00546 |    4.6939 | \n",
      "   38 | 00m00s |  303.20273 |    5.1020 | \n",
      "   39 | 00m00s |  285.90586 |    5.5102 | \n",
      "   40 | 00m00s |  265.13043 |    5.9184 | \n",
      "   41 | 00m00s |  242.70879 |    6.3265 | \n",
      "   42 | 00m00s |  220.08948 |    6.7347 | \n",
      "   43 | 00m00s |  198.28349 |    7.1429 | \n",
      "   44 | 00m00s |  177.90801 |    7.5510 | \n",
      "   45 | 00m00s |  159.27330 |    7.9592 | \n",
      "   46 | 00m00s |  142.47487 |    8.3673 | \n",
      "   47 | 00m00s |  127.47187 |    8.7755 | \n",
      "   48 | 00m00s |  114.14597 |    9.1837 | \n",
      "   49 | 00m00s |  102.34192 |    9.5918 | \n",
      "   50 | 00m00s |   91.89361 |   10.0000 | \n",
      "   51 | 00m00s |  142.90143 |   -8.3323 | \n",
      "\u001b[31mBayesian Optimization\u001b[0m\n",
      "\u001b[94m-----------------------------------------\u001b[0m\n",
      " Step |   Time |      Value |         x | \n"
     ]
    },
    {
     "name": "stderr",
     "output_type": "stream",
     "text": [
      "/Users/jonathanhilgart/anaconda/envs/stats/lib/python3.6/site-packages/sklearn/gaussian_process/gpr.py:427: UserWarning: fmin_l_bfgs_b terminated abnormally with the  state: {'grad': array([ 0.07866585]), 'task': b'ABNORMAL_TERMINATION_IN_LNSRCH', 'funcalls': 49, 'nit': 6, 'warnflag': 2}\n",
      "  \" state: %s\" % convergence_dict)\n"
     ]
    },
    {
     "name": "stdout",
     "output_type": "stream",
     "text": [
      "   52 | 00m03s | \u001b[35m 321.06645\u001b[0m | \u001b[32m  -4.2636\u001b[0m | \n"
     ]
    },
    {
     "name": "stderr",
     "output_type": "stream",
     "text": [
      "/Users/jonathanhilgart/anaconda/envs/stats/lib/python3.6/site-packages/sklearn/gaussian_process/gpr.py:427: UserWarning: fmin_l_bfgs_b terminated abnormally with the  state: {'grad': array([-0.1511369]), 'task': b'ABNORMAL_TERMINATION_IN_LNSRCH', 'funcalls': 48, 'nit': 5, 'warnflag': 2}\n",
      "  \" state: %s\" % convergence_dict)\n"
     ]
    },
    {
     "name": "stdout",
     "output_type": "stream",
     "text": [
      "   53 | 00m01s |  319.08179 |   -4.1527 | \n",
      "   54 | 00m01s | \u001b[35m 321.42940\u001b[0m | \u001b[32m  -4.2374\u001b[0m | \n",
      "   55 | 00m02s |  319.45205 |   -4.2408 | \n"
     ]
    },
    {
     "name": "stderr",
     "output_type": "stream",
     "text": [
      "/Users/jonathanhilgart/anaconda/envs/stats/lib/python3.6/site-packages/sklearn/gaussian_process/gpr.py:427: UserWarning: fmin_l_bfgs_b terminated abnormally with the  state: {'grad': array([ 0.07765566]), 'task': b'ABNORMAL_TERMINATION_IN_LNSRCH', 'funcalls': 55, 'nit': 4, 'warnflag': 2}\n",
      "  \" state: %s\" % convergence_dict)\n"
     ]
    },
    {
     "name": "stdout",
     "output_type": "stream",
     "text": [
      "   56 | 00m02s |  321.19465 |   -4.2055 | \n"
     ]
    },
    {
     "name": "stderr",
     "output_type": "stream",
     "text": [
      "/Users/jonathanhilgart/anaconda/envs/stats/lib/python3.6/site-packages/sklearn/gaussian_process/gpr.py:427: UserWarning: fmin_l_bfgs_b terminated abnormally with the  state: {'grad': array([ 3.36414644]), 'task': b'ABNORMAL_TERMINATION_IN_LNSRCH', 'funcalls': 53, 'nit': 4, 'warnflag': 2}\n",
      "  \" state: %s\" % convergence_dict)\n"
     ]
    },
    {
     "name": "stdout",
     "output_type": "stream",
     "text": [
      "   57 | 00m02s |  321.40258 |   -4.2250 | \n",
      "   58 | 00m01s |  320.62671 |   -4.2326 | \n",
      "   59 | 00m01s |  320.74318 |   -4.2175 | \n",
      "   60 | 00m03s |  320.09760 |   -4.2709 | \n",
      "   61 | 00m03s |  319.74145 |   -4.1914 | \n",
      "Bayes Opt Won\n",
      "Step Number = 6\n",
      "\u001b[31mInitialization\u001b[0m\n",
      "\u001b[94m-----------------------------------------\u001b[0m\n",
      " Step |   Time |      Value |         x | \n",
      "    1 | 00m00s | \u001b[35m  91.60769\u001b[0m | \u001b[32m -10.0000\u001b[0m | \n",
      "    2 | 00m00s | \u001b[35m 101.84945\u001b[0m | \u001b[32m  -9.5918\u001b[0m | \n",
      "    3 | 00m00s | \u001b[35m 113.47606\u001b[0m | \u001b[32m  -9.1837\u001b[0m | \n",
      "    4 | 00m00s | \u001b[35m 126.66415\u001b[0m | \u001b[32m  -8.7755\u001b[0m | \n",
      "    5 | 00m00s | \u001b[35m 141.57709\u001b[0m | \u001b[32m  -8.3673\u001b[0m | \n",
      "    6 | 00m00s | \u001b[35m 158.33855\u001b[0m | \u001b[32m  -7.9592\u001b[0m | \n",
      "    7 | 00m00s | \u001b[35m 176.99157\u001b[0m | \u001b[32m  -7.5510\u001b[0m | \n",
      "    8 | 00m00s | \u001b[35m 197.43956\u001b[0m | \u001b[32m  -7.1429\u001b[0m | \n",
      "    9 | 00m00s | \u001b[35m 219.36796\u001b[0m | \u001b[32m  -6.7347\u001b[0m | \n",
      "   10 | 00m00s | \u001b[35m 242.15235\u001b[0m | \u001b[32m  -6.3265\u001b[0m | \n",
      "   11 | 00m00s | \u001b[35m 264.77197\u001b[0m | \u001b[32m  -5.9184\u001b[0m | \n",
      "   12 | 00m00s | \u001b[35m 285.76658\u001b[0m | \u001b[32m  -5.5102\u001b[0m | \n",
      "   13 | 00m00s | \u001b[35m 303.29087\u001b[0m | \u001b[32m  -5.1020\u001b[0m | \n",
      "   14 | 00m00s | \u001b[35m 315.31580\u001b[0m | \u001b[32m  -4.6939\u001b[0m | \n",
      "   15 | 00m00s | \u001b[35m 319.97963\u001b[0m | \u001b[32m  -4.2857\u001b[0m | \n",
      "   16 | 00m00s |  316.00478 |   -3.8776 | \n",
      "   17 | 00m00s |  303.02024 |   -3.4694 | \n",
      "   18 | 00m00s |  281.63698 |   -3.0612 | \n",
      "   19 | 00m00s |  253.23789 |   -2.6531 | \n",
      "   20 | 00m00s |  219.58655 |   -2.2449 | \n",
      "   21 | 00m00s |  182.42609 |   -1.8367 | \n",
      "   22 | 00m00s |  143.19822 |   -1.4286 | \n",
      "   23 | 00m00s |  102.92279 |   -1.0204 | \n",
      "   24 | 00m00s |   62.20857 |   -0.6122 | \n",
      "   25 | 00m00s |   21.34230 |   -0.2041 | \n",
      "   26 | 00m00s |   21.22854 |    0.2041 | \n",
      "   27 | 00m00s |   61.87404 |    0.6122 | \n",
      "   28 | 00m00s |  102.38727 |    1.0204 | \n",
      "   29 | 00m00s |  142.49338 |    1.4286 | \n",
      "   30 | 00m00s |  181.59360 |    1.8367 | \n",
      "   31 | 00m00s |  218.67564 |    2.2449 | \n",
      "   32 | 00m00s |  252.30243 |    2.6531 | \n",
      "   33 | 00m00s |  280.73230 |    3.0612 | \n",
      "   34 | 00m00s |  302.19982 |    3.4694 | \n",
      "   35 | 00m00s |  315.31715 |    3.8776 | \n",
      "   36 | 00m00s |  319.46544 |    4.2857 | \n",
      "   37 | 00m00s |  315.00546 |    4.6939 | \n",
      "   38 | 00m00s |  303.20273 |    5.1020 | \n",
      "   39 | 00m00s |  285.90586 |    5.5102 | \n",
      "   40 | 00m00s |  265.13043 |    5.9184 | \n",
      "   41 | 00m00s |  242.70879 |    6.3265 | \n",
      "   42 | 00m00s |  220.08948 |    6.7347 | \n",
      "   43 | 00m00s |  198.28349 |    7.1429 | \n",
      "   44 | 00m00s |  177.90801 |    7.5510 | \n",
      "   45 | 00m00s |  159.27330 |    7.9592 | \n",
      "   46 | 00m00s |  142.47487 |    8.3673 | \n",
      "   47 | 00m00s |  127.47187 |    8.7755 | \n",
      "   48 | 00m00s |  114.14597 |    9.1837 | \n",
      "   49 | 00m00s |  102.34192 |    9.5918 | \n",
      "   50 | 00m00s |   91.89361 |   10.0000 | \n",
      "   51 | 00m00s |  228.83595 |   -2.3536 | \n",
      "\u001b[31mBayesian Optimization\u001b[0m\n",
      "\u001b[94m-----------------------------------------\u001b[0m\n",
      " Step |   Time |      Value |         x | \n"
     ]
    },
    {
     "name": "stderr",
     "output_type": "stream",
     "text": [
      "/Users/jonathanhilgart/anaconda/envs/stats/lib/python3.6/site-packages/sklearn/gaussian_process/gpr.py:427: UserWarning: fmin_l_bfgs_b terminated abnormally with the  state: {'grad': array([-0.03610532]), 'task': b'ABNORMAL_TERMINATION_IN_LNSRCH', 'funcalls': 54, 'nit': 4, 'warnflag': 2}\n",
      "  \" state: %s\" % convergence_dict)\n"
     ]
    },
    {
     "name": "stdout",
     "output_type": "stream",
     "text": [
      "   52 | 00m07s | \u001b[35m 321.01583\u001b[0m | \u001b[32m  -4.2636\u001b[0m | \n"
     ]
    },
    {
     "name": "stderr",
     "output_type": "stream",
     "text": [
      "/Users/jonathanhilgart/anaconda/envs/stats/lib/python3.6/site-packages/sklearn/gaussian_process/gpr.py:427: UserWarning: fmin_l_bfgs_b terminated abnormally with the  state: {'grad': array([ 0.09802756]), 'task': b'ABNORMAL_TERMINATION_IN_LNSRCH', 'funcalls': 53, 'nit': 4, 'warnflag': 2}\n",
      "  \" state: %s\" % convergence_dict)\n"
     ]
    },
    {
     "name": "stdout",
     "output_type": "stream",
     "text": [
      "   53 | 00m03s |  319.40458 |   -4.1535 | \n",
      "   54 | 00m02s |  319.99217 |   -4.2355 | \n",
      "   55 | 00m03s | \u001b[35m 321.30913\u001b[0m | \u001b[32m  -4.2621\u001b[0m | \n"
     ]
    },
    {
     "name": "stderr",
     "output_type": "stream",
     "text": [
      "/Users/jonathanhilgart/anaconda/envs/stats/lib/python3.6/site-packages/sklearn/gaussian_process/gpr.py:427: UserWarning: fmin_l_bfgs_b terminated abnormally with the  state: {'grad': array([-1.23751804]), 'task': b'ABNORMAL_TERMINATION_IN_LNSRCH', 'funcalls': 52, 'nit': 3, 'warnflag': 2}\n",
      "  \" state: %s\" % convergence_dict)\n"
     ]
    },
    {
     "name": "stdout",
     "output_type": "stream",
     "text": [
      "   56 | 00m05s |  320.12102 |   -4.2545 | \n"
     ]
    },
    {
     "name": "stderr",
     "output_type": "stream",
     "text": [
      "/Users/jonathanhilgart/anaconda/envs/stats/lib/python3.6/site-packages/sklearn/gaussian_process/gpr.py:427: UserWarning: fmin_l_bfgs_b terminated abnormally with the  state: {'grad': array([-0.63332582]), 'task': b'ABNORMAL_TERMINATION_IN_LNSRCH', 'funcalls': 57, 'nit': 5, 'warnflag': 2}\n",
      "  \" state: %s\" % convergence_dict)\n"
     ]
    },
    {
     "name": "stdout",
     "output_type": "stream",
     "text": [
      "   57 | 00m04s |  320.29345 |   -4.2609 | \n",
      "   58 | 00m03s | \u001b[35m 321.42902\u001b[0m | \u001b[32m  -4.2624\u001b[0m | \n",
      "   59 | 00m04s |  320.23879 |   -4.1732 | \n",
      "   60 | 00m03s | \u001b[35m 321.46115\u001b[0m | \u001b[32m  -4.2627\u001b[0m | \n"
     ]
    },
    {
     "name": "stderr",
     "output_type": "stream",
     "text": [
      "/Users/jonathanhilgart/anaconda/envs/stats/lib/python3.6/site-packages/sklearn/gaussian_process/gpr.py:427: UserWarning: fmin_l_bfgs_b terminated abnormally with the  state: {'grad': array([-12735.2021785]), 'task': b'ABNORMAL_TERMINATION_IN_LNSRCH', 'funcalls': 21, 'nit': 0, 'warnflag': 2}\n",
      "  \" state: %s\" % convergence_dict)\n"
     ]
    },
    {
     "name": "stdout",
     "output_type": "stream",
     "text": [
      "   61 | 00m03s |  319.61093 |   -4.2464 | \n",
      "Bayes Opt Won\n",
      "Step Number = 7\n",
      "\u001b[31mInitialization\u001b[0m\n",
      "\u001b[94m-----------------------------------------\u001b[0m\n",
      " Step |   Time |      Value |         x | \n",
      "    1 | 00m00s | \u001b[35m  91.60769\u001b[0m | \u001b[32m -10.0000\u001b[0m | \n",
      "    2 | 00m00s | \u001b[35m 101.84945\u001b[0m | \u001b[32m  -9.5918\u001b[0m | \n",
      "    3 | 00m00s | \u001b[35m 113.47606\u001b[0m | \u001b[32m  -9.1837\u001b[0m | \n",
      "    4 | 00m00s | \u001b[35m 126.66415\u001b[0m | \u001b[32m  -8.7755\u001b[0m | \n",
      "    5 | 00m00s | \u001b[35m 141.57709\u001b[0m | \u001b[32m  -8.3673\u001b[0m | \n",
      "    6 | 00m00s | \u001b[35m 158.33855\u001b[0m | \u001b[32m  -7.9592\u001b[0m | \n",
      "    7 | 00m00s | \u001b[35m 176.99157\u001b[0m | \u001b[32m  -7.5510\u001b[0m | \n",
      "    8 | 00m00s | \u001b[35m 197.43956\u001b[0m | \u001b[32m  -7.1429\u001b[0m | \n",
      "    9 | 00m00s | \u001b[35m 219.36796\u001b[0m | \u001b[32m  -6.7347\u001b[0m | \n",
      "   10 | 00m00s | \u001b[35m 242.15235\u001b[0m | \u001b[32m  -6.3265\u001b[0m | \n",
      "   11 | 00m00s | \u001b[35m 264.77197\u001b[0m | \u001b[32m  -5.9184\u001b[0m | \n",
      "   12 | 00m00s | \u001b[35m 285.76658\u001b[0m | \u001b[32m  -5.5102\u001b[0m | \n",
      "   13 | 00m00s | \u001b[35m 303.29087\u001b[0m | \u001b[32m  -5.1020\u001b[0m | \n",
      "   14 | 00m00s | \u001b[35m 315.31580\u001b[0m | \u001b[32m  -4.6939\u001b[0m | \n",
      "   15 | 00m00s | \u001b[35m 319.97963\u001b[0m | \u001b[32m  -4.2857\u001b[0m | \n",
      "   16 | 00m00s |  316.00478 |   -3.8776 | \n",
      "   17 | 00m00s |  303.02024 |   -3.4694 | \n",
      "   18 | 00m00s |  281.63698 |   -3.0612 | \n",
      "   19 | 00m00s |  253.23789 |   -2.6531 | \n",
      "   20 | 00m00s |  219.58655 |   -2.2449 | \n",
      "   21 | 00m00s |  182.42609 |   -1.8367 | \n",
      "   22 | 00m00s |  143.19822 |   -1.4286 | \n",
      "   23 | 00m00s |  102.92279 |   -1.0204 | \n",
      "   24 | 00m00s |   62.20857 |   -0.6122 | \n",
      "   25 | 00m00s |   21.34230 |   -0.2041 | \n",
      "   26 | 00m00s |   21.22854 |    0.2041 | \n",
      "   27 | 00m00s |   61.87404 |    0.6122 | \n",
      "   28 | 00m00s |  102.38727 |    1.0204 | \n",
      "   29 | 00m00s |  142.49338 |    1.4286 | \n",
      "   30 | 00m00s |  181.59360 |    1.8367 | \n",
      "   31 | 00m00s |  218.67564 |    2.2449 | \n",
      "   32 | 00m00s |  252.30243 |    2.6531 | \n",
      "   33 | 00m00s |  280.73230 |    3.0612 | \n",
      "   34 | 00m00s |  302.19982 |    3.4694 | \n",
      "   35 | 00m00s |  315.31715 |    3.8776 | \n",
      "   36 | 00m00s |  319.46544 |    4.2857 | \n",
      "   37 | 00m00s |  315.00546 |    4.6939 | \n",
      "   38 | 00m00s |  303.20273 |    5.1020 | \n",
      "   39 | 00m00s |  285.90586 |    5.5102 | \n",
      "   40 | 00m00s |  265.13043 |    5.9184 | \n",
      "   41 | 00m00s |  242.70879 |    6.3265 | \n",
      "   42 | 00m00s |  220.08948 |    6.7347 | \n",
      "   43 | 00m00s |  198.28349 |    7.1429 | \n",
      "   44 | 00m00s |  177.90801 |    7.5510 | \n",
      "   45 | 00m00s |  159.27330 |    7.9592 | \n",
      "   46 | 00m00s |  142.47487 |    8.3673 | \n",
      "   47 | 00m00s |  127.47187 |    8.7755 | \n",
      "   48 | 00m00s |  114.14597 |    9.1837 | \n",
      "   49 | 00m00s |  102.34192 |    9.5918 | \n",
      "   50 | 00m00s |   91.89361 |   10.0000 | \n",
      "   51 | 00m00s |  142.00653 |   -8.3848 | \n",
      "\u001b[31mBayesian Optimization\u001b[0m\n",
      "\u001b[94m-----------------------------------------\u001b[0m\n",
      " Step |   Time |      Value |         x | \n",
      "   52 | 00m04s | \u001b[35m 321.25319\u001b[0m | \u001b[32m  -4.2633\u001b[0m | \n",
      "   53 | 00m02s |  320.76555 |   -4.1504 | \n",
      "   54 | 00m02s |  319.47531 |   -4.2222 | \n",
      "   55 | 00m01s |  318.95582 |   -4.0846 | \n",
      "   56 | 00m01s |  320.00189 |   -4.2606 | \n",
      "   57 | 00m02s |  319.64048 |   -4.2715 | \n",
      "   58 | 00m03s |  320.71452 |   -4.3393 | \n"
     ]
    },
    {
     "name": "stderr",
     "output_type": "stream",
     "text": [
      "/Users/jonathanhilgart/anaconda/envs/stats/lib/python3.6/site-packages/sklearn/gaussian_process/gpr.py:427: UserWarning: fmin_l_bfgs_b terminated abnormally with the  state: {'grad': array([-0.59108616]), 'task': b'ABNORMAL_TERMINATION_IN_LNSRCH', 'funcalls': 51, 'nit': 5, 'warnflag': 2}\n",
      "  \" state: %s\" % convergence_dict)\n"
     ]
    },
    {
     "name": "stdout",
     "output_type": "stream",
     "text": [
      "   59 | 00m02s |  321.07061 |   -4.1879 | \n"
     ]
    },
    {
     "name": "stderr",
     "output_type": "stream",
     "text": [
      "/Users/jonathanhilgart/anaconda/envs/stats/lib/python3.6/site-packages/sklearn/gaussian_process/gpr.py:427: UserWarning: fmin_l_bfgs_b terminated abnormally with the  state: {'grad': array([-1.10487248]), 'task': b'ABNORMAL_TERMINATION_IN_LNSRCH', 'funcalls': 55, 'nit': 3, 'warnflag': 2}\n",
      "  \" state: %s\" % convergence_dict)\n"
     ]
    },
    {
     "name": "stdout",
     "output_type": "stream",
     "text": [
      "   60 | 00m02s |  321.21175 |   -4.3123 | \n"
     ]
    },
    {
     "name": "stderr",
     "output_type": "stream",
     "text": [
      "/Users/jonathanhilgart/anaconda/envs/stats/lib/python3.6/site-packages/sklearn/gaussian_process/gpr.py:427: UserWarning: fmin_l_bfgs_b terminated abnormally with the  state: {'grad': array([-1590.83918029]), 'task': b'ABNORMAL_TERMINATION_IN_LNSRCH', 'funcalls': 34, 'nit': 2, 'warnflag': 2}\n",
      "  \" state: %s\" % convergence_dict)\n"
     ]
    },
    {
     "name": "stdout",
     "output_type": "stream",
     "text": [
      "   61 | 00m02s |  319.94978 |   -4.2648 | \n",
      "Bayes Opt Won\n",
      "Step Number = 8\n",
      "\u001b[31mInitialization\u001b[0m\n",
      "\u001b[94m-----------------------------------------\u001b[0m\n",
      " Step |   Time |      Value |         x | \n",
      "    1 | 00m00s | \u001b[35m  91.60769\u001b[0m | \u001b[32m -10.0000\u001b[0m | \n",
      "    2 | 00m00s | \u001b[35m 101.84945\u001b[0m | \u001b[32m  -9.5918\u001b[0m | \n",
      "    3 | 00m00s | \u001b[35m 113.47606\u001b[0m | \u001b[32m  -9.1837\u001b[0m | \n",
      "    4 | 00m00s | \u001b[35m 126.66415\u001b[0m | \u001b[32m  -8.7755\u001b[0m | \n",
      "    5 | 00m00s | \u001b[35m 141.57709\u001b[0m | \u001b[32m  -8.3673\u001b[0m | \n",
      "    6 | 00m00s | \u001b[35m 158.33855\u001b[0m | \u001b[32m  -7.9592\u001b[0m | \n",
      "    7 | 00m00s | \u001b[35m 176.99157\u001b[0m | \u001b[32m  -7.5510\u001b[0m | \n",
      "    8 | 00m00s | \u001b[35m 197.43956\u001b[0m | \u001b[32m  -7.1429\u001b[0m | \n",
      "    9 | 00m00s | \u001b[35m 219.36796\u001b[0m | \u001b[32m  -6.7347\u001b[0m | \n",
      "   10 | 00m00s | \u001b[35m 242.15235\u001b[0m | \u001b[32m  -6.3265\u001b[0m | \n",
      "   11 | 00m00s | \u001b[35m 264.77197\u001b[0m | \u001b[32m  -5.9184\u001b[0m | \n",
      "   12 | 00m00s | \u001b[35m 285.76658\u001b[0m | \u001b[32m  -5.5102\u001b[0m | \n",
      "   13 | 00m00s | \u001b[35m 303.29087\u001b[0m | \u001b[32m  -5.1020\u001b[0m | \n",
      "   14 | 00m00s | \u001b[35m 315.31580\u001b[0m | \u001b[32m  -4.6939\u001b[0m | \n",
      "   15 | 00m00s | \u001b[35m 319.97963\u001b[0m | \u001b[32m  -4.2857\u001b[0m | \n",
      "   16 | 00m00s |  316.00478 |   -3.8776 | \n",
      "   17 | 00m00s |  303.02024 |   -3.4694 | \n",
      "   18 | 00m00s |  281.63698 |   -3.0612 | \n",
      "   19 | 00m00s |  253.23789 |   -2.6531 | \n",
      "   20 | 00m00s |  219.58655 |   -2.2449 | \n",
      "   21 | 00m00s |  182.42609 |   -1.8367 | \n",
      "   22 | 00m00s |  143.19822 |   -1.4286 | \n",
      "   23 | 00m00s |  102.92279 |   -1.0204 | \n",
      "   24 | 00m00s |   62.20857 |   -0.6122 | \n",
      "   25 | 00m00s |   21.34230 |   -0.2041 | \n",
      "   26 | 00m00s |   21.22854 |    0.2041 | \n",
      "   27 | 00m00s |   61.87404 |    0.6122 | \n",
      "   28 | 00m00s |  102.38727 |    1.0204 | \n",
      "   29 | 00m00s |  142.49338 |    1.4286 | \n",
      "   30 | 00m00s |  181.59360 |    1.8367 | \n",
      "   31 | 00m00s |  218.67564 |    2.2449 | \n",
      "   32 | 00m00s |  252.30243 |    2.6531 | \n",
      "   33 | 00m00s |  280.73230 |    3.0612 | \n",
      "   34 | 00m00s |  302.19982 |    3.4694 | \n",
      "   35 | 00m00s |  315.31715 |    3.8776 | \n",
      "   36 | 00m00s |  319.46544 |    4.2857 | \n",
      "   37 | 00m00s |  315.00546 |    4.6939 | \n",
      "   38 | 00m00s |  303.20273 |    5.1020 | \n",
      "   39 | 00m00s |  285.90586 |    5.5102 | \n",
      "   40 | 00m00s |  265.13043 |    5.9184 | \n",
      "   41 | 00m00s |  242.70879 |    6.3265 | \n",
      "   42 | 00m00s |  220.08948 |    6.7347 | \n",
      "   43 | 00m00s |  198.28349 |    7.1429 | \n",
      "   44 | 00m00s |  177.90801 |    7.5510 | \n",
      "   45 | 00m00s |  159.27330 |    7.9592 | \n",
      "   46 | 00m00s |  142.47487 |    8.3673 | \n",
      "   47 | 00m00s |  127.47187 |    8.7755 | \n",
      "   48 | 00m00s |  114.14597 |    9.1837 | \n",
      "   49 | 00m00s |  102.34192 |    9.5918 | \n",
      "   50 | 00m00s |   91.89361 |   10.0000 | \n",
      "   51 | 00m00s |  150.16999 |   -1.5034 | \n",
      "\u001b[31mBayesian Optimization\u001b[0m\n",
      "\u001b[94m-----------------------------------------\u001b[0m\n",
      " Step |   Time |      Value |         x | \n",
      "   52 | 00m03s | \u001b[35m 321.05148\u001b[0m | \u001b[32m  -4.2636\u001b[0m | \n",
      "   53 | 00m02s |  319.10930 |   -4.1529 | \n"
     ]
    },
    {
     "name": "stderr",
     "output_type": "stream",
     "text": [
      "/Users/jonathanhilgart/anaconda/envs/stats/lib/python3.6/site-packages/sklearn/gaussian_process/gpr.py:427: UserWarning: fmin_l_bfgs_b terminated abnormally with the  state: {'grad': array([ 0.18822115]), 'task': b'ABNORMAL_TERMINATION_IN_LNSRCH', 'funcalls': 50, 'nit': 5, 'warnflag': 2}\n",
      "  \" state: %s\" % convergence_dict)\n"
     ]
    },
    {
     "name": "stdout",
     "output_type": "stream",
     "text": [
      "   54 | 00m01s | \u001b[35m 321.40297\u001b[0m | \u001b[32m  -4.2373\u001b[0m | \n",
      "   55 | 00m02s |  319.49782 |   -4.2410 | \n",
      "   56 | 00m02s |  321.28186 |   -4.2057 | \n",
      "   57 | 00m01s |  321.39963 |   -4.2249 | \n"
     ]
    },
    {
     "name": "stderr",
     "output_type": "stream",
     "text": [
      "/Users/jonathanhilgart/anaconda/envs/stats/lib/python3.6/site-packages/sklearn/gaussian_process/gpr.py:427: UserWarning: fmin_l_bfgs_b terminated abnormally with the  state: {'grad': array([-0.01026041]), 'task': b'ABNORMAL_TERMINATION_IN_LNSRCH', 'funcalls': 49, 'nit': 3, 'warnflag': 2}\n",
      "  \" state: %s\" % convergence_dict)\n"
     ]
    },
    {
     "name": "stdout",
     "output_type": "stream",
     "text": [
      "   58 | 00m02s |  320.78759 |   -4.2324 | \n",
      "   59 | 00m01s |  320.71175 |   -4.2174 | \n",
      "   60 | 00m01s |  320.08879 |   -4.1918 | \n"
     ]
    },
    {
     "name": "stderr",
     "output_type": "stream",
     "text": [
      "/Users/jonathanhilgart/anaconda/envs/stats/lib/python3.6/site-packages/sklearn/gaussian_process/gpr.py:427: UserWarning: fmin_l_bfgs_b terminated abnormally with the  state: {'grad': array([-1.82733734]), 'task': b'ABNORMAL_TERMINATION_IN_LNSRCH', 'funcalls': 53, 'nit': 4, 'warnflag': 2}\n",
      "  \" state: %s\" % convergence_dict)\n"
     ]
    },
    {
     "name": "stdout",
     "output_type": "stream",
     "text": [
      "   61 | 00m01s |  320.18192 |   -4.2708 | \n",
      "Bayes Opt Won\n",
      "Step Number = 9\n",
      "\u001b[31mInitialization\u001b[0m\n",
      "\u001b[94m-----------------------------------------\u001b[0m\n",
      " Step |   Time |      Value |         x | \n",
      "    1 | 00m00s | \u001b[35m  91.60769\u001b[0m | \u001b[32m -10.0000\u001b[0m | \n",
      "    2 | 00m00s | \u001b[35m 101.84945\u001b[0m | \u001b[32m  -9.5918\u001b[0m | \n",
      "    3 | 00m00s | \u001b[35m 113.47606\u001b[0m | \u001b[32m  -9.1837\u001b[0m | \n",
      "    4 | 00m00s | \u001b[35m 126.66415\u001b[0m | \u001b[32m  -8.7755\u001b[0m | \n",
      "    5 | 00m00s | \u001b[35m 141.57709\u001b[0m | \u001b[32m  -8.3673\u001b[0m | \n",
      "    6 | 00m00s | \u001b[35m 158.33855\u001b[0m | \u001b[32m  -7.9592\u001b[0m | \n",
      "    7 | 00m00s | \u001b[35m 176.99157\u001b[0m | \u001b[32m  -7.5510\u001b[0m | \n",
      "    8 | 00m00s | \u001b[35m 197.43956\u001b[0m | \u001b[32m  -7.1429\u001b[0m | \n",
      "    9 | 00m00s | \u001b[35m 219.36796\u001b[0m | \u001b[32m  -6.7347\u001b[0m | \n",
      "   10 | 00m00s | \u001b[35m 242.15235\u001b[0m | \u001b[32m  -6.3265\u001b[0m | \n",
      "   11 | 00m00s | \u001b[35m 264.77197\u001b[0m | \u001b[32m  -5.9184\u001b[0m | \n",
      "   12 | 00m00s | \u001b[35m 285.76658\u001b[0m | \u001b[32m  -5.5102\u001b[0m | \n",
      "   13 | 00m00s | \u001b[35m 303.29087\u001b[0m | \u001b[32m  -5.1020\u001b[0m | \n",
      "   14 | 00m00s | \u001b[35m 315.31580\u001b[0m | \u001b[32m  -4.6939\u001b[0m | \n",
      "   15 | 00m00s | \u001b[35m 319.97963\u001b[0m | \u001b[32m  -4.2857\u001b[0m | \n",
      "   16 | 00m00s |  316.00478 |   -3.8776 | \n",
      "   17 | 00m00s |  303.02024 |   -3.4694 | \n",
      "   18 | 00m00s |  281.63698 |   -3.0612 | \n",
      "   19 | 00m00s |  253.23789 |   -2.6531 | \n",
      "   20 | 00m00s |  219.58655 |   -2.2449 | \n",
      "   21 | 00m00s |  182.42609 |   -1.8367 | \n",
      "   22 | 00m00s |  143.19822 |   -1.4286 | \n",
      "   23 | 00m00s |  102.92279 |   -1.0204 | \n",
      "   24 | 00m00s |   62.20857 |   -0.6122 | \n",
      "   25 | 00m00s |   21.34230 |   -0.2041 | \n",
      "   26 | 00m00s |   21.22854 |    0.2041 | \n",
      "   27 | 00m00s |   61.87404 |    0.6122 | \n",
      "   28 | 00m00s |  102.38727 |    1.0204 | \n",
      "   29 | 00m00s |  142.49338 |    1.4286 | \n",
      "   30 | 00m00s |  181.59360 |    1.8367 | \n",
      "   31 | 00m00s |  218.67564 |    2.2449 | \n",
      "   32 | 00m00s |  252.30243 |    2.6531 | \n",
      "   33 | 00m00s |  280.73230 |    3.0612 | \n",
      "   34 | 00m00s |  302.19982 |    3.4694 | \n",
      "   35 | 00m00s |  315.31715 |    3.8776 | \n",
      "   36 | 00m00s |  319.46544 |    4.2857 | \n",
      "   37 | 00m00s |  315.00546 |    4.6939 | \n",
      "   38 | 00m00s |  303.20273 |    5.1020 | \n",
      "   39 | 00m00s |  285.90586 |    5.5102 | \n",
      "   40 | 00m00s |  265.13043 |    5.9184 | \n",
      "   41 | 00m00s |  242.70879 |    6.3265 | \n",
      "   42 | 00m00s |  220.08948 |    6.7347 | \n",
      "   43 | 00m00s |  198.28349 |    7.1429 | \n",
      "   44 | 00m00s |  177.90801 |    7.5510 | \n",
      "   45 | 00m00s |  159.27330 |    7.9592 | \n",
      "   46 | 00m00s |  142.47487 |    8.3673 | \n",
      "   47 | 00m00s |  127.47187 |    8.7755 | \n",
      "   48 | 00m00s |  114.14597 |    9.1837 | \n",
      "   49 | 00m00s |  102.34192 |    9.5918 | \n",
      "   50 | 00m00s |   91.89361 |   10.0000 | \n",
      "   51 | 00m00s |  258.83684 |   -2.7342 | \n",
      "\u001b[31mBayesian Optimization\u001b[0m\n",
      "\u001b[94m-----------------------------------------\u001b[0m\n",
      " Step |   Time |      Value |         x | \n",
      "   52 | 00m03s | \u001b[35m 321.44999\u001b[0m | \u001b[32m  -4.2625\u001b[0m | \n",
      "   53 | 00m01s |  320.26512 |   -4.1482 | \n",
      "   54 | 00m01s |  320.24858 |   -4.2267 | \n"
     ]
    },
    {
     "name": "stderr",
     "output_type": "stream",
     "text": [
      "/Users/jonathanhilgart/anaconda/envs/stats/lib/python3.6/site-packages/sklearn/gaussian_process/gpr.py:427: UserWarning: fmin_l_bfgs_b terminated abnormally with the  state: {'grad': array([-0.60229842]), 'task': b'ABNORMAL_TERMINATION_IN_LNSRCH', 'funcalls': 47, 'nit': 2, 'warnflag': 2}\n",
      "  \" state: %s\" % convergence_dict)\n"
     ]
    },
    {
     "name": "stdout",
     "output_type": "stream",
     "text": [
      "   55 | 00m02s |  320.25669 |   -4.2581 | \n",
      "   56 | 00m02s |  321.24676 |   -4.2696 | \n",
      "   57 | 00m01s |  320.90001 |   -4.1945 | \n",
      "   58 | 00m01s |  319.88297 |   -4.2648 | \n",
      "   59 | 00m01s | \u001b[35m 321.46508\u001b[0m | \u001b[32m  -4.2752\u001b[0m | \n",
      "   60 | 00m02s |  319.50270 |   -4.2724 | \n",
      "   61 | 00m02s |  320.84812 |   -4.1629 | \n",
      "Bayes Opt Won\n",
      "Step Number = 10\n",
      "\u001b[31mInitialization\u001b[0m\n",
      "\u001b[94m-----------------------------------------\u001b[0m\n",
      " Step |   Time |      Value |         x | \n",
      "    1 | 00m00s | \u001b[35m  91.60769\u001b[0m | \u001b[32m -10.0000\u001b[0m | \n",
      "    2 | 00m00s | \u001b[35m 101.84945\u001b[0m | \u001b[32m  -9.5918\u001b[0m | \n",
      "    3 | 00m00s | \u001b[35m 113.47606\u001b[0m | \u001b[32m  -9.1837\u001b[0m | \n",
      "    4 | 00m00s | \u001b[35m 126.66415\u001b[0m | \u001b[32m  -8.7755\u001b[0m | \n",
      "    5 | 00m00s | \u001b[35m 141.57709\u001b[0m | \u001b[32m  -8.3673\u001b[0m | \n",
      "    6 | 00m00s | \u001b[35m 158.33855\u001b[0m | \u001b[32m  -7.9592\u001b[0m | \n",
      "    7 | 00m00s | \u001b[35m 176.99157\u001b[0m | \u001b[32m  -7.5510\u001b[0m | \n",
      "    8 | 00m00s | \u001b[35m 197.43956\u001b[0m | \u001b[32m  -7.1429\u001b[0m | \n",
      "    9 | 00m00s | \u001b[35m 219.36796\u001b[0m | \u001b[32m  -6.7347\u001b[0m | \n",
      "   10 | 00m00s | \u001b[35m 242.15235\u001b[0m | \u001b[32m  -6.3265\u001b[0m | \n",
      "   11 | 00m00s | \u001b[35m 264.77197\u001b[0m | \u001b[32m  -5.9184\u001b[0m | \n",
      "   12 | 00m00s | \u001b[35m 285.76658\u001b[0m | \u001b[32m  -5.5102\u001b[0m | \n",
      "   13 | 00m00s | \u001b[35m 303.29087\u001b[0m | \u001b[32m  -5.1020\u001b[0m | \n",
      "   14 | 00m00s | \u001b[35m 315.31580\u001b[0m | \u001b[32m  -4.6939\u001b[0m | \n",
      "   15 | 00m00s | \u001b[35m 319.97963\u001b[0m | \u001b[32m  -4.2857\u001b[0m | \n",
      "   16 | 00m00s |  316.00478 |   -3.8776 | \n",
      "   17 | 00m00s |  303.02024 |   -3.4694 | \n",
      "   18 | 00m00s |  281.63698 |   -3.0612 | \n",
      "   19 | 00m00s |  253.23789 |   -2.6531 | \n",
      "   20 | 00m00s |  219.58655 |   -2.2449 | \n",
      "   21 | 00m00s |  182.42609 |   -1.8367 | \n",
      "   22 | 00m00s |  143.19822 |   -1.4286 | \n",
      "   23 | 00m00s |  102.92279 |   -1.0204 | \n",
      "   24 | 00m00s |   62.20857 |   -0.6122 | \n",
      "   25 | 00m00s |   21.34230 |   -0.2041 | \n",
      "   26 | 00m00s |   21.22854 |    0.2041 | \n",
      "   27 | 00m00s |   61.87404 |    0.6122 | \n",
      "   28 | 00m00s |  102.38727 |    1.0204 | \n",
      "   29 | 00m00s |  142.49338 |    1.4286 | \n",
      "   30 | 00m00s |  181.59360 |    1.8367 | \n",
      "   31 | 00m00s |  218.67564 |    2.2449 | \n",
      "   32 | 00m00s |  252.30243 |    2.6531 | \n",
      "   33 | 00m00s |  280.73230 |    3.0612 | \n",
      "   34 | 00m00s |  302.19982 |    3.4694 | \n",
      "   35 | 00m00s |  315.31715 |    3.8776 | \n",
      "   36 | 00m00s |  319.46544 |    4.2857 | \n",
      "   37 | 00m00s |  315.00546 |    4.6939 | \n",
      "   38 | 00m00s |  303.20273 |    5.1020 | \n",
      "   39 | 00m00s |  285.90586 |    5.5102 | \n",
      "   40 | 00m00s |  265.13043 |    5.9184 | \n",
      "   41 | 00m00s |  242.70879 |    6.3265 | \n",
      "   42 | 00m00s |  220.08948 |    6.7347 | \n",
      "   43 | 00m00s |  198.28349 |    7.1429 | \n",
      "   44 | 00m00s |  177.90801 |    7.5510 | \n",
      "   45 | 00m00s |  159.27330 |    7.9592 | \n",
      "   46 | 00m00s |  142.47487 |    8.3673 | \n",
      "   47 | 00m00s |  127.47187 |    8.7755 | \n",
      "   48 | 00m00s |  114.14597 |    9.1837 | \n",
      "   49 | 00m00s |  102.34192 |    9.5918 | \n",
      "   50 | 00m00s |   91.89361 |   10.0000 | \n",
      "   51 | 00m00s |  269.02219 |    5.8646 | \n",
      "\u001b[31mBayesian Optimization\u001b[0m\n",
      "\u001b[94m-----------------------------------------\u001b[0m\n",
      " Step |   Time |      Value |         x | \n",
      "   52 | 00m05s | \u001b[35m 321.21135\u001b[0m | \u001b[32m  -4.2634\u001b[0m | \n"
     ]
    },
    {
     "name": "stderr",
     "output_type": "stream",
     "text": [
      "/Users/jonathanhilgart/anaconda/envs/stats/lib/python3.6/site-packages/sklearn/gaussian_process/gpr.py:427: UserWarning: fmin_l_bfgs_b terminated abnormally with the  state: {'grad': array([-0.06798105]), 'task': b'ABNORMAL_TERMINATION_IN_LNSRCH', 'funcalls': 48, 'nit': 5, 'warnflag': 2}\n",
      "  \" state: %s\" % convergence_dict)\n"
     ]
    },
    {
     "name": "stdout",
     "output_type": "stream",
     "text": [
      "   53 | 00m02s |  320.50233 |   -4.1507 | \n",
      "   54 | 00m01s | \u001b[35m 321.40445\u001b[0m | \u001b[32m  -4.2249\u001b[0m | \n",
      "   55 | 00m01s |  321.37099 |   -4.2434 | \n"
     ]
    },
    {
     "name": "stderr",
     "output_type": "stream",
     "text": [
      "/Users/jonathanhilgart/anaconda/envs/stats/lib/python3.6/site-packages/sklearn/gaussian_process/gpr.py:427: UserWarning: fmin_l_bfgs_b terminated abnormally with the  state: {'grad': array([-0.3143575]), 'task': b'ABNORMAL_TERMINATION_IN_LNSRCH', 'funcalls': 51, 'nit': 5, 'warnflag': 2}\n",
      "  \" state: %s\" % convergence_dict)\n"
     ]
    },
    {
     "name": "stdout",
     "output_type": "stream",
     "text": [
      "   56 | 00m01s |  321.07374 |   -4.2241 | \n",
      "   57 | 00m01s |  320.09642 |   -4.0622 | \n",
      "   58 | 00m01s |  321.18256 |   -4.2319 | \n",
      "   59 | 00m02s |  320.48751 |   -4.1173 | \n",
      "   60 | 00m01s |  319.71433 |   -4.2273 | \n"
     ]
    },
    {
     "name": "stderr",
     "output_type": "stream",
     "text": [
      "/Users/jonathanhilgart/anaconda/envs/stats/lib/python3.6/site-packages/sklearn/gaussian_process/gpr.py:427: UserWarning: fmin_l_bfgs_b terminated abnormally with the  state: {'grad': array([-0.0847015]), 'task': b'ABNORMAL_TERMINATION_IN_LNSRCH', 'funcalls': 52, 'nit': 3, 'warnflag': 2}\n",
      "  \" state: %s\" % convergence_dict)\n"
     ]
    },
    {
     "name": "stdout",
     "output_type": "stream",
     "text": [
      "   61 | 00m02s |  320.97743 |   -4.2365 | \n",
      "Bayes Opt Won\n"
     ]
    }
   ],
   "source": [
    "# keep track of the wins\n",
    "my_implementation_wins = 0\n",
    "bayes_opt_wins = 0\n",
    "\n",
    "n_trials=10\n",
    "for i in range(n_trials):\n",
    "    print('Step Number =',i+1)\n",
    "    # My implementation\n",
    "    bo_implementation.fit(train_x_oneD,train_y_numbers_oneD, test_x_oneD, oneD_function, \n",
    "                          y_func_type='real', verbose = False )\n",
    "    bo_implementation.maximize()\n",
    "    # Bayes Opt Implementation\n",
    "    bayes_opt = BayesianOptimization(oneD_function,\n",
    "                          {'x': (-10, 10)}) # the range to explore\n",
    "    bayes_opt .explore({'x': np.linspace(-10,10)}) # the points to explore\n",
    "    bayes_opt .maximize(init_points=1, n_iter=10, acq='ei')\n",
    "    \n",
    "    if bayes_opt.res['max']['max_val'] > bo_implementation.best_y:\n",
    "        print(\"Bayes Opt Won\")\n",
    "        bayes_opt_wins +=1\n",
    "    else:\n",
    "        print('My implementation won')\n",
    "        my_implementation_wins +=1 \n",
    "    "
   ]
  },
  {
   "cell_type": "code",
   "execution_count": 286,
   "metadata": {},
   "outputs": [
    {
     "data": {
      "image/png": "[encoded data removed]",
      "text/plain": [
       "<matplotlib.figure.Figure at 0x11f55c828>"
      ]
     },
     "metadata": {},
     "output_type": "display_data"
    }
   ],
   "source": [
    "plt.figure(figsize=(10,5))\n",
    "plt.title('Results of 1D hyperparameter search')\n",
    "sns.barplot(x = ['bayes_opt_implementation','my_implementation'],y =[bayes_opt_wins, my_implementation_wins] );"
   ]
  },
  {
   "cell_type": "markdown",
   "metadata": {},
   "source": [
    "- Not a huge suprise that the 'professional' implementation outperforms my implementation"
   ]
  },
  {
   "cell_type": "markdown",
   "metadata": {},
   "source": [
    "# Next, compare performance over a two-dimensional function\n",
    "\n",
    "### Eggholder function "
   ]
  },
  {
   "cell_type": "markdown",
   "metadata": {},
   "source": [
    "${\\displaystyle f(x,y)=-\\left(y+47\\right)\\sin {\\sqrt {\\left|{\\frac {x}{2}}+\\left(y+47\\right)\\right|}}-x\\sin {\\sqrt {\\left|x-\\left(y+47\\right)\\right|}}} $"
   ]
  },
  {
   "cell_type": "code",
   "execution_count": 242,
   "metadata": {
    "collapsed": true
   },
   "outputs": [],
   "source": [
    "#twoD_function = lambda x,y: 100*np.sqrt(abs(y-.01*x**2))+.01*abs(x+10)\n",
    "twoD_function = lambda x,y: -(y+47)*sin(np.sqrt(abs((x/2)+(y+47))))-x*sin(np.sqrt(abs(x-(y+47))))"
   ]
  },
  {
   "cell_type": "code",
   "execution_count": 243,
   "metadata": {
    "collapsed": true
   },
   "outputs": [],
   "source": [
    "twoD_domain = np.linspace(-100,100,60)\n",
    "combo_domain = list(itertools.product(*[twoD_domain,twoD_domain]))\n",
    "twoD_train_x = np.array([combo_domain[np.random.choice(len(combo_domain))] ] )\n",
    "twoD_train_y = np.array([twoD_function(twoD_train_x[0][0],twoD_train_x[0][1])]).reshape(-1,1)\n",
    "# Define the axes for the scatter plot\n",
    "xs = [combo_domain[i][0] for i in range(len(combo_domain))]\n",
    "ys = [combo_domain[i][1] for i in range(len(combo_domain))]"
   ]
  },
  {
   "cell_type": "code",
   "execution_count": 244,
   "metadata": {},
   "outputs": [
    {
     "name": "stdout",
     "output_type": "stream",
     "text": [
      "The domain has 3,600 parameters\n"
     ]
    }
   ],
   "source": [
    "print(f\"The domain has {len(combo_domain):,} parameters\")"
   ]
  },
  {
   "cell_type": "code",
   "execution_count": 245,
   "metadata": {
    "collapsed": true
   },
   "outputs": [],
   "source": [
    "twoD_function_y = np.array([twoD_function(combo_domain[i][0],combo_domain[i][1]) for i in range(len(combo_domain))]).reshape(-1,1)"
   ]
  },
  {
   "cell_type": "code",
   "execution_count": 29,
   "metadata": {},
   "outputs": [
    {
     "data": {
      "image/png": "[encoded data removed]",
      "text/plain": [
       "<matplotlib.figure.Figure at 0x11aa81048>"
      ]
     },
     "metadata": {},
     "output_type": "display_data"
    }
   ],
   "source": [
    "fig = plt.figure(figsize=(13,10))\n",
    "ax = fig.add_subplot(111, projection='3d')\n",
    "ax.scatter(xs, ys, twoD_function_y,cmap='hot',c=twoD_function_y)\n",
    "ax.set_xlabel('X')\n",
    "ax.set_ylabel('Y')\n",
    "ax.set_zlabel('Z')\n",
    "ax.set_title('Eggholder Function');"
   ]
  },
  {
   "cell_type": "markdown",
   "metadata": {
    "collapsed": true
   },
   "source": [
    "### Setup my implementation"
   ]
  },
  {
   "cell_type": "code",
   "execution_count": 249,
   "metadata": {
    "collapsed": true
   },
   "outputs": [],
   "source": [
    "bo_implementation_2d = IBO()"
   ]
  },
  {
   "cell_type": "code",
   "execution_count": 250,
   "metadata": {
    "collapsed": true
   },
   "outputs": [],
   "source": [
    "bo_implementation_2d.fit(twoD_train_x, twoD_train_y ,combo_domain, twoD_function , y_func_type='real',\n",
    "                        kernel_params={'rbf_length':50}) # change the length parameter for the RBF kernel"
   ]
  },
  {
   "cell_type": "markdown",
   "metadata": {
    "collapsed": true
   },
   "source": [
    "### Setup the bayesian_optimization implementation"
   ]
  },
  {
   "cell_type": "code",
   "execution_count": 251,
   "metadata": {
    "collapsed": true
   },
   "outputs": [],
   "source": [
    "bayes_opt_2d = BayesianOptimization(twoD_function ,\n",
    "                          {'x': (-100,100),'y':(-100,100)}) # the bounds to explore\n",
    "bayes_opt_2d .explore({'x': np.linspace(-100,100,60),'y':np.linspace(-100,100,60)}) # the points to explore"
   ]
  },
  {
   "cell_type": "markdown",
   "metadata": {
    "collapsed": true
   },
   "source": [
    "## Compare two-dimensional results"
   ]
  },
  {
   "cell_type": "code",
   "execution_count": 561,
   "metadata": {},
   "outputs": [
    {
     "name": "stdout",
     "output_type": "stream",
     "text": [
      "Bayesian Optimization just sampled point = [ 96.61016949  38.98305085]\n",
      "Best x (Bayesian Optimization) = [ 96.61016949  38.98305085],                         Best y = [ 82.72288041]\n",
      "Bayesian Optimization just sampled point = (96.610169491525426, 35.593220338983031)\n",
      "Best x (Bayesian Optimization) = (96.610169491525426, 35.593220338983031), Best y = 129.2673021437016\n",
      "Bayesian Optimization just sampled point = (100.0, 35.593220338983031)\n",
      "Best x (Bayesian Optimization) = (100.0, 35.593220338983031), Best y = 157.46133936416348\n",
      "Bayesian Optimization just sampled point = (-100.0, 96.610169491525426)\n",
      "Best x (Bayesian Optimization) = (100.0, 35.593220338983031), Best y = 157.46133936416348\n",
      "Bayesian Optimization just sampled point = (100.0, 38.983050847457633)\n",
      "Best x (Bayesian Optimization) = (100.0, 35.593220338983031), Best y = 157.46133936416348\n",
      "Bayesian Optimization just sampled point = (100.0, 42.372881355932208)\n",
      "Best x (Bayesian Optimization) = (100.0, 35.593220338983031), Best y = 157.46133936416348\n",
      "Bayesian Optimization just sampled point = (96.610169491525426, 42.372881355932208)\n",
      "Best x (Bayesian Optimization) = (100.0, 35.593220338983031), Best y = 157.46133936416348\n",
      "Bayesian Optimization just sampled point = (100.0, 32.203389830508456)\n",
      "Best x (Bayesian Optimization) = (100.0, 32.203389830508456), Best y = 172.65540576566528\n",
      "Bayesian Optimization just sampled point = (96.610169491525426, 32.203389830508456)\n",
      "Best x (Bayesian Optimization) = (100.0, 32.203389830508456), Best y = 172.65540576566528\n",
      "Bayesian Optimization just sampled point = (100.0, 28.813559322033882)\n",
      "Best x (Bayesian Optimization) = (100.0, 32.203389830508456), Best y = 172.65540576566528\n"
     ]
    }
   ],
   "source": [
    "my_implementation_2d_s = time.time()\n",
    "bo_implementation_2d.maximize()\n",
    "my_implementation_2d_e = time.time()"
   ]
  },
  {
   "cell_type": "code",
   "execution_count": 114,
   "metadata": {},
   "outputs": [
    {
     "name": "stdout",
     "output_type": "stream",
     "text": [
      "\u001b[31mInitialization\u001b[0m\n",
      "\u001b[94m-----------------------------------------------------\u001b[0m\n",
      " Step |   Time |      Value |         x |         y | \n",
      "    1 | 00m00s | \u001b[35m  19.05993\u001b[0m | \u001b[32m-100.0000\u001b[0m | \u001b[32m-100.0000\u001b[0m | \n",
      "    2 | 00m00s | \u001b[35m  29.84759\u001b[0m | \u001b[32m -96.6102\u001b[0m | \u001b[32m -96.6102\u001b[0m | \n",
      "    3 | 00m00s | \u001b[35m  40.85957\u001b[0m | \u001b[32m -93.2203\u001b[0m | \u001b[32m -93.2203\u001b[0m | \n",
      "    4 | 00m00s | \u001b[35m  51.12372\u001b[0m | \u001b[32m -89.8305\u001b[0m | \u001b[32m -89.8305\u001b[0m | \n",
      "    5 | 00m00s | \u001b[35m  59.71687\u001b[0m | \u001b[32m -86.4407\u001b[0m | \u001b[32m -86.4407\u001b[0m | \n",
      "    6 | 00m00s | \u001b[35m  65.84925\u001b[0m | \u001b[32m -83.0508\u001b[0m | \u001b[32m -83.0508\u001b[0m | \n",
      "    7 | 00m00s | \u001b[35m  68.95078\u001b[0m | \u001b[32m -79.6610\u001b[0m | \u001b[32m -79.6610\u001b[0m | \n",
      "    8 | 00m00s |   68.75080 |  -76.2712 |  -76.2712 | \n",
      "    9 | 00m00s |   65.34069 |  -72.8814 |  -72.8814 | \n",
      "   10 | 00m00s |   59.20652 |  -69.4915 |  -69.4915 | \n",
      "   11 | 00m00s |   51.21656 |  -66.1017 |  -66.1017 | \n",
      "   12 | 00m00s |   42.54804 |  -62.7119 |  -62.7119 | \n",
      "   13 | 00m00s |   34.53798 |  -59.3220 |  -59.3220 | \n",
      "   14 | 00m00s |   28.44758 |  -55.9322 |  -55.9322 | \n",
      "   15 | 00m00s |   25.14023 |  -52.5424 |  -52.5424 | \n",
      "   16 | 00m00s |   24.69531 |  -49.1525 |  -49.1525 | \n",
      "   17 | 00m00s |   26.02514 |  -45.7627 |  -45.7627 | \n",
      "   18 | 00m00s |   26.65666 |  -42.3729 |  -42.3729 | \n",
      "   19 | 00m00s |   23.06843 |  -38.9831 |  -38.9831 | \n",
      "   20 | 00m00s |   12.71130 |  -35.5932 |  -35.5932 | \n",
      "   21 | 00m00s |    3.98537 |  -32.2034 |  -32.2034 | \n",
      "   22 | 00m00s |   -1.32509 |  -28.8136 |  -28.8136 | \n",
      "   23 | 00m00s |   10.24370 |  -25.4237 |  -25.4237 | \n",
      "   24 | 00m00s |   25.89377 |  -22.0339 |  -22.0339 | \n",
      "   25 | 00m00s |   36.74031 |  -18.6441 |  -18.6441 | \n",
      "   26 | 00m00s |   39.38459 |  -15.2542 |  -15.2542 | \n",
      "   27 | 00m00s |   33.48882 |  -11.8644 |  -11.8644 | \n",
      "   28 | 00m00s |   20.56602 |   -8.4746 |   -8.4746 | \n",
      "   29 | 00m00s |    3.10670 |   -5.0847 |   -5.0847 | \n",
      "   30 | 00m00s |  -16.07433 |   -1.6949 |   -1.6949 | \n",
      "   31 | 00m00s |  -34.30414 |    1.6949 |    1.6949 | \n",
      "   32 | 00m00s |  -49.35634 |    5.0847 |    5.0847 | \n",
      "   33 | 00m00s |  -59.62111 |    8.4746 |    8.4746 | \n",
      "   34 | 00m00s |  -64.16839 |   11.8644 |   11.8644 | \n",
      "   35 | 00m00s |  -62.73085 |   15.2542 |   15.2542 | \n",
      "   36 | 00m00s |  -55.63071 |   18.6441 |   18.6441 | \n",
      "   37 | 00m00s |  -43.67126 |   22.0339 |   22.0339 | \n",
      "   38 | 00m00s |  -28.01034 |   25.4237 |   25.4237 | \n",
      "   39 | 00m00s |  -10.02913 |   28.8136 |   28.8136 | \n",
      "   40 | 00m00s |    8.79321 |   32.2034 |   32.2034 | \n",
      "   41 | 00m00s |   26.99215 |   35.5932 |   35.5932 | \n",
      "   42 | 00m00s |   43.21268 |   38.9831 |   38.9831 | \n",
      "   43 | 00m00s |   56.28419 |   42.3729 |   42.3729 | \n",
      "   44 | 00m00s |   65.27444 |   45.7627 |   45.7627 | \n",
      "   45 | 00m00s | \u001b[35m  69.52315\u001b[0m | \u001b[32m  49.1525\u001b[0m | \u001b[32m  49.1525\u001b[0m | \n",
      "   46 | 00m00s |   68.65672 |   52.5424 |   52.5424 | \n",
      "   47 | 00m00s |   62.58630 |   55.9322 |   55.9322 | \n",
      "   48 | 00m00s |   51.49173 |   59.3220 |   59.3220 | \n",
      "   49 | 00m00s |   35.79418 |   62.7119 |   62.7119 | \n",
      "   50 | 00m00s |   16.12032 |   66.1017 |   66.1017 | \n",
      "   51 | 00m00s |   -6.73917 |   69.4915 |   69.4915 | \n",
      "   52 | 00m00s |  -31.87440 |   72.8814 |   72.8814 | \n",
      "   53 | 00m00s |  -58.30191 |   76.2712 |   76.2712 | \n",
      "   54 | 00m00s |  -85.00927 |   79.6610 |   79.6610 | \n",
      "   55 | 00m00s | -110.99706 |   83.0508 |   83.0508 | \n",
      "   56 | 00m00s | -135.31678 |   86.4407 |   86.4407 | \n",
      "   57 | 00m00s | -157.10384 |   89.8305 |   89.8305 | \n",
      "   58 | 00m00s | -175.60494 |   93.2203 |   93.2203 | \n",
      "   59 | 00m00s | -190.19940 |   96.6102 |   96.6102 | \n",
      "   60 | 00m00s | -200.41439 |  100.0000 |  100.0000 | \n",
      "   61 | 00m00s |  -64.24124 |   13.9423 |   15.2640 | \n",
      "\u001b[31mBayesian Optimization\u001b[0m\n",
      "\u001b[94m-----------------------------------------------------\u001b[0m\n",
      " Step |   Time |      Value |         x |         y | \n",
      "   62 | 00m04s |   69.07607 |   49.9369 |   50.2499 | \n",
      "   63 | 00m01s | \u001b[35m  72.47472\u001b[0m | \u001b[32m  49.6707\u001b[0m | \u001b[32m  48.3913\u001b[0m | \n",
      "   64 | 00m02s | \u001b[35m  88.41815\u001b[0m | \u001b[32m  53.0201\u001b[0m | \u001b[32m  46.7704\u001b[0m | \n",
      "   65 | 00m02s | \u001b[35m 104.22039\u001b[0m | \u001b[32m  55.4572\u001b[0m | \u001b[32m  45.2238\u001b[0m | \n",
      "   66 | 00m02s | \u001b[35m 122.11388\u001b[0m | \u001b[32m  58.2122\u001b[0m | \u001b[32m  43.8745\u001b[0m | \n",
      "   67 | 00m02s | \u001b[35m 135.32555\u001b[0m | \u001b[32m  60.2236\u001b[0m | \u001b[32m  42.5611\u001b[0m | \n"
     ]
    },
    {
     "ename": "KeyboardInterrupt",
     "evalue": "",
     "output_type": "error",
     "traceback": [
      "\u001b[0;31m---------------------------------------------------------------------------\u001b[0m",
      "\u001b[0;31mKeyboardInterrupt\u001b[0m                         Traceback (most recent call last)",
      "\u001b[0;32m<ipython-input-114-cc92154c3af1>\u001b[0m in \u001b[0;36m<module>\u001b[0;34m()\u001b[0m\n\u001b[1;32m      1\u001b[0m \u001b[0mbayes_opt_2d_time_s\u001b[0m \u001b[0;34m=\u001b[0m \u001b[0mtime\u001b[0m\u001b[0;34m.\u001b[0m\u001b[0mtime\u001b[0m\u001b[0;34m(\u001b[0m\u001b[0;34m)\u001b[0m\u001b[0;34m\u001b[0m\u001b[0m\n\u001b[0;32m----> 2\u001b[0;31m \u001b[0mbayes_opt_2d\u001b[0m\u001b[0;34m.\u001b[0m\u001b[0mmaximize\u001b[0m\u001b[0;34m(\u001b[0m\u001b[0minit_points\u001b[0m\u001b[0;34m=\u001b[0m\u001b[0;36m1\u001b[0m\u001b[0;34m,\u001b[0m \u001b[0mn_iter\u001b[0m\u001b[0;34m=\u001b[0m\u001b[0;36m10\u001b[0m\u001b[0;34m,\u001b[0m \u001b[0macq\u001b[0m\u001b[0;34m=\u001b[0m\u001b[0;34m'ei'\u001b[0m\u001b[0;34m)\u001b[0m\u001b[0;34m\u001b[0m\u001b[0m\n\u001b[0m\u001b[1;32m      3\u001b[0m \u001b[0mbayes_opt_2d_time_e\u001b[0m \u001b[0;34m=\u001b[0m \u001b[0mtime\u001b[0m\u001b[0;34m.\u001b[0m\u001b[0mtime\u001b[0m\u001b[0;34m(\u001b[0m\u001b[0;34m)\u001b[0m\u001b[0;34m\u001b[0m\u001b[0m\n",
      "\u001b[0;32m~/anaconda/envs/stats/lib/python3.6/site-packages/bayes_opt/bayesian_optimization.py\u001b[0m in \u001b[0;36mmaximize\u001b[0;34m(self, init_points, n_iter, acq, kappa, xi, **gp_params)\u001b[0m\n\u001b[1;32m    301\u001b[0m                             \u001b[0mgp\u001b[0m\u001b[0;34m=\u001b[0m\u001b[0mself\u001b[0m\u001b[0;34m.\u001b[0m\u001b[0mgp\u001b[0m\u001b[0;34m,\u001b[0m\u001b[0;34m\u001b[0m\u001b[0m\n\u001b[1;32m    302\u001b[0m                             \u001b[0my_max\u001b[0m\u001b[0;34m=\u001b[0m\u001b[0my_max\u001b[0m\u001b[0;34m,\u001b[0m\u001b[0;34m\u001b[0m\u001b[0m\n\u001b[0;32m--> 303\u001b[0;31m                             bounds=self.bounds)\n\u001b[0m\u001b[1;32m    304\u001b[0m \u001b[0;34m\u001b[0m\u001b[0m\n\u001b[1;32m    305\u001b[0m             \u001b[0;31m# Print stuff\u001b[0m\u001b[0;34m\u001b[0m\u001b[0;34m\u001b[0m\u001b[0m\n",
      "\u001b[0;32m~/anaconda/envs/stats/lib/python3.6/site-packages/bayes_opt/helpers.py\u001b[0m in \u001b[0;36macq_max\u001b[0;34m(ac, gp, y_max, bounds)\u001b[0m\n\u001b[1;32m     38\u001b[0m     x_tries = np.random.uniform(bounds[:, 0], bounds[:, 1],\n\u001b[1;32m     39\u001b[0m                                  size=(100000, bounds.shape[0]))\n\u001b[0;32m---> 40\u001b[0;31m     \u001b[0mys\u001b[0m \u001b[0;34m=\u001b[0m \u001b[0mac\u001b[0m\u001b[0;34m(\u001b[0m\u001b[0mx_tries\u001b[0m\u001b[0;34m,\u001b[0m \u001b[0mgp\u001b[0m\u001b[0;34m=\u001b[0m\u001b[0mgp\u001b[0m\u001b[0;34m,\u001b[0m \u001b[0my_max\u001b[0m\u001b[0;34m=\u001b[0m\u001b[0my_max\u001b[0m\u001b[0;34m)\u001b[0m\u001b[0;34m\u001b[0m\u001b[0m\n\u001b[0m\u001b[1;32m     41\u001b[0m     \u001b[0mx_max\u001b[0m \u001b[0;34m=\u001b[0m \u001b[0mx_tries\u001b[0m\u001b[0;34m[\u001b[0m\u001b[0mys\u001b[0m\u001b[0;34m.\u001b[0m\u001b[0margmax\u001b[0m\u001b[0;34m(\u001b[0m\u001b[0;34m)\u001b[0m\u001b[0;34m]\u001b[0m\u001b[0;34m\u001b[0m\u001b[0m\n\u001b[1;32m     42\u001b[0m     \u001b[0mmax_acq\u001b[0m \u001b[0;34m=\u001b[0m \u001b[0mys\u001b[0m\u001b[0;34m.\u001b[0m\u001b[0mmax\u001b[0m\u001b[0;34m(\u001b[0m\u001b[0;34m)\u001b[0m\u001b[0;34m\u001b[0m\u001b[0m\n",
      "\u001b[0;32m~/anaconda/envs/stats/lib/python3.6/site-packages/bayes_opt/helpers.py\u001b[0m in \u001b[0;36mutility\u001b[0;34m(self, x, gp, y_max)\u001b[0m\n\u001b[1;32m     87\u001b[0m             \u001b[0;32mreturn\u001b[0m \u001b[0mself\u001b[0m\u001b[0;34m.\u001b[0m\u001b[0m_ucb\u001b[0m\u001b[0;34m(\u001b[0m\u001b[0mx\u001b[0m\u001b[0;34m,\u001b[0m \u001b[0mgp\u001b[0m\u001b[0;34m,\u001b[0m \u001b[0mself\u001b[0m\u001b[0;34m.\u001b[0m\u001b[0mkappa\u001b[0m\u001b[0;34m)\u001b[0m\u001b[0;34m\u001b[0m\u001b[0m\n\u001b[1;32m     88\u001b[0m         \u001b[0;32mif\u001b[0m \u001b[0mself\u001b[0m\u001b[0;34m.\u001b[0m\u001b[0mkind\u001b[0m \u001b[0;34m==\u001b[0m \u001b[0;34m'ei'\u001b[0m\u001b[0;34m:\u001b[0m\u001b[0;34m\u001b[0m\u001b[0m\n\u001b[0;32m---> 89\u001b[0;31m             \u001b[0;32mreturn\u001b[0m \u001b[0mself\u001b[0m\u001b[0;34m.\u001b[0m\u001b[0m_ei\u001b[0m\u001b[0;34m(\u001b[0m\u001b[0mx\u001b[0m\u001b[0;34m,\u001b[0m \u001b[0mgp\u001b[0m\u001b[0;34m,\u001b[0m \u001b[0my_max\u001b[0m\u001b[0;34m,\u001b[0m \u001b[0mself\u001b[0m\u001b[0;34m.\u001b[0m\u001b[0mxi\u001b[0m\u001b[0;34m)\u001b[0m\u001b[0;34m\u001b[0m\u001b[0m\n\u001b[0m\u001b[1;32m     90\u001b[0m         \u001b[0;32mif\u001b[0m \u001b[0mself\u001b[0m\u001b[0;34m.\u001b[0m\u001b[0mkind\u001b[0m \u001b[0;34m==\u001b[0m \u001b[0;34m'poi'\u001b[0m\u001b[0;34m:\u001b[0m\u001b[0;34m\u001b[0m\u001b[0m\n\u001b[1;32m     91\u001b[0m             \u001b[0;32mreturn\u001b[0m \u001b[0mself\u001b[0m\u001b[0;34m.\u001b[0m\u001b[0m_poi\u001b[0m\u001b[0;34m(\u001b[0m\u001b[0mx\u001b[0m\u001b[0;34m,\u001b[0m \u001b[0mgp\u001b[0m\u001b[0;34m,\u001b[0m \u001b[0my_max\u001b[0m\u001b[0;34m,\u001b[0m \u001b[0mself\u001b[0m\u001b[0;34m.\u001b[0m\u001b[0mxi\u001b[0m\u001b[0;34m)\u001b[0m\u001b[0;34m\u001b[0m\u001b[0m\n",
      "\u001b[0;32m~/anaconda/envs/stats/lib/python3.6/site-packages/bayes_opt/helpers.py\u001b[0m in \u001b[0;36m_ei\u001b[0;34m(x, gp, y_max, xi)\u001b[0m\n\u001b[1;32m     98\u001b[0m     \u001b[0;34m@\u001b[0m\u001b[0mstaticmethod\u001b[0m\u001b[0;34m\u001b[0m\u001b[0m\n\u001b[1;32m     99\u001b[0m     \u001b[0;32mdef\u001b[0m \u001b[0m_ei\u001b[0m\u001b[0;34m(\u001b[0m\u001b[0mx\u001b[0m\u001b[0;34m,\u001b[0m \u001b[0mgp\u001b[0m\u001b[0;34m,\u001b[0m \u001b[0my_max\u001b[0m\u001b[0;34m,\u001b[0m \u001b[0mxi\u001b[0m\u001b[0;34m)\u001b[0m\u001b[0;34m:\u001b[0m\u001b[0;34m\u001b[0m\u001b[0m\n\u001b[0;32m--> 100\u001b[0;31m         \u001b[0mmean\u001b[0m\u001b[0;34m,\u001b[0m \u001b[0mstd\u001b[0m \u001b[0;34m=\u001b[0m \u001b[0mgp\u001b[0m\u001b[0;34m.\u001b[0m\u001b[0mpredict\u001b[0m\u001b[0;34m(\u001b[0m\u001b[0mx\u001b[0m\u001b[0;34m,\u001b[0m \u001b[0mreturn_std\u001b[0m\u001b[0;34m=\u001b[0m\u001b[0;32mTrue\u001b[0m\u001b[0;34m)\u001b[0m\u001b[0;34m\u001b[0m\u001b[0m\n\u001b[0m\u001b[1;32m    101\u001b[0m         \u001b[0mz\u001b[0m \u001b[0;34m=\u001b[0m \u001b[0;34m(\u001b[0m\u001b[0mmean\u001b[0m \u001b[0;34m-\u001b[0m \u001b[0my_max\u001b[0m \u001b[0;34m-\u001b[0m \u001b[0mxi\u001b[0m\u001b[0;34m)\u001b[0m\u001b[0;34m/\u001b[0m\u001b[0mstd\u001b[0m\u001b[0;34m\u001b[0m\u001b[0m\n\u001b[1;32m    102\u001b[0m         \u001b[0;32mreturn\u001b[0m \u001b[0;34m(\u001b[0m\u001b[0mmean\u001b[0m \u001b[0;34m-\u001b[0m \u001b[0my_max\u001b[0m \u001b[0;34m-\u001b[0m \u001b[0mxi\u001b[0m\u001b[0;34m)\u001b[0m \u001b[0;34m*\u001b[0m \u001b[0mnorm\u001b[0m\u001b[0;34m.\u001b[0m\u001b[0mcdf\u001b[0m\u001b[0;34m(\u001b[0m\u001b[0mz\u001b[0m\u001b[0;34m)\u001b[0m \u001b[0;34m+\u001b[0m \u001b[0mstd\u001b[0m \u001b[0;34m*\u001b[0m \u001b[0mnorm\u001b[0m\u001b[0;34m.\u001b[0m\u001b[0mpdf\u001b[0m\u001b[0;34m(\u001b[0m\u001b[0mz\u001b[0m\u001b[0;34m)\u001b[0m\u001b[0;34m\u001b[0m\u001b[0m\n",
      "\u001b[0;32m~/anaconda/envs/stats/lib/python3.6/site-packages/sklearn/gaussian_process/gpr.py\u001b[0m in \u001b[0;36mpredict\u001b[0;34m(self, X, return_std, return_cov)\u001b[0m\n\u001b[1;32m    300\u001b[0m                 \u001b[0;31m# Compute variance of predictive distribution\u001b[0m\u001b[0;34m\u001b[0m\u001b[0;34m\u001b[0m\u001b[0m\n\u001b[1;32m    301\u001b[0m                 \u001b[0my_var\u001b[0m \u001b[0;34m=\u001b[0m \u001b[0mself\u001b[0m\u001b[0;34m.\u001b[0m\u001b[0mkernel_\u001b[0m\u001b[0;34m.\u001b[0m\u001b[0mdiag\u001b[0m\u001b[0;34m(\u001b[0m\u001b[0mX\u001b[0m\u001b[0;34m)\u001b[0m\u001b[0;34m\u001b[0m\u001b[0m\n\u001b[0;32m--> 302\u001b[0;31m                 \u001b[0my_var\u001b[0m \u001b[0;34m-=\u001b[0m \u001b[0mnp\u001b[0m\u001b[0;34m.\u001b[0m\u001b[0meinsum\u001b[0m\u001b[0;34m(\u001b[0m\u001b[0;34m\"ki,kj,ij->k\"\u001b[0m\u001b[0;34m,\u001b[0m \u001b[0mK_trans\u001b[0m\u001b[0;34m,\u001b[0m \u001b[0mK_trans\u001b[0m\u001b[0;34m,\u001b[0m \u001b[0mK_inv\u001b[0m\u001b[0;34m)\u001b[0m\u001b[0;34m\u001b[0m\u001b[0m\n\u001b[0m\u001b[1;32m    303\u001b[0m \u001b[0;34m\u001b[0m\u001b[0m\n\u001b[1;32m    304\u001b[0m                 \u001b[0;31m# Check if any of the variances is negative because of\u001b[0m\u001b[0;34m\u001b[0m\u001b[0;34m\u001b[0m\u001b[0m\n",
      "\u001b[0;32m~/anaconda/envs/stats/lib/python3.6/site-packages/numpy/core/einsumfunc.py\u001b[0m in \u001b[0;36meinsum\u001b[0;34m(*operands, **kwargs)\u001b[0m\n\u001b[1;32m    946\u001b[0m     \u001b[0;31m# If no optimization, run pure einsum\u001b[0m\u001b[0;34m\u001b[0m\u001b[0;34m\u001b[0m\u001b[0m\n\u001b[1;32m    947\u001b[0m     \u001b[0;32mif\u001b[0m \u001b[0moptimize_arg\u001b[0m \u001b[0;32mis\u001b[0m \u001b[0;32mFalse\u001b[0m\u001b[0;34m:\u001b[0m\u001b[0;34m\u001b[0m\u001b[0m\n\u001b[0;32m--> 948\u001b[0;31m         \u001b[0;32mreturn\u001b[0m \u001b[0mc_einsum\u001b[0m\u001b[0;34m(\u001b[0m\u001b[0;34m*\u001b[0m\u001b[0moperands\u001b[0m\u001b[0;34m,\u001b[0m \u001b[0;34m**\u001b[0m\u001b[0mkwargs\u001b[0m\u001b[0;34m)\u001b[0m\u001b[0;34m\u001b[0m\u001b[0m\n\u001b[0m\u001b[1;32m    949\u001b[0m \u001b[0;34m\u001b[0m\u001b[0m\n\u001b[1;32m    950\u001b[0m     \u001b[0mvalid_einsum_kwargs\u001b[0m \u001b[0;34m=\u001b[0m \u001b[0;34m[\u001b[0m\u001b[0;34m'out'\u001b[0m\u001b[0;34m,\u001b[0m \u001b[0;34m'dtype'\u001b[0m\u001b[0;34m,\u001b[0m \u001b[0;34m'order'\u001b[0m\u001b[0;34m,\u001b[0m \u001b[0;34m'casting'\u001b[0m\u001b[0;34m]\u001b[0m\u001b[0;34m\u001b[0m\u001b[0m\n",
      "\u001b[0;31mKeyboardInterrupt\u001b[0m: "
     ]
    }
   ],
   "source": [
    "bayes_opt_2d_time_s = time.time()\n",
    "bayes_opt_2d.maximize(init_points=1, n_iter=10, acq='ei')\n",
    "bayes_opt_2d_time_e = time.time()"
   ]
  },
  {
   "cell_type": "code",
   "execution_count": 566,
   "metadata": {},
   "outputs": [
    {
     "name": "stdout",
     "output_type": "stream",
     "text": [
      "The best y-value from my bayesian optimization implementation was 157.92386513208135.      The best x-coordiantes from my bayesian optimiztion implementation was (-32.203389830508485, 96.610169491525426).      My implementation took 124.39 seconds for 10 steps\n"
     ]
    }
   ],
   "source": [
    "print(f\"The best y-value from my bayesian optimization implementation was {bo_implementation_2d.best_y}.\\\n",
    "      The best x-coordiantes from my bayesian optimiztion implementation was {bo_implementation_2d.best_x}.\\\n",
    "      My implementation took {round(my_implementation_2d_e -my_implementation_2d_s,2)} seconds for 10 steps\")"
   ]
  },
  {
   "cell_type": "code",
   "execution_count": 567,
   "metadata": {},
   "outputs": [
    {
     "name": "stdout",
     "output_type": "stream",
     "text": [
      " The best values from the Bayes_Opt package was {'max_val': 148.81627716027575, 'max_params': {'x': 63.713397849339685, 'y': 38.959575019263241}}.    The Bayes_Opt implementation took 27.37 seconds for 10 steps\n"
     ]
    }
   ],
   "source": [
    "print(f\" The best values from the Bayes_Opt package was {bayes_opt_2d.res['max']}.\\\n",
    "    The Bayes_Opt implementation took {round(bayes_opt_2d_time_e -bayes_opt_2d_time_s,2) } seconds for 10 steps\")"
   ]
  },
  {
   "cell_type": "markdown",
   "metadata": {},
   "source": [
    "# Run this two dimensional parameter search ten times to compare perforamnce"
   ]
  },
  {
   "cell_type": "code",
   "execution_count": 568,
   "metadata": {},
   "outputs": [
    {
     "name": "stdout",
     "output_type": "stream",
     "text": [
      "Step Number = 1\n",
      "\u001b[31mInitialization\u001b[0m\n",
      "\u001b[94m-----------------------------------------------------\u001b[0m\n",
      " Step |   Time |      Value |         x |         y | \n",
      "    1 | 00m00s | \u001b[35m  19.05993\u001b[0m | \u001b[32m-100.0000\u001b[0m | \u001b[32m-100.0000\u001b[0m | \n",
      "    2 | 00m00s | \u001b[35m  29.84759\u001b[0m | \u001b[32m -96.6102\u001b[0m | \u001b[32m -96.6102\u001b[0m | \n",
      "    3 | 00m00s | \u001b[35m  40.85957\u001b[0m | \u001b[32m -93.2203\u001b[0m | \u001b[32m -93.2203\u001b[0m | \n",
      "    4 | 00m00s | \u001b[35m  51.12372\u001b[0m | \u001b[32m -89.8305\u001b[0m | \u001b[32m -89.8305\u001b[0m | \n",
      "    5 | 00m00s | \u001b[35m  59.71687\u001b[0m | \u001b[32m -86.4407\u001b[0m | \u001b[32m -86.4407\u001b[0m | \n",
      "    6 | 00m00s | \u001b[35m  65.84925\u001b[0m | \u001b[32m -83.0508\u001b[0m | \u001b[32m -83.0508\u001b[0m | \n",
      "    7 | 00m00s | \u001b[35m  68.95078\u001b[0m | \u001b[32m -79.6610\u001b[0m | \u001b[32m -79.6610\u001b[0m | \n",
      "    8 | 00m00s |   68.75080 |  -76.2712 |  -76.2712 | \n",
      "    9 | 00m00s |   65.34069 |  -72.8814 |  -72.8814 | \n",
      "   10 | 00m00s |   59.20652 |  -69.4915 |  -69.4915 | \n",
      "   11 | 00m00s |   51.21656 |  -66.1017 |  -66.1017 | \n",
      "   12 | 00m00s |   42.54804 |  -62.7119 |  -62.7119 | \n",
      "   13 | 00m00s |   34.53798 |  -59.3220 |  -59.3220 | \n",
      "   14 | 00m00s |   28.44758 |  -55.9322 |  -55.9322 | \n",
      "   15 | 00m00s |   25.14023 |  -52.5424 |  -52.5424 | \n",
      "   16 | 00m00s |   24.69531 |  -49.1525 |  -49.1525 | \n",
      "   17 | 00m00s |   26.02514 |  -45.7627 |  -45.7627 | \n",
      "   18 | 00m00s |   26.65666 |  -42.3729 |  -42.3729 | \n",
      "   19 | 00m00s |   23.06843 |  -38.9831 |  -38.9831 | \n",
      "   20 | 00m00s |   12.71130 |  -35.5932 |  -35.5932 | \n",
      "   21 | 00m00s |    3.98537 |  -32.2034 |  -32.2034 | \n",
      "   22 | 00m00s |   -1.32509 |  -28.8136 |  -28.8136 | \n",
      "   23 | 00m00s |   10.24370 |  -25.4237 |  -25.4237 | \n",
      "   24 | 00m00s |   25.89377 |  -22.0339 |  -22.0339 | \n",
      "   25 | 00m00s |   36.74031 |  -18.6441 |  -18.6441 | \n",
      "   26 | 00m00s |   39.38459 |  -15.2542 |  -15.2542 | \n",
      "   27 | 00m00s |   33.48882 |  -11.8644 |  -11.8644 | \n",
      "   28 | 00m00s |   20.56602 |   -8.4746 |   -8.4746 | \n",
      "   29 | 00m00s |    3.10670 |   -5.0847 |   -5.0847 | \n",
      "   30 | 00m00s |  -16.07433 |   -1.6949 |   -1.6949 | \n",
      "   31 | 00m00s |  -34.30414 |    1.6949 |    1.6949 | \n",
      "   32 | 00m00s |  -49.35634 |    5.0847 |    5.0847 | \n",
      "   33 | 00m00s |  -59.62111 |    8.4746 |    8.4746 | \n",
      "   34 | 00m00s |  -64.16839 |   11.8644 |   11.8644 | \n",
      "   35 | 00m00s |  -62.73085 |   15.2542 |   15.2542 | \n",
      "   36 | 00m00s |  -55.63071 |   18.6441 |   18.6441 | \n",
      "   37 | 00m00s |  -43.67126 |   22.0339 |   22.0339 | \n",
      "   38 | 00m00s |  -28.01034 |   25.4237 |   25.4237 | \n",
      "   39 | 00m00s |  -10.02913 |   28.8136 |   28.8136 | \n",
      "   40 | 00m00s |    8.79321 |   32.2034 |   32.2034 | \n",
      "   41 | 00m00s |   26.99215 |   35.5932 |   35.5932 | \n",
      "   42 | 00m00s |   43.21268 |   38.9831 |   38.9831 | \n",
      "   43 | 00m00s |   56.28419 |   42.3729 |   42.3729 | \n",
      "   44 | 00m00s |   65.27444 |   45.7627 |   45.7627 | \n",
      "   45 | 00m00s | \u001b[35m  69.52315\u001b[0m | \u001b[32m  49.1525\u001b[0m | \u001b[32m  49.1525\u001b[0m | \n",
      "   46 | 00m00s |   68.65672 |   52.5424 |   52.5424 | \n",
      "   47 | 00m00s |   62.58630 |   55.9322 |   55.9322 | \n",
      "   48 | 00m00s |   51.49173 |   59.3220 |   59.3220 | \n",
      "   49 | 00m00s |   35.79418 |   62.7119 |   62.7119 | \n",
      "   50 | 00m00s |   16.12032 |   66.1017 |   66.1017 | \n",
      "   51 | 00m00s |   -6.73917 |   69.4915 |   69.4915 | \n",
      "   52 | 00m00s |  -31.87440 |   72.8814 |   72.8814 | \n",
      "   53 | 00m00s |  -58.30191 |   76.2712 |   76.2712 | \n",
      "   54 | 00m00s |  -85.00927 |   79.6610 |   79.6610 | \n",
      "   55 | 00m00s | -110.99706 |   83.0508 |   83.0508 | \n",
      "   56 | 00m00s | -135.31678 |   86.4407 |   86.4407 | \n",
      "   57 | 00m00s | -157.10384 |   89.8305 |   89.8305 | \n",
      "   58 | 00m00s | -175.60494 |   93.2203 |   93.2203 | \n",
      "   59 | 00m00s | -190.19940 |   96.6102 |   96.6102 | \n",
      "   60 | 00m00s | -200.41439 |  100.0000 |  100.0000 | \n",
      "   61 | 00m00s |  -72.72312 |  -95.2370 |  -24.4828 | \n",
      "\u001b[31mBayesian Optimization\u001b[0m\n",
      "\u001b[94m-----------------------------------------------------\u001b[0m\n",
      " Step |   Time |      Value |         x |         y | \n",
      "   62 | 00m03s |   69.26932 |   49.9726 |   50.2014 | \n",
      "   63 | 00m01s | \u001b[35m  72.45371\u001b[0m | \u001b[32m  49.9641\u001b[0m | \u001b[32m  48.7826\u001b[0m | \n",
      "   64 | 00m02s | \u001b[35m  87.55775\u001b[0m | \u001b[32m  52.7970\u001b[0m | \u001b[32m  46.7541\u001b[0m | \n",
      "   65 | 00m03s | \u001b[35m 101.66354\u001b[0m | \u001b[32m  54.5748\u001b[0m | \u001b[32m  44.7002\u001b[0m | \n",
      "   66 | 00m02s | \u001b[35m 115.80554\u001b[0m | \u001b[32m  56.3528\u001b[0m | \u001b[32m  42.8726\u001b[0m | \n",
      "   67 | 00m02s | \u001b[35m 128.74634\u001b[0m | \u001b[32m  58.1588\u001b[0m | \u001b[32m  41.2249\u001b[0m | \n",
      "   68 | 00m03s | \u001b[35m 137.71662\u001b[0m | \u001b[32m  59.7429\u001b[0m | \u001b[32m  39.9875\u001b[0m | \n",
      "   69 | 00m03s | \u001b[35m 144.85699\u001b[0m | \u001b[32m  61.7396\u001b[0m | \u001b[32m  38.9522\u001b[0m | \n",
      "   70 | 00m03s | \u001b[35m 147.39990\u001b[0m | \u001b[32m  63.2804\u001b[0m | \u001b[32m  38.4333\u001b[0m | \n",
      "   71 | 00m02s |  146.76757 |   63.4989 |   37.9943 | \n",
      "My implementation won\n",
      "Step Number = 2\n",
      "\u001b[31mInitialization\u001b[0m\n",
      "\u001b[94m-----------------------------------------------------\u001b[0m\n",
      " Step |   Time |      Value |         x |         y | \n",
      "    1 | 00m00s | \u001b[35m  19.05993\u001b[0m | \u001b[32m-100.0000\u001b[0m | \u001b[32m-100.0000\u001b[0m | \n",
      "    2 | 00m00s | \u001b[35m  29.84759\u001b[0m | \u001b[32m -96.6102\u001b[0m | \u001b[32m -96.6102\u001b[0m | \n",
      "    3 | 00m00s | \u001b[35m  40.85957\u001b[0m | \u001b[32m -93.2203\u001b[0m | \u001b[32m -93.2203\u001b[0m | \n",
      "    4 | 00m00s | \u001b[35m  51.12372\u001b[0m | \u001b[32m -89.8305\u001b[0m | \u001b[32m -89.8305\u001b[0m | \n",
      "    5 | 00m00s | \u001b[35m  59.71687\u001b[0m | \u001b[32m -86.4407\u001b[0m | \u001b[32m -86.4407\u001b[0m | \n",
      "    6 | 00m00s | \u001b[35m  65.84925\u001b[0m | \u001b[32m -83.0508\u001b[0m | \u001b[32m -83.0508\u001b[0m | \n",
      "    7 | 00m00s | \u001b[35m  68.95078\u001b[0m | \u001b[32m -79.6610\u001b[0m | \u001b[32m -79.6610\u001b[0m | \n",
      "    8 | 00m00s |   68.75080 |  -76.2712 |  -76.2712 | \n",
      "    9 | 00m00s |   65.34069 |  -72.8814 |  -72.8814 | \n",
      "   10 | 00m00s |   59.20652 |  -69.4915 |  -69.4915 | \n",
      "   11 | 00m00s |   51.21656 |  -66.1017 |  -66.1017 | \n",
      "   12 | 00m00s |   42.54804 |  -62.7119 |  -62.7119 | \n",
      "   13 | 00m00s |   34.53798 |  -59.3220 |  -59.3220 | \n",
      "   14 | 00m00s |   28.44758 |  -55.9322 |  -55.9322 | \n",
      "   15 | 00m00s |   25.14023 |  -52.5424 |  -52.5424 | \n",
      "   16 | 00m00s |   24.69531 |  -49.1525 |  -49.1525 | \n",
      "   17 | 00m00s |   26.02514 |  -45.7627 |  -45.7627 | \n",
      "   18 | 00m00s |   26.65666 |  -42.3729 |  -42.3729 | \n",
      "   19 | 00m00s |   23.06843 |  -38.9831 |  -38.9831 | \n",
      "   20 | 00m00s |   12.71130 |  -35.5932 |  -35.5932 | \n",
      "   21 | 00m00s |    3.98537 |  -32.2034 |  -32.2034 | \n",
      "   22 | 00m00s |   -1.32509 |  -28.8136 |  -28.8136 | \n",
      "   23 | 00m00s |   10.24370 |  -25.4237 |  -25.4237 | \n",
      "   24 | 00m00s |   25.89377 |  -22.0339 |  -22.0339 | \n",
      "   25 | 00m00s |   36.74031 |  -18.6441 |  -18.6441 | \n",
      "   26 | 00m00s |   39.38459 |  -15.2542 |  -15.2542 | \n",
      "   27 | 00m00s |   33.48882 |  -11.8644 |  -11.8644 | \n",
      "   28 | 00m00s |   20.56602 |   -8.4746 |   -8.4746 | \n",
      "   29 | 00m00s |    3.10670 |   -5.0847 |   -5.0847 | \n",
      "   30 | 00m00s |  -16.07433 |   -1.6949 |   -1.6949 | \n",
      "   31 | 00m00s |  -34.30414 |    1.6949 |    1.6949 | \n",
      "   32 | 00m00s |  -49.35634 |    5.0847 |    5.0847 | \n",
      "   33 | 00m00s |  -59.62111 |    8.4746 |    8.4746 | \n",
      "   34 | 00m00s |  -64.16839 |   11.8644 |   11.8644 | \n",
      "   35 | 00m00s |  -62.73085 |   15.2542 |   15.2542 | \n",
      "   36 | 00m00s |  -55.63071 |   18.6441 |   18.6441 | \n",
      "   37 | 00m00s |  -43.67126 |   22.0339 |   22.0339 | \n",
      "   38 | 00m00s |  -28.01034 |   25.4237 |   25.4237 | \n",
      "   39 | 00m00s |  -10.02913 |   28.8136 |   28.8136 | \n",
      "   40 | 00m00s |    8.79321 |   32.2034 |   32.2034 | \n",
      "   41 | 00m00s |   26.99215 |   35.5932 |   35.5932 | \n",
      "   42 | 00m00s |   43.21268 |   38.9831 |   38.9831 | \n",
      "   43 | 00m00s |   56.28419 |   42.3729 |   42.3729 | \n",
      "   44 | 00m00s |   65.27444 |   45.7627 |   45.7627 | \n",
      "   45 | 00m00s | \u001b[35m  69.52315\u001b[0m | \u001b[32m  49.1525\u001b[0m | \u001b[32m  49.1525\u001b[0m | \n",
      "   46 | 00m00s |   68.65672 |   52.5424 |   52.5424 | \n",
      "   47 | 00m00s |   62.58630 |   55.9322 |   55.9322 | \n",
      "   48 | 00m00s |   51.49173 |   59.3220 |   59.3220 | \n",
      "   49 | 00m00s |   35.79418 |   62.7119 |   62.7119 | \n",
      "   50 | 00m00s |   16.12032 |   66.1017 |   66.1017 | \n",
      "   51 | 00m00s |   -6.73917 |   69.4915 |   69.4915 | \n",
      "   52 | 00m00s |  -31.87440 |   72.8814 |   72.8814 | \n",
      "   53 | 00m00s |  -58.30191 |   76.2712 |   76.2712 | \n",
      "   54 | 00m00s |  -85.00927 |   79.6610 |   79.6610 | \n",
      "   55 | 00m00s | -110.99706 |   83.0508 |   83.0508 | \n",
      "   56 | 00m00s | -135.31678 |   86.4407 |   86.4407 | \n",
      "   57 | 00m00s | -157.10384 |   89.8305 |   89.8305 | \n",
      "   58 | 00m00s | -175.60494 |   93.2203 |   93.2203 | \n",
      "   59 | 00m00s | -190.19940 |   96.6102 |   96.6102 | \n",
      "   60 | 00m00s | -200.41439 |  100.0000 |  100.0000 | \n"
     ]
    },
    {
     "name": "stdout",
     "output_type": "stream",
     "text": [
      "   61 | 00m00s | \u001b[35m  74.78705\u001b[0m | \u001b[32m -41.7351\u001b[0m | \u001b[32m -84.7085\u001b[0m | \n",
      "\u001b[31mBayesian Optimization\u001b[0m\n",
      "\u001b[94m-----------------------------------------------------\u001b[0m\n",
      " Step |   Time |      Value |         x |         y | \n",
      "   62 | 00m04s |   64.43084 |  -43.3606 |  -84.3532 | \n",
      "   63 | 00m02s |   67.27811 |  -37.6954 |  -85.5583 | \n",
      "   64 | 00m02s | \u001b[35m  78.01578\u001b[0m | \u001b[32m -41.1436\u001b[0m | \u001b[32m -85.1314\u001b[0m | \n",
      "   65 | 00m02s |   76.97042 |  -40.2333 |  -85.3495 | \n",
      "   66 | 00m02s | \u001b[35m  79.13340\u001b[0m | \u001b[32m -41.1325\u001b[0m | \u001b[32m -86.3318\u001b[0m | \n",
      "   67 | 00m02s |   79.05016 |  -41.0356 |  -86.1555 | \n"
     ]
    },
    {
     "name": "stderr",
     "output_type": "stream",
     "text": [
      "/Users/jonathanhilgart/anaconda/envs/stats/lib/python3.6/site-packages/sklearn/gaussian_process/gpr.py:427: UserWarning: fmin_l_bfgs_b terminated abnormally with the  state: {'grad': array([-0.02362338]), 'task': b'ABNORMAL_TERMINATION_IN_LNSRCH', 'funcalls': 49, 'nit': 2, 'warnflag': 2}\n",
      "  \" state: %s\" % convergence_dict)\n"
     ]
    },
    {
     "name": "stdout",
     "output_type": "stream",
     "text": [
      "   68 | 00m02s |   74.07022 |  -40.8681 |  -86.8713 | \n",
      "   69 | 00m02s | \u001b[35m  80.35481\u001b[0m | \u001b[32m -41.8592\u001b[0m | \u001b[32m -86.0161\u001b[0m | \n",
      "   70 | 00m03s |   80.23710 |  -41.4286 |  -86.3201 | \n",
      "   71 | 00m02s |   80.31516 |  -41.5665 |  -86.0361 | \n",
      "My implementation won\n",
      "Step Number = 3\n",
      "\u001b[31mInitialization\u001b[0m\n",
      "\u001b[94m-----------------------------------------------------\u001b[0m\n",
      " Step |   Time |      Value |         x |         y | \n",
      "    1 | 00m00s | \u001b[35m  19.05993\u001b[0m | \u001b[32m-100.0000\u001b[0m | \u001b[32m-100.0000\u001b[0m | \n",
      "    2 | 00m00s | \u001b[35m  29.84759\u001b[0m | \u001b[32m -96.6102\u001b[0m | \u001b[32m -96.6102\u001b[0m | \n",
      "    3 | 00m00s | \u001b[35m  40.85957\u001b[0m | \u001b[32m -93.2203\u001b[0m | \u001b[32m -93.2203\u001b[0m | \n",
      "    4 | 00m00s | \u001b[35m  51.12372\u001b[0m | \u001b[32m -89.8305\u001b[0m | \u001b[32m -89.8305\u001b[0m | \n",
      "    5 | 00m00s | \u001b[35m  59.71687\u001b[0m | \u001b[32m -86.4407\u001b[0m | \u001b[32m -86.4407\u001b[0m | \n",
      "    6 | 00m00s | \u001b[35m  65.84925\u001b[0m | \u001b[32m -83.0508\u001b[0m | \u001b[32m -83.0508\u001b[0m | \n",
      "    7 | 00m00s | \u001b[35m  68.95078\u001b[0m | \u001b[32m -79.6610\u001b[0m | \u001b[32m -79.6610\u001b[0m | \n",
      "    8 | 00m00s |   68.75080 |  -76.2712 |  -76.2712 | \n",
      "    9 | 00m00s |   65.34069 |  -72.8814 |  -72.8814 | \n",
      "   10 | 00m00s |   59.20652 |  -69.4915 |  -69.4915 | \n",
      "   11 | 00m00s |   51.21656 |  -66.1017 |  -66.1017 | \n",
      "   12 | 00m00s |   42.54804 |  -62.7119 |  -62.7119 | \n",
      "   13 | 00m00s |   34.53798 |  -59.3220 |  -59.3220 | \n",
      "   14 | 00m00s |   28.44758 |  -55.9322 |  -55.9322 | \n",
      "   15 | 00m00s |   25.14023 |  -52.5424 |  -52.5424 | \n",
      "   16 | 00m00s |   24.69531 |  -49.1525 |  -49.1525 | \n",
      "   17 | 00m00s |   26.02514 |  -45.7627 |  -45.7627 | \n",
      "   18 | 00m00s |   26.65666 |  -42.3729 |  -42.3729 | \n",
      "   19 | 00m00s |   23.06843 |  -38.9831 |  -38.9831 | \n",
      "   20 | 00m00s |   12.71130 |  -35.5932 |  -35.5932 | \n",
      "   21 | 00m00s |    3.98537 |  -32.2034 |  -32.2034 | \n",
      "   22 | 00m00s |   -1.32509 |  -28.8136 |  -28.8136 | \n",
      "   23 | 00m00s |   10.24370 |  -25.4237 |  -25.4237 | \n",
      "   24 | 00m00s |   25.89377 |  -22.0339 |  -22.0339 | \n",
      "   25 | 00m00s |   36.74031 |  -18.6441 |  -18.6441 | \n",
      "   26 | 00m00s |   39.38459 |  -15.2542 |  -15.2542 | \n",
      "   27 | 00m00s |   33.48882 |  -11.8644 |  -11.8644 | \n",
      "   28 | 00m00s |   20.56602 |   -8.4746 |   -8.4746 | \n",
      "   29 | 00m00s |    3.10670 |   -5.0847 |   -5.0847 | \n",
      "   30 | 00m00s |  -16.07433 |   -1.6949 |   -1.6949 | \n",
      "   31 | 00m00s |  -34.30414 |    1.6949 |    1.6949 | \n",
      "   32 | 00m00s |  -49.35634 |    5.0847 |    5.0847 | \n",
      "   33 | 00m00s |  -59.62111 |    8.4746 |    8.4746 | \n",
      "   34 | 00m00s |  -64.16839 |   11.8644 |   11.8644 | \n",
      "   35 | 00m00s |  -62.73085 |   15.2542 |   15.2542 | \n",
      "   36 | 00m00s |  -55.63071 |   18.6441 |   18.6441 | \n",
      "   37 | 00m00s |  -43.67126 |   22.0339 |   22.0339 | \n",
      "   38 | 00m00s |  -28.01034 |   25.4237 |   25.4237 | \n",
      "   39 | 00m00s |  -10.02913 |   28.8136 |   28.8136 | \n",
      "   40 | 00m00s |    8.79321 |   32.2034 |   32.2034 | \n",
      "   41 | 00m00s |   26.99215 |   35.5932 |   35.5932 | \n",
      "   42 | 00m00s |   43.21268 |   38.9831 |   38.9831 | \n",
      "   43 | 00m00s |   56.28419 |   42.3729 |   42.3729 | \n",
      "   44 | 00m00s |   65.27444 |   45.7627 |   45.7627 | \n",
      "   45 | 00m00s | \u001b[35m  69.52315\u001b[0m | \u001b[32m  49.1525\u001b[0m | \u001b[32m  49.1525\u001b[0m | \n",
      "   46 | 00m00s |   68.65672 |   52.5424 |   52.5424 | \n",
      "   47 | 00m00s |   62.58630 |   55.9322 |   55.9322 | \n",
      "   48 | 00m00s |   51.49173 |   59.3220 |   59.3220 | \n",
      "   49 | 00m00s |   35.79418 |   62.7119 |   62.7119 | \n",
      "   50 | 00m00s |   16.12032 |   66.1017 |   66.1017 | \n",
      "   51 | 00m00s |   -6.73917 |   69.4915 |   69.4915 | \n",
      "   52 | 00m00s |  -31.87440 |   72.8814 |   72.8814 | \n",
      "   53 | 00m00s |  -58.30191 |   76.2712 |   76.2712 | \n",
      "   54 | 00m00s |  -85.00927 |   79.6610 |   79.6610 | \n",
      "   55 | 00m00s | -110.99706 |   83.0508 |   83.0508 | \n",
      "   56 | 00m00s | -135.31678 |   86.4407 |   86.4407 | \n",
      "   57 | 00m00s | -157.10384 |   89.8305 |   89.8305 | \n",
      "   58 | 00m00s | -175.60494 |   93.2203 |   93.2203 | \n",
      "   59 | 00m00s | -190.19940 |   96.6102 |   96.6102 | \n",
      "   60 | 00m00s | -200.41439 |  100.0000 |  100.0000 | \n",
      "   61 | 00m00s | \u001b[35m  79.33531\u001b[0m | \u001b[32m   0.6312\u001b[0m | \u001b[32m  58.2084\u001b[0m | \n",
      "\u001b[31mBayesian Optimization\u001b[0m\n",
      "\u001b[94m-----------------------------------------------------\u001b[0m\n",
      " Step |   Time |      Value |         x |         y | \n",
      "   62 | 00m04s | \u001b[35m  85.11978\u001b[0m | \u001b[32m   1.0363\u001b[0m | \u001b[32m  59.3993\u001b[0m | \n",
      "   63 | 00m01s | \u001b[35m  99.82363\u001b[0m | \u001b[32m   2.3485\u001b[0m | \u001b[32m  62.6770\u001b[0m | \n",
      "   64 | 00m02s | \u001b[35m 108.15580\u001b[0m | \u001b[32m   3.5493\u001b[0m | \u001b[32m  64.7106\u001b[0m | \n",
      "   65 | 00m02s | \u001b[35m 114.82709\u001b[0m | \u001b[32m   4.9476\u001b[0m | \u001b[32m  66.5341\u001b[0m | \n",
      "   66 | 00m02s | \u001b[35m 118.83795\u001b[0m | \u001b[32m   6.4728\u001b[0m | \u001b[32m  67.6062\u001b[0m | \n",
      "   67 | 00m03s | \u001b[35m 120.86048\u001b[0m | \u001b[32m   7.2319\u001b[0m | \u001b[32m  68.3395\u001b[0m | \n",
      "   68 | 00m02s | \u001b[35m 123.30834\u001b[0m | \u001b[32m   7.7912\u001b[0m | \u001b[32m  69.7135\u001b[0m | \n",
      "   69 | 00m03s | \u001b[35m 124.61057\u001b[0m | \u001b[32m   8.2343\u001b[0m | \u001b[32m  70.6189\u001b[0m | \n",
      "   70 | 00m03s | \u001b[35m 125.50067\u001b[0m | \u001b[32m   8.7140\u001b[0m | \u001b[32m  71.3563\u001b[0m | \n",
      "   71 | 00m04s | \u001b[35m 125.90194\u001b[0m | \u001b[32m   8.9019\u001b[0m | \u001b[32m  71.8210\u001b[0m | \n",
      "My implementation won\n",
      "Step Number = 4\n",
      "\u001b[31mInitialization\u001b[0m\n",
      "\u001b[94m-----------------------------------------------------\u001b[0m\n",
      " Step |   Time |      Value |         x |         y | \n",
      "    1 | 00m00s | \u001b[35m  19.05993\u001b[0m | \u001b[32m-100.0000\u001b[0m | \u001b[32m-100.0000\u001b[0m | \n",
      "    2 | 00m00s | \u001b[35m  29.84759\u001b[0m | \u001b[32m -96.6102\u001b[0m | \u001b[32m -96.6102\u001b[0m | \n",
      "    3 | 00m00s | \u001b[35m  40.85957\u001b[0m | \u001b[32m -93.2203\u001b[0m | \u001b[32m -93.2203\u001b[0m | \n",
      "    4 | 00m00s | \u001b[35m  51.12372\u001b[0m | \u001b[32m -89.8305\u001b[0m | \u001b[32m -89.8305\u001b[0m | \n",
      "    5 | 00m00s | \u001b[35m  59.71687\u001b[0m | \u001b[32m -86.4407\u001b[0m | \u001b[32m -86.4407\u001b[0m | \n",
      "    6 | 00m00s | \u001b[35m  65.84925\u001b[0m | \u001b[32m -83.0508\u001b[0m | \u001b[32m -83.0508\u001b[0m | \n",
      "    7 | 00m00s | \u001b[35m  68.95078\u001b[0m | \u001b[32m -79.6610\u001b[0m | \u001b[32m -79.6610\u001b[0m | \n",
      "    8 | 00m00s |   68.75080 |  -76.2712 |  -76.2712 | \n",
      "    9 | 00m00s |   65.34069 |  -72.8814 |  -72.8814 | \n",
      "   10 | 00m00s |   59.20652 |  -69.4915 |  -69.4915 | \n",
      "   11 | 00m00s |   51.21656 |  -66.1017 |  -66.1017 | \n",
      "   12 | 00m00s |   42.54804 |  -62.7119 |  -62.7119 | \n",
      "   13 | 00m00s |   34.53798 |  -59.3220 |  -59.3220 | \n",
      "   14 | 00m00s |   28.44758 |  -55.9322 |  -55.9322 | \n",
      "   15 | 00m00s |   25.14023 |  -52.5424 |  -52.5424 | \n",
      "   16 | 00m00s |   24.69531 |  -49.1525 |  -49.1525 | \n",
      "   17 | 00m00s |   26.02514 |  -45.7627 |  -45.7627 | \n",
      "   18 | 00m00s |   26.65666 |  -42.3729 |  -42.3729 | \n",
      "   19 | 00m00s |   23.06843 |  -38.9831 |  -38.9831 | \n",
      "   20 | 00m00s |   12.71130 |  -35.5932 |  -35.5932 | \n",
      "   21 | 00m00s |    3.98537 |  -32.2034 |  -32.2034 | \n",
      "   22 | 00m00s |   -1.32509 |  -28.8136 |  -28.8136 | \n",
      "   23 | 00m00s |   10.24370 |  -25.4237 |  -25.4237 | \n",
      "   24 | 00m00s |   25.89377 |  -22.0339 |  -22.0339 | \n",
      "   25 | 00m00s |   36.74031 |  -18.6441 |  -18.6441 | \n",
      "   26 | 00m00s |   39.38459 |  -15.2542 |  -15.2542 | \n",
      "   27 | 00m00s |   33.48882 |  -11.8644 |  -11.8644 | \n",
      "   28 | 00m00s |   20.56602 |   -8.4746 |   -8.4746 | \n",
      "   29 | 00m00s |    3.10670 |   -5.0847 |   -5.0847 | \n",
      "   30 | 00m00s |  -16.07433 |   -1.6949 |   -1.6949 | \n",
      "   31 | 00m00s |  -34.30414 |    1.6949 |    1.6949 | \n",
      "   32 | 00m00s |  -49.35634 |    5.0847 |    5.0847 | \n",
      "   33 | 00m00s |  -59.62111 |    8.4746 |    8.4746 | \n",
      "   34 | 00m00s |  -64.16839 |   11.8644 |   11.8644 | \n",
      "   35 | 00m00s |  -62.73085 |   15.2542 |   15.2542 | \n",
      "   36 | 00m00s |  -55.63071 |   18.6441 |   18.6441 | \n",
      "   37 | 00m00s |  -43.67126 |   22.0339 |   22.0339 | \n",
      "   38 | 00m00s |  -28.01034 |   25.4237 |   25.4237 | \n",
      "   39 | 00m00s |  -10.02913 |   28.8136 |   28.8136 | \n",
      "   40 | 00m00s |    8.79321 |   32.2034 |   32.2034 | \n",
      "   41 | 00m00s |   26.99215 |   35.5932 |   35.5932 | \n",
      "   42 | 00m00s |   43.21268 |   38.9831 |   38.9831 | \n",
      "   43 | 00m00s |   56.28419 |   42.3729 |   42.3729 | \n",
      "   44 | 00m00s |   65.27444 |   45.7627 |   45.7627 | \n",
      "   45 | 00m00s | \u001b[35m  69.52315\u001b[0m | \u001b[32m  49.1525\u001b[0m | \u001b[32m  49.1525\u001b[0m | \n",
      "   46 | 00m00s |   68.65672 |   52.5424 |   52.5424 | \n",
      "   47 | 00m00s |   62.58630 |   55.9322 |   55.9322 | \n",
      "   48 | 00m00s |   51.49173 |   59.3220 |   59.3220 | \n",
      "   49 | 00m00s |   35.79418 |   62.7119 |   62.7119 | \n",
      "   50 | 00m00s |   16.12032 |   66.1017 |   66.1017 | \n",
      "   51 | 00m00s |   -6.73917 |   69.4915 |   69.4915 | \n",
      "   52 | 00m00s |  -31.87440 |   72.8814 |   72.8814 | \n",
      "   53 | 00m00s |  -58.30191 |   76.2712 |   76.2712 | \n",
      "   54 | 00m00s |  -85.00927 |   79.6610 |   79.6610 | \n",
      "   55 | 00m00s | -110.99706 |   83.0508 |   83.0508 | \n",
      "   56 | 00m00s | -135.31678 |   86.4407 |   86.4407 | \n",
      "   57 | 00m00s | -157.10384 |   89.8305 |   89.8305 | \n",
      "   58 | 00m00s | -175.60494 |   93.2203 |   93.2203 | \n",
      "   59 | 00m00s | -190.19940 |   96.6102 |   96.6102 | \n",
      "   60 | 00m00s | -200.41439 |  100.0000 |  100.0000 | \n"
     ]
    },
    {
     "name": "stdout",
     "output_type": "stream",
     "text": [
      "   61 | 00m00s |   27.45943 |   96.6154 |  -45.0263 | \n",
      "\u001b[31mBayesian Optimization\u001b[0m\n",
      "\u001b[94m-----------------------------------------------------\u001b[0m\n",
      " Step |   Time |      Value |         x |         y | \n",
      "   62 | 00m03s | \u001b[35m  70.70315\u001b[0m | \u001b[32m  50.3847\u001b[0m | \u001b[32m  50.0159\u001b[0m | \n",
      "   63 | 00m01s | \u001b[35m  74.22989\u001b[0m | \u001b[32m  51.6240\u001b[0m | \u001b[32m  49.9342\u001b[0m | \n",
      "   64 | 00m01s | \u001b[35m  90.53931\u001b[0m | \u001b[32m  53.9798\u001b[0m | \u001b[32m  47.3457\u001b[0m | \n",
      "   65 | 00m01s | \u001b[35m 108.96200\u001b[0m | \u001b[32m  56.1542\u001b[0m | \u001b[32m  44.8050\u001b[0m | \n",
      "   66 | 00m01s | \u001b[35m 121.81027\u001b[0m | \u001b[32m  57.6077\u001b[0m | \u001b[32m  42.9684\u001b[0m | \n",
      "   67 | 00m02s | \u001b[35m 136.20696\u001b[0m | \u001b[32m  59.6910\u001b[0m | \u001b[32m  40.9507\u001b[0m | \n",
      "   68 | 00m02s | \u001b[35m 142.57638\u001b[0m | \u001b[32m  60.9531\u001b[0m | \u001b[32m  39.2971\u001b[0m | \n",
      "   69 | 00m02s | \u001b[35m 144.42549\u001b[0m | \u001b[32m  61.6845\u001b[0m | \u001b[32m  38.4654\u001b[0m | \n",
      "   70 | 00m02s | \u001b[35m 145.39426\u001b[0m | \u001b[32m  62.2198\u001b[0m | \u001b[32m  38.2539\u001b[0m | \n",
      "   71 | 00m02s | \u001b[35m 146.74908\u001b[0m | \u001b[32m  63.1020\u001b[0m | \u001b[32m  38.1953\u001b[0m | \n",
      "My implementation won\n",
      "Step Number = 5\n",
      "\u001b[31mInitialization\u001b[0m\n",
      "\u001b[94m-----------------------------------------------------\u001b[0m\n",
      " Step |   Time |      Value |         x |         y | \n",
      "    1 | 00m00s | \u001b[35m  19.05993\u001b[0m | \u001b[32m-100.0000\u001b[0m | \u001b[32m-100.0000\u001b[0m | \n",
      "    2 | 00m00s | \u001b[35m  29.84759\u001b[0m | \u001b[32m -96.6102\u001b[0m | \u001b[32m -96.6102\u001b[0m | \n",
      "    3 | 00m00s | \u001b[35m  40.85957\u001b[0m | \u001b[32m -93.2203\u001b[0m | \u001b[32m -93.2203\u001b[0m | \n",
      "    4 | 00m00s | \u001b[35m  51.12372\u001b[0m | \u001b[32m -89.8305\u001b[0m | \u001b[32m -89.8305\u001b[0m | \n",
      "    5 | 00m00s | \u001b[35m  59.71687\u001b[0m | \u001b[32m -86.4407\u001b[0m | \u001b[32m -86.4407\u001b[0m | \n",
      "    6 | 00m00s | \u001b[35m  65.84925\u001b[0m | \u001b[32m -83.0508\u001b[0m | \u001b[32m -83.0508\u001b[0m | \n",
      "    7 | 00m00s | \u001b[35m  68.95078\u001b[0m | \u001b[32m -79.6610\u001b[0m | \u001b[32m -79.6610\u001b[0m | \n",
      "    8 | 00m00s |   68.75080 |  -76.2712 |  -76.2712 | \n",
      "    9 | 00m00s |   65.34069 |  -72.8814 |  -72.8814 | \n",
      "   10 | 00m00s |   59.20652 |  -69.4915 |  -69.4915 | \n",
      "   11 | 00m00s |   51.21656 |  -66.1017 |  -66.1017 | \n",
      "   12 | 00m00s |   42.54804 |  -62.7119 |  -62.7119 | \n",
      "   13 | 00m00s |   34.53798 |  -59.3220 |  -59.3220 | \n",
      "   14 | 00m00s |   28.44758 |  -55.9322 |  -55.9322 | \n",
      "   15 | 00m00s |   25.14023 |  -52.5424 |  -52.5424 | \n",
      "   16 | 00m00s |   24.69531 |  -49.1525 |  -49.1525 | \n",
      "   17 | 00m00s |   26.02514 |  -45.7627 |  -45.7627 | \n",
      "   18 | 00m00s |   26.65666 |  -42.3729 |  -42.3729 | \n",
      "   19 | 00m00s |   23.06843 |  -38.9831 |  -38.9831 | \n",
      "   20 | 00m00s |   12.71130 |  -35.5932 |  -35.5932 | \n",
      "   21 | 00m00s |    3.98537 |  -32.2034 |  -32.2034 | \n",
      "   22 | 00m00s |   -1.32509 |  -28.8136 |  -28.8136 | \n",
      "   23 | 00m00s |   10.24370 |  -25.4237 |  -25.4237 | \n",
      "   24 | 00m00s |   25.89377 |  -22.0339 |  -22.0339 | \n",
      "   25 | 00m00s |   36.74031 |  -18.6441 |  -18.6441 | \n",
      "   26 | 00m00s |   39.38459 |  -15.2542 |  -15.2542 | \n",
      "   27 | 00m00s |   33.48882 |  -11.8644 |  -11.8644 | \n",
      "   28 | 00m00s |   20.56602 |   -8.4746 |   -8.4746 | \n",
      "   29 | 00m00s |    3.10670 |   -5.0847 |   -5.0847 | \n",
      "   30 | 00m00s |  -16.07433 |   -1.6949 |   -1.6949 | \n",
      "   31 | 00m00s |  -34.30414 |    1.6949 |    1.6949 | \n",
      "   32 | 00m00s |  -49.35634 |    5.0847 |    5.0847 | \n",
      "   33 | 00m00s |  -59.62111 |    8.4746 |    8.4746 | \n",
      "   34 | 00m00s |  -64.16839 |   11.8644 |   11.8644 | \n",
      "   35 | 00m00s |  -62.73085 |   15.2542 |   15.2542 | \n",
      "   36 | 00m00s |  -55.63071 |   18.6441 |   18.6441 | \n",
      "   37 | 00m00s |  -43.67126 |   22.0339 |   22.0339 | \n",
      "   38 | 00m00s |  -28.01034 |   25.4237 |   25.4237 | \n",
      "   39 | 00m00s |  -10.02913 |   28.8136 |   28.8136 | \n",
      "   40 | 00m00s |    8.79321 |   32.2034 |   32.2034 | \n",
      "   41 | 00m00s |   26.99215 |   35.5932 |   35.5932 | \n",
      "   42 | 00m00s |   43.21268 |   38.9831 |   38.9831 | \n",
      "   43 | 00m00s |   56.28419 |   42.3729 |   42.3729 | \n",
      "   44 | 00m00s |   65.27444 |   45.7627 |   45.7627 | \n",
      "   45 | 00m00s | \u001b[35m  69.52315\u001b[0m | \u001b[32m  49.1525\u001b[0m | \u001b[32m  49.1525\u001b[0m | \n",
      "   46 | 00m00s |   68.65672 |   52.5424 |   52.5424 | \n",
      "   47 | 00m00s |   62.58630 |   55.9322 |   55.9322 | \n",
      "   48 | 00m00s |   51.49173 |   59.3220 |   59.3220 | \n",
      "   49 | 00m00s |   35.79418 |   62.7119 |   62.7119 | \n",
      "   50 | 00m00s |   16.12032 |   66.1017 |   66.1017 | \n",
      "   51 | 00m00s |   -6.73917 |   69.4915 |   69.4915 | \n",
      "   52 | 00m00s |  -31.87440 |   72.8814 |   72.8814 | \n",
      "   53 | 00m00s |  -58.30191 |   76.2712 |   76.2712 | \n",
      "   54 | 00m00s |  -85.00927 |   79.6610 |   79.6610 | \n",
      "   55 | 00m00s | -110.99706 |   83.0508 |   83.0508 | \n",
      "   56 | 00m00s | -135.31678 |   86.4407 |   86.4407 | \n",
      "   57 | 00m00s | -157.10384 |   89.8305 |   89.8305 | \n",
      "   58 | 00m00s | -175.60494 |   93.2203 |   93.2203 | \n",
      "   59 | 00m00s | -190.19940 |   96.6102 |   96.6102 | \n",
      "   60 | 00m00s | -200.41439 |  100.0000 |  100.0000 | \n",
      "   61 | 00m00s |  -19.70984 |   16.1246 |   -3.5880 | \n",
      "\u001b[31mBayesian Optimization\u001b[0m\n",
      "\u001b[94m-----------------------------------------------------\u001b[0m\n",
      " Step |   Time |      Value |         x |         y | \n",
      "   62 | 00m03s |   68.55090 |   49.6074 |   50.1462 | \n",
      "   63 | 00m01s | \u001b[35m  78.19334\u001b[0m | \u001b[32m  50.8528\u001b[0m | \u001b[32m  47.5211\u001b[0m | \n",
      "   64 | 00m01s | \u001b[35m  93.31473\u001b[0m | \u001b[32m  53.2603\u001b[0m | \u001b[32m  45.4643\u001b[0m | \n",
      "   65 | 00m01s | \u001b[35m 108.80339\u001b[0m | \u001b[32m  55.4635\u001b[0m | \u001b[32m  43.7642\u001b[0m | \n",
      "   66 | 00m02s | \u001b[35m 125.10361\u001b[0m | \u001b[32m  57.5352\u001b[0m | \u001b[32m  41.5215\u001b[0m | \n",
      "   67 | 00m01s | \u001b[35m 134.64586\u001b[0m | \u001b[32m  59.0272\u001b[0m | \u001b[32m  40.0634\u001b[0m | \n",
      "   68 | 00m02s | \u001b[35m 140.70899\u001b[0m | \u001b[32m  60.3769\u001b[0m | \u001b[32m  39.0425\u001b[0m | \n",
      "   69 | 00m02s | \u001b[35m 143.98339\u001b[0m | \u001b[32m  61.5972\u001b[0m | \u001b[32m  38.1935\u001b[0m | \n",
      "   70 | 00m02s | \u001b[35m 144.50129\u001b[0m | \u001b[32m  61.9419\u001b[0m | \u001b[32m  37.9846\u001b[0m | \n",
      "   71 | 00m02s | \u001b[35m 144.68640\u001b[0m | \u001b[32m  62.3660\u001b[0m | \u001b[32m  37.6281\u001b[0m | \n",
      "My implementation won\n",
      "Step Number = 6\n",
      "\u001b[31mInitialization\u001b[0m\n",
      "\u001b[94m-----------------------------------------------------\u001b[0m\n",
      " Step |   Time |      Value |         x |         y | \n",
      "    1 | 00m00s | \u001b[35m  19.05993\u001b[0m | \u001b[32m-100.0000\u001b[0m | \u001b[32m-100.0000\u001b[0m | \n",
      "    2 | 00m00s | \u001b[35m  29.84759\u001b[0m | \u001b[32m -96.6102\u001b[0m | \u001b[32m -96.6102\u001b[0m | \n",
      "    3 | 00m00s | \u001b[35m  40.85957\u001b[0m | \u001b[32m -93.2203\u001b[0m | \u001b[32m -93.2203\u001b[0m | \n",
      "    4 | 00m00s | \u001b[35m  51.12372\u001b[0m | \u001b[32m -89.8305\u001b[0m | \u001b[32m -89.8305\u001b[0m | \n",
      "    5 | 00m00s | \u001b[35m  59.71687\u001b[0m | \u001b[32m -86.4407\u001b[0m | \u001b[32m -86.4407\u001b[0m | \n",
      "    6 | 00m00s | \u001b[35m  65.84925\u001b[0m | \u001b[32m -83.0508\u001b[0m | \u001b[32m -83.0508\u001b[0m | \n",
      "    7 | 00m00s | \u001b[35m  68.95078\u001b[0m | \u001b[32m -79.6610\u001b[0m | \u001b[32m -79.6610\u001b[0m | \n",
      "    8 | 00m00s |   68.75080 |  -76.2712 |  -76.2712 | \n",
      "    9 | 00m00s |   65.34069 |  -72.8814 |  -72.8814 | \n",
      "   10 | 00m00s |   59.20652 |  -69.4915 |  -69.4915 | \n",
      "   11 | 00m00s |   51.21656 |  -66.1017 |  -66.1017 | \n",
      "   12 | 00m00s |   42.54804 |  -62.7119 |  -62.7119 | \n",
      "   13 | 00m00s |   34.53798 |  -59.3220 |  -59.3220 | \n",
      "   14 | 00m00s |   28.44758 |  -55.9322 |  -55.9322 | \n",
      "   15 | 00m00s |   25.14023 |  -52.5424 |  -52.5424 | \n",
      "   16 | 00m00s |   24.69531 |  -49.1525 |  -49.1525 | \n",
      "   17 | 00m00s |   26.02514 |  -45.7627 |  -45.7627 | \n",
      "   18 | 00m00s |   26.65666 |  -42.3729 |  -42.3729 | \n",
      "   19 | 00m00s |   23.06843 |  -38.9831 |  -38.9831 | \n",
      "   20 | 00m00s |   12.71130 |  -35.5932 |  -35.5932 | \n",
      "   21 | 00m00s |    3.98537 |  -32.2034 |  -32.2034 | \n",
      "   22 | 00m00s |   -1.32509 |  -28.8136 |  -28.8136 | \n",
      "   23 | 00m00s |   10.24370 |  -25.4237 |  -25.4237 | \n",
      "   24 | 00m00s |   25.89377 |  -22.0339 |  -22.0339 | \n",
      "   25 | 00m00s |   36.74031 |  -18.6441 |  -18.6441 | \n",
      "   26 | 00m00s |   39.38459 |  -15.2542 |  -15.2542 | \n",
      "   27 | 00m00s |   33.48882 |  -11.8644 |  -11.8644 | \n",
      "   28 | 00m00s |   20.56602 |   -8.4746 |   -8.4746 | \n",
      "   29 | 00m00s |    3.10670 |   -5.0847 |   -5.0847 | \n",
      "   30 | 00m00s |  -16.07433 |   -1.6949 |   -1.6949 | \n",
      "   31 | 00m00s |  -34.30414 |    1.6949 |    1.6949 | \n",
      "   32 | 00m00s |  -49.35634 |    5.0847 |    5.0847 | \n",
      "   33 | 00m00s |  -59.62111 |    8.4746 |    8.4746 | \n",
      "   34 | 00m00s |  -64.16839 |   11.8644 |   11.8644 | \n",
      "   35 | 00m00s |  -62.73085 |   15.2542 |   15.2542 | \n",
      "   36 | 00m00s |  -55.63071 |   18.6441 |   18.6441 | \n",
      "   37 | 00m00s |  -43.67126 |   22.0339 |   22.0339 | \n",
      "   38 | 00m00s |  -28.01034 |   25.4237 |   25.4237 | \n",
      "   39 | 00m00s |  -10.02913 |   28.8136 |   28.8136 | \n",
      "   40 | 00m00s |    8.79321 |   32.2034 |   32.2034 | \n",
      "   41 | 00m00s |   26.99215 |   35.5932 |   35.5932 | \n",
      "   42 | 00m00s |   43.21268 |   38.9831 |   38.9831 | \n",
      "   43 | 00m00s |   56.28419 |   42.3729 |   42.3729 | \n",
      "   44 | 00m00s |   65.27444 |   45.7627 |   45.7627 | \n",
      "   45 | 00m00s | \u001b[35m  69.52315\u001b[0m | \u001b[32m  49.1525\u001b[0m | \u001b[32m  49.1525\u001b[0m | \n",
      "   46 | 00m00s |   68.65672 |   52.5424 |   52.5424 | \n",
      "   47 | 00m00s |   62.58630 |   55.9322 |   55.9322 | \n",
      "   48 | 00m00s |   51.49173 |   59.3220 |   59.3220 | \n",
      "   49 | 00m00s |   35.79418 |   62.7119 |   62.7119 | \n",
      "   50 | 00m00s |   16.12032 |   66.1017 |   66.1017 | \n",
      "   51 | 00m00s |   -6.73917 |   69.4915 |   69.4915 | \n",
      "   52 | 00m00s |  -31.87440 |   72.8814 |   72.8814 | \n",
      "   53 | 00m00s |  -58.30191 |   76.2712 |   76.2712 | \n",
      "   54 | 00m00s |  -85.00927 |   79.6610 |   79.6610 | \n",
      "   55 | 00m00s | -110.99706 |   83.0508 |   83.0508 | \n",
      "   56 | 00m00s | -135.31678 |   86.4407 |   86.4407 | \n"
     ]
    },
    {
     "name": "stdout",
     "output_type": "stream",
     "text": [
      "   57 | 00m00s | -157.10384 |   89.8305 |   89.8305 | \n",
      "   58 | 00m00s | -175.60494 |   93.2203 |   93.2203 | \n",
      "   59 | 00m00s | -190.19940 |   96.6102 |   96.6102 | \n",
      "   60 | 00m00s | -200.41439 |  100.0000 |  100.0000 | \n",
      "   61 | 00m00s |   55.09915 |   93.2657 |  -55.0229 | \n",
      "\u001b[31mBayesian Optimization\u001b[0m\n",
      "\u001b[94m-----------------------------------------------------\u001b[0m\n",
      " Step |   Time |      Value |         x |         y | \n",
      "   62 | 00m03s | \u001b[35m  70.48977\u001b[0m | \u001b[32m  50.6522\u001b[0m | \u001b[32m  50.3715\u001b[0m | \n",
      "   63 | 00m01s | \u001b[35m  71.16070\u001b[0m | \u001b[32m  50.7790\u001b[0m | \u001b[32m  50.2314\u001b[0m | \n",
      "   64 | 00m01s | \u001b[35m  88.66118\u001b[0m | \u001b[32m  53.3860\u001b[0m | \u001b[32m  47.1754\u001b[0m | \n",
      "   65 | 00m02s | \u001b[35m 104.75796\u001b[0m | \u001b[32m  55.2477\u001b[0m | \u001b[32m  44.7439\u001b[0m | \n",
      "   66 | 00m01s | \u001b[35m 119.46878\u001b[0m | \u001b[32m  56.9848\u001b[0m | \u001b[32m  42.6926\u001b[0m | \n",
      "   67 | 00m02s | \u001b[35m 128.80260\u001b[0m | \u001b[32m  58.1088\u001b[0m | \u001b[32m  41.0790\u001b[0m | \n",
      "   68 | 00m02s | \u001b[35m 137.50178\u001b[0m | \u001b[32m  59.5269\u001b[0m | \u001b[32m  39.2478\u001b[0m | \n",
      "   69 | 00m02s | \u001b[35m 142.17007\u001b[0m | \u001b[32m  60.8914\u001b[0m | \u001b[32m  38.1938\u001b[0m | \n",
      "   70 | 00m02s | \u001b[35m 142.44678\u001b[0m | \u001b[32m  62.0377\u001b[0m | \u001b[32m  36.7778\u001b[0m | \n",
      "   71 | 00m02s | \u001b[35m 142.93293\u001b[0m | \u001b[32m  61.4938\u001b[0m | \u001b[32m  37.5015\u001b[0m | \n",
      "My implementation won\n",
      "Step Number = 7\n",
      "\u001b[31mInitialization\u001b[0m\n",
      "\u001b[94m-----------------------------------------------------\u001b[0m\n",
      " Step |   Time |      Value |         x |         y | \n",
      "    1 | 00m00s | \u001b[35m  19.05993\u001b[0m | \u001b[32m-100.0000\u001b[0m | \u001b[32m-100.0000\u001b[0m | \n",
      "    2 | 00m00s | \u001b[35m  29.84759\u001b[0m | \u001b[32m -96.6102\u001b[0m | \u001b[32m -96.6102\u001b[0m | \n",
      "    3 | 00m00s | \u001b[35m  40.85957\u001b[0m | \u001b[32m -93.2203\u001b[0m | \u001b[32m -93.2203\u001b[0m | \n",
      "    4 | 00m00s | \u001b[35m  51.12372\u001b[0m | \u001b[32m -89.8305\u001b[0m | \u001b[32m -89.8305\u001b[0m | \n",
      "    5 | 00m00s | \u001b[35m  59.71687\u001b[0m | \u001b[32m -86.4407\u001b[0m | \u001b[32m -86.4407\u001b[0m | \n",
      "    6 | 00m00s | \u001b[35m  65.84925\u001b[0m | \u001b[32m -83.0508\u001b[0m | \u001b[32m -83.0508\u001b[0m | \n",
      "    7 | 00m00s | \u001b[35m  68.95078\u001b[0m | \u001b[32m -79.6610\u001b[0m | \u001b[32m -79.6610\u001b[0m | \n",
      "    8 | 00m00s |   68.75080 |  -76.2712 |  -76.2712 | \n",
      "    9 | 00m00s |   65.34069 |  -72.8814 |  -72.8814 | \n",
      "   10 | 00m00s |   59.20652 |  -69.4915 |  -69.4915 | \n",
      "   11 | 00m00s |   51.21656 |  -66.1017 |  -66.1017 | \n",
      "   12 | 00m00s |   42.54804 |  -62.7119 |  -62.7119 | \n",
      "   13 | 00m00s |   34.53798 |  -59.3220 |  -59.3220 | \n",
      "   14 | 00m00s |   28.44758 |  -55.9322 |  -55.9322 | \n",
      "   15 | 00m00s |   25.14023 |  -52.5424 |  -52.5424 | \n",
      "   16 | 00m00s |   24.69531 |  -49.1525 |  -49.1525 | \n",
      "   17 | 00m00s |   26.02514 |  -45.7627 |  -45.7627 | \n",
      "   18 | 00m00s |   26.65666 |  -42.3729 |  -42.3729 | \n",
      "   19 | 00m00s |   23.06843 |  -38.9831 |  -38.9831 | \n",
      "   20 | 00m00s |   12.71130 |  -35.5932 |  -35.5932 | \n",
      "   21 | 00m00s |    3.98537 |  -32.2034 |  -32.2034 | \n",
      "   22 | 00m00s |   -1.32509 |  -28.8136 |  -28.8136 | \n",
      "   23 | 00m00s |   10.24370 |  -25.4237 |  -25.4237 | \n",
      "   24 | 00m00s |   25.89377 |  -22.0339 |  -22.0339 | \n",
      "   25 | 00m00s |   36.74031 |  -18.6441 |  -18.6441 | \n",
      "   26 | 00m00s |   39.38459 |  -15.2542 |  -15.2542 | \n",
      "   27 | 00m00s |   33.48882 |  -11.8644 |  -11.8644 | \n",
      "   28 | 00m00s |   20.56602 |   -8.4746 |   -8.4746 | \n",
      "   29 | 00m00s |    3.10670 |   -5.0847 |   -5.0847 | \n",
      "   30 | 00m00s |  -16.07433 |   -1.6949 |   -1.6949 | \n",
      "   31 | 00m00s |  -34.30414 |    1.6949 |    1.6949 | \n",
      "   32 | 00m00s |  -49.35634 |    5.0847 |    5.0847 | \n",
      "   33 | 00m00s |  -59.62111 |    8.4746 |    8.4746 | \n",
      "   34 | 00m00s |  -64.16839 |   11.8644 |   11.8644 | \n",
      "   35 | 00m00s |  -62.73085 |   15.2542 |   15.2542 | \n",
      "   36 | 00m00s |  -55.63071 |   18.6441 |   18.6441 | \n",
      "   37 | 00m00s |  -43.67126 |   22.0339 |   22.0339 | \n",
      "   38 | 00m00s |  -28.01034 |   25.4237 |   25.4237 | \n",
      "   39 | 00m00s |  -10.02913 |   28.8136 |   28.8136 | \n",
      "   40 | 00m00s |    8.79321 |   32.2034 |   32.2034 | \n",
      "   41 | 00m00s |   26.99215 |   35.5932 |   35.5932 | \n",
      "   42 | 00m00s |   43.21268 |   38.9831 |   38.9831 | \n",
      "   43 | 00m00s |   56.28419 |   42.3729 |   42.3729 | \n",
      "   44 | 00m00s |   65.27444 |   45.7627 |   45.7627 | \n",
      "   45 | 00m00s | \u001b[35m  69.52315\u001b[0m | \u001b[32m  49.1525\u001b[0m | \u001b[32m  49.1525\u001b[0m | \n",
      "   46 | 00m00s |   68.65672 |   52.5424 |   52.5424 | \n",
      "   47 | 00m00s |   62.58630 |   55.9322 |   55.9322 | \n",
      "   48 | 00m00s |   51.49173 |   59.3220 |   59.3220 | \n",
      "   49 | 00m00s |   35.79418 |   62.7119 |   62.7119 | \n",
      "   50 | 00m00s |   16.12032 |   66.1017 |   66.1017 | \n",
      "   51 | 00m00s |   -6.73917 |   69.4915 |   69.4915 | \n",
      "   52 | 00m00s |  -31.87440 |   72.8814 |   72.8814 | \n",
      "   53 | 00m00s |  -58.30191 |   76.2712 |   76.2712 | \n",
      "   54 | 00m00s |  -85.00927 |   79.6610 |   79.6610 | \n",
      "   55 | 00m00s | -110.99706 |   83.0508 |   83.0508 | \n",
      "   56 | 00m00s | -135.31678 |   86.4407 |   86.4407 | \n",
      "   57 | 00m00s | -157.10384 |   89.8305 |   89.8305 | \n",
      "   58 | 00m00s | -175.60494 |   93.2203 |   93.2203 | \n",
      "   59 | 00m00s | -190.19940 |   96.6102 |   96.6102 | \n",
      "   60 | 00m00s | -200.41439 |  100.0000 |  100.0000 | \n",
      "   61 | 00m00s | -108.64468 |  -45.6097 |   28.6365 | \n",
      "\u001b[31mBayesian Optimization\u001b[0m\n",
      "\u001b[94m-----------------------------------------------------\u001b[0m\n",
      " Step |   Time |      Value |         x |         y | \n",
      "   62 | 00m03s | \u001b[35m  69.54993\u001b[0m | \u001b[32m  50.1876\u001b[0m | \u001b[32m  50.2983\u001b[0m | \n",
      "   63 | 00m01s |   69.45566 |   49.3125 |   49.3828 | \n",
      "   64 | 00m01s | \u001b[35m  73.89952\u001b[0m | \u001b[32m  51.1781\u001b[0m | \u001b[32m  49.5930\u001b[0m | \n",
      "   65 | 00m02s | \u001b[35m  90.00760\u001b[0m | \u001b[32m  53.5823\u001b[0m | \u001b[32m  47.0043\u001b[0m | \n",
      "   66 | 00m02s | \u001b[35m 105.83204\u001b[0m | \u001b[32m  55.7538\u001b[0m | \u001b[32m  45.1659\u001b[0m | \n",
      "   67 | 00m02s | \u001b[35m 120.40494\u001b[0m | \u001b[32m  57.3966\u001b[0m | \u001b[32m  43.0950\u001b[0m | \n",
      "   68 | 00m01s | \u001b[35m 134.43161\u001b[0m | \u001b[32m  59.1382\u001b[0m | \u001b[32m  40.5561\u001b[0m | \n",
      "   69 | 00m02s | \u001b[35m 139.28409\u001b[0m | \u001b[32m  59.9886\u001b[0m | \u001b[32m  39.1776\u001b[0m | \n",
      "   70 | 00m02s | \u001b[35m 140.54842\u001b[0m | \u001b[32m  60.4538\u001b[0m | \u001b[32m  37.6108\u001b[0m | \n",
      "   71 | 00m02s | \u001b[35m 142.73548\u001b[0m | \u001b[32m  61.1624\u001b[0m | \u001b[32m  37.9850\u001b[0m | \n",
      "My implementation won\n",
      "Step Number = 8\n",
      "\u001b[31mInitialization\u001b[0m\n",
      "\u001b[94m-----------------------------------------------------\u001b[0m\n",
      " Step |   Time |      Value |         x |         y | \n",
      "    1 | 00m00s | \u001b[35m  19.05993\u001b[0m | \u001b[32m-100.0000\u001b[0m | \u001b[32m-100.0000\u001b[0m | \n",
      "    2 | 00m00s | \u001b[35m  29.84759\u001b[0m | \u001b[32m -96.6102\u001b[0m | \u001b[32m -96.6102\u001b[0m | \n",
      "    3 | 00m00s | \u001b[35m  40.85957\u001b[0m | \u001b[32m -93.2203\u001b[0m | \u001b[32m -93.2203\u001b[0m | \n",
      "    4 | 00m00s | \u001b[35m  51.12372\u001b[0m | \u001b[32m -89.8305\u001b[0m | \u001b[32m -89.8305\u001b[0m | \n",
      "    5 | 00m00s | \u001b[35m  59.71687\u001b[0m | \u001b[32m -86.4407\u001b[0m | \u001b[32m -86.4407\u001b[0m | \n",
      "    6 | 00m00s | \u001b[35m  65.84925\u001b[0m | \u001b[32m -83.0508\u001b[0m | \u001b[32m -83.0508\u001b[0m | \n",
      "    7 | 00m00s | \u001b[35m  68.95078\u001b[0m | \u001b[32m -79.6610\u001b[0m | \u001b[32m -79.6610\u001b[0m | \n",
      "    8 | 00m00s |   68.75080 |  -76.2712 |  -76.2712 | \n",
      "    9 | 00m00s |   65.34069 |  -72.8814 |  -72.8814 | \n",
      "   10 | 00m00s |   59.20652 |  -69.4915 |  -69.4915 | \n",
      "   11 | 00m00s |   51.21656 |  -66.1017 |  -66.1017 | \n",
      "   12 | 00m00s |   42.54804 |  -62.7119 |  -62.7119 | \n",
      "   13 | 00m00s |   34.53798 |  -59.3220 |  -59.3220 | \n",
      "   14 | 00m00s |   28.44758 |  -55.9322 |  -55.9322 | \n",
      "   15 | 00m00s |   25.14023 |  -52.5424 |  -52.5424 | \n",
      "   16 | 00m00s |   24.69531 |  -49.1525 |  -49.1525 | \n",
      "   17 | 00m00s |   26.02514 |  -45.7627 |  -45.7627 | \n",
      "   18 | 00m00s |   26.65666 |  -42.3729 |  -42.3729 | \n",
      "   19 | 00m00s |   23.06843 |  -38.9831 |  -38.9831 | \n",
      "   20 | 00m00s |   12.71130 |  -35.5932 |  -35.5932 | \n",
      "   21 | 00m00s |    3.98537 |  -32.2034 |  -32.2034 | \n",
      "   22 | 00m00s |   -1.32509 |  -28.8136 |  -28.8136 | \n",
      "   23 | 00m00s |   10.24370 |  -25.4237 |  -25.4237 | \n",
      "   24 | 00m00s |   25.89377 |  -22.0339 |  -22.0339 | \n",
      "   25 | 00m00s |   36.74031 |  -18.6441 |  -18.6441 | \n",
      "   26 | 00m00s |   39.38459 |  -15.2542 |  -15.2542 | \n",
      "   27 | 00m00s |   33.48882 |  -11.8644 |  -11.8644 | \n",
      "   28 | 00m00s |   20.56602 |   -8.4746 |   -8.4746 | \n",
      "   29 | 00m00s |    3.10670 |   -5.0847 |   -5.0847 | \n",
      "   30 | 00m00s |  -16.07433 |   -1.6949 |   -1.6949 | \n",
      "   31 | 00m00s |  -34.30414 |    1.6949 |    1.6949 | \n",
      "   32 | 00m00s |  -49.35634 |    5.0847 |    5.0847 | \n",
      "   33 | 00m00s |  -59.62111 |    8.4746 |    8.4746 | \n",
      "   34 | 00m00s |  -64.16839 |   11.8644 |   11.8644 | \n",
      "   35 | 00m00s |  -62.73085 |   15.2542 |   15.2542 | \n",
      "   36 | 00m00s |  -55.63071 |   18.6441 |   18.6441 | \n",
      "   37 | 00m00s |  -43.67126 |   22.0339 |   22.0339 | \n",
      "   38 | 00m00s |  -28.01034 |   25.4237 |   25.4237 | \n",
      "   39 | 00m00s |  -10.02913 |   28.8136 |   28.8136 | \n",
      "   40 | 00m00s |    8.79321 |   32.2034 |   32.2034 | \n",
      "   41 | 00m00s |   26.99215 |   35.5932 |   35.5932 | \n",
      "   42 | 00m00s |   43.21268 |   38.9831 |   38.9831 | \n",
      "   43 | 00m00s |   56.28419 |   42.3729 |   42.3729 | \n",
      "   44 | 00m00s |   65.27444 |   45.7627 |   45.7627 | \n",
      "   45 | 00m00s | \u001b[35m  69.52315\u001b[0m | \u001b[32m  49.1525\u001b[0m | \u001b[32m  49.1525\u001b[0m | \n",
      "   46 | 00m00s |   68.65672 |   52.5424 |   52.5424 | \n",
      "   47 | 00m00s |   62.58630 |   55.9322 |   55.9322 | \n",
      "   48 | 00m00s |   51.49173 |   59.3220 |   59.3220 | \n",
      "   49 | 00m00s |   35.79418 |   62.7119 |   62.7119 | \n",
      "   50 | 00m00s |   16.12032 |   66.1017 |   66.1017 | \n",
      "   51 | 00m00s |   -6.73917 |   69.4915 |   69.4915 | \n",
      "   52 | 00m00s |  -31.87440 |   72.8814 |   72.8814 | \n",
      "   53 | 00m00s |  -58.30191 |   76.2712 |   76.2712 | \n",
      "   54 | 00m00s |  -85.00927 |   79.6610 |   79.6610 | \n",
      "   55 | 00m00s | -110.99706 |   83.0508 |   83.0508 | \n",
      "   56 | 00m00s | -135.31678 |   86.4407 |   86.4407 | \n",
      "   57 | 00m00s | -157.10384 |   89.8305 |   89.8305 | \n",
      "   58 | 00m00s | -175.60494 |   93.2203 |   93.2203 | \n",
      "   59 | 00m00s | -190.19940 |   96.6102 |   96.6102 | \n",
      "   60 | 00m00s | -200.41439 |  100.0000 |  100.0000 | \n",
      "   61 | 00m00s |  -85.12454 |  -28.0499 |   43.3931 | \n"
     ]
    },
    {
     "name": "stdout",
     "output_type": "stream",
     "text": [
      "\u001b[31mBayesian Optimization\u001b[0m\n",
      "\u001b[94m-----------------------------------------------------\u001b[0m\n",
      " Step |   Time |      Value |         x |         y | \n",
      "   62 | 00m03s |   68.57192 |   49.8393 |   50.3748 | \n",
      "   63 | 00m01s | \u001b[35m  76.17230\u001b[0m | \u001b[32m  50.6530\u001b[0m | \u001b[32m  48.0772\u001b[0m | \n",
      "   64 | 00m01s | \u001b[35m  90.55592\u001b[0m | \u001b[32m  53.5033\u001b[0m | \u001b[32m  46.7261\u001b[0m | \n",
      "   65 | 00m01s | \u001b[35m 108.40421\u001b[0m | \u001b[32m  55.7408\u001b[0m | \u001b[32m  44.3471\u001b[0m | \n",
      "   66 | 00m01s | \u001b[35m 122.86048\u001b[0m | \u001b[32m  57.6815\u001b[0m | \u001b[32m  42.7195\u001b[0m | \n",
      "   67 | 00m01s | \u001b[35m 134.85190\u001b[0m | \u001b[32m  59.3879\u001b[0m | \u001b[32m  40.9731\u001b[0m | \n",
      "   68 | 00m01s | \u001b[35m 142.38263\u001b[0m | \u001b[32m  60.9384\u001b[0m | \u001b[32m  39.7306\u001b[0m | \n",
      "   69 | 00m02s | \u001b[35m 147.20352\u001b[0m | \u001b[32m  62.7578\u001b[0m | \u001b[32m  38.9300\u001b[0m | \n",
      "   70 | 00m02s | \u001b[35m 147.33109\u001b[0m | \u001b[32m  63.3906\u001b[0m | \u001b[32m  38.3196\u001b[0m | \n",
      "   71 | 00m02s | \u001b[35m 147.54948\u001b[0m | \u001b[32m  63.0162\u001b[0m | \u001b[32m  38.8088\u001b[0m | \n",
      "My implementation won\n",
      "Step Number = 9\n",
      "\u001b[31mInitialization\u001b[0m\n",
      "\u001b[94m-----------------------------------------------------\u001b[0m\n",
      " Step |   Time |      Value |         x |         y | \n",
      "    1 | 00m00s | \u001b[35m  19.05993\u001b[0m | \u001b[32m-100.0000\u001b[0m | \u001b[32m-100.0000\u001b[0m | \n",
      "    2 | 00m00s | \u001b[35m  29.84759\u001b[0m | \u001b[32m -96.6102\u001b[0m | \u001b[32m -96.6102\u001b[0m | \n",
      "    3 | 00m00s | \u001b[35m  40.85957\u001b[0m | \u001b[32m -93.2203\u001b[0m | \u001b[32m -93.2203\u001b[0m | \n",
      "    4 | 00m00s | \u001b[35m  51.12372\u001b[0m | \u001b[32m -89.8305\u001b[0m | \u001b[32m -89.8305\u001b[0m | \n",
      "    5 | 00m00s | \u001b[35m  59.71687\u001b[0m | \u001b[32m -86.4407\u001b[0m | \u001b[32m -86.4407\u001b[0m | \n",
      "    6 | 00m00s | \u001b[35m  65.84925\u001b[0m | \u001b[32m -83.0508\u001b[0m | \u001b[32m -83.0508\u001b[0m | \n",
      "    7 | 00m00s | \u001b[35m  68.95078\u001b[0m | \u001b[32m -79.6610\u001b[0m | \u001b[32m -79.6610\u001b[0m | \n",
      "    8 | 00m00s |   68.75080 |  -76.2712 |  -76.2712 | \n",
      "    9 | 00m00s |   65.34069 |  -72.8814 |  -72.8814 | \n",
      "   10 | 00m00s |   59.20652 |  -69.4915 |  -69.4915 | \n",
      "   11 | 00m00s |   51.21656 |  -66.1017 |  -66.1017 | \n",
      "   12 | 00m00s |   42.54804 |  -62.7119 |  -62.7119 | \n",
      "   13 | 00m00s |   34.53798 |  -59.3220 |  -59.3220 | \n",
      "   14 | 00m00s |   28.44758 |  -55.9322 |  -55.9322 | \n",
      "   15 | 00m00s |   25.14023 |  -52.5424 |  -52.5424 | \n",
      "   16 | 00m00s |   24.69531 |  -49.1525 |  -49.1525 | \n",
      "   17 | 00m00s |   26.02514 |  -45.7627 |  -45.7627 | \n",
      "   18 | 00m00s |   26.65666 |  -42.3729 |  -42.3729 | \n",
      "   19 | 00m00s |   23.06843 |  -38.9831 |  -38.9831 | \n",
      "   20 | 00m00s |   12.71130 |  -35.5932 |  -35.5932 | \n",
      "   21 | 00m00s |    3.98537 |  -32.2034 |  -32.2034 | \n",
      "   22 | 00m00s |   -1.32509 |  -28.8136 |  -28.8136 | \n",
      "   23 | 00m00s |   10.24370 |  -25.4237 |  -25.4237 | \n",
      "   24 | 00m00s |   25.89377 |  -22.0339 |  -22.0339 | \n",
      "   25 | 00m00s |   36.74031 |  -18.6441 |  -18.6441 | \n",
      "   26 | 00m00s |   39.38459 |  -15.2542 |  -15.2542 | \n",
      "   27 | 00m00s |   33.48882 |  -11.8644 |  -11.8644 | \n",
      "   28 | 00m00s |   20.56602 |   -8.4746 |   -8.4746 | \n",
      "   29 | 00m00s |    3.10670 |   -5.0847 |   -5.0847 | \n",
      "   30 | 00m00s |  -16.07433 |   -1.6949 |   -1.6949 | \n",
      "   31 | 00m00s |  -34.30414 |    1.6949 |    1.6949 | \n",
      "   32 | 00m00s |  -49.35634 |    5.0847 |    5.0847 | \n",
      "   33 | 00m00s |  -59.62111 |    8.4746 |    8.4746 | \n",
      "   34 | 00m00s |  -64.16839 |   11.8644 |   11.8644 | \n",
      "   35 | 00m00s |  -62.73085 |   15.2542 |   15.2542 | \n",
      "   36 | 00m00s |  -55.63071 |   18.6441 |   18.6441 | \n",
      "   37 | 00m00s |  -43.67126 |   22.0339 |   22.0339 | \n",
      "   38 | 00m00s |  -28.01034 |   25.4237 |   25.4237 | \n",
      "   39 | 00m00s |  -10.02913 |   28.8136 |   28.8136 | \n",
      "   40 | 00m00s |    8.79321 |   32.2034 |   32.2034 | \n",
      "   41 | 00m00s |   26.99215 |   35.5932 |   35.5932 | \n",
      "   42 | 00m00s |   43.21268 |   38.9831 |   38.9831 | \n",
      "   43 | 00m00s |   56.28419 |   42.3729 |   42.3729 | \n",
      "   44 | 00m00s |   65.27444 |   45.7627 |   45.7627 | \n",
      "   45 | 00m00s | \u001b[35m  69.52315\u001b[0m | \u001b[32m  49.1525\u001b[0m | \u001b[32m  49.1525\u001b[0m | \n",
      "   46 | 00m00s |   68.65672 |   52.5424 |   52.5424 | \n",
      "   47 | 00m00s |   62.58630 |   55.9322 |   55.9322 | \n",
      "   48 | 00m00s |   51.49173 |   59.3220 |   59.3220 | \n",
      "   49 | 00m00s |   35.79418 |   62.7119 |   62.7119 | \n",
      "   50 | 00m00s |   16.12032 |   66.1017 |   66.1017 | \n",
      "   51 | 00m00s |   -6.73917 |   69.4915 |   69.4915 | \n",
      "   52 | 00m00s |  -31.87440 |   72.8814 |   72.8814 | \n",
      "   53 | 00m00s |  -58.30191 |   76.2712 |   76.2712 | \n",
      "   54 | 00m00s |  -85.00927 |   79.6610 |   79.6610 | \n",
      "   55 | 00m00s | -110.99706 |   83.0508 |   83.0508 | \n",
      "   56 | 00m00s | -135.31678 |   86.4407 |   86.4407 | \n",
      "   57 | 00m00s | -157.10384 |   89.8305 |   89.8305 | \n",
      "   58 | 00m00s | -175.60494 |   93.2203 |   93.2203 | \n",
      "   59 | 00m00s | -190.19940 |   96.6102 |   96.6102 | \n",
      "   60 | 00m00s | -200.41439 |  100.0000 |  100.0000 | \n",
      "   61 | 00m00s |   -7.67132 |  -69.4904 |   12.2578 | \n",
      "\u001b[31mBayesian Optimization\u001b[0m\n",
      "\u001b[94m-----------------------------------------------------\u001b[0m\n",
      " Step |   Time |      Value |         x |         y | \n",
      "   62 | 00m03s |   69.22024 |   50.3899 |   50.6328 | \n",
      "   63 | 00m01s | \u001b[35m  71.48985\u001b[0m | \u001b[32m  50.1103\u001b[0m | \u001b[32m  49.3829\u001b[0m | \n",
      "   64 | 00m01s | \u001b[35m  85.69674\u001b[0m | \u001b[32m  52.7588\u001b[0m | \u001b[32m  47.3286\u001b[0m | \n",
      "   65 | 00m02s | \u001b[35m  99.78625\u001b[0m | \u001b[32m  54.7857\u001b[0m | \u001b[32m  45.6140\u001b[0m | \n",
      "   66 | 00m02s | \u001b[35m 118.09257\u001b[0m | \u001b[32m  57.0796\u001b[0m | \u001b[32m  43.3488\u001b[0m | \n",
      "   67 | 00m01s | \u001b[35m 130.37780\u001b[0m | \u001b[32m  58.7571\u001b[0m | \u001b[32m  41.7854\u001b[0m | \n",
      "   68 | 00m02s | \u001b[35m 140.56624\u001b[0m | \u001b[32m  60.4791\u001b[0m | \u001b[32m  39.9939\u001b[0m | \n",
      "   69 | 00m01s | \u001b[35m 144.21584\u001b[0m | \u001b[32m  61.5071\u001b[0m | \u001b[32m  38.9208\u001b[0m | \n",
      "   70 | 00m02s | \u001b[35m 144.66868\u001b[0m | \u001b[32m  62.1027\u001b[0m | \u001b[32m  37.8822\u001b[0m | \n",
      "   71 | 00m02s | \u001b[35m 145.66586\u001b[0m | \u001b[32m  62.1849\u001b[0m | \u001b[32m  38.5681\u001b[0m | \n",
      "My implementation won\n",
      "Step Number = 10\n",
      "\u001b[31mInitialization\u001b[0m\n",
      "\u001b[94m-----------------------------------------------------\u001b[0m\n",
      " Step |   Time |      Value |         x |         y | \n",
      "    1 | 00m00s | \u001b[35m  19.05993\u001b[0m | \u001b[32m-100.0000\u001b[0m | \u001b[32m-100.0000\u001b[0m | \n",
      "    2 | 00m00s | \u001b[35m  29.84759\u001b[0m | \u001b[32m -96.6102\u001b[0m | \u001b[32m -96.6102\u001b[0m | \n",
      "    3 | 00m00s | \u001b[35m  40.85957\u001b[0m | \u001b[32m -93.2203\u001b[0m | \u001b[32m -93.2203\u001b[0m | \n",
      "    4 | 00m00s | \u001b[35m  51.12372\u001b[0m | \u001b[32m -89.8305\u001b[0m | \u001b[32m -89.8305\u001b[0m | \n",
      "    5 | 00m00s | \u001b[35m  59.71687\u001b[0m | \u001b[32m -86.4407\u001b[0m | \u001b[32m -86.4407\u001b[0m | \n",
      "    6 | 00m00s | \u001b[35m  65.84925\u001b[0m | \u001b[32m -83.0508\u001b[0m | \u001b[32m -83.0508\u001b[0m | \n",
      "    7 | 00m00s | \u001b[35m  68.95078\u001b[0m | \u001b[32m -79.6610\u001b[0m | \u001b[32m -79.6610\u001b[0m | \n",
      "    8 | 00m00s |   68.75080 |  -76.2712 |  -76.2712 | \n",
      "    9 | 00m00s |   65.34069 |  -72.8814 |  -72.8814 | \n",
      "   10 | 00m00s |   59.20652 |  -69.4915 |  -69.4915 | \n",
      "   11 | 00m00s |   51.21656 |  -66.1017 |  -66.1017 | \n",
      "   12 | 00m00s |   42.54804 |  -62.7119 |  -62.7119 | \n",
      "   13 | 00m00s |   34.53798 |  -59.3220 |  -59.3220 | \n",
      "   14 | 00m00s |   28.44758 |  -55.9322 |  -55.9322 | \n",
      "   15 | 00m00s |   25.14023 |  -52.5424 |  -52.5424 | \n",
      "   16 | 00m00s |   24.69531 |  -49.1525 |  -49.1525 | \n",
      "   17 | 00m00s |   26.02514 |  -45.7627 |  -45.7627 | \n",
      "   18 | 00m00s |   26.65666 |  -42.3729 |  -42.3729 | \n",
      "   19 | 00m00s |   23.06843 |  -38.9831 |  -38.9831 | \n",
      "   20 | 00m00s |   12.71130 |  -35.5932 |  -35.5932 | \n",
      "   21 | 00m00s |    3.98537 |  -32.2034 |  -32.2034 | \n",
      "   22 | 00m00s |   -1.32509 |  -28.8136 |  -28.8136 | \n",
      "   23 | 00m00s |   10.24370 |  -25.4237 |  -25.4237 | \n",
      "   24 | 00m00s |   25.89377 |  -22.0339 |  -22.0339 | \n",
      "   25 | 00m00s |   36.74031 |  -18.6441 |  -18.6441 | \n",
      "   26 | 00m00s |   39.38459 |  -15.2542 |  -15.2542 | \n",
      "   27 | 00m00s |   33.48882 |  -11.8644 |  -11.8644 | \n",
      "   28 | 00m00s |   20.56602 |   -8.4746 |   -8.4746 | \n",
      "   29 | 00m00s |    3.10670 |   -5.0847 |   -5.0847 | \n",
      "   30 | 00m00s |  -16.07433 |   -1.6949 |   -1.6949 | \n",
      "   31 | 00m00s |  -34.30414 |    1.6949 |    1.6949 | \n",
      "   32 | 00m00s |  -49.35634 |    5.0847 |    5.0847 | \n",
      "   33 | 00m00s |  -59.62111 |    8.4746 |    8.4746 | \n",
      "   34 | 00m00s |  -64.16839 |   11.8644 |   11.8644 | \n",
      "   35 | 00m00s |  -62.73085 |   15.2542 |   15.2542 | \n",
      "   36 | 00m00s |  -55.63071 |   18.6441 |   18.6441 | \n",
      "   37 | 00m00s |  -43.67126 |   22.0339 |   22.0339 | \n",
      "   38 | 00m00s |  -28.01034 |   25.4237 |   25.4237 | \n",
      "   39 | 00m00s |  -10.02913 |   28.8136 |   28.8136 | \n",
      "   40 | 00m00s |    8.79321 |   32.2034 |   32.2034 | \n",
      "   41 | 00m00s |   26.99215 |   35.5932 |   35.5932 | \n",
      "   42 | 00m00s |   43.21268 |   38.9831 |   38.9831 | \n",
      "   43 | 00m00s |   56.28419 |   42.3729 |   42.3729 | \n",
      "   44 | 00m00s |   65.27444 |   45.7627 |   45.7627 | \n",
      "   45 | 00m00s | \u001b[35m  69.52315\u001b[0m | \u001b[32m  49.1525\u001b[0m | \u001b[32m  49.1525\u001b[0m | \n",
      "   46 | 00m00s |   68.65672 |   52.5424 |   52.5424 | \n",
      "   47 | 00m00s |   62.58630 |   55.9322 |   55.9322 | \n",
      "   48 | 00m00s |   51.49173 |   59.3220 |   59.3220 | \n",
      "   49 | 00m00s |   35.79418 |   62.7119 |   62.7119 | \n",
      "   50 | 00m00s |   16.12032 |   66.1017 |   66.1017 | \n",
      "   51 | 00m00s |   -6.73917 |   69.4915 |   69.4915 | \n",
      "   52 | 00m00s |  -31.87440 |   72.8814 |   72.8814 | \n",
      "   53 | 00m00s |  -58.30191 |   76.2712 |   76.2712 | \n",
      "   54 | 00m00s |  -85.00927 |   79.6610 |   79.6610 | \n",
      "   55 | 00m00s | -110.99706 |   83.0508 |   83.0508 | \n",
      "   56 | 00m00s | -135.31678 |   86.4407 |   86.4407 | \n",
      "   57 | 00m00s | -157.10384 |   89.8305 |   89.8305 | \n",
      "   58 | 00m00s | -175.60494 |   93.2203 |   93.2203 | \n",
      "   59 | 00m00s | -190.19940 |   96.6102 |   96.6102 | \n",
      "   60 | 00m00s | -200.41439 |  100.0000 |  100.0000 | \n",
      "   61 | 00m00s | \u001b[35m  84.20361\u001b[0m | \u001b[32m  -4.3196\u001b[0m | \u001b[32m  97.5108\u001b[0m | \n"
     ]
    },
    {
     "name": "stdout",
     "output_type": "stream",
     "text": [
      "\u001b[31mBayesian Optimization\u001b[0m\n",
      "\u001b[94m-----------------------------------------------------\u001b[0m\n",
      " Step |   Time |      Value |         x |         y | \n",
      "   62 | 00m03s |   83.44843 |   -4.4339 |   97.7561 | \n",
      "   63 | 00m01s | \u001b[35m  91.69800\u001b[0m | \u001b[32m  -2.9293\u001b[0m | \u001b[32m  94.8833\u001b[0m | \n",
      "   64 | 00m01s | \u001b[35m  95.79134\u001b[0m | \u001b[32m  -1.6773\u001b[0m | \u001b[32m  93.1714\u001b[0m | \n",
      "   65 | 00m02s | \u001b[35m  98.04735\u001b[0m | \u001b[32m  -0.7912\u001b[0m | \u001b[32m  92.1410\u001b[0m | \n",
      "   66 | 00m01s | \u001b[35m  99.22217\u001b[0m | \u001b[32m   0.3973\u001b[0m | \u001b[32m  91.3205\u001b[0m | \n",
      "   67 | 00m02s | \u001b[35m 100.61204\u001b[0m | \u001b[32m   0.2633\u001b[0m | \u001b[32m  90.9576\u001b[0m | \n",
      "   68 | 00m02s | \u001b[35m 109.71727\u001b[0m | \u001b[32m  -1.4283\u001b[0m | \u001b[32m  88.4739\u001b[0m | \n",
      "   69 | 00m02s | \u001b[35m 114.40207\u001b[0m | \u001b[32m  -2.5037\u001b[0m | \u001b[32m  86.7679\u001b[0m | \n",
      "   70 | 00m02s | \u001b[35m 116.42747\u001b[0m | \u001b[32m  -3.3352\u001b[0m | \u001b[32m  85.9322\u001b[0m | \n",
      "   71 | 00m02s | \u001b[35m 117.74554\u001b[0m | \u001b[32m  -3.8650\u001b[0m | \u001b[32m  85.2343\u001b[0m | \n",
      "My implementation won\n"
     ]
    }
   ],
   "source": [
    "# keep track of the wins\n",
    "my_implementation_wins_2d = 0\n",
    "bayes_opt_wins_2d = 0\n",
    "\n",
    "n_trials=10\n",
    "for i in range(n_trials):\n",
    "    print('Step Number =',i+1)\n",
    "    # My implementation\n",
    "    bo_implementation_2d.fit(twoD_train_x, twoD_train_y ,combo_domain, twoD_function , y_func_type='real',\n",
    "                        kernel_params={'length':50}, verbose=False) # change the length parameter\n",
    "    bo_implementation_2d.maximize()\n",
    "    # Bayes Opt Implementation\n",
    "    bayes_opt_2d = BayesianOptimization(twoD_function ,\n",
    "                          {'x': (-100,100),'y':(-100,100)}) # the bounds to explore\n",
    "    bayes_opt_2d .explore({'x': np.linspace(-100,100,60),'y':np.linspace(-100,100,60)}) # the points to explore\n",
    "    bayes_opt_2d .maximize(init_points=1, n_iter=10, acq='ei')\n",
    "    \n",
    "    if bayes_opt_2d.res['max']['max_val'] > bo_implementation_2d.best_y:\n",
    "        print(\"Bayes Opt Won\")\n",
    "        bayes_opt_wins_2d +=1\n",
    "    else:\n",
    "        print('My implementation won')\n",
    "        my_implementation_wins_2d +=1 \n",
    "    "
   ]
  },
  {
   "cell_type": "code",
   "execution_count": 570,
   "metadata": {},
   "outputs": [
    {
     "data": {
      "image/png": "[encoded data removed]",
      "text/plain": [
       "<matplotlib.figure.Figure at 0x11ea07240>"
      ]
     },
     "metadata": {},
     "output_type": "display_data"
    }
   ],
   "source": [
    "plt.figure(figsize=(10,5))\n",
    "plt.title('Results of 2D hyperparameter search')\n",
    "sns.barplot(x = ['bayes_opt_implementation','my_implementation'],y =[bayes_opt_wins_2d, my_implementation_wins_2d] );"
   ]
  },
  {
   "cell_type": "markdown",
   "metadata": {},
   "source": [
    "- I manually tuned the length parameter of the RBF kernel which explains the better performance "
   ]
  },
  {
   "cell_type": "markdown",
   "metadata": {
    "collapsed": true
   },
   "source": [
    "# Finally, test IBO vs bayesian_optimization using an objective function\n",
    "- Maximize the negative root mean squarred error\n",
    "- Use a the Cycle Power Plant data set https://archive.ics.uci.edu/ml/datasets/Combined+Cycle+Power+Plant\n",
    ">The dataset contains 9568 data points collected from a Combined Cycle Power Plant over 6 years (2006-2011), when the power plant was set to work with full load. Features consist of hourly average ambient variables Temperature (T), Ambient Pressure (AP), Relative Humidity (RH) and Exhaust Vacuum (V) to predict the net hourly electrical energy output (EP) of the plant.\n",
    "A combined cycle power plant (CCPP) is composed of gas turbines (GT), steam turbines (ST) and heat recovery steam generators. In a CCPP, the electricity is generated by gas and steam turbines, which are combined in one cycle, and is transferred from one turbine to another. While the Vacuum is colected from and has effect on the Steam Turbine, he other three of the ambient variables effect the GT performance.\n",
    "For comparability with our baseline studies, and to allow 5x2 fold statistical tests be carried out, we provide the data shuffled five times. For each shuffling 2-fold CV is carried out and the resulting 10 measurements are used for statistical testing.\n",
    "We provide the data both in .ods and in .xlsx formats.\n",
    "- Predict  the net hourly electrical energy output (EP) \n",
    "- Domain: N_estimators [1,700,5] Max_depth [1,50]\n"
   ]
  },
  {
   "cell_type": "markdown",
   "metadata": {},
   "source": [
    "### Open up the data"
   ]
  },
  {
   "cell_type": "code",
   "execution_count": 16,
   "metadata": {
    "collapsed": true,
    "scrolled": true
   },
   "outputs": [],
   "source": [
    "power_cycle_df  = pd.read_excel(\"../data/power_cycle.xlsx\")"
   ]
  },
  {
   "cell_type": "code",
   "execution_count": 17,
   "metadata": {},
   "outputs": [
    {
     "data": {
      "text/html": [
       "<div>\n",
       "<style>\n",
       "    .dataframe thead tr:only-child th {\n",
       "        text-align: right;\n",
       "    }\n",
       "\n",
       "    .dataframe thead th {\n",
       "        text-align: left;\n",
       "    }\n",
       "\n",
       "    .dataframe tbody tr th {\n",
       "        vertical-align: top;\n",
       "    }\n",
       "</style>\n",
       "<table border=\"1\" class=\"dataframe\">\n",
       "  <thead>\n",
       "    <tr style=\"text-align: right;\">\n",
       "      <th></th>\n",
       "      <th>AT</th>\n",
       "      <th>V</th>\n",
       "      <th>AP</th>\n",
       "      <th>RH</th>\n",
       "      <th>PE</th>\n",
       "    </tr>\n",
       "  </thead>\n",
       "  <tbody>\n",
       "    <tr>\n",
       "      <th>0</th>\n",
       "      <td>14.96</td>\n",
       "      <td>41.76</td>\n",
       "      <td>1024.07</td>\n",
       "      <td>73.17</td>\n",
       "      <td>463.26</td>\n",
       "    </tr>\n",
       "    <tr>\n",
       "      <th>1</th>\n",
       "      <td>25.18</td>\n",
       "      <td>62.96</td>\n",
       "      <td>1020.04</td>\n",
       "      <td>59.08</td>\n",
       "      <td>444.37</td>\n",
       "    </tr>\n",
       "    <tr>\n",
       "      <th>2</th>\n",
       "      <td>5.11</td>\n",
       "      <td>39.40</td>\n",
       "      <td>1012.16</td>\n",
       "      <td>92.14</td>\n",
       "      <td>488.56</td>\n",
       "    </tr>\n",
       "    <tr>\n",
       "      <th>3</th>\n",
       "      <td>20.86</td>\n",
       "      <td>57.32</td>\n",
       "      <td>1010.24</td>\n",
       "      <td>76.64</td>\n",
       "      <td>446.48</td>\n",
       "    </tr>\n",
       "    <tr>\n",
       "      <th>4</th>\n",
       "      <td>10.82</td>\n",
       "      <td>37.50</td>\n",
       "      <td>1009.23</td>\n",
       "      <td>96.62</td>\n",
       "      <td>473.90</td>\n",
       "    </tr>\n",
       "  </tbody>\n",
       "</table>\n",
       "</div>"
      ],
      "text/plain": [
       "      AT      V       AP     RH      PE\n",
       "0  14.96  41.76  1024.07  73.17  463.26\n",
       "1  25.18  62.96  1020.04  59.08  444.37\n",
       "2   5.11  39.40  1012.16  92.14  488.56\n",
       "3  20.86  57.32  1010.24  76.64  446.48\n",
       "4  10.82  37.50  1009.23  96.62  473.90"
      ]
     },
     "execution_count": 17,
     "metadata": {},
     "output_type": "execute_result"
    }
   ],
   "source": [
    "power_cycle_df.head()"
   ]
  },
  {
   "cell_type": "code",
   "execution_count": 18,
   "metadata": {},
   "outputs": [
    {
     "data": {
      "text/html": [
       "<div>\n",
       "<style>\n",
       "    .dataframe thead tr:only-child th {\n",
       "        text-align: right;\n",
       "    }\n",
       "\n",
       "    .dataframe thead th {\n",
       "        text-align: left;\n",
       "    }\n",
       "\n",
       "    .dataframe tbody tr th {\n",
       "        vertical-align: top;\n",
       "    }\n",
       "</style>\n",
       "<table border=\"1\" class=\"dataframe\">\n",
       "  <thead>\n",
       "    <tr style=\"text-align: right;\">\n",
       "      <th></th>\n",
       "      <th>AT</th>\n",
       "      <th>V</th>\n",
       "      <th>AP</th>\n",
       "      <th>RH</th>\n",
       "      <th>PE</th>\n",
       "    </tr>\n",
       "  </thead>\n",
       "  <tbody>\n",
       "    <tr>\n",
       "      <th>count</th>\n",
       "      <td>9568.000000</td>\n",
       "      <td>9568.000000</td>\n",
       "      <td>9568.000000</td>\n",
       "      <td>9568.000000</td>\n",
       "      <td>9568.000000</td>\n",
       "    </tr>\n",
       "    <tr>\n",
       "      <th>mean</th>\n",
       "      <td>19.651231</td>\n",
       "      <td>54.305804</td>\n",
       "      <td>1013.259078</td>\n",
       "      <td>73.308978</td>\n",
       "      <td>454.365009</td>\n",
       "    </tr>\n",
       "    <tr>\n",
       "      <th>std</th>\n",
       "      <td>7.452473</td>\n",
       "      <td>12.707893</td>\n",
       "      <td>5.938784</td>\n",
       "      <td>14.600269</td>\n",
       "      <td>17.066995</td>\n",
       "    </tr>\n",
       "    <tr>\n",
       "      <th>min</th>\n",
       "      <td>1.810000</td>\n",
       "      <td>25.360000</td>\n",
       "      <td>992.890000</td>\n",
       "      <td>25.560000</td>\n",
       "      <td>420.260000</td>\n",
       "    </tr>\n",
       "    <tr>\n",
       "      <th>25%</th>\n",
       "      <td>13.510000</td>\n",
       "      <td>41.740000</td>\n",
       "      <td>1009.100000</td>\n",
       "      <td>63.327500</td>\n",
       "      <td>439.750000</td>\n",
       "    </tr>\n",
       "    <tr>\n",
       "      <th>50%</th>\n",
       "      <td>20.345000</td>\n",
       "      <td>52.080000</td>\n",
       "      <td>1012.940000</td>\n",
       "      <td>74.975000</td>\n",
       "      <td>451.550000</td>\n",
       "    </tr>\n",
       "    <tr>\n",
       "      <th>75%</th>\n",
       "      <td>25.720000</td>\n",
       "      <td>66.540000</td>\n",
       "      <td>1017.260000</td>\n",
       "      <td>84.830000</td>\n",
       "      <td>468.430000</td>\n",
       "    </tr>\n",
       "    <tr>\n",
       "      <th>max</th>\n",
       "      <td>37.110000</td>\n",
       "      <td>81.560000</td>\n",
       "      <td>1033.300000</td>\n",
       "      <td>100.160000</td>\n",
       "      <td>495.760000</td>\n",
       "    </tr>\n",
       "  </tbody>\n",
       "</table>\n",
       "</div>"
      ],
      "text/plain": [
       "                AT            V           AP           RH           PE\n",
       "count  9568.000000  9568.000000  9568.000000  9568.000000  9568.000000\n",
       "mean     19.651231    54.305804  1013.259078    73.308978   454.365009\n",
       "std       7.452473    12.707893     5.938784    14.600269    17.066995\n",
       "min       1.810000    25.360000   992.890000    25.560000   420.260000\n",
       "25%      13.510000    41.740000  1009.100000    63.327500   439.750000\n",
       "50%      20.345000    52.080000  1012.940000    74.975000   451.550000\n",
       "75%      25.720000    66.540000  1017.260000    84.830000   468.430000\n",
       "max      37.110000    81.560000  1033.300000   100.160000   495.760000"
      ]
     },
     "execution_count": 18,
     "metadata": {},
     "output_type": "execute_result"
    }
   ],
   "source": [
    "power_cycle_df.describe()"
   ]
  },
  {
   "cell_type": "code",
   "execution_count": 19,
   "metadata": {
    "collapsed": true
   },
   "outputs": [],
   "source": [
    "X_train, X_test, y_train, y_test = train_test_split(power_cycle_df.iloc[:,:-1] , power_cycle_df.iloc[:,-1]\n",
    "                                                    ,test_size = .1, random_state = 20)"
   ]
  },
  {
   "cell_type": "markdown",
   "metadata": {},
   "source": [
    "### Need to define the objective function to visualize the loss manifold"
   ]
  },
  {
   "cell_type": "code",
   "execution_count": 20,
   "metadata": {},
   "outputs": [],
   "source": [
    "def hyperparam_choice_function(hyperparameter_value, X_train_in=X_train, \n",
    "                               X_test_in = X_test, y_train_in = y_train, y_test_in = y_test,\n",
    "                               model = GradientBoostingRegressor, dimensions = 'one', hyperparameter_value_two = None):\n",
    "    \"\"\"Returns the negative MSE of the input hyperparameter for the given  hyperparameter.\n",
    "    Used with GGradient Boosting\n",
    "    Relies on a global name scope to bring in the data.\n",
    "    If dimensions = one, then search n_estimators. if dimension equal two then search over n_estimators and max_depth\"\"\"\n",
    "    if dimensions == 'one':\n",
    "        try:\n",
    "            m = model(n_estimators= int(hyperparameter_value))\n",
    "        except:\n",
    "             m = model(n_estimators= hyperparameter_value)\n",
    "        m.fit(X_train_in, y_train_in)\n",
    "        pred = m.predict(X_test_in)\n",
    "        n_mse = root_mean_squared_error(y_test_in, pred)\n",
    "        return n_mse\n",
    "    elif dimensions =='two':\n",
    "        try:\n",
    "            m = model(n_estimators = int(hyperparameter_value), max_depth = int(hyperparameter_value_two))\n",
    "        except:\n",
    "            m = model(n_estimators = hyperparameter_value, max_depth = hyperparameter_value_two)\n",
    "        m.fit(X_train_in, y_train_in)\n",
    "        pred = m.predict(X_test_in)\n",
    "        n_mse = root_mean_squared_error(y_test_in, pred)\n",
    "        return n_mse\n",
    "    else:\n",
    "        return ' We do not support this number of dimensions yet'\n",
    "# MSE\n",
    "def root_mean_squared_error(actual, predicted, negative = True):\n",
    "    \"\"\"RMSE of actual and predicted value.\n",
    "    Negative turn the MSE negative to allow for maximization instead of minimization\"\"\"\n",
    "    if negative == True:\n",
    "        return - np.sqrt(sum((actual.reshape(-1,1) - predicted.reshape(-1,1)**2))\n",
    "                                 /len(actual))\n",
    "    else:\n",
    "        return np.sqrt(sum((actual.reshape(-1,1) - predicted.reshape(-1,1)**2))\n",
    "                                 /len(actual))"
   ]
  },
  {
   "cell_type": "code",
   "execution_count": 21,
   "metadata": {},
   "outputs": [],
   "source": [
    "def hyperparam_choice_function_two(hyperparameter_value,hyperparameter_value_two, X_train_in=X_train, \n",
    "                               X_test_in = X_test, y_train_in = y_train, y_test_in = y_test,\n",
    "                               model = GradientBoostingRegressor):\n",
    "    \"\"\"For two dimensions choice function\"\"\"\n",
    "\n",
    "    m = model(n_estimators = int(hyperparameter_value), max_depth = int(hyperparameter_value_two))\n",
    "    m.fit(X_train_in, y_train_in)\n",
    "    pred = m.predict(X_test_in)\n",
    "    n_mse = mean_squared_error(y_test_in, pred, negative= True)\n",
    "    return n_mse\n",
    "    "
   ]
  },
  {
   "cell_type": "code",
   "execution_count": 50,
   "metadata": {},
   "outputs": [],
   "source": [
    "def hyp_choice_sklearn(hyperparameter_value,hyperparameter_value_two, y_tra = y_train, X_tra = X_train,\n",
    "                       X_tes = X_test, y_tes = y_test):\n",
    "    hyperparameter_value = int(hyperparameter_value)\n",
    "    hyperparameter_value_two = int(hyperparameter_value_two)\n",
    "    nmse = - mean_squared_error(y_tes,\n",
    "                                GradientBoostingRegressor(n_estimators=hyperparameter_value,\n",
    "                                max_depth =hyperparameter_value_two).fit(X_tra.as_matrix()\n",
    "                                                                         ,y_tra.as_matrix()).predict(\n",
    "                                    X_tes.as_matrix()))\n",
    "    return nmse"
   ]
  },
  {
   "cell_type": "code",
   "execution_count": 37,
   "metadata": {},
   "outputs": [
    {
     "data": {
      "text/plain": [
       "-11.374064025674747"
      ]
     },
     "execution_count": 37,
     "metadata": {},
     "output_type": "execute_result"
    }
   ],
   "source": [
    "hyp_choice_sklearn(500,3)"
   ]
  },
  {
   "cell_type": "markdown",
   "metadata": {},
   "source": [
    "### Visualize the loss manifold"
   ]
  },
  {
   "cell_type": "code",
   "execution_count": 23,
   "metadata": {},
   "outputs": [
    {
     "name": "stderr",
     "output_type": "stream",
     "text": [
      "/Users/jonathanhilgart/anaconda/envs/stats/lib/python3.6/site-packages/ipykernel_launcher.py:33: FutureWarning: reshape is deprecated and will raise in a subsequent release. Please use .values.reshape(...) instead\n",
      "/Users/jonathanhilgart/anaconda/envs/stats/lib/python3.6/site-packages/ipykernel_launcher.py:34: RuntimeWarning: invalid value encountered in sqrt\n"
     ]
    }
   ],
   "source": [
    "domain_n_estimators = range(1,700,5)\n",
    "domain_max_depth = range(1,50)\n",
    "\n",
    "combo_domain_hyp = np.array(list(itertools.product(*[domain_n_estimators, domain_max_depth ])))\n",
    "twoD_train_x_hyp = np.array([combo_domain_hyp[np.random.choice(len(combo_domain_hyp))] ] )\n",
    "twoD_train_y_hyp = np.array([hyperparam_choice_function(twoD_train_x_hyp[0][0], dimensions = 'two',\n",
    "                                                        hyperparameter_value_two = twoD_train_x_hyp[0][1])]).reshape(-1,1)\n",
    "# Define the axes for the scatter plot\n",
    "xs = [combo_domain_hyp[i][0] for i in range(len(combo_domain_hyp))]\n",
    "ys = [combo_domain_hyp[i][1] for i in range(len(combo_domain_hyp))]"
   ]
  },
  {
   "cell_type": "code",
   "execution_count": 260,
   "metadata": {},
   "outputs": [
    {
     "data": {
      "text/plain": [
       "array([1, 1])"
      ]
     },
     "execution_count": 260,
     "metadata": {},
     "output_type": "execute_result"
    }
   ],
   "source": [
    "combo_domain_hyp[0]"
   ]
  },
  {
   "cell_type": "code",
   "execution_count": 158,
   "metadata": {},
   "outputs": [
    {
     "ename": "KeyboardInterrupt",
     "evalue": "",
     "output_type": "error",
     "traceback": [
      "\u001b[0;31m---------------------------------------------------------------------------\u001b[0m",
      "\u001b[0;31mKeyboardInterrupt\u001b[0m                         Traceback (most recent call last)",
      "\u001b[0;32m<ipython-input-158-56199b08097d>\u001b[0m in \u001b[0;36m<module>\u001b[0;34m()\u001b[0m\n\u001b[1;32m      1\u001b[0m zs = np.array([hyperparam_choice_function(combo_domain_hyp[i][0],dimensions='two',\n\u001b[0;32m----> 2\u001b[0;31m                         hyperparameter_value_two = combo_domain_hyp[i][1]) for i in range(len(combo_domain_hyp))]).reshape(-1,1)\n\u001b[0m",
      "\u001b[0;32m<ipython-input-158-56199b08097d>\u001b[0m in \u001b[0;36m<listcomp>\u001b[0;34m(.0)\u001b[0m\n\u001b[1;32m      1\u001b[0m zs = np.array([hyperparam_choice_function(combo_domain_hyp[i][0],dimensions='two',\n\u001b[0;32m----> 2\u001b[0;31m                         hyperparameter_value_two = combo_domain_hyp[i][1]) for i in range(len(combo_domain_hyp))]).reshape(-1,1)\n\u001b[0m",
      "\u001b[0;32m<ipython-input-155-29824ebf9ea8>\u001b[0m in \u001b[0;36mhyperparam_choice_function\u001b[0;34m(hyperparameter_value, X_train_in, X_test_in, y_train_in, y_test_in, model, dimensions, hyperparameter_value_two)\u001b[0m\n\u001b[1;32m     20\u001b[0m         \u001b[0;32mexcept\u001b[0m\u001b[0;34m:\u001b[0m\u001b[0;34m\u001b[0m\u001b[0m\n\u001b[1;32m     21\u001b[0m             \u001b[0mm\u001b[0m \u001b[0;34m=\u001b[0m \u001b[0mmodel\u001b[0m\u001b[0;34m(\u001b[0m\u001b[0mn_estimators\u001b[0m \u001b[0;34m=\u001b[0m \u001b[0mhyperparameter_value\u001b[0m\u001b[0;34m,\u001b[0m \u001b[0mmax_depth\u001b[0m \u001b[0;34m=\u001b[0m \u001b[0mhyperparameter_value_two\u001b[0m\u001b[0;34m)\u001b[0m\u001b[0;34m\u001b[0m\u001b[0m\n\u001b[0;32m---> 22\u001b[0;31m         \u001b[0mm\u001b[0m\u001b[0;34m.\u001b[0m\u001b[0mfit\u001b[0m\u001b[0;34m(\u001b[0m\u001b[0mX_train_in\u001b[0m\u001b[0;34m,\u001b[0m \u001b[0my_train_in\u001b[0m\u001b[0;34m)\u001b[0m\u001b[0;34m\u001b[0m\u001b[0m\n\u001b[0m\u001b[1;32m     23\u001b[0m         \u001b[0mpred\u001b[0m \u001b[0;34m=\u001b[0m \u001b[0mm\u001b[0m\u001b[0;34m.\u001b[0m\u001b[0mpredict\u001b[0m\u001b[0;34m(\u001b[0m\u001b[0mX_test_in\u001b[0m\u001b[0;34m)\u001b[0m\u001b[0;34m\u001b[0m\u001b[0m\n\u001b[1;32m     24\u001b[0m         \u001b[0mn_mse\u001b[0m \u001b[0;34m=\u001b[0m \u001b[0mmean_squared_error\u001b[0m\u001b[0;34m(\u001b[0m\u001b[0my_test_in\u001b[0m\u001b[0;34m,\u001b[0m \u001b[0mpred\u001b[0m\u001b[0;34m)\u001b[0m\u001b[0;34m\u001b[0m\u001b[0m\n",
      "\u001b[0;32m~/anaconda/envs/stats/lib/python3.6/site-packages/sklearn/ensemble/gradient_boosting.py\u001b[0m in \u001b[0;36mfit\u001b[0;34m(self, X, y, sample_weight, monitor)\u001b[0m\n\u001b[1;32m   1026\u001b[0m         \u001b[0;31m# fit the boosting stages\u001b[0m\u001b[0;34m\u001b[0m\u001b[0;34m\u001b[0m\u001b[0m\n\u001b[1;32m   1027\u001b[0m         n_stages = self._fit_stages(X, y, y_pred, sample_weight, random_state,\n\u001b[0;32m-> 1028\u001b[0;31m                                     begin_at_stage, monitor, X_idx_sorted)\n\u001b[0m\u001b[1;32m   1029\u001b[0m         \u001b[0;31m# change shape of arrays after fit (early-stopping or additional ests)\u001b[0m\u001b[0;34m\u001b[0m\u001b[0;34m\u001b[0m\u001b[0m\n\u001b[1;32m   1030\u001b[0m         \u001b[0;32mif\u001b[0m \u001b[0mn_stages\u001b[0m \u001b[0;34m!=\u001b[0m \u001b[0mself\u001b[0m\u001b[0;34m.\u001b[0m\u001b[0mestimators_\u001b[0m\u001b[0;34m.\u001b[0m\u001b[0mshape\u001b[0m\u001b[0;34m[\u001b[0m\u001b[0;36m0\u001b[0m\u001b[0;34m]\u001b[0m\u001b[0;34m:\u001b[0m\u001b[0;34m\u001b[0m\u001b[0m\n",
      "\u001b[0;32m~/anaconda/envs/stats/lib/python3.6/site-packages/sklearn/ensemble/gradient_boosting.py\u001b[0m in \u001b[0;36m_fit_stages\u001b[0;34m(self, X, y, y_pred, sample_weight, random_state, begin_at_stage, monitor, X_idx_sorted)\u001b[0m\n\u001b[1;32m   1081\u001b[0m             y_pred = self._fit_stage(i, X, y, y_pred, sample_weight,\n\u001b[1;32m   1082\u001b[0m                                      \u001b[0msample_mask\u001b[0m\u001b[0;34m,\u001b[0m \u001b[0mrandom_state\u001b[0m\u001b[0;34m,\u001b[0m \u001b[0mX_idx_sorted\u001b[0m\u001b[0;34m,\u001b[0m\u001b[0;34m\u001b[0m\u001b[0m\n\u001b[0;32m-> 1083\u001b[0;31m                                      X_csc, X_csr)\n\u001b[0m\u001b[1;32m   1084\u001b[0m \u001b[0;34m\u001b[0m\u001b[0m\n\u001b[1;32m   1085\u001b[0m             \u001b[0;31m# track deviance (= loss)\u001b[0m\u001b[0;34m\u001b[0m\u001b[0;34m\u001b[0m\u001b[0m\n",
      "\u001b[0;32m~/anaconda/envs/stats/lib/python3.6/site-packages/sklearn/ensemble/gradient_boosting.py\u001b[0m in \u001b[0;36m_fit_stage\u001b[0;34m(self, i, X, y, y_pred, sample_weight, sample_mask, random_state, X_idx_sorted, X_csc, X_csr)\u001b[0m\n\u001b[1;32m    785\u001b[0m             \u001b[0;32melse\u001b[0m\u001b[0;34m:\u001b[0m\u001b[0;34m\u001b[0m\u001b[0m\n\u001b[1;32m    786\u001b[0m                 tree.fit(X, residual, sample_weight=sample_weight,\n\u001b[0;32m--> 787\u001b[0;31m                          check_input=False, X_idx_sorted=X_idx_sorted)\n\u001b[0m\u001b[1;32m    788\u001b[0m \u001b[0;34m\u001b[0m\u001b[0m\n\u001b[1;32m    789\u001b[0m             \u001b[0;31m# update tree leaves\u001b[0m\u001b[0;34m\u001b[0m\u001b[0;34m\u001b[0m\u001b[0m\n",
      "\u001b[0;32m~/anaconda/envs/stats/lib/python3.6/site-packages/sklearn/tree/tree.py\u001b[0m in \u001b[0;36mfit\u001b[0;34m(self, X, y, sample_weight, check_input, X_idx_sorted)\u001b[0m\n\u001b[1;32m   1027\u001b[0m             \u001b[0msample_weight\u001b[0m\u001b[0;34m=\u001b[0m\u001b[0msample_weight\u001b[0m\u001b[0;34m,\u001b[0m\u001b[0;34m\u001b[0m\u001b[0m\n\u001b[1;32m   1028\u001b[0m             \u001b[0mcheck_input\u001b[0m\u001b[0;34m=\u001b[0m\u001b[0mcheck_input\u001b[0m\u001b[0;34m,\u001b[0m\u001b[0;34m\u001b[0m\u001b[0m\n\u001b[0;32m-> 1029\u001b[0;31m             X_idx_sorted=X_idx_sorted)\n\u001b[0m\u001b[1;32m   1030\u001b[0m         \u001b[0;32mreturn\u001b[0m \u001b[0mself\u001b[0m\u001b[0;34m\u001b[0m\u001b[0m\n\u001b[1;32m   1031\u001b[0m \u001b[0;34m\u001b[0m\u001b[0m\n",
      "\u001b[0;32m~/anaconda/envs/stats/lib/python3.6/site-packages/sklearn/tree/tree.py\u001b[0m in \u001b[0;36mfit\u001b[0;34m(self, X, y, sample_weight, check_input, X_idx_sorted)\u001b[0m\n\u001b[1;32m    348\u001b[0m                                            self.min_impurity_split)\n\u001b[1;32m    349\u001b[0m \u001b[0;34m\u001b[0m\u001b[0m\n\u001b[0;32m--> 350\u001b[0;31m         \u001b[0mbuilder\u001b[0m\u001b[0;34m.\u001b[0m\u001b[0mbuild\u001b[0m\u001b[0;34m(\u001b[0m\u001b[0mself\u001b[0m\u001b[0;34m.\u001b[0m\u001b[0mtree_\u001b[0m\u001b[0;34m,\u001b[0m \u001b[0mX\u001b[0m\u001b[0;34m,\u001b[0m \u001b[0my\u001b[0m\u001b[0;34m,\u001b[0m \u001b[0msample_weight\u001b[0m\u001b[0;34m,\u001b[0m \u001b[0mX_idx_sorted\u001b[0m\u001b[0;34m)\u001b[0m\u001b[0;34m\u001b[0m\u001b[0m\n\u001b[0m\u001b[1;32m    351\u001b[0m \u001b[0;34m\u001b[0m\u001b[0m\n\u001b[1;32m    352\u001b[0m         \u001b[0;32mif\u001b[0m \u001b[0mself\u001b[0m\u001b[0;34m.\u001b[0m\u001b[0mn_outputs_\u001b[0m \u001b[0;34m==\u001b[0m \u001b[0;36m1\u001b[0m\u001b[0;34m:\u001b[0m\u001b[0;34m\u001b[0m\u001b[0m\n",
      "\u001b[0;31mKeyboardInterrupt\u001b[0m: "
     ]
    }
   ],
   "source": [
    "zs = np.array([hyperparam_choice_function(combo_domain_hyp[i][0],dimensions='two',\n",
    "                        hyperparameter_value_two = combo_domain_hyp[i][1]) for i in range(len(combo_domain_hyp))]).reshape(-1,1)"
   ]
  },
  {
   "cell_type": "code",
   "execution_count": null,
   "metadata": {
    "collapsed": true
   },
   "outputs": [],
   "source": [
    "fig = plt.figure(figsize=(13,10))\n",
    "ax = fig.add_subplot(111, projection='3d')\n",
    "ax.scatter(xs, ys, twoD_function_y,cmap='hot',c=twoD_function_y)\n",
    "ax.set_xlabel('n_estimators')\n",
    "ax.set_ylabel('max_depth')\n",
    "ax.set_zlabel('negativeRMSE')\n",
    "ax.set_title('Gradient Boosting');"
   ]
  },
  {
   "cell_type": "code",
   "execution_count": null,
   "metadata": {
    "collapsed": true
   },
   "outputs": [],
   "source": []
  },
  {
   "cell_type": "markdown",
   "metadata": {},
   "source": [
    "### Fit my implementation"
   ]
  },
  {
   "cell_type": "code",
   "execution_count": 51,
   "metadata": {
    "collapsed": true
   },
   "outputs": [],
   "source": [
    "bo_hyperparams = IBO()"
   ]
  },
  {
   "cell_type": "code",
   "execution_count": 52,
   "metadata": {
    "collapsed": true
   },
   "outputs": [],
   "source": [
    "bo_hyperparams.fit(twoD_train_x_hyp , twoD_train_y_hyp, combo_domain_hyp ,None, y_func_type='objective' ,\n",
    "                   test_points_x = X_test, \n",
    "                  test_points_y = y_test, model_obj= GradientBoostingRegressor,\n",
    "                  model_train_points_x =X_train, model_train_points_y =  y_train)"
   ]
  },
  {
   "cell_type": "markdown",
   "metadata": {},
   "source": [
    "### Fit the bayesian_optimization package"
   ]
  },
  {
   "cell_type": "code",
   "execution_count": 56,
   "metadata": {},
   "outputs": [],
   "source": [
    "bayes_opt_hyp = BayesianOptimization(hyp_choice_sklearn,\n",
    "                          {'hyperparameter_value': (1, 700),'hyperparameter_value_two':(1,71) }) # the bounds to explore\n",
    "bayes_opt_hyp .explore({'hyperparameter_value': [int(i) for i in range(1,700,10)],\n",
    "                        'hyperparameter_value_two':[int(i) for i in range(1,71)]}) # the points to explore, need the same size"
   ]
  },
  {
   "cell_type": "markdown",
   "metadata": {},
   "source": [
    "## Maximize my function"
   ]
  },
  {
   "cell_type": "code",
   "execution_count": 138,
   "metadata": {},
   "outputs": [
    {
     "name": "stdout",
     "output_type": "stream",
     "text": [
      "Bayesian Optimization just sampled point = [356  25]\n",
      "Best x (Bayesian Optimization) = [356  25],                         Best y = [-4.48355675]\n",
      "Bayesian Optimization just sampled point = (301, 11)\n",
      "Best x (Bayesian Optimization) = [356  25], Best y = [-4.48355675]\n",
      "Bayesian Optimization just sampled point = (626, 35)\n",
      "Best x (Bayesian Optimization) = [356  25], Best y = [-4.48355675]\n",
      "Bayesian Optimization just sampled point = (126, 45)\n",
      "Best x (Bayesian Optimization) = [356  25], Best y = [-4.48355675]\n",
      "Bayesian Optimization just sampled point = (166, 9)\n",
      "Best x (Bayesian Optimization) = [356  25], Best y = [-4.48355675]\n",
      "Bayesian Optimization just sampled point = (291, 30)\n",
      "Best x (Bayesian Optimization) = (291, 30), Best y = -4.453798041945481\n",
      "Bayesian Optimization just sampled point = (296, 4)\n",
      "Best x (Bayesian Optimization) = (291, 30), Best y = -4.453798041945481\n",
      "Bayesian Optimization just sampled point = (351, 15)\n",
      "Best x (Bayesian Optimization) = (291, 30), Best y = -4.453798041945481\n",
      "Bayesian Optimization just sampled point = (176, 15)\n",
      "Best x (Bayesian Optimization) = (291, 30), Best y = -4.453798041945481\n",
      "Bayesian Optimization just sampled point = (491, 44)\n",
      "Best x (Bayesian Optimization) = (291, 30), Best y = -4.453798041945481\n"
     ]
    },
    {
     "data": {
      "text/plain": [
       "((291, 30), -4.4537980419454808)"
      ]
     },
     "execution_count": 138,
     "metadata": {},
     "output_type": "execute_result"
    }
   ],
   "source": [
    "bo_hyperparams.maximize()"
   ]
  },
  {
   "cell_type": "markdown",
   "metadata": {},
   "source": [
    "## Maximize the BayesianOptimization package"
   ]
  },
  {
   "cell_type": "code",
   "execution_count": 57,
   "metadata": {},
   "outputs": [
    {
     "name": "stdout",
     "output_type": "stream",
     "text": [
      "\u001b[31mInitialization\u001b[0m\n",
      "\u001b[94m-----------------------------------------------------------------------------------\u001b[0m\n",
      " Step |   Time |      Value |   hyperparameter_value |   hyperparameter_value_two | \n",
      "    1 | 00m00s | \u001b[35m-261.58979\u001b[0m | \u001b[32m                1.0000\u001b[0m | \u001b[32m                    1.0000\u001b[0m | \n",
      "    2 | 00m00s | \u001b[35m -56.24921\u001b[0m | \u001b[32m               11.0000\u001b[0m | \u001b[32m                    2.0000\u001b[0m | \n",
      "    3 | 00m00s | \u001b[35m -22.67266\u001b[0m | \u001b[32m               21.0000\u001b[0m | \u001b[32m                    3.0000\u001b[0m | \n",
      "    4 | 00m00s | \u001b[35m -16.45172\u001b[0m | \u001b[32m               31.0000\u001b[0m | \u001b[32m                    4.0000\u001b[0m | \n",
      "    5 | 00m00s | \u001b[35m -13.92228\u001b[0m | \u001b[32m               41.0000\u001b[0m | \u001b[32m                    5.0000\u001b[0m | \n",
      "    6 | 00m00s | \u001b[35m -12.38456\u001b[0m | \u001b[32m               51.0000\u001b[0m | \u001b[32m                    6.0000\u001b[0m | \n",
      "    7 | 00m00s | \u001b[35m -11.49106\u001b[0m | \u001b[32m               61.0000\u001b[0m | \u001b[32m                    7.0000\u001b[0m | \n",
      "    8 | 00m01s | \u001b[35m -10.33892\u001b[0m | \u001b[32m               71.0000\u001b[0m | \u001b[32m                    8.0000\u001b[0m | \n",
      "    9 | 00m01s |  -10.34315 |                81.0000 |                     9.0000 | \n",
      "   10 | 00m02s | \u001b[35m -10.09161\u001b[0m | \u001b[32m               91.0000\u001b[0m | \u001b[32m                   10.0000\u001b[0m | \n",
      "   11 | 00m03s |  -10.41287 |               101.0000 |                    11.0000 | \n",
      "   12 | 00m04s |  -11.05008 |               111.0000 |                    12.0000 | \n",
      "   13 | 00m07s |  -11.61857 |               121.0000 |                    13.0000 | \n",
      "   14 | 00m11s |  -13.20587 |               131.0000 |                    14.0000 | \n",
      "   15 | 00m12s |  -14.04627 |               141.0000 |                    15.0000 | \n",
      "   16 | 00m16s |  -14.74918 |               151.0000 |                    16.0000 | \n",
      "   17 | 00m21s |  -15.39770 |               161.0000 |                    17.0000 | \n",
      "   18 | 00m19s |  -16.97854 |               171.0000 |                    18.0000 | \n",
      "   19 | 00m18s |  -18.34787 |               181.0000 |                    19.0000 | \n",
      "   20 | 00m21s |  -19.22212 |               191.0000 |                    20.0000 | \n",
      "   21 | 00m22s |  -18.81621 |               201.0000 |                    21.0000 | \n",
      "   22 | 00m20s |  -19.78308 |               211.0000 |                    22.0000 | \n",
      "   23 | 00m20s |  -19.71077 |               221.0000 |                    23.0000 | \n",
      "   24 | 00m22s |  -20.05785 |               231.0000 |                    24.0000 | \n",
      "   25 | 00m22s |  -20.33592 |               241.0000 |                    25.0000 | \n",
      "   26 | 00m19s |  -19.98991 |               251.0000 |                    26.0000 | \n",
      "   27 | 00m19s |  -20.45308 |               261.0000 |                    27.0000 | \n",
      "   28 | 00m21s |  -20.16413 |               271.0000 |                    28.0000 | \n",
      "   29 | 00m21s |  -20.69257 |               281.0000 |                    29.0000 | \n",
      "   30 | 00m19s |  -20.50440 |               291.0000 |                    30.0000 | \n",
      "   31 | 00m21s |  -20.47055 |               301.0000 |                    31.0000 | \n",
      "   32 | 00m20s |  -19.94021 |               311.0000 |                    32.0000 | \n",
      "   33 | 00m19s |  -20.35496 |               321.0000 |                    33.0000 | \n",
      "   34 | 00m19s |  -20.43638 |               331.0000 |                    34.0000 | \n",
      "   35 | 00m19s |  -20.45906 |               341.0000 |                    35.0000 | \n",
      "   36 | 00m20s |  -20.52749 |               351.0000 |                    36.0000 | \n",
      "   37 | 00m20s |  -20.04813 |               361.0000 |                    37.0000 | \n",
      "   38 | 00m20s |  -20.63900 |               371.0000 |                    38.0000 | \n",
      "   39 | 00m23s |  -19.99483 |               381.0000 |                    39.0000 | \n",
      "   40 | 00m19s |  -20.74313 |               391.0000 |                    40.0000 | \n",
      "   41 | 00m21s |  -20.30675 |               401.0000 |                    41.0000 | \n",
      "   42 | 00m20s |  -19.88286 |               411.0000 |                    42.0000 | \n",
      "   43 | 00m27s |  -20.07713 |               421.0000 |                    43.0000 | \n",
      "   44 | 00m22s |  -20.88209 |               431.0000 |                    44.0000 | \n",
      "   45 | 00m24s |  -20.84059 |               441.0000 |                    45.0000 | \n",
      "   46 | 00m22s |  -20.72867 |               451.0000 |                    46.0000 | \n",
      "   47 | 00m20s |  -20.11728 |               461.0000 |                    47.0000 | \n",
      "   48 | 00m20s |  -20.64778 |               471.0000 |                    48.0000 | \n",
      "   49 | 00m21s |  -20.48324 |               481.0000 |                    49.0000 | \n",
      "   50 | 00m20s |  -20.34108 |               491.0000 |                    50.0000 | \n",
      "   51 | 00m19s |  -20.19636 |               501.0000 |                    51.0000 | \n",
      "   52 | 00m20s |  -20.35533 |               511.0000 |                    52.0000 | \n",
      "   53 | 00m21s |  -20.25238 |               521.0000 |                    53.0000 | \n",
      "   54 | 00m20s |  -20.17713 |               531.0000 |                    54.0000 | \n",
      "   55 | 00m19s |  -20.37467 |               541.0000 |                    55.0000 | \n",
      "   56 | 00m21s |  -20.11435 |               551.0000 |                    56.0000 | \n",
      "   57 | 00m20s |  -20.12722 |               561.0000 |                    57.0000 | \n",
      "   58 | 00m20s |  -20.05989 |               571.0000 |                    58.0000 | \n",
      "   59 | 00m19s |  -20.07725 |               581.0000 |                    59.0000 | \n",
      "   60 | 00m22s |  -20.57400 |               591.0000 |                    60.0000 | \n",
      "   61 | 00m20s |  -20.33164 |               601.0000 |                    61.0000 | \n",
      "   62 | 00m21s |  -20.11718 |               611.0000 |                    62.0000 | \n",
      "   63 | 00m21s |  -20.18938 |               621.0000 |                    63.0000 | \n",
      "   64 | 00m20s |  -20.57472 |               631.0000 |                    64.0000 | \n",
      "   65 | 00m20s |  -20.42222 |               641.0000 |                    65.0000 | \n",
      "   66 | 00m19s |  -20.67052 |               651.0000 |                    66.0000 | \n",
      "   67 | 00m20s |  -20.44000 |               661.0000 |                    67.0000 | \n",
      "   68 | 00m19s |  -20.59790 |               671.0000 |                    68.0000 | \n",
      "   69 | 00m20s |  -19.92238 |               681.0000 |                    69.0000 | \n",
      "   70 | 00m20s |  -20.44763 |               691.0000 |                    70.0000 | \n",
      "   71 | 00m20s |  -20.40500 |               648.0356 |                    42.5608 | \n",
      "\u001b[31mBayesian Optimization\u001b[0m\n",
      "\u001b[94m-----------------------------------------------------------------------------------\u001b[0m\n",
      " Step |   Time |      Value |   hyperparameter_value |   hyperparameter_value_two | \n",
      "   72 | 00m19s |  -16.77006 |               700.0000 |                     1.0000 | \n",
      "   73 | 00m22s |  -20.06426 |                46.5600 |                    71.0000 | \n",
      "   74 | 00m32s |  -20.47861 |               113.3392 |                    71.0000 | \n",
      "   75 | 00m09s |  -16.84410 |               597.9388 |                     1.0000 | \n",
      "   76 | 00m09s |  -16.89696 |               537.9650 |                     1.0000 | \n",
      "   77 | 00m28s |  -20.40128 |               172.9290 |                    71.0000 | \n",
      "   78 | 00m09s | -247.24159 |                 1.0000 |                    71.0000 | \n",
      "   79 | 00m09s |  -16.94408 |               483.1878 |                     1.0000 | \n",
      "   80 | 00m34s |  -20.21227 |               227.7418 |                    71.0000 | \n",
      "   81 | 00m14s |  -16.80627 |               649.8330 |                     1.0000 | \n"
     ]
    }
   ],
   "source": [
    "bayes_opt_hyp.maximize(init_points=1, n_iter=10, acq='ei') # ten steps"
   ]
  },
  {
   "cell_type": "code",
   "execution_count": null,
   "metadata": {
    "collapsed": true
   },
   "outputs": [],
   "source": []
  }
 ],
 "metadata": {
  "kernelspec": {
   "display_name": "stats",
   "language": "python",
   "name": "stats"
  },
  "language_info": {
   "codemirror_mode": {
    "name": "ipython",
    "version": 3
   },
   "file_extension": ".py",
   "mimetype": "text/x-python",
   "name": "python",
   "nbconvert_exporter": "python",
   "pygments_lexer": "ipython3",
   "version": "3.6.1"
  }
 },
 "nbformat": 4,
 "nbformat_minor": 2
}
