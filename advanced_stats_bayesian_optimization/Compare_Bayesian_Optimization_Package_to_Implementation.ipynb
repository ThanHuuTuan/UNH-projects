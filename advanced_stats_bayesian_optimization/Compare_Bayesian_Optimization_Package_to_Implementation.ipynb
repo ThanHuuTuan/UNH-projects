{
 "cells": [
  {
   "cell_type": "code",
   "execution_count": 284,
   "metadata": {},
   "outputs": [
    {
     "name": "stdout",
     "output_type": "stream",
     "text": [
      "Populating the interactive namespace from numpy and matplotlib\n",
      "The autoreload extension is already loaded. To reload it, use:\n",
      "  %reload_ext autoreload\n"
     ]
    },
    {
     "name": "stderr",
     "output_type": "stream",
     "text": [
      "/Users/jonathanhilgart/anaconda/envs/stats/lib/python3.6/site-packages/IPython/core/magics/pylab.py:160: UserWarning: pylab import has clobbered these variables: ['cos']\n",
      "`%matplotlib` prevents importing * from pylab and numpy\n",
      "  \"\\n`%matplotlib` prevents importing * from pylab and numpy\"\n"
     ]
    }
   ],
   "source": [
    "from bayes_opt import BayesianOptimization\n",
    "import matplotlib.pyplot as plt\n",
    "import numpy as np\n",
    "from math import cos\n",
    "from sklearn.gaussian_process.kernels import RBF\n",
    "from mpl_toolkits.mplot3d import Axes3D\n",
    "import itertools\n",
    "import sys\n",
    "from python_scripts.bayesian_optimization import IBO\n",
    "import time\n",
    "import seaborn as sns\n",
    "%pylab inline\n",
    "%load_ext autoreload "
   ]
  },
  {
   "cell_type": "code",
   "execution_count": 271,
   "metadata": {
    "collapsed": true
   },
   "outputs": [],
   "source": [
    "%autoreload 2"
   ]
  },
  {
   "cell_type": "markdown",
   "metadata": {},
   "source": [
    "# This notebook assumes that you have an understanding of how Bayesian Optimization works.\n",
    "- For a review, please visit the notebook Overview_of_Intelligent_Bayesian_Optimization"
   ]
  },
  {
   "cell_type": "markdown",
   "metadata": {},
   "source": [
    "## We will compare my implementation of Bayesian Optimization with the bayesian_optimization package\n",
    "> Bayesian_optimization package: https://github.com/fmfn/BayesianOptimization\n",
    "- First, compare performance on a one-dimensional function\n",
    "- Second, compare performance on a two-dimensional function\n",
    "- Third, compare performance using an objective function to find the best hyperparameters of gradient boosting"
   ]
  },
  {
   "cell_type": "markdown",
   "metadata": {},
   "source": [
    "### Define the one-dimensional function"
   ]
  },
  {
   "cell_type": "code",
   "execution_count": 194,
   "metadata": {
    "collapsed": true
   },
   "outputs": [],
   "source": [
    "oneD_function =lambda x: cos(1000*x-500)+(abs(x*100_000))/(x**4+1000)"
   ]
  },
  {
   "cell_type": "code",
   "execution_count": 195,
   "metadata": {},
   "outputs": [
    {
     "data": {
      "image/png": "[encoded data removed]",
      "text/plain": [
       "<matplotlib.figure.Figure at 0x11e68f7b8>"
      ]
     },
     "metadata": {},
     "output_type": "display_data"
    }
   ],
   "source": [
    "plt.plot(np.linspace(-10,10),[oneD_function(_) for _ in np.linspace(-10,10)])\n",
    "plt.title('1D Demo Function');"
   ]
  },
  {
   "cell_type": "markdown",
   "metadata": {},
   "source": [
    "### Setup the package Bayesian_Optimization"
   ]
  },
  {
   "cell_type": "code",
   "execution_count": 332,
   "metadata": {
    "collapsed": true
   },
   "outputs": [],
   "source": [
    "bayes_opt = BayesianOptimization(oneD_function,\n",
    "                          {'x': (-10, 10)}) # the bounds to explore\n",
    "bayes_opt .explore({'x': np.linspace(-10,10)}) # the points to explore"
   ]
  },
  {
   "cell_type": "markdown",
   "metadata": {},
   "source": [
    "### Setup my implementation\n",
    "- Import IBO (Intelligent Bayesian Optimization)"
   ]
  },
  {
   "cell_type": "code",
   "execution_count": 325,
   "metadata": {
    "collapsed": true
   },
   "outputs": [],
   "source": [
    "bo_implementation = IBO()"
   ]
  },
  {
   "cell_type": "markdown",
   "metadata": {},
   "source": [
    "- Define the one train point, as well as the testing domain"
   ]
  },
  {
   "cell_type": "code",
   "execution_count": 326,
   "metadata": {
    "collapsed": true
   },
   "outputs": [],
   "source": [
    "test_x_oneD = np.array(np.linspace(-10,10,2_000)).reshape(-1,1)\n",
    "train_x_oneD = np.array(np.random.choice(test_x.ravel())).reshape(-1,1)\n",
    "train_y_numbers_oneD = np.array([oneD_function(_) for _ in train_x]).reshape(-1,1)"
   ]
  },
  {
   "cell_type": "markdown",
   "metadata": {},
   "source": [
    "- Fit the gaussian process from IBO"
   ]
  },
  {
   "cell_type": "code",
   "execution_count": 327,
   "metadata": {},
   "outputs": [],
   "source": [
    "bo_implementation.fit(train_x_oneD,train_y_numbers_oneD, test_x_oneD, oneD_function, y_func_type='real' )"
   ]
  },
  {
   "cell_type": "markdown",
   "metadata": {},
   "source": [
    "- There are two primary methods in my implementation\n",
    "        - 1) Predict: predict the next x-coordinates\n",
    "        - 2) Maximize: try to find the best x-coordinates given the number of steps"
   ]
  },
  {
   "cell_type": "markdown",
   "metadata": {},
   "source": [
    "# Run one trial of the bayes_opt vs my implementataion\n",
    "### Compare performance and time"
   ]
  },
  {
   "cell_type": "markdown",
   "metadata": {},
   "source": [
    "- My implementation"
   ]
  },
  {
   "cell_type": "code",
   "execution_count": 328,
   "metadata": {},
   "outputs": [
    {
     "name": "stdout",
     "output_type": "stream",
     "text": [
      "Bayesian Optimization just sampled point = [ 3.1865933]\n",
      "Best x (Bayesian Optimization) = [ 3.1865933],                         Best y = [ 288.01120847]\n",
      "Bayesian Optimization just sampled point = [ 3.38669335]\n",
      "Best x (Bayesian Optimization) = [ 3.38669335], Best y = [ 298.3869829]\n",
      "Bayesian Optimization just sampled point = [ 3.79689845]\n",
      "Best x (Bayesian Optimization) = [ 3.79689845], Best y = [ 314.15441828]\n",
      "Bayesian Optimization just sampled point = [ 3.2066033]\n",
      "Best x (Bayesian Optimization) = [ 3.79689845], Best y = [ 314.15441828]\n",
      "Bayesian Optimization just sampled point = [ 3.36668334]\n",
      "Best x (Bayesian Optimization) = [ 3.79689845], Best y = [ 314.15441828]\n",
      "Bayesian Optimization just sampled point = [ 4.19709855]\n",
      "Best x (Bayesian Optimization) = [ 4.19709855], Best y = [ 319.4638755]\n",
      "Bayesian Optimization just sampled point = [ 5.17758879]\n",
      "Best x (Bayesian Optimization) = [ 4.19709855], Best y = [ 319.4638755]\n",
      "Bayesian Optimization just sampled point = [ 4.52726363]\n",
      "Best x (Bayesian Optimization) = [ 4.52726363], Best y = [ 319.76786769]\n",
      "Bayesian Optimization just sampled point = [ 3.31665833]\n",
      "Best x (Bayesian Optimization) = [ 4.52726363], Best y = [ 319.76786769]\n",
      "Bayesian Optimization just sampled point = [ 5.28764382]\n",
      "Best x (Bayesian Optimization) = [ 4.52726363], Best y = [ 319.76786769]\n"
     ]
    }
   ],
   "source": [
    "# find the max\n",
    "start_my_bo = time.time()\n",
    "bo_implementation.maximize(n_steps=10)\n",
    "end_my_bo = time.time()"
   ]
  },
  {
   "cell_type": "markdown",
   "metadata": {},
   "source": [
    "- Bayes Opt implementation\n",
    "- Ensure to use the same number of initialization points, same number of steps, same acquisition function (Expected Improvement)"
   ]
  },
  {
   "cell_type": "code",
   "execution_count": 333,
   "metadata": {},
   "outputs": [
    {
     "name": "stdout",
     "output_type": "stream",
     "text": [
      "\u001b[31mInitialization\u001b[0m\n",
      "\u001b[94m-----------------------------------------\u001b[0m\n",
      " Step |   Time |      Value |         x | \n",
      "    1 | 00m00s | \u001b[35m  91.60769\u001b[0m | \u001b[32m -10.0000\u001b[0m | \n",
      "    2 | 00m00s | \u001b[35m 101.84945\u001b[0m | \u001b[32m  -9.5918\u001b[0m | \n",
      "    3 | 00m00s | \u001b[35m 113.47606\u001b[0m | \u001b[32m  -9.1837\u001b[0m | \n",
      "    4 | 00m00s | \u001b[35m 126.66415\u001b[0m | \u001b[32m  -8.7755\u001b[0m | \n",
      "    5 | 00m00s | \u001b[35m 141.57709\u001b[0m | \u001b[32m  -8.3673\u001b[0m | \n",
      "    6 | 00m00s | \u001b[35m 158.33855\u001b[0m | \u001b[32m  -7.9592\u001b[0m | \n",
      "    7 | 00m00s | \u001b[35m 176.99157\u001b[0m | \u001b[32m  -7.5510\u001b[0m | \n",
      "    8 | 00m00s | \u001b[35m 197.43956\u001b[0m | \u001b[32m  -7.1429\u001b[0m | \n",
      "    9 | 00m00s | \u001b[35m 219.36796\u001b[0m | \u001b[32m  -6.7347\u001b[0m | \n",
      "   10 | 00m00s | \u001b[35m 242.15235\u001b[0m | \u001b[32m  -6.3265\u001b[0m | \n",
      "   11 | 00m00s | \u001b[35m 264.77197\u001b[0m | \u001b[32m  -5.9184\u001b[0m | \n",
      "   12 | 00m00s | \u001b[35m 285.76658\u001b[0m | \u001b[32m  -5.5102\u001b[0m | \n",
      "   13 | 00m00s | \u001b[35m 303.29087\u001b[0m | \u001b[32m  -5.1020\u001b[0m | \n",
      "   14 | 00m00s | \u001b[35m 315.31580\u001b[0m | \u001b[32m  -4.6939\u001b[0m | \n",
      "   15 | 00m00s | \u001b[35m 319.97963\u001b[0m | \u001b[32m  -4.2857\u001b[0m | \n",
      "   16 | 00m00s |  316.00478 |   -3.8776 | \n",
      "   17 | 00m00s |  303.02024 |   -3.4694 | \n",
      "   18 | 00m00s |  281.63698 |   -3.0612 | \n",
      "   19 | 00m00s |  253.23789 |   -2.6531 | \n",
      "   20 | 00m00s |  219.58655 |   -2.2449 | \n",
      "   21 | 00m00s |  182.42609 |   -1.8367 | \n",
      "   22 | 00m00s |  143.19822 |   -1.4286 | \n",
      "   23 | 00m00s |  102.92279 |   -1.0204 | \n",
      "   24 | 00m00s |   62.20857 |   -0.6122 | \n",
      "   25 | 00m00s |   21.34230 |   -0.2041 | \n",
      "   26 | 00m00s |   21.22854 |    0.2041 | \n",
      "   27 | 00m00s |   61.87404 |    0.6122 | \n",
      "   28 | 00m00s |  102.38727 |    1.0204 | \n",
      "   29 | 00m00s |  142.49338 |    1.4286 | \n",
      "   30 | 00m00s |  181.59360 |    1.8367 | \n",
      "   31 | 00m00s |  218.67564 |    2.2449 | \n",
      "   32 | 00m00s |  252.30243 |    2.6531 | \n",
      "   33 | 00m00s |  280.73230 |    3.0612 | \n",
      "   34 | 00m00s |  302.19982 |    3.4694 | \n",
      "   35 | 00m00s |  315.31715 |    3.8776 | \n",
      "   36 | 00m00s |  319.46544 |    4.2857 | \n",
      "   37 | 00m00s |  315.00546 |    4.6939 | \n",
      "   38 | 00m00s |  303.20273 |    5.1020 | \n",
      "   39 | 00m00s |  285.90586 |    5.5102 | \n",
      "   40 | 00m00s |  265.13043 |    5.9184 | \n",
      "   41 | 00m00s |  242.70879 |    6.3265 | \n",
      "   42 | 00m00s |  220.08948 |    6.7347 | \n",
      "   43 | 00m00s |  198.28349 |    7.1429 | \n",
      "   44 | 00m00s |  177.90801 |    7.5510 | \n",
      "   45 | 00m00s |  159.27330 |    7.9592 | \n",
      "   46 | 00m00s |  142.47487 |    8.3673 | \n",
      "   47 | 00m00s |  127.47187 |    8.7755 | \n",
      "   48 | 00m00s |  114.14597 |    9.1837 | \n",
      "   49 | 00m00s |  102.34192 |    9.5918 | \n",
      "   50 | 00m00s |   91.89361 |   10.0000 | \n",
      "   51 | 00m00s |  307.45725 |    4.9769 | \n",
      "\u001b[31mBayesian Optimization\u001b[0m\n",
      "\u001b[94m-----------------------------------------\u001b[0m\n",
      " Step |   Time |      Value |         x | \n",
      "   52 | 00m03s | \u001b[35m 321.07268\u001b[0m | \u001b[32m  -4.2636\u001b[0m | \n",
      "   53 | 00m02s |  319.08731 |   -4.1526 | \n",
      "   54 | 00m01s | \u001b[35m 321.38282\u001b[0m | \u001b[32m  -4.2372\u001b[0m | \n"
     ]
    },
    {
     "name": "stderr",
     "output_type": "stream",
     "text": [
      "/Users/jonathanhilgart/anaconda/envs/stats/lib/python3.6/site-packages/sklearn/gaussian_process/gpr.py:427: UserWarning: fmin_l_bfgs_b terminated abnormally with the  state: {'grad': array([ 1.52453594]), 'task': b'ABNORMAL_TERMINATION_IN_LNSRCH', 'funcalls': 50, 'nit': 5, 'warnflag': 2}\n",
      "  \" state: %s\" % convergence_dict)\n"
     ]
    },
    {
     "name": "stdout",
     "output_type": "stream",
     "text": [
      "   55 | 00m01s |  320.80285 |   -4.2426 | \n",
      "   56 | 00m01s |  321.25755 |   -4.2119 | \n",
      "   57 | 00m03s |  319.59456 |   -4.2275 | \n",
      "   58 | 00m03s |  321.03280 |   -4.1928 | \n"
     ]
    },
    {
     "name": "stderr",
     "output_type": "stream",
     "text": [
      "/Users/jonathanhilgart/anaconda/envs/stats/lib/python3.6/site-packages/sklearn/gaussian_process/gpr.py:427: UserWarning: fmin_l_bfgs_b terminated abnormally with the  state: {'grad': array([-0.14630812]), 'task': b'ABNORMAL_TERMINATION_IN_LNSRCH', 'funcalls': 59, 'nit': 4, 'warnflag': 2}\n",
      "  \" state: %s\" % convergence_dict)\n"
     ]
    },
    {
     "name": "stdout",
     "output_type": "stream",
     "text": [
      "   59 | 00m02s |  320.72717 |   -4.2049 | \n"
     ]
    },
    {
     "name": "stderr",
     "output_type": "stream",
     "text": [
      "/Users/jonathanhilgart/anaconda/envs/stats/lib/python3.6/site-packages/sklearn/gaussian_process/gpr.py:427: UserWarning: fmin_l_bfgs_b terminated abnormally with the  state: {'grad': array([ 5.19919738]), 'task': b'ABNORMAL_TERMINATION_IN_LNSRCH', 'funcalls': 51, 'nit': 3, 'warnflag': 2}\n",
      "  \" state: %s\" % convergence_dict)\n",
      "/Users/jonathanhilgart/anaconda/envs/stats/lib/python3.6/site-packages/sklearn/gaussian_process/gpr.py:427: UserWarning: fmin_l_bfgs_b terminated abnormally with the  state: {'grad': array([-0.18158552]), 'task': b'ABNORMAL_TERMINATION_IN_LNSRCH', 'funcalls': 52, 'nit': 4, 'warnflag': 2}\n",
      "  \" state: %s\" % convergence_dict)\n",
      "/Users/jonathanhilgart/anaconda/envs/stats/lib/python3.6/site-packages/sklearn/gaussian_process/gpr.py:427: UserWarning: fmin_l_bfgs_b terminated abnormally with the  state: {'grad': array([-17427.12230572]), 'task': b'ABNORMAL_TERMINATION_IN_LNSRCH', 'funcalls': 30, 'nit': 1, 'warnflag': 2}\n",
      "  \" state: %s\" % convergence_dict)\n",
      "/Users/jonathanhilgart/anaconda/envs/stats/lib/python3.6/site-packages/sklearn/gaussian_process/gpr.py:308: UserWarning: Predicted variances smaller than 0. Setting those variances to 0.\n",
      "  warnings.warn(\"Predicted variances smaller than 0. \"\n",
      "/Users/jonathanhilgart/anaconda/envs/stats/lib/python3.6/site-packages/bayes_opt/helpers.py:101: RuntimeWarning: divide by zero encountered in true_divide\n",
      "  z = (mean - y_max - xi)/std\n"
     ]
    },
    {
     "name": "stdout",
     "output_type": "stream",
     "text": [
      "   60 | 00m03s | \u001b[35m 321.43131\u001b[0m | \u001b[32m  -4.2376\u001b[0m | \n"
     ]
    },
    {
     "name": "stderr",
     "output_type": "stream",
     "text": [
      "/Users/jonathanhilgart/anaconda/envs/stats/lib/python3.6/site-packages/sklearn/gaussian_process/gpr.py:427: UserWarning: fmin_l_bfgs_b terminated abnormally with the  state: {'grad': array([-0.88750339]), 'task': b'ABNORMAL_TERMINATION_IN_LNSRCH', 'funcalls': 51, 'nit': 3, 'warnflag': 2}\n",
      "  \" state: %s\" % convergence_dict)\n",
      "/Users/jonathanhilgart/anaconda/envs/stats/lib/python3.6/site-packages/sklearn/gaussian_process/gpr.py:427: UserWarning: fmin_l_bfgs_b terminated abnormally with the  state: {'grad': array([-23.89322162]), 'task': b'ABNORMAL_TERMINATION_IN_LNSRCH', 'funcalls': 55, 'nit': 5, 'warnflag': 2}\n",
      "  \" state: %s\" % convergence_dict)\n"
     ]
    },
    {
     "name": "stdout",
     "output_type": "stream",
     "text": [
      "   61 | 00m03s |  321.27788 |   -4.2381 | \n"
     ]
    }
   ],
   "source": [
    "start_bayes_opt = time.time()\n",
    "bayes_opt .maximize(init_points=1, n_iter=10, acq='ei') # ei = expected improvement\n",
    "end_bayes_opt = time.time()"
   ]
  },
  {
   "cell_type": "code",
   "execution_count": null,
   "metadata": {
    "collapsed": true
   },
   "outputs": [],
   "source": []
  },
  {
   "cell_type": "markdown",
   "metadata": {},
   "source": [
    "#### Compare the results"
   ]
  },
  {
   "cell_type": "code",
   "execution_count": 329,
   "metadata": {},
   "outputs": [
    {
     "name": "stdout",
     "output_type": "stream",
     "text": [
      "The best y-value from my bayesian optimization implementation was [ 319.76786769].      The best x-coordiantes from my bayesian optimiztion implementation was [ 4.52726363].      My implementation took 58.25 seconds for 10 steps\n"
     ]
    }
   ],
   "source": [
    "print(f\"The best y-value from my bayesian optimization implementation was {bo_implementation.best_y}.\\\n",
    "      The best x-coordiantes from my bayesian optimiztion implementation was {bo_implementation.best_x}.\\\n",
    "      My implementation took {round(end_my_bo -start_my_bo,2)} seconds for 10 steps\")"
   ]
  },
  {
   "cell_type": "code",
   "execution_count": 334,
   "metadata": {},
   "outputs": [
    {
     "name": "stdout",
     "output_type": "stream",
     "text": [
      " The best values from the Bayes_Opt package was {'max_val': 321.43131427152485, 'max_params': {'x': -4.2375673129286318}}.    The Bayes_Opt implementation took 27.22 seconds for 10 steps\n"
     ]
    }
   ],
   "source": [
    "print(f\" The best values from the Bayes_Opt package was {bayes_opt.res['max']}.\\\n",
    "    The Bayes_Opt implementation took {round(end_bayes_opt -start_bayes_opt,2) } seconds for 10 steps\")"
   ]
  },
  {
   "cell_type": "markdown",
   "metadata": {},
   "source": [
    "- The Bayes_Opt package beat my implementation in time and speed"
   ]
  },
  {
   "cell_type": "markdown",
   "metadata": {},
   "source": [
    "## Run each implmentation for 10 trials of 10 steps. See how many times each algo wins.\n",
    "- One dimensional implementation"
   ]
  },
  {
   "cell_type": "code",
   "execution_count": 281,
   "metadata": {
    "scrolled": true
   },
   "outputs": [
    {
     "name": "stdout",
     "output_type": "stream",
     "text": [
      "Step Number = 1\n",
      "\u001b[31mInitialization\u001b[0m\n",
      "\u001b[94m-----------------------------------------\u001b[0m\n",
      " Step |   Time |      Value |         x | \n",
      "    1 | 00m00s | \u001b[35m  91.60769\u001b[0m | \u001b[32m -10.0000\u001b[0m | \n",
      "    2 | 00m00s | \u001b[35m 101.84945\u001b[0m | \u001b[32m  -9.5918\u001b[0m | \n",
      "    3 | 00m00s | \u001b[35m 113.47606\u001b[0m | \u001b[32m  -9.1837\u001b[0m | \n",
      "    4 | 00m00s | \u001b[35m 126.66415\u001b[0m | \u001b[32m  -8.7755\u001b[0m | \n",
      "    5 | 00m00s | \u001b[35m 141.57709\u001b[0m | \u001b[32m  -8.3673\u001b[0m | \n",
      "    6 | 00m00s | \u001b[35m 158.33855\u001b[0m | \u001b[32m  -7.9592\u001b[0m | \n",
      "    7 | 00m00s | \u001b[35m 176.99157\u001b[0m | \u001b[32m  -7.5510\u001b[0m | \n",
      "    8 | 00m00s | \u001b[35m 197.43956\u001b[0m | \u001b[32m  -7.1429\u001b[0m | \n",
      "    9 | 00m00s | \u001b[35m 219.36796\u001b[0m | \u001b[32m  -6.7347\u001b[0m | \n",
      "   10 | 00m00s | \u001b[35m 242.15235\u001b[0m | \u001b[32m  -6.3265\u001b[0m | \n",
      "   11 | 00m00s | \u001b[35m 264.77197\u001b[0m | \u001b[32m  -5.9184\u001b[0m | \n",
      "   12 | 00m00s | \u001b[35m 285.76658\u001b[0m | \u001b[32m  -5.5102\u001b[0m | \n",
      "   13 | 00m00s | \u001b[35m 303.29087\u001b[0m | \u001b[32m  -5.1020\u001b[0m | \n",
      "   14 | 00m00s | \u001b[35m 315.31580\u001b[0m | \u001b[32m  -4.6939\u001b[0m | \n",
      "   15 | 00m00s | \u001b[35m 319.97963\u001b[0m | \u001b[32m  -4.2857\u001b[0m | \n",
      "   16 | 00m00s |  316.00478 |   -3.8776 | \n",
      "   17 | 00m00s |  303.02024 |   -3.4694 | \n",
      "   18 | 00m00s |  281.63698 |   -3.0612 | \n",
      "   19 | 00m00s |  253.23789 |   -2.6531 | \n",
      "   20 | 00m00s |  219.58655 |   -2.2449 | \n",
      "   21 | 00m00s |  182.42609 |   -1.8367 | \n",
      "   22 | 00m00s |  143.19822 |   -1.4286 | \n",
      "   23 | 00m00s |  102.92279 |   -1.0204 | \n",
      "   24 | 00m00s |   62.20857 |   -0.6122 | \n",
      "   25 | 00m00s |   21.34230 |   -0.2041 | \n",
      "   26 | 00m00s |   21.22854 |    0.2041 | \n",
      "   27 | 00m00s |   61.87404 |    0.6122 | \n",
      "   28 | 00m00s |  102.38727 |    1.0204 | \n",
      "   29 | 00m00s |  142.49338 |    1.4286 | \n",
      "   30 | 00m00s |  181.59360 |    1.8367 | \n",
      "   31 | 00m00s |  218.67564 |    2.2449 | \n",
      "   32 | 00m00s |  252.30243 |    2.6531 | \n",
      "   33 | 00m00s |  280.73230 |    3.0612 | \n",
      "   34 | 00m00s |  302.19982 |    3.4694 | \n",
      "   35 | 00m00s |  315.31715 |    3.8776 | \n",
      "   36 | 00m00s |  319.46544 |    4.2857 | \n",
      "   37 | 00m00s |  315.00546 |    4.6939 | \n",
      "   38 | 00m00s |  303.20273 |    5.1020 | \n",
      "   39 | 00m00s |  285.90586 |    5.5102 | \n",
      "   40 | 00m00s |  265.13043 |    5.9184 | \n",
      "   41 | 00m00s |  242.70879 |    6.3265 | \n",
      "   42 | 00m00s |  220.08948 |    6.7347 | \n",
      "   43 | 00m00s |  198.28349 |    7.1429 | \n",
      "   44 | 00m00s |  177.90801 |    7.5510 | \n",
      "   45 | 00m00s |  159.27330 |    7.9592 | \n",
      "   46 | 00m00s |  142.47487 |    8.3673 | \n",
      "   47 | 00m00s |  127.47187 |    8.7755 | \n",
      "   48 | 00m00s |  114.14597 |    9.1837 | \n",
      "   49 | 00m00s |  102.34192 |    9.5918 | \n",
      "   50 | 00m00s |   91.89361 |   10.0000 | \n",
      "   51 | 00m00s |  107.81191 |    9.3970 | \n",
      "\u001b[31mBayesian Optimization\u001b[0m\n",
      "\u001b[94m-----------------------------------------\u001b[0m\n",
      " Step |   Time |      Value |         x | \n",
      "   52 | 00m03s | \u001b[35m 321.04131\u001b[0m | \u001b[32m  -4.2636\u001b[0m | \n"
     ]
    },
    {
     "name": "stderr",
     "output_type": "stream",
     "text": [
      "/Users/jonathanhilgart/anaconda/envs/stats/lib/python3.6/site-packages/sklearn/gaussian_process/gpr.py:427: UserWarning: fmin_l_bfgs_b terminated abnormally with the  state: {'grad': array([ 0.04911578]), 'task': b'ABNORMAL_TERMINATION_IN_LNSRCH', 'funcalls': 49, 'nit': 5, 'warnflag': 2}\n",
      "  \" state: %s\" % convergence_dict)\n"
     ]
    },
    {
     "name": "stdout",
     "output_type": "stream",
     "text": [
      "   53 | 00m01s |  319.15748 |   -4.1531 | \n",
      "   54 | 00m01s | \u001b[35m 321.32829\u001b[0m | \u001b[32m  -4.2371\u001b[0m | \n"
     ]
    },
    {
     "name": "stderr",
     "output_type": "stream",
     "text": [
      "/Users/jonathanhilgart/anaconda/envs/stats/lib/python3.6/site-packages/sklearn/gaussian_process/gpr.py:427: UserWarning: fmin_l_bfgs_b terminated abnormally with the  state: {'grad': array([-2855.25666682]), 'task': b'ABNORMAL_TERMINATION_IN_LNSRCH', 'funcalls': 34, 'nit': 2, 'warnflag': 2}\n",
      "  \" state: %s\" % convergence_dict)\n",
      "/Users/jonathanhilgart/anaconda/envs/stats/lib/python3.6/site-packages/sklearn/gaussian_process/gpr.py:308: UserWarning: Predicted variances smaller than 0. Setting those variances to 0.\n",
      "  warnings.warn(\"Predicted variances smaller than 0. \"\n",
      "/Users/jonathanhilgart/anaconda/envs/stats/lib/python3.6/site-packages/bayes_opt/helpers.py:101: RuntimeWarning: divide by zero encountered in true_divide\n",
      "  z = (mean - y_max - xi)/std\n"
     ]
    },
    {
     "name": "stdout",
     "output_type": "stream",
     "text": [
      "   55 | 00m01s |  321.32484 |   -4.2433 | \n",
      "   56 | 00m01s |  320.21777 |   -4.2393 | \n",
      "   57 | 00m01s |  320.92728 |   -4.2052 | \n",
      "   58 | 00m02s | \u001b[35m 321.40137\u001b[0m | \u001b[32m  -4.2249\u001b[0m | \n",
      "   59 | 00m02s |  321.29894 |   -4.2506 | \n",
      "   60 | 00m02s |  321.04138 |   -4.2321 | \n"
     ]
    },
    {
     "name": "stderr",
     "output_type": "stream",
     "text": [
      "/Users/jonathanhilgart/anaconda/envs/stats/lib/python3.6/site-packages/sklearn/gaussian_process/gpr.py:427: UserWarning: fmin_l_bfgs_b terminated abnormally with the  state: {'grad': array([-0.41926343]), 'task': b'ABNORMAL_TERMINATION_IN_LNSRCH', 'funcalls': 51, 'nit': 4, 'warnflag': 2}\n",
      "  \" state: %s\" % convergence_dict)\n"
     ]
    },
    {
     "name": "stdout",
     "output_type": "stream",
     "text": [
      "   61 | 00m03s |  319.72784 |   -4.2462 | \n",
      "Bayes Opt Won\n",
      "Step Number = 2\n",
      "\u001b[31mInitialization\u001b[0m\n",
      "\u001b[94m-----------------------------------------\u001b[0m\n",
      " Step |   Time |      Value |         x | \n",
      "    1 | 00m00s | \u001b[35m  91.60769\u001b[0m | \u001b[32m -10.0000\u001b[0m | \n",
      "    2 | 00m00s | \u001b[35m 101.84945\u001b[0m | \u001b[32m  -9.5918\u001b[0m | \n",
      "    3 | 00m00s | \u001b[35m 113.47606\u001b[0m | \u001b[32m  -9.1837\u001b[0m | \n",
      "    4 | 00m00s | \u001b[35m 126.66415\u001b[0m | \u001b[32m  -8.7755\u001b[0m | \n",
      "    5 | 00m00s | \u001b[35m 141.57709\u001b[0m | \u001b[32m  -8.3673\u001b[0m | \n",
      "    6 | 00m00s | \u001b[35m 158.33855\u001b[0m | \u001b[32m  -7.9592\u001b[0m | \n",
      "    7 | 00m00s | \u001b[35m 176.99157\u001b[0m | \u001b[32m  -7.5510\u001b[0m | \n",
      "    8 | 00m00s | \u001b[35m 197.43956\u001b[0m | \u001b[32m  -7.1429\u001b[0m | \n",
      "    9 | 00m00s | \u001b[35m 219.36796\u001b[0m | \u001b[32m  -6.7347\u001b[0m | \n",
      "   10 | 00m00s | \u001b[35m 242.15235\u001b[0m | \u001b[32m  -6.3265\u001b[0m | \n",
      "   11 | 00m00s | \u001b[35m 264.77197\u001b[0m | \u001b[32m  -5.9184\u001b[0m | \n",
      "   12 | 00m00s | \u001b[35m 285.76658\u001b[0m | \u001b[32m  -5.5102\u001b[0m | \n",
      "   13 | 00m00s | \u001b[35m 303.29087\u001b[0m | \u001b[32m  -5.1020\u001b[0m | \n",
      "   14 | 00m00s | \u001b[35m 315.31580\u001b[0m | \u001b[32m  -4.6939\u001b[0m | \n",
      "   15 | 00m00s | \u001b[35m 319.97963\u001b[0m | \u001b[32m  -4.2857\u001b[0m | \n",
      "   16 | 00m00s |  316.00478 |   -3.8776 | \n",
      "   17 | 00m00s |  303.02024 |   -3.4694 | \n",
      "   18 | 00m00s |  281.63698 |   -3.0612 | \n",
      "   19 | 00m00s |  253.23789 |   -2.6531 | \n",
      "   20 | 00m00s |  219.58655 |   -2.2449 | \n",
      "   21 | 00m00s |  182.42609 |   -1.8367 | \n",
      "   22 | 00m00s |  143.19822 |   -1.4286 | \n",
      "   23 | 00m00s |  102.92279 |   -1.0204 | \n",
      "   24 | 00m00s |   62.20857 |   -0.6122 | \n",
      "   25 | 00m00s |   21.34230 |   -0.2041 | \n",
      "   26 | 00m00s |   21.22854 |    0.2041 | \n",
      "   27 | 00m00s |   61.87404 |    0.6122 | \n",
      "   28 | 00m00s |  102.38727 |    1.0204 | \n",
      "   29 | 00m00s |  142.49338 |    1.4286 | \n",
      "   30 | 00m00s |  181.59360 |    1.8367 | \n",
      "   31 | 00m00s |  218.67564 |    2.2449 | \n",
      "   32 | 00m00s |  252.30243 |    2.6531 | \n",
      "   33 | 00m00s |  280.73230 |    3.0612 | \n",
      "   34 | 00m00s |  302.19982 |    3.4694 | \n",
      "   35 | 00m00s |  315.31715 |    3.8776 | \n",
      "   36 | 00m00s |  319.46544 |    4.2857 | \n",
      "   37 | 00m00s |  315.00546 |    4.6939 | \n",
      "   38 | 00m00s |  303.20273 |    5.1020 | \n",
      "   39 | 00m00s |  285.90586 |    5.5102 | \n",
      "   40 | 00m00s |  265.13043 |    5.9184 | \n",
      "   41 | 00m00s |  242.70879 |    6.3265 | \n",
      "   42 | 00m00s |  220.08948 |    6.7347 | \n",
      "   43 | 00m00s |  198.28349 |    7.1429 | \n",
      "   44 | 00m00s |  177.90801 |    7.5510 | \n",
      "   45 | 00m00s |  159.27330 |    7.9592 | \n",
      "   46 | 00m00s |  142.47487 |    8.3673 | \n",
      "   47 | 00m00s |  127.47187 |    8.7755 | \n",
      "   48 | 00m00s |  114.14597 |    9.1837 | \n",
      "   49 | 00m00s |  102.34192 |    9.5918 | \n",
      "   50 | 00m00s |   91.89361 |   10.0000 | \n",
      "   51 | 00m00s |  312.77504 |    4.8599 | \n",
      "\u001b[31mBayesian Optimization\u001b[0m\n",
      "\u001b[94m-----------------------------------------\u001b[0m\n",
      " Step |   Time |      Value |         x | \n",
      "   52 | 00m03s | \u001b[35m 321.08305\u001b[0m | \u001b[32m  -4.2636\u001b[0m | \n",
      "   53 | 00m01s |  319.11250 |   -4.1524 | \n"
     ]
    },
    {
     "name": "stderr",
     "output_type": "stream",
     "text": [
      "/Users/jonathanhilgart/anaconda/envs/stats/lib/python3.6/site-packages/sklearn/gaussian_process/gpr.py:427: UserWarning: fmin_l_bfgs_b terminated abnormally with the  state: {'grad': array([ 0.54976831]), 'task': b'ABNORMAL_TERMINATION_IN_LNSRCH', 'funcalls': 50, 'nit': 5, 'warnflag': 2}\n",
      "  \" state: %s\" % convergence_dict)\n"
     ]
    },
    {
     "name": "stdout",
     "output_type": "stream",
     "text": [
      "   54 | 00m01s | \u001b[35m 321.27264\u001b[0m | \u001b[32m  -4.2370\u001b[0m | \n",
      "   55 | 00m01s |  319.44777 |   -4.2469 | \n"
     ]
    },
    {
     "name": "stderr",
     "output_type": "stream",
     "text": [
      "/Users/jonathanhilgart/anaconda/envs/stats/lib/python3.6/site-packages/sklearn/gaussian_process/gpr.py:427: UserWarning: fmin_l_bfgs_b terminated abnormally with the  state: {'grad': array([ 0.59775613]), 'task': b'ABNORMAL_TERMINATION_IN_LNSRCH', 'funcalls': 57, 'nit': 7, 'warnflag': 2}\n",
      "  \" state: %s\" % convergence_dict)\n"
     ]
    },
    {
     "name": "stdout",
     "output_type": "stream",
     "text": [
      "   56 | 00m01s |  320.11636 |   -4.2079 | \n",
      "   57 | 00m01s |  319.46820 |   -4.2284 | \n",
      "   58 | 00m01s | \u001b[35m 321.38464\u001b[0m | \u001b[32m  -4.2693\u001b[0m | \n",
      "   59 | 00m02s | \u001b[35m 321.45535\u001b[0m | \u001b[32m  -4.2691\u001b[0m | \n",
      "   60 | 00m02s |  320.76590 |   -4.2677 | \n",
      "   61 | 00m02s |  320.98690 |   -4.1802 | \n",
      "Bayes Opt Won\n",
      "Step Number = 3\n",
      "\u001b[31mInitialization\u001b[0m\n",
      "\u001b[94m-----------------------------------------\u001b[0m\n",
      " Step |   Time |      Value |         x | \n",
      "    1 | 00m00s | \u001b[35m  91.60769\u001b[0m | \u001b[32m -10.0000\u001b[0m | \n",
      "    2 | 00m00s | \u001b[35m 101.84945\u001b[0m | \u001b[32m  -9.5918\u001b[0m | \n",
      "    3 | 00m00s | \u001b[35m 113.47606\u001b[0m | \u001b[32m  -9.1837\u001b[0m | \n",
      "    4 | 00m00s | \u001b[35m 126.66415\u001b[0m | \u001b[32m  -8.7755\u001b[0m | \n",
      "    5 | 00m00s | \u001b[35m 141.57709\u001b[0m | \u001b[32m  -8.3673\u001b[0m | \n",
      "    6 | 00m00s | \u001b[35m 158.33855\u001b[0m | \u001b[32m  -7.9592\u001b[0m | \n",
      "    7 | 00m00s | \u001b[35m 176.99157\u001b[0m | \u001b[32m  -7.5510\u001b[0m | \n",
      "    8 | 00m00s | \u001b[35m 197.43956\u001b[0m | \u001b[32m  -7.1429\u001b[0m | \n",
      "    9 | 00m00s | \u001b[35m 219.36796\u001b[0m | \u001b[32m  -6.7347\u001b[0m | \n",
      "   10 | 00m00s | \u001b[35m 242.15235\u001b[0m | \u001b[32m  -6.3265\u001b[0m | \n",
      "   11 | 00m00s | \u001b[35m 264.77197\u001b[0m | \u001b[32m  -5.9184\u001b[0m | \n",
      "   12 | 00m00s | \u001b[35m 285.76658\u001b[0m | \u001b[32m  -5.5102\u001b[0m | \n",
      "   13 | 00m00s | \u001b[35m 303.29087\u001b[0m | \u001b[32m  -5.1020\u001b[0m | \n",
      "   14 | 00m00s | \u001b[35m 315.31580\u001b[0m | \u001b[32m  -4.6939\u001b[0m | \n",
      "   15 | 00m00s | \u001b[35m 319.97963\u001b[0m | \u001b[32m  -4.2857\u001b[0m | \n",
      "   16 | 00m00s |  316.00478 |   -3.8776 | \n",
      "   17 | 00m00s |  303.02024 |   -3.4694 | \n",
      "   18 | 00m00s |  281.63698 |   -3.0612 | \n",
      "   19 | 00m00s |  253.23789 |   -2.6531 | \n",
      "   20 | 00m00s |  219.58655 |   -2.2449 | \n",
      "   21 | 00m00s |  182.42609 |   -1.8367 | \n",
      "   22 | 00m00s |  143.19822 |   -1.4286 | \n",
      "   23 | 00m00s |  102.92279 |   -1.0204 | \n",
      "   24 | 00m00s |   62.20857 |   -0.6122 | \n",
      "   25 | 00m00s |   21.34230 |   -0.2041 | \n",
      "   26 | 00m00s |   21.22854 |    0.2041 | \n",
      "   27 | 00m00s |   61.87404 |    0.6122 | \n",
      "   28 | 00m00s |  102.38727 |    1.0204 | \n",
      "   29 | 00m00s |  142.49338 |    1.4286 | \n",
      "   30 | 00m00s |  181.59360 |    1.8367 | \n",
      "   31 | 00m00s |  218.67564 |    2.2449 | \n",
      "   32 | 00m00s |  252.30243 |    2.6531 | \n",
      "   33 | 00m00s |  280.73230 |    3.0612 | \n",
      "   34 | 00m00s |  302.19982 |    3.4694 | \n",
      "   35 | 00m00s |  315.31715 |    3.8776 | \n",
      "   36 | 00m00s |  319.46544 |    4.2857 | \n",
      "   37 | 00m00s |  315.00546 |    4.6939 | \n",
      "   38 | 00m00s |  303.20273 |    5.1020 | \n",
      "   39 | 00m00s |  285.90586 |    5.5102 | \n",
      "   40 | 00m00s |  265.13043 |    5.9184 | \n",
      "   41 | 00m00s |  242.70879 |    6.3265 | \n",
      "   42 | 00m00s |  220.08948 |    6.7347 | \n",
      "   43 | 00m00s |  198.28349 |    7.1429 | \n",
      "   44 | 00m00s |  177.90801 |    7.5510 | \n",
      "   45 | 00m00s |  159.27330 |    7.9592 | \n",
      "   46 | 00m00s |  142.47487 |    8.3673 | \n",
      "   47 | 00m00s |  127.47187 |    8.7755 | \n",
      "   48 | 00m00s |  114.14597 |    9.1837 | \n",
      "   49 | 00m00s |  102.34192 |    9.5918 | \n",
      "   50 | 00m00s |   91.89361 |   10.0000 | \n",
      "   51 | 00m00s |  130.47909 |   -8.6525 | \n",
      "\u001b[31mBayesian Optimization\u001b[0m\n",
      "\u001b[94m-----------------------------------------\u001b[0m\n",
      " Step |   Time |      Value |         x | \n",
      "   52 | 00m03s | \u001b[35m 321.06423\u001b[0m | \u001b[32m  -4.2636\u001b[0m | \n",
      "   53 | 00m01s |  319.08216 |   -4.1527 | \n"
     ]
    },
    {
     "name": "stderr",
     "output_type": "stream",
     "text": [
      "/Users/jonathanhilgart/anaconda/envs/stats/lib/python3.6/site-packages/sklearn/gaussian_process/gpr.py:427: UserWarning: fmin_l_bfgs_b terminated abnormally with the  state: {'grad': array([ 0.32676724]), 'task': b'ABNORMAL_TERMINATION_IN_LNSRCH', 'funcalls': 50, 'nit': 5, 'warnflag': 2}\n",
      "  \" state: %s\" % convergence_dict)\n"
     ]
    },
    {
     "name": "stdout",
     "output_type": "stream",
     "text": [
      "   54 | 00m01s | \u001b[35m 321.40454\u001b[0m | \u001b[32m  -4.2373\u001b[0m | \n",
      "   55 | 00m02s |  319.81629 |   -4.2416 | \n",
      "   56 | 00m02s |  321.27697 |   -4.2065 | \n"
     ]
    },
    {
     "name": "stderr",
     "output_type": "stream",
     "text": [
      "/Users/jonathanhilgart/anaconda/envs/stats/lib/python3.6/site-packages/sklearn/gaussian_process/gpr.py:427: UserWarning: fmin_l_bfgs_b terminated abnormally with the  state: {'grad': array([ 0.18812683]), 'task': b'ABNORMAL_TERMINATION_IN_LNSRCH', 'funcalls': 51, 'nit': 2, 'warnflag': 2}\n",
      "  \" state: %s\" % convergence_dict)\n"
     ]
    },
    {
     "name": "stdout",
     "output_type": "stream",
     "text": [
      "   57 | 00m02s |  321.33290 |   -4.2253 | \n",
      "   58 | 00m02s |  320.34598 |   -4.2329 | \n",
      "   59 | 00m02s |  321.07614 |   -4.2179 | \n",
      "   60 | 00m02s |  320.31758 |   -4.2707 | \n",
      "   61 | 00m02s |  319.80252 |   -4.1956 | \n",
      "Bayes Opt Won\n",
      "Step Number = 4\n",
      "\u001b[31mInitialization\u001b[0m\n",
      "\u001b[94m-----------------------------------------\u001b[0m\n",
      " Step |   Time |      Value |         x | \n",
      "    1 | 00m00s | \u001b[35m  91.60769\u001b[0m | \u001b[32m -10.0000\u001b[0m | \n",
      "    2 | 00m00s | \u001b[35m 101.84945\u001b[0m | \u001b[32m  -9.5918\u001b[0m | \n",
      "    3 | 00m00s | \u001b[35m 113.47606\u001b[0m | \u001b[32m  -9.1837\u001b[0m | \n",
      "    4 | 00m00s | \u001b[35m 126.66415\u001b[0m | \u001b[32m  -8.7755\u001b[0m | \n",
      "    5 | 00m00s | \u001b[35m 141.57709\u001b[0m | \u001b[32m  -8.3673\u001b[0m | \n",
      "    6 | 00m00s | \u001b[35m 158.33855\u001b[0m | \u001b[32m  -7.9592\u001b[0m | \n",
      "    7 | 00m00s | \u001b[35m 176.99157\u001b[0m | \u001b[32m  -7.5510\u001b[0m | \n",
      "    8 | 00m00s | \u001b[35m 197.43956\u001b[0m | \u001b[32m  -7.1429\u001b[0m | \n",
      "    9 | 00m00s | \u001b[35m 219.36796\u001b[0m | \u001b[32m  -6.7347\u001b[0m | \n",
      "   10 | 00m00s | \u001b[35m 242.15235\u001b[0m | \u001b[32m  -6.3265\u001b[0m | \n",
      "   11 | 00m00s | \u001b[35m 264.77197\u001b[0m | \u001b[32m  -5.9184\u001b[0m | \n",
      "   12 | 00m00s | \u001b[35m 285.76658\u001b[0m | \u001b[32m  -5.5102\u001b[0m | \n",
      "   13 | 00m00s | \u001b[35m 303.29087\u001b[0m | \u001b[32m  -5.1020\u001b[0m | \n",
      "   14 | 00m00s | \u001b[35m 315.31580\u001b[0m | \u001b[32m  -4.6939\u001b[0m | \n",
      "   15 | 00m00s | \u001b[35m 319.97963\u001b[0m | \u001b[32m  -4.2857\u001b[0m | \n",
      "   16 | 00m00s |  316.00478 |   -3.8776 | \n",
      "   17 | 00m00s |  303.02024 |   -3.4694 | \n",
      "   18 | 00m00s |  281.63698 |   -3.0612 | \n",
      "   19 | 00m00s |  253.23789 |   -2.6531 | \n",
      "   20 | 00m00s |  219.58655 |   -2.2449 | \n",
      "   21 | 00m00s |  182.42609 |   -1.8367 | \n",
      "   22 | 00m00s |  143.19822 |   -1.4286 | \n",
      "   23 | 00m00s |  102.92279 |   -1.0204 | \n",
      "   24 | 00m00s |   62.20857 |   -0.6122 | \n",
      "   25 | 00m00s |   21.34230 |   -0.2041 | \n",
      "   26 | 00m00s |   21.22854 |    0.2041 | \n",
      "   27 | 00m00s |   61.87404 |    0.6122 | \n",
      "   28 | 00m00s |  102.38727 |    1.0204 | \n",
      "   29 | 00m00s |  142.49338 |    1.4286 | \n",
      "   30 | 00m00s |  181.59360 |    1.8367 | \n",
      "   31 | 00m00s |  218.67564 |    2.2449 | \n",
      "   32 | 00m00s |  252.30243 |    2.6531 | \n",
      "   33 | 00m00s |  280.73230 |    3.0612 | \n",
      "   34 | 00m00s |  302.19982 |    3.4694 | \n",
      "   35 | 00m00s |  315.31715 |    3.8776 | \n",
      "   36 | 00m00s |  319.46544 |    4.2857 | \n",
      "   37 | 00m00s |  315.00546 |    4.6939 | \n",
      "   38 | 00m00s |  303.20273 |    5.1020 | \n",
      "   39 | 00m00s |  285.90586 |    5.5102 | \n",
      "   40 | 00m00s |  265.13043 |    5.9184 | \n",
      "   41 | 00m00s |  242.70879 |    6.3265 | \n",
      "   42 | 00m00s |  220.08948 |    6.7347 | \n",
      "   43 | 00m00s |  198.28349 |    7.1429 | \n",
      "   44 | 00m00s |  177.90801 |    7.5510 | \n",
      "   45 | 00m00s |  159.27330 |    7.9592 | \n",
      "   46 | 00m00s |  142.47487 |    8.3673 | \n",
      "   47 | 00m00s |  127.47187 |    8.7755 | \n",
      "   48 | 00m00s |  114.14597 |    9.1837 | \n",
      "   49 | 00m00s |  102.34192 |    9.5918 | \n",
      "   50 | 00m00s |   91.89361 |   10.0000 | \n",
      "   51 | 00m00s |  311.15472 |    3.6659 | \n",
      "\u001b[31mBayesian Optimization\u001b[0m\n",
      "\u001b[94m-----------------------------------------\u001b[0m\n",
      " Step |   Time |      Value |         x | \n",
      "   52 | 00m03s | \u001b[35m 321.07599\u001b[0m | \u001b[32m  -4.2636\u001b[0m | \n",
      "   53 | 00m01s |  319.09235 |   -4.1525 | \n",
      "   54 | 00m01s | \u001b[35m 321.36209\u001b[0m | \u001b[32m  -4.2371\u001b[0m | \n",
      "   55 | 00m01s | \u001b[35m 321.41000\u001b[0m | \u001b[32m  -4.2435\u001b[0m | \n"
     ]
    },
    {
     "name": "stderr",
     "output_type": "stream",
     "text": [
      "/Users/jonathanhilgart/anaconda/envs/stats/lib/python3.6/site-packages/sklearn/gaussian_process/gpr.py:427: UserWarning: fmin_l_bfgs_b terminated abnormally with the  state: {'grad': array([-3.86554539]), 'task': b'ABNORMAL_TERMINATION_IN_LNSRCH', 'funcalls': 51, 'nit': 2, 'warnflag': 2}\n",
      "  \" state: %s\" % convergence_dict)\n"
     ]
    },
    {
     "name": "stdout",
     "output_type": "stream",
     "text": [
      "   56 | 00m02s |  320.76238 |   -4.2451 | \n",
      "   57 | 00m02s |  319.44189 |   -4.2408 | \n",
      "   58 | 00m02s |  321.21515 |   -4.2003 | \n"
     ]
    },
    {
     "name": "stderr",
     "output_type": "stream",
     "text": [
      "/Users/jonathanhilgart/anaconda/envs/stats/lib/python3.6/site-packages/sklearn/gaussian_process/gpr.py:427: UserWarning: fmin_l_bfgs_b terminated abnormally with the  state: {'grad': array([-974.8617298]), 'task': b'ABNORMAL_TERMINATION_IN_LNSRCH', 'funcalls': 30, 'nit': 1, 'warnflag': 2}\n",
      "  \" state: %s\" % convergence_dict)\n"
     ]
    },
    {
     "name": "stdout",
     "output_type": "stream",
     "text": [
      "   59 | 00m02s |  320.74893 |   -4.2237 | \n",
      "   60 | 00m02s |  320.05086 |   -4.1730 | \n",
      "   61 | 00m02s |  320.85551 |   -4.2324 | \n",
      "Bayes Opt Won\n",
      "Step Number = 5\n",
      "\u001b[31mInitialization\u001b[0m\n",
      "\u001b[94m-----------------------------------------\u001b[0m\n",
      " Step |   Time |      Value |         x | \n",
      "    1 | 00m00s | \u001b[35m  91.60769\u001b[0m | \u001b[32m -10.0000\u001b[0m | \n",
      "    2 | 00m00s | \u001b[35m 101.84945\u001b[0m | \u001b[32m  -9.5918\u001b[0m | \n",
      "    3 | 00m00s | \u001b[35m 113.47606\u001b[0m | \u001b[32m  -9.1837\u001b[0m | \n",
      "    4 | 00m00s | \u001b[35m 126.66415\u001b[0m | \u001b[32m  -8.7755\u001b[0m | \n",
      "    5 | 00m00s | \u001b[35m 141.57709\u001b[0m | \u001b[32m  -8.3673\u001b[0m | \n",
      "    6 | 00m00s | \u001b[35m 158.33855\u001b[0m | \u001b[32m  -7.9592\u001b[0m | \n",
      "    7 | 00m00s | \u001b[35m 176.99157\u001b[0m | \u001b[32m  -7.5510\u001b[0m | \n",
      "    8 | 00m00s | \u001b[35m 197.43956\u001b[0m | \u001b[32m  -7.1429\u001b[0m | \n",
      "    9 | 00m00s | \u001b[35m 219.36796\u001b[0m | \u001b[32m  -6.7347\u001b[0m | \n",
      "   10 | 00m00s | \u001b[35m 242.15235\u001b[0m | \u001b[32m  -6.3265\u001b[0m | \n",
      "   11 | 00m00s | \u001b[35m 264.77197\u001b[0m | \u001b[32m  -5.9184\u001b[0m | \n",
      "   12 | 00m00s | \u001b[35m 285.76658\u001b[0m | \u001b[32m  -5.5102\u001b[0m | \n",
      "   13 | 00m00s | \u001b[35m 303.29087\u001b[0m | \u001b[32m  -5.1020\u001b[0m | \n",
      "   14 | 00m00s | \u001b[35m 315.31580\u001b[0m | \u001b[32m  -4.6939\u001b[0m | \n",
      "   15 | 00m00s | \u001b[35m 319.97963\u001b[0m | \u001b[32m  -4.2857\u001b[0m | \n",
      "   16 | 00m00s |  316.00478 |   -3.8776 | \n",
      "   17 | 00m00s |  303.02024 |   -3.4694 | \n",
      "   18 | 00m00s |  281.63698 |   -3.0612 | \n",
      "   19 | 00m00s |  253.23789 |   -2.6531 | \n",
      "   20 | 00m00s |  219.58655 |   -2.2449 | \n",
      "   21 | 00m00s |  182.42609 |   -1.8367 | \n",
      "   22 | 00m00s |  143.19822 |   -1.4286 | \n",
      "   23 | 00m00s |  102.92279 |   -1.0204 | \n",
      "   24 | 00m00s |   62.20857 |   -0.6122 | \n",
      "   25 | 00m00s |   21.34230 |   -0.2041 | \n",
      "   26 | 00m00s |   21.22854 |    0.2041 | \n",
      "   27 | 00m00s |   61.87404 |    0.6122 | \n",
      "   28 | 00m00s |  102.38727 |    1.0204 | \n",
      "   29 | 00m00s |  142.49338 |    1.4286 | \n",
      "   30 | 00m00s |  181.59360 |    1.8367 | \n",
      "   31 | 00m00s |  218.67564 |    2.2449 | \n",
      "   32 | 00m00s |  252.30243 |    2.6531 | \n",
      "   33 | 00m00s |  280.73230 |    3.0612 | \n",
      "   34 | 00m00s |  302.19982 |    3.4694 | \n",
      "   35 | 00m00s |  315.31715 |    3.8776 | \n",
      "   36 | 00m00s |  319.46544 |    4.2857 | \n",
      "   37 | 00m00s |  315.00546 |    4.6939 | \n",
      "   38 | 00m00s |  303.20273 |    5.1020 | \n",
      "   39 | 00m00s |  285.90586 |    5.5102 | \n",
      "   40 | 00m00s |  265.13043 |    5.9184 | \n",
      "   41 | 00m00s |  242.70879 |    6.3265 | \n",
      "   42 | 00m00s |  220.08948 |    6.7347 | \n",
      "   43 | 00m00s |  198.28349 |    7.1429 | \n",
      "   44 | 00m00s |  177.90801 |    7.5510 | \n",
      "   45 | 00m00s |  159.27330 |    7.9592 | \n",
      "   46 | 00m00s |  142.47487 |    8.3673 | \n",
      "   47 | 00m00s |  127.47187 |    8.7755 | \n",
      "   48 | 00m00s |  114.14597 |    9.1837 | \n",
      "   49 | 00m00s |  102.34192 |    9.5918 | \n",
      "   50 | 00m00s |   91.89361 |   10.0000 | \n",
      "   51 | 00m00s |  142.90143 |   -8.3323 | \n",
      "\u001b[31mBayesian Optimization\u001b[0m\n",
      "\u001b[94m-----------------------------------------\u001b[0m\n",
      " Step |   Time |      Value |         x | \n"
     ]
    },
    {
     "name": "stderr",
     "output_type": "stream",
     "text": [
      "/Users/jonathanhilgart/anaconda/envs/stats/lib/python3.6/site-packages/sklearn/gaussian_process/gpr.py:427: UserWarning: fmin_l_bfgs_b terminated abnormally with the  state: {'grad': array([ 0.07866585]), 'task': b'ABNORMAL_TERMINATION_IN_LNSRCH', 'funcalls': 49, 'nit': 6, 'warnflag': 2}\n",
      "  \" state: %s\" % convergence_dict)\n"
     ]
    },
    {
     "name": "stdout",
     "output_type": "stream",
     "text": [
      "   52 | 00m03s | \u001b[35m 321.06645\u001b[0m | \u001b[32m  -4.2636\u001b[0m | \n"
     ]
    },
    {
     "name": "stderr",
     "output_type": "stream",
     "text": [
      "/Users/jonathanhilgart/anaconda/envs/stats/lib/python3.6/site-packages/sklearn/gaussian_process/gpr.py:427: UserWarning: fmin_l_bfgs_b terminated abnormally with the  state: {'grad': array([-0.1511369]), 'task': b'ABNORMAL_TERMINATION_IN_LNSRCH', 'funcalls': 48, 'nit': 5, 'warnflag': 2}\n",
      "  \" state: %s\" % convergence_dict)\n"
     ]
    },
    {
     "name": "stdout",
     "output_type": "stream",
     "text": [
      "   53 | 00m01s |  319.08179 |   -4.1527 | \n",
      "   54 | 00m01s | \u001b[35m 321.42940\u001b[0m | \u001b[32m  -4.2374\u001b[0m | \n",
      "   55 | 00m02s |  319.45205 |   -4.2408 | \n"
     ]
    },
    {
     "name": "stderr",
     "output_type": "stream",
     "text": [
      "/Users/jonathanhilgart/anaconda/envs/stats/lib/python3.6/site-packages/sklearn/gaussian_process/gpr.py:427: UserWarning: fmin_l_bfgs_b terminated abnormally with the  state: {'grad': array([ 0.07765566]), 'task': b'ABNORMAL_TERMINATION_IN_LNSRCH', 'funcalls': 55, 'nit': 4, 'warnflag': 2}\n",
      "  \" state: %s\" % convergence_dict)\n"
     ]
    },
    {
     "name": "stdout",
     "output_type": "stream",
     "text": [
      "   56 | 00m02s |  321.19465 |   -4.2055 | \n"
     ]
    },
    {
     "name": "stderr",
     "output_type": "stream",
     "text": [
      "/Users/jonathanhilgart/anaconda/envs/stats/lib/python3.6/site-packages/sklearn/gaussian_process/gpr.py:427: UserWarning: fmin_l_bfgs_b terminated abnormally with the  state: {'grad': array([ 3.36414644]), 'task': b'ABNORMAL_TERMINATION_IN_LNSRCH', 'funcalls': 53, 'nit': 4, 'warnflag': 2}\n",
      "  \" state: %s\" % convergence_dict)\n"
     ]
    },
    {
     "name": "stdout",
     "output_type": "stream",
     "text": [
      "   57 | 00m02s |  321.40258 |   -4.2250 | \n",
      "   58 | 00m01s |  320.62671 |   -4.2326 | \n",
      "   59 | 00m01s |  320.74318 |   -4.2175 | \n",
      "   60 | 00m03s |  320.09760 |   -4.2709 | \n",
      "   61 | 00m03s |  319.74145 |   -4.1914 | \n",
      "Bayes Opt Won\n",
      "Step Number = 6\n",
      "\u001b[31mInitialization\u001b[0m\n",
      "\u001b[94m-----------------------------------------\u001b[0m\n",
      " Step |   Time |      Value |         x | \n",
      "    1 | 00m00s | \u001b[35m  91.60769\u001b[0m | \u001b[32m -10.0000\u001b[0m | \n",
      "    2 | 00m00s | \u001b[35m 101.84945\u001b[0m | \u001b[32m  -9.5918\u001b[0m | \n",
      "    3 | 00m00s | \u001b[35m 113.47606\u001b[0m | \u001b[32m  -9.1837\u001b[0m | \n",
      "    4 | 00m00s | \u001b[35m 126.66415\u001b[0m | \u001b[32m  -8.7755\u001b[0m | \n",
      "    5 | 00m00s | \u001b[35m 141.57709\u001b[0m | \u001b[32m  -8.3673\u001b[0m | \n",
      "    6 | 00m00s | \u001b[35m 158.33855\u001b[0m | \u001b[32m  -7.9592\u001b[0m | \n",
      "    7 | 00m00s | \u001b[35m 176.99157\u001b[0m | \u001b[32m  -7.5510\u001b[0m | \n",
      "    8 | 00m00s | \u001b[35m 197.43956\u001b[0m | \u001b[32m  -7.1429\u001b[0m | \n",
      "    9 | 00m00s | \u001b[35m 219.36796\u001b[0m | \u001b[32m  -6.7347\u001b[0m | \n",
      "   10 | 00m00s | \u001b[35m 242.15235\u001b[0m | \u001b[32m  -6.3265\u001b[0m | \n",
      "   11 | 00m00s | \u001b[35m 264.77197\u001b[0m | \u001b[32m  -5.9184\u001b[0m | \n",
      "   12 | 00m00s | \u001b[35m 285.76658\u001b[0m | \u001b[32m  -5.5102\u001b[0m | \n",
      "   13 | 00m00s | \u001b[35m 303.29087\u001b[0m | \u001b[32m  -5.1020\u001b[0m | \n",
      "   14 | 00m00s | \u001b[35m 315.31580\u001b[0m | \u001b[32m  -4.6939\u001b[0m | \n",
      "   15 | 00m00s | \u001b[35m 319.97963\u001b[0m | \u001b[32m  -4.2857\u001b[0m | \n",
      "   16 | 00m00s |  316.00478 |   -3.8776 | \n",
      "   17 | 00m00s |  303.02024 |   -3.4694 | \n",
      "   18 | 00m00s |  281.63698 |   -3.0612 | \n",
      "   19 | 00m00s |  253.23789 |   -2.6531 | \n",
      "   20 | 00m00s |  219.58655 |   -2.2449 | \n",
      "   21 | 00m00s |  182.42609 |   -1.8367 | \n",
      "   22 | 00m00s |  143.19822 |   -1.4286 | \n",
      "   23 | 00m00s |  102.92279 |   -1.0204 | \n",
      "   24 | 00m00s |   62.20857 |   -0.6122 | \n",
      "   25 | 00m00s |   21.34230 |   -0.2041 | \n",
      "   26 | 00m00s |   21.22854 |    0.2041 | \n",
      "   27 | 00m00s |   61.87404 |    0.6122 | \n",
      "   28 | 00m00s |  102.38727 |    1.0204 | \n",
      "   29 | 00m00s |  142.49338 |    1.4286 | \n",
      "   30 | 00m00s |  181.59360 |    1.8367 | \n",
      "   31 | 00m00s |  218.67564 |    2.2449 | \n",
      "   32 | 00m00s |  252.30243 |    2.6531 | \n",
      "   33 | 00m00s |  280.73230 |    3.0612 | \n",
      "   34 | 00m00s |  302.19982 |    3.4694 | \n",
      "   35 | 00m00s |  315.31715 |    3.8776 | \n",
      "   36 | 00m00s |  319.46544 |    4.2857 | \n",
      "   37 | 00m00s |  315.00546 |    4.6939 | \n",
      "   38 | 00m00s |  303.20273 |    5.1020 | \n",
      "   39 | 00m00s |  285.90586 |    5.5102 | \n",
      "   40 | 00m00s |  265.13043 |    5.9184 | \n",
      "   41 | 00m00s |  242.70879 |    6.3265 | \n",
      "   42 | 00m00s |  220.08948 |    6.7347 | \n",
      "   43 | 00m00s |  198.28349 |    7.1429 | \n",
      "   44 | 00m00s |  177.90801 |    7.5510 | \n",
      "   45 | 00m00s |  159.27330 |    7.9592 | \n",
      "   46 | 00m00s |  142.47487 |    8.3673 | \n",
      "   47 | 00m00s |  127.47187 |    8.7755 | \n",
      "   48 | 00m00s |  114.14597 |    9.1837 | \n",
      "   49 | 00m00s |  102.34192 |    9.5918 | \n",
      "   50 | 00m00s |   91.89361 |   10.0000 | \n",
      "   51 | 00m00s |  228.83595 |   -2.3536 | \n",
      "\u001b[31mBayesian Optimization\u001b[0m\n",
      "\u001b[94m-----------------------------------------\u001b[0m\n",
      " Step |   Time |      Value |         x | \n"
     ]
    },
    {
     "name": "stderr",
     "output_type": "stream",
     "text": [
      "/Users/jonathanhilgart/anaconda/envs/stats/lib/python3.6/site-packages/sklearn/gaussian_process/gpr.py:427: UserWarning: fmin_l_bfgs_b terminated abnormally with the  state: {'grad': array([-0.03610532]), 'task': b'ABNORMAL_TERMINATION_IN_LNSRCH', 'funcalls': 54, 'nit': 4, 'warnflag': 2}\n",
      "  \" state: %s\" % convergence_dict)\n"
     ]
    },
    {
     "name": "stdout",
     "output_type": "stream",
     "text": [
      "   52 | 00m07s | \u001b[35m 321.01583\u001b[0m | \u001b[32m  -4.2636\u001b[0m | \n"
     ]
    },
    {
     "name": "stderr",
     "output_type": "stream",
     "text": [
      "/Users/jonathanhilgart/anaconda/envs/stats/lib/python3.6/site-packages/sklearn/gaussian_process/gpr.py:427: UserWarning: fmin_l_bfgs_b terminated abnormally with the  state: {'grad': array([ 0.09802756]), 'task': b'ABNORMAL_TERMINATION_IN_LNSRCH', 'funcalls': 53, 'nit': 4, 'warnflag': 2}\n",
      "  \" state: %s\" % convergence_dict)\n"
     ]
    },
    {
     "name": "stdout",
     "output_type": "stream",
     "text": [
      "   53 | 00m03s |  319.40458 |   -4.1535 | \n",
      "   54 | 00m02s |  319.99217 |   -4.2355 | \n",
      "   55 | 00m03s | \u001b[35m 321.30913\u001b[0m | \u001b[32m  -4.2621\u001b[0m | \n"
     ]
    },
    {
     "name": "stderr",
     "output_type": "stream",
     "text": [
      "/Users/jonathanhilgart/anaconda/envs/stats/lib/python3.6/site-packages/sklearn/gaussian_process/gpr.py:427: UserWarning: fmin_l_bfgs_b terminated abnormally with the  state: {'grad': array([-1.23751804]), 'task': b'ABNORMAL_TERMINATION_IN_LNSRCH', 'funcalls': 52, 'nit': 3, 'warnflag': 2}\n",
      "  \" state: %s\" % convergence_dict)\n"
     ]
    },
    {
     "name": "stdout",
     "output_type": "stream",
     "text": [
      "   56 | 00m05s |  320.12102 |   -4.2545 | \n"
     ]
    },
    {
     "name": "stderr",
     "output_type": "stream",
     "text": [
      "/Users/jonathanhilgart/anaconda/envs/stats/lib/python3.6/site-packages/sklearn/gaussian_process/gpr.py:427: UserWarning: fmin_l_bfgs_b terminated abnormally with the  state: {'grad': array([-0.63332582]), 'task': b'ABNORMAL_TERMINATION_IN_LNSRCH', 'funcalls': 57, 'nit': 5, 'warnflag': 2}\n",
      "  \" state: %s\" % convergence_dict)\n"
     ]
    },
    {
     "name": "stdout",
     "output_type": "stream",
     "text": [
      "   57 | 00m04s |  320.29345 |   -4.2609 | \n",
      "   58 | 00m03s | \u001b[35m 321.42902\u001b[0m | \u001b[32m  -4.2624\u001b[0m | \n",
      "   59 | 00m04s |  320.23879 |   -4.1732 | \n",
      "   60 | 00m03s | \u001b[35m 321.46115\u001b[0m | \u001b[32m  -4.2627\u001b[0m | \n"
     ]
    },
    {
     "name": "stderr",
     "output_type": "stream",
     "text": [
      "/Users/jonathanhilgart/anaconda/envs/stats/lib/python3.6/site-packages/sklearn/gaussian_process/gpr.py:427: UserWarning: fmin_l_bfgs_b terminated abnormally with the  state: {'grad': array([-12735.2021785]), 'task': b'ABNORMAL_TERMINATION_IN_LNSRCH', 'funcalls': 21, 'nit': 0, 'warnflag': 2}\n",
      "  \" state: %s\" % convergence_dict)\n"
     ]
    },
    {
     "name": "stdout",
     "output_type": "stream",
     "text": [
      "   61 | 00m03s |  319.61093 |   -4.2464 | \n",
      "Bayes Opt Won\n",
      "Step Number = 7\n",
      "\u001b[31mInitialization\u001b[0m\n",
      "\u001b[94m-----------------------------------------\u001b[0m\n",
      " Step |   Time |      Value |         x | \n",
      "    1 | 00m00s | \u001b[35m  91.60769\u001b[0m | \u001b[32m -10.0000\u001b[0m | \n",
      "    2 | 00m00s | \u001b[35m 101.84945\u001b[0m | \u001b[32m  -9.5918\u001b[0m | \n",
      "    3 | 00m00s | \u001b[35m 113.47606\u001b[0m | \u001b[32m  -9.1837\u001b[0m | \n",
      "    4 | 00m00s | \u001b[35m 126.66415\u001b[0m | \u001b[32m  -8.7755\u001b[0m | \n",
      "    5 | 00m00s | \u001b[35m 141.57709\u001b[0m | \u001b[32m  -8.3673\u001b[0m | \n",
      "    6 | 00m00s | \u001b[35m 158.33855\u001b[0m | \u001b[32m  -7.9592\u001b[0m | \n",
      "    7 | 00m00s | \u001b[35m 176.99157\u001b[0m | \u001b[32m  -7.5510\u001b[0m | \n",
      "    8 | 00m00s | \u001b[35m 197.43956\u001b[0m | \u001b[32m  -7.1429\u001b[0m | \n",
      "    9 | 00m00s | \u001b[35m 219.36796\u001b[0m | \u001b[32m  -6.7347\u001b[0m | \n",
      "   10 | 00m00s | \u001b[35m 242.15235\u001b[0m | \u001b[32m  -6.3265\u001b[0m | \n",
      "   11 | 00m00s | \u001b[35m 264.77197\u001b[0m | \u001b[32m  -5.9184\u001b[0m | \n",
      "   12 | 00m00s | \u001b[35m 285.76658\u001b[0m | \u001b[32m  -5.5102\u001b[0m | \n",
      "   13 | 00m00s | \u001b[35m 303.29087\u001b[0m | \u001b[32m  -5.1020\u001b[0m | \n",
      "   14 | 00m00s | \u001b[35m 315.31580\u001b[0m | \u001b[32m  -4.6939\u001b[0m | \n",
      "   15 | 00m00s | \u001b[35m 319.97963\u001b[0m | \u001b[32m  -4.2857\u001b[0m | \n",
      "   16 | 00m00s |  316.00478 |   -3.8776 | \n",
      "   17 | 00m00s |  303.02024 |   -3.4694 | \n",
      "   18 | 00m00s |  281.63698 |   -3.0612 | \n",
      "   19 | 00m00s |  253.23789 |   -2.6531 | \n",
      "   20 | 00m00s |  219.58655 |   -2.2449 | \n",
      "   21 | 00m00s |  182.42609 |   -1.8367 | \n",
      "   22 | 00m00s |  143.19822 |   -1.4286 | \n",
      "   23 | 00m00s |  102.92279 |   -1.0204 | \n",
      "   24 | 00m00s |   62.20857 |   -0.6122 | \n",
      "   25 | 00m00s |   21.34230 |   -0.2041 | \n",
      "   26 | 00m00s |   21.22854 |    0.2041 | \n",
      "   27 | 00m00s |   61.87404 |    0.6122 | \n",
      "   28 | 00m00s |  102.38727 |    1.0204 | \n",
      "   29 | 00m00s |  142.49338 |    1.4286 | \n",
      "   30 | 00m00s |  181.59360 |    1.8367 | \n",
      "   31 | 00m00s |  218.67564 |    2.2449 | \n",
      "   32 | 00m00s |  252.30243 |    2.6531 | \n",
      "   33 | 00m00s |  280.73230 |    3.0612 | \n",
      "   34 | 00m00s |  302.19982 |    3.4694 | \n",
      "   35 | 00m00s |  315.31715 |    3.8776 | \n",
      "   36 | 00m00s |  319.46544 |    4.2857 | \n",
      "   37 | 00m00s |  315.00546 |    4.6939 | \n",
      "   38 | 00m00s |  303.20273 |    5.1020 | \n",
      "   39 | 00m00s |  285.90586 |    5.5102 | \n",
      "   40 | 00m00s |  265.13043 |    5.9184 | \n",
      "   41 | 00m00s |  242.70879 |    6.3265 | \n",
      "   42 | 00m00s |  220.08948 |    6.7347 | \n",
      "   43 | 00m00s |  198.28349 |    7.1429 | \n",
      "   44 | 00m00s |  177.90801 |    7.5510 | \n",
      "   45 | 00m00s |  159.27330 |    7.9592 | \n",
      "   46 | 00m00s |  142.47487 |    8.3673 | \n",
      "   47 | 00m00s |  127.47187 |    8.7755 | \n",
      "   48 | 00m00s |  114.14597 |    9.1837 | \n",
      "   49 | 00m00s |  102.34192 |    9.5918 | \n",
      "   50 | 00m00s |   91.89361 |   10.0000 | \n",
      "   51 | 00m00s |  142.00653 |   -8.3848 | \n",
      "\u001b[31mBayesian Optimization\u001b[0m\n",
      "\u001b[94m-----------------------------------------\u001b[0m\n",
      " Step |   Time |      Value |         x | \n",
      "   52 | 00m04s | \u001b[35m 321.25319\u001b[0m | \u001b[32m  -4.2633\u001b[0m | \n",
      "   53 | 00m02s |  320.76555 |   -4.1504 | \n",
      "   54 | 00m02s |  319.47531 |   -4.2222 | \n",
      "   55 | 00m01s |  318.95582 |   -4.0846 | \n",
      "   56 | 00m01s |  320.00189 |   -4.2606 | \n",
      "   57 | 00m02s |  319.64048 |   -4.2715 | \n",
      "   58 | 00m03s |  320.71452 |   -4.3393 | \n"
     ]
    },
    {
     "name": "stderr",
     "output_type": "stream",
     "text": [
      "/Users/jonathanhilgart/anaconda/envs/stats/lib/python3.6/site-packages/sklearn/gaussian_process/gpr.py:427: UserWarning: fmin_l_bfgs_b terminated abnormally with the  state: {'grad': array([-0.59108616]), 'task': b'ABNORMAL_TERMINATION_IN_LNSRCH', 'funcalls': 51, 'nit': 5, 'warnflag': 2}\n",
      "  \" state: %s\" % convergence_dict)\n"
     ]
    },
    {
     "name": "stdout",
     "output_type": "stream",
     "text": [
      "   59 | 00m02s |  321.07061 |   -4.1879 | \n"
     ]
    },
    {
     "name": "stderr",
     "output_type": "stream",
     "text": [
      "/Users/jonathanhilgart/anaconda/envs/stats/lib/python3.6/site-packages/sklearn/gaussian_process/gpr.py:427: UserWarning: fmin_l_bfgs_b terminated abnormally with the  state: {'grad': array([-1.10487248]), 'task': b'ABNORMAL_TERMINATION_IN_LNSRCH', 'funcalls': 55, 'nit': 3, 'warnflag': 2}\n",
      "  \" state: %s\" % convergence_dict)\n"
     ]
    },
    {
     "name": "stdout",
     "output_type": "stream",
     "text": [
      "   60 | 00m02s |  321.21175 |   -4.3123 | \n"
     ]
    },
    {
     "name": "stderr",
     "output_type": "stream",
     "text": [
      "/Users/jonathanhilgart/anaconda/envs/stats/lib/python3.6/site-packages/sklearn/gaussian_process/gpr.py:427: UserWarning: fmin_l_bfgs_b terminated abnormally with the  state: {'grad': array([-1590.83918029]), 'task': b'ABNORMAL_TERMINATION_IN_LNSRCH', 'funcalls': 34, 'nit': 2, 'warnflag': 2}\n",
      "  \" state: %s\" % convergence_dict)\n"
     ]
    },
    {
     "name": "stdout",
     "output_type": "stream",
     "text": [
      "   61 | 00m02s |  319.94978 |   -4.2648 | \n",
      "Bayes Opt Won\n",
      "Step Number = 8\n",
      "\u001b[31mInitialization\u001b[0m\n",
      "\u001b[94m-----------------------------------------\u001b[0m\n",
      " Step |   Time |      Value |         x | \n",
      "    1 | 00m00s | \u001b[35m  91.60769\u001b[0m | \u001b[32m -10.0000\u001b[0m | \n",
      "    2 | 00m00s | \u001b[35m 101.84945\u001b[0m | \u001b[32m  -9.5918\u001b[0m | \n",
      "    3 | 00m00s | \u001b[35m 113.47606\u001b[0m | \u001b[32m  -9.1837\u001b[0m | \n",
      "    4 | 00m00s | \u001b[35m 126.66415\u001b[0m | \u001b[32m  -8.7755\u001b[0m | \n",
      "    5 | 00m00s | \u001b[35m 141.57709\u001b[0m | \u001b[32m  -8.3673\u001b[0m | \n",
      "    6 | 00m00s | \u001b[35m 158.33855\u001b[0m | \u001b[32m  -7.9592\u001b[0m | \n",
      "    7 | 00m00s | \u001b[35m 176.99157\u001b[0m | \u001b[32m  -7.5510\u001b[0m | \n",
      "    8 | 00m00s | \u001b[35m 197.43956\u001b[0m | \u001b[32m  -7.1429\u001b[0m | \n",
      "    9 | 00m00s | \u001b[35m 219.36796\u001b[0m | \u001b[32m  -6.7347\u001b[0m | \n",
      "   10 | 00m00s | \u001b[35m 242.15235\u001b[0m | \u001b[32m  -6.3265\u001b[0m | \n",
      "   11 | 00m00s | \u001b[35m 264.77197\u001b[0m | \u001b[32m  -5.9184\u001b[0m | \n",
      "   12 | 00m00s | \u001b[35m 285.76658\u001b[0m | \u001b[32m  -5.5102\u001b[0m | \n",
      "   13 | 00m00s | \u001b[35m 303.29087\u001b[0m | \u001b[32m  -5.1020\u001b[0m | \n",
      "   14 | 00m00s | \u001b[35m 315.31580\u001b[0m | \u001b[32m  -4.6939\u001b[0m | \n",
      "   15 | 00m00s | \u001b[35m 319.97963\u001b[0m | \u001b[32m  -4.2857\u001b[0m | \n",
      "   16 | 00m00s |  316.00478 |   -3.8776 | \n",
      "   17 | 00m00s |  303.02024 |   -3.4694 | \n",
      "   18 | 00m00s |  281.63698 |   -3.0612 | \n",
      "   19 | 00m00s |  253.23789 |   -2.6531 | \n",
      "   20 | 00m00s |  219.58655 |   -2.2449 | \n",
      "   21 | 00m00s |  182.42609 |   -1.8367 | \n",
      "   22 | 00m00s |  143.19822 |   -1.4286 | \n",
      "   23 | 00m00s |  102.92279 |   -1.0204 | \n",
      "   24 | 00m00s |   62.20857 |   -0.6122 | \n",
      "   25 | 00m00s |   21.34230 |   -0.2041 | \n",
      "   26 | 00m00s |   21.22854 |    0.2041 | \n",
      "   27 | 00m00s |   61.87404 |    0.6122 | \n",
      "   28 | 00m00s |  102.38727 |    1.0204 | \n",
      "   29 | 00m00s |  142.49338 |    1.4286 | \n",
      "   30 | 00m00s |  181.59360 |    1.8367 | \n",
      "   31 | 00m00s |  218.67564 |    2.2449 | \n",
      "   32 | 00m00s |  252.30243 |    2.6531 | \n",
      "   33 | 00m00s |  280.73230 |    3.0612 | \n",
      "   34 | 00m00s |  302.19982 |    3.4694 | \n",
      "   35 | 00m00s |  315.31715 |    3.8776 | \n",
      "   36 | 00m00s |  319.46544 |    4.2857 | \n",
      "   37 | 00m00s |  315.00546 |    4.6939 | \n",
      "   38 | 00m00s |  303.20273 |    5.1020 | \n",
      "   39 | 00m00s |  285.90586 |    5.5102 | \n",
      "   40 | 00m00s |  265.13043 |    5.9184 | \n",
      "   41 | 00m00s |  242.70879 |    6.3265 | \n",
      "   42 | 00m00s |  220.08948 |    6.7347 | \n",
      "   43 | 00m00s |  198.28349 |    7.1429 | \n",
      "   44 | 00m00s |  177.90801 |    7.5510 | \n",
      "   45 | 00m00s |  159.27330 |    7.9592 | \n",
      "   46 | 00m00s |  142.47487 |    8.3673 | \n",
      "   47 | 00m00s |  127.47187 |    8.7755 | \n",
      "   48 | 00m00s |  114.14597 |    9.1837 | \n",
      "   49 | 00m00s |  102.34192 |    9.5918 | \n",
      "   50 | 00m00s |   91.89361 |   10.0000 | \n",
      "   51 | 00m00s |  150.16999 |   -1.5034 | \n",
      "\u001b[31mBayesian Optimization\u001b[0m\n",
      "\u001b[94m-----------------------------------------\u001b[0m\n",
      " Step |   Time |      Value |         x | \n",
      "   52 | 00m03s | \u001b[35m 321.05148\u001b[0m | \u001b[32m  -4.2636\u001b[0m | \n",
      "   53 | 00m02s |  319.10930 |   -4.1529 | \n"
     ]
    },
    {
     "name": "stderr",
     "output_type": "stream",
     "text": [
      "/Users/jonathanhilgart/anaconda/envs/stats/lib/python3.6/site-packages/sklearn/gaussian_process/gpr.py:427: UserWarning: fmin_l_bfgs_b terminated abnormally with the  state: {'grad': array([ 0.18822115]), 'task': b'ABNORMAL_TERMINATION_IN_LNSRCH', 'funcalls': 50, 'nit': 5, 'warnflag': 2}\n",
      "  \" state: %s\" % convergence_dict)\n"
     ]
    },
    {
     "name": "stdout",
     "output_type": "stream",
     "text": [
      "   54 | 00m01s | \u001b[35m 321.40297\u001b[0m | \u001b[32m  -4.2373\u001b[0m | \n",
      "   55 | 00m02s |  319.49782 |   -4.2410 | \n",
      "   56 | 00m02s |  321.28186 |   -4.2057 | \n",
      "   57 | 00m01s |  321.39963 |   -4.2249 | \n"
     ]
    },
    {
     "name": "stderr",
     "output_type": "stream",
     "text": [
      "/Users/jonathanhilgart/anaconda/envs/stats/lib/python3.6/site-packages/sklearn/gaussian_process/gpr.py:427: UserWarning: fmin_l_bfgs_b terminated abnormally with the  state: {'grad': array([-0.01026041]), 'task': b'ABNORMAL_TERMINATION_IN_LNSRCH', 'funcalls': 49, 'nit': 3, 'warnflag': 2}\n",
      "  \" state: %s\" % convergence_dict)\n"
     ]
    },
    {
     "name": "stdout",
     "output_type": "stream",
     "text": [
      "   58 | 00m02s |  320.78759 |   -4.2324 | \n",
      "   59 | 00m01s |  320.71175 |   -4.2174 | \n",
      "   60 | 00m01s |  320.08879 |   -4.1918 | \n"
     ]
    },
    {
     "name": "stderr",
     "output_type": "stream",
     "text": [
      "/Users/jonathanhilgart/anaconda/envs/stats/lib/python3.6/site-packages/sklearn/gaussian_process/gpr.py:427: UserWarning: fmin_l_bfgs_b terminated abnormally with the  state: {'grad': array([-1.82733734]), 'task': b'ABNORMAL_TERMINATION_IN_LNSRCH', 'funcalls': 53, 'nit': 4, 'warnflag': 2}\n",
      "  \" state: %s\" % convergence_dict)\n"
     ]
    },
    {
     "name": "stdout",
     "output_type": "stream",
     "text": [
      "   61 | 00m01s |  320.18192 |   -4.2708 | \n",
      "Bayes Opt Won\n",
      "Step Number = 9\n",
      "\u001b[31mInitialization\u001b[0m\n",
      "\u001b[94m-----------------------------------------\u001b[0m\n",
      " Step |   Time |      Value |         x | \n",
      "    1 | 00m00s | \u001b[35m  91.60769\u001b[0m | \u001b[32m -10.0000\u001b[0m | \n",
      "    2 | 00m00s | \u001b[35m 101.84945\u001b[0m | \u001b[32m  -9.5918\u001b[0m | \n",
      "    3 | 00m00s | \u001b[35m 113.47606\u001b[0m | \u001b[32m  -9.1837\u001b[0m | \n",
      "    4 | 00m00s | \u001b[35m 126.66415\u001b[0m | \u001b[32m  -8.7755\u001b[0m | \n",
      "    5 | 00m00s | \u001b[35m 141.57709\u001b[0m | \u001b[32m  -8.3673\u001b[0m | \n",
      "    6 | 00m00s | \u001b[35m 158.33855\u001b[0m | \u001b[32m  -7.9592\u001b[0m | \n",
      "    7 | 00m00s | \u001b[35m 176.99157\u001b[0m | \u001b[32m  -7.5510\u001b[0m | \n",
      "    8 | 00m00s | \u001b[35m 197.43956\u001b[0m | \u001b[32m  -7.1429\u001b[0m | \n",
      "    9 | 00m00s | \u001b[35m 219.36796\u001b[0m | \u001b[32m  -6.7347\u001b[0m | \n",
      "   10 | 00m00s | \u001b[35m 242.15235\u001b[0m | \u001b[32m  -6.3265\u001b[0m | \n",
      "   11 | 00m00s | \u001b[35m 264.77197\u001b[0m | \u001b[32m  -5.9184\u001b[0m | \n",
      "   12 | 00m00s | \u001b[35m 285.76658\u001b[0m | \u001b[32m  -5.5102\u001b[0m | \n",
      "   13 | 00m00s | \u001b[35m 303.29087\u001b[0m | \u001b[32m  -5.1020\u001b[0m | \n",
      "   14 | 00m00s | \u001b[35m 315.31580\u001b[0m | \u001b[32m  -4.6939\u001b[0m | \n",
      "   15 | 00m00s | \u001b[35m 319.97963\u001b[0m | \u001b[32m  -4.2857\u001b[0m | \n",
      "   16 | 00m00s |  316.00478 |   -3.8776 | \n",
      "   17 | 00m00s |  303.02024 |   -3.4694 | \n",
      "   18 | 00m00s |  281.63698 |   -3.0612 | \n",
      "   19 | 00m00s |  253.23789 |   -2.6531 | \n",
      "   20 | 00m00s |  219.58655 |   -2.2449 | \n",
      "   21 | 00m00s |  182.42609 |   -1.8367 | \n",
      "   22 | 00m00s |  143.19822 |   -1.4286 | \n",
      "   23 | 00m00s |  102.92279 |   -1.0204 | \n",
      "   24 | 00m00s |   62.20857 |   -0.6122 | \n",
      "   25 | 00m00s |   21.34230 |   -0.2041 | \n",
      "   26 | 00m00s |   21.22854 |    0.2041 | \n",
      "   27 | 00m00s |   61.87404 |    0.6122 | \n",
      "   28 | 00m00s |  102.38727 |    1.0204 | \n",
      "   29 | 00m00s |  142.49338 |    1.4286 | \n",
      "   30 | 00m00s |  181.59360 |    1.8367 | \n",
      "   31 | 00m00s |  218.67564 |    2.2449 | \n",
      "   32 | 00m00s |  252.30243 |    2.6531 | \n",
      "   33 | 00m00s |  280.73230 |    3.0612 | \n",
      "   34 | 00m00s |  302.19982 |    3.4694 | \n",
      "   35 | 00m00s |  315.31715 |    3.8776 | \n",
      "   36 | 00m00s |  319.46544 |    4.2857 | \n",
      "   37 | 00m00s |  315.00546 |    4.6939 | \n",
      "   38 | 00m00s |  303.20273 |    5.1020 | \n",
      "   39 | 00m00s |  285.90586 |    5.5102 | \n",
      "   40 | 00m00s |  265.13043 |    5.9184 | \n",
      "   41 | 00m00s |  242.70879 |    6.3265 | \n",
      "   42 | 00m00s |  220.08948 |    6.7347 | \n",
      "   43 | 00m00s |  198.28349 |    7.1429 | \n",
      "   44 | 00m00s |  177.90801 |    7.5510 | \n",
      "   45 | 00m00s |  159.27330 |    7.9592 | \n",
      "   46 | 00m00s |  142.47487 |    8.3673 | \n",
      "   47 | 00m00s |  127.47187 |    8.7755 | \n",
      "   48 | 00m00s |  114.14597 |    9.1837 | \n",
      "   49 | 00m00s |  102.34192 |    9.5918 | \n",
      "   50 | 00m00s |   91.89361 |   10.0000 | \n",
      "   51 | 00m00s |  258.83684 |   -2.7342 | \n",
      "\u001b[31mBayesian Optimization\u001b[0m\n",
      "\u001b[94m-----------------------------------------\u001b[0m\n",
      " Step |   Time |      Value |         x | \n",
      "   52 | 00m03s | \u001b[35m 321.44999\u001b[0m | \u001b[32m  -4.2625\u001b[0m | \n",
      "   53 | 00m01s |  320.26512 |   -4.1482 | \n",
      "   54 | 00m01s |  320.24858 |   -4.2267 | \n"
     ]
    },
    {
     "name": "stderr",
     "output_type": "stream",
     "text": [
      "/Users/jonathanhilgart/anaconda/envs/stats/lib/python3.6/site-packages/sklearn/gaussian_process/gpr.py:427: UserWarning: fmin_l_bfgs_b terminated abnormally with the  state: {'grad': array([-0.60229842]), 'task': b'ABNORMAL_TERMINATION_IN_LNSRCH', 'funcalls': 47, 'nit': 2, 'warnflag': 2}\n",
      "  \" state: %s\" % convergence_dict)\n"
     ]
    },
    {
     "name": "stdout",
     "output_type": "stream",
     "text": [
      "   55 | 00m02s |  320.25669 |   -4.2581 | \n",
      "   56 | 00m02s |  321.24676 |   -4.2696 | \n",
      "   57 | 00m01s |  320.90001 |   -4.1945 | \n",
      "   58 | 00m01s |  319.88297 |   -4.2648 | \n",
      "   59 | 00m01s | \u001b[35m 321.46508\u001b[0m | \u001b[32m  -4.2752\u001b[0m | \n",
      "   60 | 00m02s |  319.50270 |   -4.2724 | \n",
      "   61 | 00m02s |  320.84812 |   -4.1629 | \n",
      "Bayes Opt Won\n",
      "Step Number = 10\n",
      "\u001b[31mInitialization\u001b[0m\n",
      "\u001b[94m-----------------------------------------\u001b[0m\n",
      " Step |   Time |      Value |         x | \n",
      "    1 | 00m00s | \u001b[35m  91.60769\u001b[0m | \u001b[32m -10.0000\u001b[0m | \n",
      "    2 | 00m00s | \u001b[35m 101.84945\u001b[0m | \u001b[32m  -9.5918\u001b[0m | \n",
      "    3 | 00m00s | \u001b[35m 113.47606\u001b[0m | \u001b[32m  -9.1837\u001b[0m | \n",
      "    4 | 00m00s | \u001b[35m 126.66415\u001b[0m | \u001b[32m  -8.7755\u001b[0m | \n",
      "    5 | 00m00s | \u001b[35m 141.57709\u001b[0m | \u001b[32m  -8.3673\u001b[0m | \n",
      "    6 | 00m00s | \u001b[35m 158.33855\u001b[0m | \u001b[32m  -7.9592\u001b[0m | \n",
      "    7 | 00m00s | \u001b[35m 176.99157\u001b[0m | \u001b[32m  -7.5510\u001b[0m | \n",
      "    8 | 00m00s | \u001b[35m 197.43956\u001b[0m | \u001b[32m  -7.1429\u001b[0m | \n",
      "    9 | 00m00s | \u001b[35m 219.36796\u001b[0m | \u001b[32m  -6.7347\u001b[0m | \n",
      "   10 | 00m00s | \u001b[35m 242.15235\u001b[0m | \u001b[32m  -6.3265\u001b[0m | \n",
      "   11 | 00m00s | \u001b[35m 264.77197\u001b[0m | \u001b[32m  -5.9184\u001b[0m | \n",
      "   12 | 00m00s | \u001b[35m 285.76658\u001b[0m | \u001b[32m  -5.5102\u001b[0m | \n",
      "   13 | 00m00s | \u001b[35m 303.29087\u001b[0m | \u001b[32m  -5.1020\u001b[0m | \n",
      "   14 | 00m00s | \u001b[35m 315.31580\u001b[0m | \u001b[32m  -4.6939\u001b[0m | \n",
      "   15 | 00m00s | \u001b[35m 319.97963\u001b[0m | \u001b[32m  -4.2857\u001b[0m | \n",
      "   16 | 00m00s |  316.00478 |   -3.8776 | \n",
      "   17 | 00m00s |  303.02024 |   -3.4694 | \n",
      "   18 | 00m00s |  281.63698 |   -3.0612 | \n",
      "   19 | 00m00s |  253.23789 |   -2.6531 | \n",
      "   20 | 00m00s |  219.58655 |   -2.2449 | \n",
      "   21 | 00m00s |  182.42609 |   -1.8367 | \n",
      "   22 | 00m00s |  143.19822 |   -1.4286 | \n",
      "   23 | 00m00s |  102.92279 |   -1.0204 | \n",
      "   24 | 00m00s |   62.20857 |   -0.6122 | \n",
      "   25 | 00m00s |   21.34230 |   -0.2041 | \n",
      "   26 | 00m00s |   21.22854 |    0.2041 | \n",
      "   27 | 00m00s |   61.87404 |    0.6122 | \n",
      "   28 | 00m00s |  102.38727 |    1.0204 | \n",
      "   29 | 00m00s |  142.49338 |    1.4286 | \n",
      "   30 | 00m00s |  181.59360 |    1.8367 | \n",
      "   31 | 00m00s |  218.67564 |    2.2449 | \n",
      "   32 | 00m00s |  252.30243 |    2.6531 | \n",
      "   33 | 00m00s |  280.73230 |    3.0612 | \n",
      "   34 | 00m00s |  302.19982 |    3.4694 | \n",
      "   35 | 00m00s |  315.31715 |    3.8776 | \n",
      "   36 | 00m00s |  319.46544 |    4.2857 | \n",
      "   37 | 00m00s |  315.00546 |    4.6939 | \n",
      "   38 | 00m00s |  303.20273 |    5.1020 | \n",
      "   39 | 00m00s |  285.90586 |    5.5102 | \n",
      "   40 | 00m00s |  265.13043 |    5.9184 | \n",
      "   41 | 00m00s |  242.70879 |    6.3265 | \n",
      "   42 | 00m00s |  220.08948 |    6.7347 | \n",
      "   43 | 00m00s |  198.28349 |    7.1429 | \n",
      "   44 | 00m00s |  177.90801 |    7.5510 | \n",
      "   45 | 00m00s |  159.27330 |    7.9592 | \n",
      "   46 | 00m00s |  142.47487 |    8.3673 | \n",
      "   47 | 00m00s |  127.47187 |    8.7755 | \n",
      "   48 | 00m00s |  114.14597 |    9.1837 | \n",
      "   49 | 00m00s |  102.34192 |    9.5918 | \n",
      "   50 | 00m00s |   91.89361 |   10.0000 | \n",
      "   51 | 00m00s |  269.02219 |    5.8646 | \n",
      "\u001b[31mBayesian Optimization\u001b[0m\n",
      "\u001b[94m-----------------------------------------\u001b[0m\n",
      " Step |   Time |      Value |         x | \n",
      "   52 | 00m05s | \u001b[35m 321.21135\u001b[0m | \u001b[32m  -4.2634\u001b[0m | \n"
     ]
    },
    {
     "name": "stderr",
     "output_type": "stream",
     "text": [
      "/Users/jonathanhilgart/anaconda/envs/stats/lib/python3.6/site-packages/sklearn/gaussian_process/gpr.py:427: UserWarning: fmin_l_bfgs_b terminated abnormally with the  state: {'grad': array([-0.06798105]), 'task': b'ABNORMAL_TERMINATION_IN_LNSRCH', 'funcalls': 48, 'nit': 5, 'warnflag': 2}\n",
      "  \" state: %s\" % convergence_dict)\n"
     ]
    },
    {
     "name": "stdout",
     "output_type": "stream",
     "text": [
      "   53 | 00m02s |  320.50233 |   -4.1507 | \n",
      "   54 | 00m01s | \u001b[35m 321.40445\u001b[0m | \u001b[32m  -4.2249\u001b[0m | \n",
      "   55 | 00m01s |  321.37099 |   -4.2434 | \n"
     ]
    },
    {
     "name": "stderr",
     "output_type": "stream",
     "text": [
      "/Users/jonathanhilgart/anaconda/envs/stats/lib/python3.6/site-packages/sklearn/gaussian_process/gpr.py:427: UserWarning: fmin_l_bfgs_b terminated abnormally with the  state: {'grad': array([-0.3143575]), 'task': b'ABNORMAL_TERMINATION_IN_LNSRCH', 'funcalls': 51, 'nit': 5, 'warnflag': 2}\n",
      "  \" state: %s\" % convergence_dict)\n"
     ]
    },
    {
     "name": "stdout",
     "output_type": "stream",
     "text": [
      "   56 | 00m01s |  321.07374 |   -4.2241 | \n",
      "   57 | 00m01s |  320.09642 |   -4.0622 | \n",
      "   58 | 00m01s |  321.18256 |   -4.2319 | \n",
      "   59 | 00m02s |  320.48751 |   -4.1173 | \n",
      "   60 | 00m01s |  319.71433 |   -4.2273 | \n"
     ]
    },
    {
     "name": "stderr",
     "output_type": "stream",
     "text": [
      "/Users/jonathanhilgart/anaconda/envs/stats/lib/python3.6/site-packages/sklearn/gaussian_process/gpr.py:427: UserWarning: fmin_l_bfgs_b terminated abnormally with the  state: {'grad': array([-0.0847015]), 'task': b'ABNORMAL_TERMINATION_IN_LNSRCH', 'funcalls': 52, 'nit': 3, 'warnflag': 2}\n",
      "  \" state: %s\" % convergence_dict)\n"
     ]
    },
    {
     "name": "stdout",
     "output_type": "stream",
     "text": [
      "   61 | 00m02s |  320.97743 |   -4.2365 | \n",
      "Bayes Opt Won\n"
     ]
    }
   ],
   "source": [
    "# keep track of the wins\n",
    "my_implementation_wins = 0\n",
    "bayes_opt_wins = 0\n",
    "\n",
    "n_trials=10\n",
    "for i in range(n_trials):\n",
    "    print('Step Number =',i+1)\n",
    "    # My implementation\n",
    "    bo_implementation.fit(train_x_oneD,train_y_numbers_oneD, test_x_oneD, oneD_function, \n",
    "                          y_func_type='real', verbose = False )\n",
    "    bo_implementation.maximize()\n",
    "    # Bayes Opt Implementation\n",
    "    bayes_opt = BayesianOptimization(oneD_function,\n",
    "                          {'x': (-10, 10)}) # the range to explore\n",
    "    bayes_opt .explore({'x': np.linspace(-10,10)}) # the points to explore\n",
    "    bayes_opt .maximize(init_points=1, n_iter=10, acq='ei')\n",
    "    \n",
    "    if bayes_opt.res['max']['max_val'] > bo_implementation.best_y:\n",
    "        print(\"Bayes Opt Won\")\n",
    "        bayes_opt_wins +=1\n",
    "    else:\n",
    "        print('My implementation won')\n",
    "        my_implementation_wins +=1 \n",
    "    "
   ]
  },
  {
   "cell_type": "code",
   "execution_count": 286,
   "metadata": {},
   "outputs": [
    {
     "data": {
      "image/png": "[encoded data removed]",
      "text/plain": [
       "<matplotlib.figure.Figure at 0x11f55c828>"
      ]
     },
     "metadata": {},
     "output_type": "display_data"
    }
   ],
   "source": [
    "plt.figure(figsize=(10,5))\n",
    "plt.title('Results of 1D hyperparameter search')\n",
    "sns.barplot(x = ['bayes_opt_implementation','my_implementation'],y =[bayes_opt_wins, my_implementation_wins] );"
   ]
  },
  {
   "cell_type": "markdown",
   "metadata": {},
   "source": [
    "- Not a huge suprise that the 'professional' implementation outperforms my implementation"
   ]
  },
  {
   "cell_type": "markdown",
   "metadata": {},
   "source": [
    "# Next, compare performance over a two-dimensional function\n",
    "\n",
    "### Eggholder function "
   ]
  },
  {
   "cell_type": "markdown",
   "metadata": {},
   "source": [
    "${\\displaystyle f(x,y)=-\\left(y+47\\right)\\sin {\\sqrt {\\left|{\\frac {x}{2}}+\\left(y+47\\right)\\right|}}-x\\sin {\\sqrt {\\left|x-\\left(y+47\\right)\\right|}}} $"
   ]
  },
  {
   "cell_type": "code",
   "execution_count": 374,
   "metadata": {
    "collapsed": true
   },
   "outputs": [],
   "source": [
    "#twoD_function = lambda x,y: 100*np.sqrt(abs(y-.01*x**2))+.01*abs(x+10)\n",
    "twoD_function = lambda x,y: -(y+47)*sin(np.sqrt(abs((x/2)+(y+47))))-x*sin(np.sqrt(abs(x-(y+47))))"
   ]
  },
  {
   "cell_type": "code",
   "execution_count": 563,
   "metadata": {},
   "outputs": [
    {
     "ename": "SyntaxError",
     "evalue": "invalid syntax (<ipython-input-563-b91dc257519b>, line 4)",
     "output_type": "error",
     "traceback": [
      "\u001b[0;36m  File \u001b[0;32m\"<ipython-input-563-b91dc257519b>\"\u001b[0;36m, line \u001b[0;32m4\u001b[0m\n\u001b[0;31m    twoD_train_y = np.array([twoD_function(twoD_train_x[0][0],twoD_train_x[0][1])).reshape(-1,1)\u001b[0m\n\u001b[0m                                                                                 ^\u001b[0m\n\u001b[0;31mSyntaxError\u001b[0m\u001b[0;31m:\u001b[0m invalid syntax\n"
     ]
    }
   ],
   "source": [
    "twoD_domain = np.linspace(-100,100,60)\n",
    "combo_domain = list(itertools.product(*[twoD_domain,twoD_domain]))\n",
    "twoD_train_x = np.array([combo_domain[np.random.choice(len(combo_domain))] ] )\n",
    "twoD_train_y = np.array([twoD_function(twoD_train_x[0][0],twoD_train_x[0][1])).reshape(-1,1)\n",
    "# Define the axes for the scatter plot\n",
    "xs = [combo_domain[i][0] for i in range(len(combo_domain))]\n",
    "ys = [combo_domain[i][1] for i in range(len(combo_domain))]"
   ]
  },
  {
   "cell_type": "code",
   "execution_count": 449,
   "metadata": {},
   "outputs": [
    {
     "name": "stdout",
     "output_type": "stream",
     "text": [
      "The domain has 3,600 parameters\n"
     ]
    }
   ],
   "source": [
    "print(f\"The domain has {len(combo_domain):,} parameters\")"
   ]
  },
  {
   "cell_type": "code",
   "execution_count": 450,
   "metadata": {
    "collapsed": true
   },
   "outputs": [],
   "source": [
    "twoD_function_y = np.array([twoD_function(combo_domain[i][0],combo_domain[i][1]) for i in range(len(combo_domain))]).reshape(-1,1)"
   ]
  },
  {
   "cell_type": "code",
   "execution_count": 425,
   "metadata": {},
   "outputs": [
    {
     "data": {
      "image/png": "[encoded data removed]",
      "text/plain": [
       "<matplotlib.figure.Figure at 0x121a98550>"
      ]
     },
     "metadata": {},
     "output_type": "display_data"
    }
   ],
   "source": [
    "fig = plt.figure(figsize=(13,10))\n",
    "ax = fig.add_subplot(111, projection='3d')\n",
    "ax.scatter(xs, ys, twoD_function_y,cmap='hot',c=twoD_function_y)\n",
    "ax.set_xlabel('X')\n",
    "ax.set_ylabel('Y')\n",
    "ax.set_zlabel('Z');"
   ]
  },
  {
   "cell_type": "markdown",
   "metadata": {
    "collapsed": true
   },
   "source": [
    "### Setup my implementation"
   ]
  },
  {
   "cell_type": "code",
   "execution_count": 555,
   "metadata": {},
   "outputs": [],
   "source": [
    "%autoreload 2"
   ]
  },
  {
   "cell_type": "code",
   "execution_count": 560,
   "metadata": {},
   "outputs": [],
   "source": [
    "bo_implementation_2d.fit(twoD_train_x, twoD_train_y ,combo_domain, twoD_function , y_func_type='real',\n",
    "                        kernel_params={'length':50}) # change the length parameter"
   ]
  },
  {
   "cell_type": "markdown",
   "metadata": {
    "collapsed": true
   },
   "source": [
    "### Setup the bayesian_optimization implementation"
   ]
  },
  {
   "cell_type": "code",
   "execution_count": 508,
   "metadata": {
    "collapsed": true
   },
   "outputs": [],
   "source": [
    "bayes_opt_2d = BayesianOptimization(twoD_function ,\n",
    "                          {'x': (-100,100),'y':(-100,100)}) # the bounds to explore\n",
    "bayes_opt_2d .explore({'x': np.linspace(-100,100,60),'y':np.linspace(-100,100,60)}) # the points to explore"
   ]
  },
  {
   "cell_type": "markdown",
   "metadata": {
    "collapsed": true
   },
   "source": [
    "## Compare two-dimensional results"
   ]
  },
  {
   "cell_type": "code",
   "execution_count": 561,
   "metadata": {},
   "outputs": [
    {
     "name": "stdout",
     "output_type": "stream",
     "text": [
      "Bayesian Optimization just sampled point = [ 96.61016949  38.98305085]\n",
      "Best x (Bayesian Optimization) = [ 96.61016949  38.98305085],                         Best y = [ 82.72288041]\n",
      "Bayesian Optimization just sampled point = (96.610169491525426, 35.593220338983031)\n",
      "Best x (Bayesian Optimization) = (96.610169491525426, 35.593220338983031), Best y = 129.2673021437016\n",
      "Bayesian Optimization just sampled point = (100.0, 35.593220338983031)\n",
      "Best x (Bayesian Optimization) = (100.0, 35.593220338983031), Best y = 157.46133936416348\n",
      "Bayesian Optimization just sampled point = (-100.0, 96.610169491525426)\n",
      "Best x (Bayesian Optimization) = (100.0, 35.593220338983031), Best y = 157.46133936416348\n",
      "Bayesian Optimization just sampled point = (100.0, 38.983050847457633)\n",
      "Best x (Bayesian Optimization) = (100.0, 35.593220338983031), Best y = 157.46133936416348\n",
      "Bayesian Optimization just sampled point = (100.0, 42.372881355932208)\n",
      "Best x (Bayesian Optimization) = (100.0, 35.593220338983031), Best y = 157.46133936416348\n",
      "Bayesian Optimization just sampled point = (96.610169491525426, 42.372881355932208)\n",
      "Best x (Bayesian Optimization) = (100.0, 35.593220338983031), Best y = 157.46133936416348\n",
      "Bayesian Optimization just sampled point = (100.0, 32.203389830508456)\n",
      "Best x (Bayesian Optimization) = (100.0, 32.203389830508456), Best y = 172.65540576566528\n",
      "Bayesian Optimization just sampled point = (96.610169491525426, 32.203389830508456)\n",
      "Best x (Bayesian Optimization) = (100.0, 32.203389830508456), Best y = 172.65540576566528\n",
      "Bayesian Optimization just sampled point = (100.0, 28.813559322033882)\n",
      "Best x (Bayesian Optimization) = (100.0, 32.203389830508456), Best y = 172.65540576566528\n"
     ]
    }
   ],
   "source": [
    "my_implementation_2d_s = time.time()\n",
    "bo_implementation_2d.maximize()\n",
    "my_implementation_2d_e = time.time()"
   ]
  },
  {
   "cell_type": "code",
   "execution_count": 562,
   "metadata": {},
   "outputs": [
    {
     "name": "stdout",
     "output_type": "stream",
     "text": [
      "\u001b[31mInitialization\u001b[0m\n",
      "\u001b[94m-----------------------------------------------------\u001b[0m\n",
      " Step |   Time |      Value |         x |         y | \n",
      "    1 | 00m00s | \u001b[35m  19.05993\u001b[0m | \u001b[32m-100.0000\u001b[0m | \u001b[32m-100.0000\u001b[0m | \n",
      "    2 | 00m00s | \u001b[35m  29.84759\u001b[0m | \u001b[32m -96.6102\u001b[0m | \u001b[32m -96.6102\u001b[0m | \n",
      "    3 | 00m00s | \u001b[35m  40.85957\u001b[0m | \u001b[32m -93.2203\u001b[0m | \u001b[32m -93.2203\u001b[0m | \n",
      "    4 | 00m00s | \u001b[35m  51.12372\u001b[0m | \u001b[32m -89.8305\u001b[0m | \u001b[32m -89.8305\u001b[0m | \n",
      "    5 | 00m00s | \u001b[35m  59.71687\u001b[0m | \u001b[32m -86.4407\u001b[0m | \u001b[32m -86.4407\u001b[0m | \n",
      "    6 | 00m00s | \u001b[35m  65.84925\u001b[0m | \u001b[32m -83.0508\u001b[0m | \u001b[32m -83.0508\u001b[0m | \n",
      "    7 | 00m00s | \u001b[35m  68.95078\u001b[0m | \u001b[32m -79.6610\u001b[0m | \u001b[32m -79.6610\u001b[0m | \n",
      "    8 | 00m00s |   68.75080 |  -76.2712 |  -76.2712 | \n",
      "    9 | 00m00s |   65.34069 |  -72.8814 |  -72.8814 | \n",
      "   10 | 00m00s |   59.20652 |  -69.4915 |  -69.4915 | \n",
      "   11 | 00m00s |   51.21656 |  -66.1017 |  -66.1017 | \n",
      "   12 | 00m00s |   42.54804 |  -62.7119 |  -62.7119 | \n",
      "   13 | 00m00s |   34.53798 |  -59.3220 |  -59.3220 | \n",
      "   14 | 00m00s |   28.44758 |  -55.9322 |  -55.9322 | \n",
      "   15 | 00m00s |   25.14023 |  -52.5424 |  -52.5424 | \n",
      "   16 | 00m00s |   24.69531 |  -49.1525 |  -49.1525 | \n",
      "   17 | 00m00s |   26.02514 |  -45.7627 |  -45.7627 | \n",
      "   18 | 00m00s |   26.65666 |  -42.3729 |  -42.3729 | \n",
      "   19 | 00m00s |   23.06843 |  -38.9831 |  -38.9831 | \n",
      "   20 | 00m00s |   12.71130 |  -35.5932 |  -35.5932 | \n",
      "   21 | 00m00s |    3.98537 |  -32.2034 |  -32.2034 | \n",
      "   22 | 00m00s |   -1.32509 |  -28.8136 |  -28.8136 | \n",
      "   23 | 00m00s |   10.24370 |  -25.4237 |  -25.4237 | \n",
      "   24 | 00m00s |   25.89377 |  -22.0339 |  -22.0339 | \n",
      "   25 | 00m00s |   36.74031 |  -18.6441 |  -18.6441 | \n",
      "   26 | 00m00s |   39.38459 |  -15.2542 |  -15.2542 | \n",
      "   27 | 00m00s |   33.48882 |  -11.8644 |  -11.8644 | \n",
      "   28 | 00m00s |   20.56602 |   -8.4746 |   -8.4746 | \n",
      "   29 | 00m00s |    3.10670 |   -5.0847 |   -5.0847 | \n",
      "   30 | 00m00s |  -16.07433 |   -1.6949 |   -1.6949 | \n",
      "   31 | 00m00s |  -34.30414 |    1.6949 |    1.6949 | \n",
      "   32 | 00m00s |  -49.35634 |    5.0847 |    5.0847 | \n",
      "   33 | 00m00s |  -59.62111 |    8.4746 |    8.4746 | \n",
      "   34 | 00m00s |  -64.16839 |   11.8644 |   11.8644 | \n",
      "   35 | 00m00s |  -62.73085 |   15.2542 |   15.2542 | \n",
      "   36 | 00m00s |  -55.63071 |   18.6441 |   18.6441 | \n",
      "   37 | 00m00s |  -43.67126 |   22.0339 |   22.0339 | \n",
      "   38 | 00m00s |  -28.01034 |   25.4237 |   25.4237 | \n",
      "   39 | 00m00s |  -10.02913 |   28.8136 |   28.8136 | \n",
      "   40 | 00m00s |    8.79321 |   32.2034 |   32.2034 | \n",
      "   41 | 00m00s |   26.99215 |   35.5932 |   35.5932 | \n",
      "   42 | 00m00s |   43.21268 |   38.9831 |   38.9831 | \n",
      "   43 | 00m00s |   56.28419 |   42.3729 |   42.3729 | \n",
      "   44 | 00m00s |   65.27444 |   45.7627 |   45.7627 | \n",
      "   45 | 00m00s | \u001b[35m  69.52315\u001b[0m | \u001b[32m  49.1525\u001b[0m | \u001b[32m  49.1525\u001b[0m | \n",
      "   46 | 00m00s |   68.65672 |   52.5424 |   52.5424 | \n",
      "   47 | 00m00s |   62.58630 |   55.9322 |   55.9322 | \n",
      "   48 | 00m00s |   51.49173 |   59.3220 |   59.3220 | \n",
      "   49 | 00m00s |   35.79418 |   62.7119 |   62.7119 | \n",
      "   50 | 00m00s |   16.12032 |   66.1017 |   66.1017 | \n",
      "   51 | 00m00s |   -6.73917 |   69.4915 |   69.4915 | \n",
      "   52 | 00m00s |  -31.87440 |   72.8814 |   72.8814 | \n",
      "   53 | 00m00s |  -58.30191 |   76.2712 |   76.2712 | \n",
      "   54 | 00m00s |  -85.00927 |   79.6610 |   79.6610 | \n",
      "   55 | 00m00s | -110.99706 |   83.0508 |   83.0508 | \n",
      "   56 | 00m00s | -135.31678 |   86.4407 |   86.4407 | \n",
      "   57 | 00m00s | -157.10384 |   89.8305 |   89.8305 | \n",
      "   58 | 00m00s | -175.60494 |   93.2203 |   93.2203 | \n",
      "   59 | 00m00s | -190.19940 |   96.6102 |   96.6102 | \n",
      "   60 | 00m00s | -200.41439 |  100.0000 |  100.0000 | \n",
      "   61 | 00m00s |  -95.57275 |  -44.7888 |   25.4191 | \n",
      "\u001b[31mBayesian Optimization\u001b[0m\n",
      "\u001b[94m-----------------------------------------------------\u001b[0m\n",
      " Step |   Time |      Value |         x |         y | \n",
      "   62 | 00m04s | \u001b[35m  70.20523\u001b[0m | \u001b[32m  50.0458\u001b[0m | \u001b[32m  49.8695\u001b[0m | \n",
      "   63 | 00m02s | \u001b[35m  71.02039\u001b[0m | \u001b[32m  50.5960\u001b[0m | \u001b[32m  50.1034\u001b[0m | \n",
      "   64 | 00m02s | \u001b[35m  81.50149\u001b[0m | \u001b[32m  52.4109\u001b[0m | \u001b[32m  48.2986\u001b[0m | \n",
      "   65 | 00m02s | \u001b[35m  96.90874\u001b[0m | \u001b[32m  54.5012\u001b[0m | \u001b[32m  46.0985\u001b[0m | \n",
      "   66 | 00m02s | \u001b[35m 113.30869\u001b[0m | \u001b[32m  56.7619\u001b[0m | \u001b[32m  44.3875\u001b[0m | \n",
      "   67 | 00m03s | \u001b[35m 129.23451\u001b[0m | \u001b[32m  58.8128\u001b[0m | \u001b[32m  42.3829\u001b[0m | \n",
      "   68 | 00m02s | \u001b[35m 138.86415\u001b[0m | \u001b[32m  60.2827\u001b[0m | \u001b[32m  40.8306\u001b[0m | \n",
      "   69 | 00m03s | \u001b[35m 143.43563\u001b[0m | \u001b[32m  61.2361\u001b[0m | \u001b[32m  39.5432\u001b[0m | \n",
      "   70 | 00m02s | \u001b[35m 145.35422\u001b[0m | \u001b[32m  62.0744\u001b[0m | \u001b[32m  38.4942\u001b[0m | \n",
      "   71 | 00m02s | \u001b[35m 146.29686\u001b[0m | \u001b[32m  62.5724\u001b[0m | \u001b[32m  38.4394\u001b[0m | \n"
     ]
    }
   ],
   "source": [
    "bayes_opt_2d_time_s = time.time()\n",
    "bayes_opt_2d.maximize(init_points=1, n_iter=10, acq='ei')\n",
    "bayes_opt_2d_time_e = time.time()"
   ]
  },
  {
   "cell_type": "code",
   "execution_count": 566,
   "metadata": {},
   "outputs": [
    {
     "name": "stdout",
     "output_type": "stream",
     "text": [
      "The best y-value from my bayesian optimization implementation was 157.92386513208135.      The best x-coordiantes from my bayesian optimiztion implementation was (-32.203389830508485, 96.610169491525426).      My implementation took 124.39 seconds for 10 steps\n"
     ]
    }
   ],
   "source": [
    "print(f\"The best y-value from my bayesian optimization implementation was {bo_implementation_2d.best_y}.\\\n",
    "      The best x-coordiantes from my bayesian optimiztion implementation was {bo_implementation_2d.best_x}.\\\n",
    "      My implementation took {round(my_implementation_2d_e -my_implementation_2d_s,2)} seconds for 10 steps\")"
   ]
  },
  {
   "cell_type": "code",
   "execution_count": 567,
   "metadata": {},
   "outputs": [
    {
     "name": "stdout",
     "output_type": "stream",
     "text": [
      " The best values from the Bayes_Opt package was {'max_val': 148.81627716027575, 'max_params': {'x': 63.713397849339685, 'y': 38.959575019263241}}.    The Bayes_Opt implementation took 27.37 seconds for 10 steps\n"
     ]
    }
   ],
   "source": [
    "print(f\" The best values from the Bayes_Opt package was {bayes_opt_2d.res['max']}.\\\n",
    "    The Bayes_Opt implementation took {round(bayes_opt_2d_time_e -bayes_opt_2d_time_s,2) } seconds for 10 steps\")"
   ]
  },
  {
   "cell_type": "markdown",
   "metadata": {},
   "source": [
    "# Run this two dimensional parameter search ten times to compare perforamnce"
   ]
  },
  {
   "cell_type": "code",
   "execution_count": null,
   "metadata": {},
   "outputs": [
    {
     "name": "stdout",
     "output_type": "stream",
     "text": [
      "Step Number = 1\n"
     ]
    }
   ],
   "source": [
    "# keep track of the wins\n",
    "my_implementation_wins_2d = 0\n",
    "bayes_opt_wins_2d = 0\n",
    "\n",
    "n_trials=10\n",
    "for i in range(n_trials):\n",
    "    print('Step Number =',i+1)\n",
    "    # My implementation\n",
    "    bo_implementation_2d.fit(twoD_train_x, twoD_train_y ,combo_domain, twoD_function , y_func_type='real',\n",
    "                        kernel_params={'length':50}, verbose=False) # change the length parameter\n",
    "    bo_implementation_2d.maximize()\n",
    "    # Bayes Opt Implementation\n",
    "    bayes_opt_2d = BayesianOptimization(twoD_function ,\n",
    "                          {'x': (-100,100),'y':(-100,100)}) # the bounds to explore\n",
    "    bayes_opt_2d .explore({'x': np.linspace(-100,100,60),'y':np.linspace(-100,100,60)}) # the points to explore\n",
    "    bayes_opt_2d .maximize(init_points=1, n_iter=10, acq='ei')\n",
    "    \n",
    "    if bayes_opt_2d.res['max']['max_val'] > bo_implementation_2d.best_y:\n",
    "        print(\"Bayes Opt Won\")\n",
    "        bayes_opt_wins_2d +=1\n",
    "    else:\n",
    "        print('My implementation won')\n",
    "        my_implementation_wins_2d +=1 \n",
    "    "
   ]
  },
  {
   "cell_type": "code",
   "execution_count": null,
   "metadata": {
    "collapsed": true
   },
   "outputs": [],
   "source": []
  }
 ],
 "metadata": {
  "kernelspec": {
   "display_name": "stats",
   "language": "python",
   "name": "stats"
  },
  "language_info": {
   "codemirror_mode": {
    "name": "ipython",
    "version": 3
   },
   "file_extension": ".py",
   "mimetype": "text/x-python",
   "name": "python",
   "nbconvert_exporter": "python",
   "pygments_lexer": "ipython3",
   "version": "3.6.1"
  }
 },
 "nbformat": 4,
 "nbformat_minor": 2
}
