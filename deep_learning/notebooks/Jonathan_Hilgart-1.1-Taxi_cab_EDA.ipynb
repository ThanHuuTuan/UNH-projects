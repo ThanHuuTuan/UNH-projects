{
 "cells": [
  {
   "cell_type": "code",
   "execution_count": 265,
   "metadata": {
    "collapsed": false,
    "scrolled": true
   },
   "outputs": [
    {
     "name": "stdout",
     "output_type": "stream",
     "text": [
      "Populating the interactive namespace from numpy and matplotlib\n"
     ]
    },
    {
     "name": "stderr",
     "output_type": "stream",
     "text": [
      "/Users/jonathanhilgart/anaconda/envs/dl/lib/python3.6/site-packages/IPython/core/magics/pylab.py:161: UserWarning: pylab import has clobbered these variables: ['random']\n",
      "`%matplotlib` prevents importing * from pylab and numpy\n",
      "  \"\\n`%matplotlib` prevents importing * from pylab and numpy\"\n"
     ]
    }
   ],
   "source": [
    "import pandas as pd\n",
    "import numpy as np\n",
    "from py_geohash_any import geohash as gh\n",
    "import datetime\n",
    "import seaborn as sns\n",
    "import matplotlib.pyplot as plt\n",
    "%pylab inline\n",
    "#!/usr/bin/env python\n",
    "from __future__ import print_function\n",
    "\n",
    "\n",
    "import random\n",
    "import numpy as np\n",
    "from collections import deque\n",
    "import time\n",
    "from keras.layers.normalization import BatchNormalization\n",
    "import json\n",
    "from collections import defaultdict\n",
    "from keras.models import model_from_json\n",
    "from keras.models import Sequential\n",
    "from keras.layers import LSTM\n",
    "from keras.layers import InputLayer\n",
    "from keras.layers.core import Dense, Dropout, Activation, Flatten\n",
    "from keras.layers.convolutional import Convolution2D, MaxPooling2D\n",
    "from keras.optimizers import SGD , Adam\n",
    "import tensorflow as tf\n",
    "import pickle\n",
    "from operator import itemgetter\n",
    "import sys\n",
    "sys.path.insert(0, '../src/data')\n",
    "import auxiliary_functions, make_dataset\n",
    "from auxiliary_functions import convert_miles_to_minutes_nyc, list_of_output_predictions_to_direction\n",
    "sys.path.insert(0, '../src/models-DQN')\n",
    "from model_mlp import RLNYCTaxiCab"
   ]
  },
  {
   "cell_type": "code",
   "execution_count": null,
   "metadata": {
    "collapsed": true
   },
   "outputs": [],
   "source": []
  },
  {
   "cell_type": "markdown",
   "metadata": {},
   "source": [
    "\n",
    "\n",
    "### Average speed of taxis in Manhattan\n",
    "- In 2014, it dropped to 8.51 MPH. http://www.wnyc.org/story/traffic-speeds-slow-nyc-wants-curb-car-service-growth/\n",
    "- 8.51 MPH is 3.80431 meters / second\n",
    "\n",
    "### Geohash units are meters\n",
    "- http://stackoverflow.com/questions/13448595/geohash-string-length-and-accuracy"
   ]
  },
  {
   "cell_type": "code",
   "execution_count": 3,
   "metadata": {
    "collapsed": false
   },
   "outputs": [
    {
     "name": "stdout",
     "output_type": "stream",
     "text": [
      "Opening up data\n",
      "Group data\n",
      "Creating the final data structure\n"
     ]
    }
   ],
   "source": [
    "#yellow_taxi_geohash_min_day\n",
    "taxi_yellowcab_df, final_data_structure= make_dataset.main()"
   ]
  },
  {
   "cell_type": "code",
   "execution_count": 392,
   "metadata": {
    "collapsed": false
   },
   "outputs": [
    {
     "data": {
      "text/plain": [
       "[(16.83410256410256, 20, 0.8417051281630428),\n",
       " (13.568571428571431, 20, 0.6784285713946502),\n",
       " (14.903888888888885, 20, 0.7451944444071845),\n",
       " (10.573636363636364, 10, 1.0573636362579),\n",
       " (10.49, 10, 1.0489999998951),\n",
       " (20.28375, 30, 0.6761249999774626),\n",
       " (13.92863636363637, 20, 0.696431818146997),\n",
       " (16.45078947368421, 20, 0.8225394736430836),\n",
       " (13.979999999999984, 20, 0.6989999999650492),\n",
       " (15.232596153846146, 20, 0.7616298076542258),\n",
       " (15.092857142857143, 20, 0.754642857105125),\n",
       " (20.539166666666667, 30, 0.6846388888660676),\n",
       " (17.402000000000005, 20, 0.8700999999564952),\n",
       " (15.51435897435897, 20, 0.7757179486791626),\n",
       " (13.809361702127658, 20, 0.6904680850718595),\n",
       " (13.942340425531903, 20, 0.6971170212417392),\n",
       " (14.408556701030914, 20, 0.7204278350155243),\n",
       " (13.827368421052636, 20, 0.6913684210180634),\n",
       " (19.789, 30, 0.6596333333113455),\n",
       " (14.559600000000003, 20, 0.7279799999636012),\n",
       " (14.088717948717953, 20, 0.7044358974006758),\n",
       " (13.443913043478263, 20, 0.6721956521403034),\n",
       " (13.979726027397252, 20, 0.6989863013349132),\n",
       " (14.784, 20, 0.73919999996304),\n",
       " (19.061818181818186, 30, 0.6353939393727598),\n",
       " (16.09227272727273, 20, 0.8046136363234058),\n",
       " (16.532424242424245, 20, 0.8266212120798812),\n",
       " (16.139272727272726, 20, 0.806963636323288),\n",
       " (15.666702127659565, 20, 0.7833351063438115),\n",
       " (16.088295454545438, 20, 0.8044147726870512)]"
      ]
     },
     "execution_count": 392,
     "metadata": {},
     "output_type": "execute_result"
    }
   ],
   "source": [
    "# sample of the final data structure\n",
    "final_data_structure[110]['Zct8R']"
   ]
  },
  {
   "cell_type": "code",
   "execution_count": 5,
   "metadata": {
    "collapsed": false
   },
   "outputs": [
    {
     "data": {
      "text/html": [
       "<div>\n",
       "<table border=\"1\" class=\"dataframe\">\n",
       "  <thead>\n",
       "    <tr style=\"text-align: right;\">\n",
       "      <th></th>\n",
       "      <th>Unnamed: 0</th>\n",
       "      <th>VendorID</th>\n",
       "      <th>tpep_pickup_datetime</th>\n",
       "      <th>tpep_dropoff_datetime</th>\n",
       "      <th>passenger_count</th>\n",
       "      <th>trip_distance</th>\n",
       "      <th>pickup_longitude</th>\n",
       "      <th>pickup_latitude</th>\n",
       "      <th>RatecodeID</th>\n",
       "      <th>store_and_fwd_flag</th>\n",
       "      <th>...</th>\n",
       "      <th>tip_amount</th>\n",
       "      <th>tolls_amount</th>\n",
       "      <th>improvement_surcharge</th>\n",
       "      <th>total_amount</th>\n",
       "      <th>geohash_pickup</th>\n",
       "      <th>geohas_dropoff</th>\n",
       "      <th>jan_day</th>\n",
       "      <th>jan_minute</th>\n",
       "      <th>geohash_dropoff</th>\n",
       "      <th>trip_time_minutes</th>\n",
       "    </tr>\n",
       "  </thead>\n",
       "  <tbody>\n",
       "    <tr>\n",
       "      <th>0</th>\n",
       "      <td>0</td>\n",
       "      <td>2</td>\n",
       "      <td>2016-01-01 00:00:00</td>\n",
       "      <td>2016-01-01 00:00:00</td>\n",
       "      <td>2</td>\n",
       "      <td>1.10</td>\n",
       "      <td>-73.990372</td>\n",
       "      <td>40.734695</td>\n",
       "      <td>1</td>\n",
       "      <td>N</td>\n",
       "      <td>...</td>\n",
       "      <td>0.0</td>\n",
       "      <td>0.0</td>\n",
       "      <td>0.3</td>\n",
       "      <td>8.8</td>\n",
       "      <td>Zct8X</td>\n",
       "      <td>dr5rsx</td>\n",
       "      <td>1</td>\n",
       "      <td>0</td>\n",
       "      <td>dr5rsx</td>\n",
       "      <td>10</td>\n",
       "    </tr>\n",
       "    <tr>\n",
       "      <th>1</th>\n",
       "      <td>1</td>\n",
       "      <td>2</td>\n",
       "      <td>2016-01-01 00:00:00</td>\n",
       "      <td>2016-01-01 00:00:00</td>\n",
       "      <td>5</td>\n",
       "      <td>4.90</td>\n",
       "      <td>-73.980782</td>\n",
       "      <td>40.729912</td>\n",
       "      <td>1</td>\n",
       "      <td>N</td>\n",
       "      <td>...</td>\n",
       "      <td>0.0</td>\n",
       "      <td>0.0</td>\n",
       "      <td>0.3</td>\n",
       "      <td>19.3</td>\n",
       "      <td>Zct8c</td>\n",
       "      <td>dr5rtk</td>\n",
       "      <td>1</td>\n",
       "      <td>0</td>\n",
       "      <td>dr5rtk</td>\n",
       "      <td>30</td>\n",
       "    </tr>\n",
       "    <tr>\n",
       "      <th>2</th>\n",
       "      <td>2</td>\n",
       "      <td>2</td>\n",
       "      <td>2016-01-01 00:00:00</td>\n",
       "      <td>2016-01-01 00:00:00</td>\n",
       "      <td>1</td>\n",
       "      <td>10.54</td>\n",
       "      <td>-73.984550</td>\n",
       "      <td>40.679565</td>\n",
       "      <td>1</td>\n",
       "      <td>N</td>\n",
       "      <td>...</td>\n",
       "      <td>0.0</td>\n",
       "      <td>0.0</td>\n",
       "      <td>0.3</td>\n",
       "      <td>34.3</td>\n",
       "      <td>Zct5T</td>\n",
       "      <td>dr72j1</td>\n",
       "      <td>1</td>\n",
       "      <td>0</td>\n",
       "      <td>dr72j1</td>\n",
       "      <td>60</td>\n",
       "    </tr>\n",
       "    <tr>\n",
       "      <th>3</th>\n",
       "      <td>3</td>\n",
       "      <td>2</td>\n",
       "      <td>2016-01-01 00:00:00</td>\n",
       "      <td>2016-01-01 00:00:00</td>\n",
       "      <td>1</td>\n",
       "      <td>4.75</td>\n",
       "      <td>-73.993469</td>\n",
       "      <td>40.718990</td>\n",
       "      <td>1</td>\n",
       "      <td>N</td>\n",
       "      <td>...</td>\n",
       "      <td>0.0</td>\n",
       "      <td>0.0</td>\n",
       "      <td>0.3</td>\n",
       "      <td>17.3</td>\n",
       "      <td>Zct8Q</td>\n",
       "      <td>dr5rkc</td>\n",
       "      <td>1</td>\n",
       "      <td>0</td>\n",
       "      <td>dr5rkc</td>\n",
       "      <td>30</td>\n",
       "    </tr>\n",
       "    <tr>\n",
       "      <th>4</th>\n",
       "      <td>4</td>\n",
       "      <td>2</td>\n",
       "      <td>2016-01-01 00:00:00</td>\n",
       "      <td>2016-01-01 00:00:00</td>\n",
       "      <td>3</td>\n",
       "      <td>1.76</td>\n",
       "      <td>-73.960625</td>\n",
       "      <td>40.781330</td>\n",
       "      <td>1</td>\n",
       "      <td>N</td>\n",
       "      <td>...</td>\n",
       "      <td>0.0</td>\n",
       "      <td>0.0</td>\n",
       "      <td>0.3</td>\n",
       "      <td>8.8</td>\n",
       "      <td>Zc4oK</td>\n",
       "      <td>dr5rue</td>\n",
       "      <td>1</td>\n",
       "      <td>0</td>\n",
       "      <td>dr5rue</td>\n",
       "      <td>10</td>\n",
       "    </tr>\n",
       "    <tr>\n",
       "      <th>5</th>\n",
       "      <td>5</td>\n",
       "      <td>2</td>\n",
       "      <td>2016-01-01 00:00:00</td>\n",
       "      <td>2016-01-01 00:18:30</td>\n",
       "      <td>2</td>\n",
       "      <td>5.52</td>\n",
       "      <td>-73.980118</td>\n",
       "      <td>40.743050</td>\n",
       "      <td>1</td>\n",
       "      <td>N</td>\n",
       "      <td>...</td>\n",
       "      <td>0.0</td>\n",
       "      <td>0.0</td>\n",
       "      <td>0.3</td>\n",
       "      <td>20.3</td>\n",
       "      <td>Zct9J</td>\n",
       "      <td>dr5ryh</td>\n",
       "      <td>1</td>\n",
       "      <td>18</td>\n",
       "      <td>dr5ryh</td>\n",
       "      <td>30</td>\n",
       "    </tr>\n",
       "    <tr>\n",
       "      <th>6</th>\n",
       "      <td>6</td>\n",
       "      <td>2</td>\n",
       "      <td>2016-01-01 00:00:00</td>\n",
       "      <td>2016-01-01 00:26:45</td>\n",
       "      <td>2</td>\n",
       "      <td>7.45</td>\n",
       "      <td>-73.994057</td>\n",
       "      <td>40.719990</td>\n",
       "      <td>1</td>\n",
       "      <td>N</td>\n",
       "      <td>...</td>\n",
       "      <td>0.0</td>\n",
       "      <td>0.0</td>\n",
       "      <td>0.3</td>\n",
       "      <td>27.3</td>\n",
       "      <td>Zct8Q</td>\n",
       "      <td>dr72hc</td>\n",
       "      <td>1</td>\n",
       "      <td>26</td>\n",
       "      <td>dr72hc</td>\n",
       "      <td>40</td>\n",
       "    </tr>\n",
       "    <tr>\n",
       "      <th>7</th>\n",
       "      <td>7</td>\n",
       "      <td>1</td>\n",
       "      <td>2016-01-01 00:00:01</td>\n",
       "      <td>2016-01-01 00:11:55</td>\n",
       "      <td>1</td>\n",
       "      <td>1.20</td>\n",
       "      <td>-73.979424</td>\n",
       "      <td>40.744614</td>\n",
       "      <td>1</td>\n",
       "      <td>N</td>\n",
       "      <td>...</td>\n",
       "      <td>0.0</td>\n",
       "      <td>0.0</td>\n",
       "      <td>0.3</td>\n",
       "      <td>10.3</td>\n",
       "      <td>Zct9J</td>\n",
       "      <td>dr5ru7</td>\n",
       "      <td>1</td>\n",
       "      <td>11</td>\n",
       "      <td>dr5ru7</td>\n",
       "      <td>10</td>\n",
       "    </tr>\n",
       "    <tr>\n",
       "      <th>8</th>\n",
       "      <td>8</td>\n",
       "      <td>1</td>\n",
       "      <td>2016-01-01 00:00:02</td>\n",
       "      <td>2016-01-01 00:11:14</td>\n",
       "      <td>1</td>\n",
       "      <td>6.00</td>\n",
       "      <td>-73.947151</td>\n",
       "      <td>40.791046</td>\n",
       "      <td>1</td>\n",
       "      <td>N</td>\n",
       "      <td>...</td>\n",
       "      <td>0.0</td>\n",
       "      <td>0.0</td>\n",
       "      <td>0.3</td>\n",
       "      <td>19.3</td>\n",
       "      <td>Zc4oj</td>\n",
       "      <td>dr72mz</td>\n",
       "      <td>1</td>\n",
       "      <td>11</td>\n",
       "      <td>dr72mz</td>\n",
       "      <td>40</td>\n",
       "    </tr>\n",
       "    <tr>\n",
       "      <th>9</th>\n",
       "      <td>9</td>\n",
       "      <td>2</td>\n",
       "      <td>2016-01-01 00:00:02</td>\n",
       "      <td>2016-01-01 00:11:08</td>\n",
       "      <td>1</td>\n",
       "      <td>3.21</td>\n",
       "      <td>-73.998344</td>\n",
       "      <td>40.723896</td>\n",
       "      <td>1</td>\n",
       "      <td>N</td>\n",
       "      <td>...</td>\n",
       "      <td>0.0</td>\n",
       "      <td>0.0</td>\n",
       "      <td>0.3</td>\n",
       "      <td>12.8</td>\n",
       "      <td>Zct8R</td>\n",
       "      <td>dr5rkp</td>\n",
       "      <td>1</td>\n",
       "      <td>11</td>\n",
       "      <td>dr5rkp</td>\n",
       "      <td>20</td>\n",
       "    </tr>\n",
       "  </tbody>\n",
       "</table>\n",
       "<p>10 rows × 26 columns</p>\n",
       "</div>"
      ],
      "text/plain": [
       "   Unnamed: 0  VendorID tpep_pickup_datetime tpep_dropoff_datetime  \\\n",
       "0           0         2  2016-01-01 00:00:00   2016-01-01 00:00:00   \n",
       "1           1         2  2016-01-01 00:00:00   2016-01-01 00:00:00   \n",
       "2           2         2  2016-01-01 00:00:00   2016-01-01 00:00:00   \n",
       "3           3         2  2016-01-01 00:00:00   2016-01-01 00:00:00   \n",
       "4           4         2  2016-01-01 00:00:00   2016-01-01 00:00:00   \n",
       "5           5         2  2016-01-01 00:00:00   2016-01-01 00:18:30   \n",
       "6           6         2  2016-01-01 00:00:00   2016-01-01 00:26:45   \n",
       "7           7         1  2016-01-01 00:00:01   2016-01-01 00:11:55   \n",
       "8           8         1  2016-01-01 00:00:02   2016-01-01 00:11:14   \n",
       "9           9         2  2016-01-01 00:00:02   2016-01-01 00:11:08   \n",
       "\n",
       "   passenger_count  trip_distance  pickup_longitude  pickup_latitude  \\\n",
       "0                2           1.10        -73.990372        40.734695   \n",
       "1                5           4.90        -73.980782        40.729912   \n",
       "2                1          10.54        -73.984550        40.679565   \n",
       "3                1           4.75        -73.993469        40.718990   \n",
       "4                3           1.76        -73.960625        40.781330   \n",
       "5                2           5.52        -73.980118        40.743050   \n",
       "6                2           7.45        -73.994057        40.719990   \n",
       "7                1           1.20        -73.979424        40.744614   \n",
       "8                1           6.00        -73.947151        40.791046   \n",
       "9                1           3.21        -73.998344        40.723896   \n",
       "\n",
       "   RatecodeID store_and_fwd_flag        ...          tip_amount  tolls_amount  \\\n",
       "0           1                  N        ...                 0.0           0.0   \n",
       "1           1                  N        ...                 0.0           0.0   \n",
       "2           1                  N        ...                 0.0           0.0   \n",
       "3           1                  N        ...                 0.0           0.0   \n",
       "4           1                  N        ...                 0.0           0.0   \n",
       "5           1                  N        ...                 0.0           0.0   \n",
       "6           1                  N        ...                 0.0           0.0   \n",
       "7           1                  N        ...                 0.0           0.0   \n",
       "8           1                  N        ...                 0.0           0.0   \n",
       "9           1                  N        ...                 0.0           0.0   \n",
       "\n",
       "   improvement_surcharge  total_amount  geohash_pickup  geohas_dropoff  \\\n",
       "0                    0.3           8.8           Zct8X          dr5rsx   \n",
       "1                    0.3          19.3           Zct8c          dr5rtk   \n",
       "2                    0.3          34.3           Zct5T          dr72j1   \n",
       "3                    0.3          17.3           Zct8Q          dr5rkc   \n",
       "4                    0.3           8.8           Zc4oK          dr5rue   \n",
       "5                    0.3          20.3           Zct9J          dr5ryh   \n",
       "6                    0.3          27.3           Zct8Q          dr72hc   \n",
       "7                    0.3          10.3           Zct9J          dr5ru7   \n",
       "8                    0.3          19.3           Zc4oj          dr72mz   \n",
       "9                    0.3          12.8           Zct8R          dr5rkp   \n",
       "\n",
       "   jan_day  jan_minute  geohash_dropoff  trip_time_minutes  \n",
       "0        1           0           dr5rsx                 10  \n",
       "1        1           0           dr5rtk                 30  \n",
       "2        1           0           dr72j1                 60  \n",
       "3        1           0           dr5rkc                 30  \n",
       "4        1           0           dr5rue                 10  \n",
       "5        1          18           dr5ryh                 30  \n",
       "6        1          26           dr72hc                 40  \n",
       "7        1          11           dr5ru7                 10  \n",
       "8        1          11           dr72mz                 40  \n",
       "9        1          11           dr5rkp                 20  \n",
       "\n",
       "[10 rows x 26 columns]"
      ]
     },
     "execution_count": 5,
     "metadata": {},
     "output_type": "execute_result"
    }
   ],
   "source": [
    "# the data\n",
    "taxi_yellowcab_df.head(10)"
   ]
  },
  {
   "cell_type": "markdown",
   "metadata": {},
   "source": [
    "# Finding neighbors from a dropoff geohash\n",
    "- use gh.neighbors\n",
    "- Convert these neighbors to an output index from the neural network"
   ]
  },
  {
   "cell_type": "code",
   "execution_count": 6,
   "metadata": {
    "collapsed": false
   },
   "outputs": [
    {
     "data": {
      "text/plain": [
       "{'e': 'dr5rsz',\n",
       " 'n': 'dr5rs0',\n",
       " 'ne': 'dr5rs2',\n",
       " 'nw': 'dr5rse',\n",
       " 's': 'dr5rsw',\n",
       " 'se': 'dr5rsy',\n",
       " 'sw': 'dr5rsa',\n",
       " 'w': 'dr5rsb'}"
      ]
     },
     "execution_count": 6,
     "metadata": {},
     "output_type": "execute_result"
    }
   ],
   "source": [
    "gh.neighbors(taxi_yellowcab_df.geohash_dropoff[0])"
   ]
  },
  {
   "cell_type": "code",
   "execution_count": 7,
   "metadata": {
    "collapsed": true
   },
   "outputs": [],
   "source": [
    "# Dictionary to convert these distances into the output from the Neural Network\n",
    "# Outputs are nine numbers which correspond to a direction to go in\n",
    "# 0) NW 1) N                     2) NE\n",
    "# 3) W  4) Stay in same geohash  5)E\n",
    "# 6)SW  7) S                    8) SE\n",
    "list_of_output_predictions_to_direction={0:'nw',1:'n',2:'ne',3:'w',4:'stay',5:'e',6:'sw',7:'s',8:'se'}"
   ]
  },
  {
   "cell_type": "code",
   "execution_count": null,
   "metadata": {
    "collapsed": true
   },
   "outputs": [],
   "source": []
  },
  {
   "cell_type": "markdown",
   "metadata": {},
   "source": []
  },
  {
   "cell_type": "markdown",
   "metadata": {},
   "source": [
    "# How many different paths are there for a cab driver to take\n",
    "- 1) Assuming you can go to every geohash (not possible)\n",
    "- 2) In a day"
   ]
  },
  {
   "cell_type": "code",
   "execution_count": 8,
   "metadata": {
    "collapsed": false
   },
   "outputs": [
    {
     "name": "stdout",
     "output_type": "stream",
     "text": [
      "There are 144 possible moves per day - increments of 10 minutes\n"
     ]
    }
   ],
   "source": [
    "print('There are {} possible moves per day - increments of 10 minutes'.format(6*24))"
   ]
  },
  {
   "cell_type": "code",
   "execution_count": 9,
   "metadata": {
    "collapsed": false
   },
   "outputs": [
    {
     "name": "stdout",
     "output_type": "stream",
     "text": [
      "WIth a full 24 hours day, you can visit 2,318,269,218,083,089,908,234,280,468,459,894,595,445,540,070,540,355,238,386,428,052,606,631,732,586,480,323,016,481,331,702,297,098,820,479,338,186,895,528,168,360,391,078,014,797,448 geohashes with an average time of 10 minutes to traverse\n"
     ]
    }
   ],
   "source": [
    "# how man geohashes can you visit in a day?\n",
    "print('WIth a full 24 hours day, you can visit {:,} geohashes with an average time of 10 minutes to traverse'.format(\n",
    "    9**(144+1)-1))"
   ]
  },
  {
   "cell_type": "code",
   "execution_count": 10,
   "metadata": {
    "collapsed": false
   },
   "outputs": [
    {
     "data": {
      "text/plain": [
       "139"
      ]
     },
     "execution_count": 10,
     "metadata": {},
     "output_type": "execute_result"
    }
   ],
   "source": [
    "len(str(9**(144+1)-1))"
   ]
  },
  {
   "cell_type": "markdown",
   "metadata": {},
   "source": [
    "# Heat Map of the most profitable geohashes"
   ]
  },
  {
   "cell_type": "code",
   "execution_count": 11,
   "metadata": {
    "collapsed": true
   },
   "outputs": [],
   "source": [
    "pickup_sum_fare = taxi_yellowcab_df.groupby('geohash_pickup').sum()['total_amount'].reset_index()\n"
   ]
  },
  {
   "cell_type": "code",
   "execution_count": 12,
   "metadata": {
    "collapsed": true
   },
   "outputs": [],
   "source": [
    "pickup_sum_fare = pickup_sum_fare.sort_values(by='total_amount',ascending=False)"
   ]
  },
  {
   "cell_type": "code",
   "execution_count": 13,
   "metadata": {
    "collapsed": true
   },
   "outputs": [],
   "source": [
    "pickup_sum_fare['total_amount']= pickup_sum_fare.total_amount.apply(lambda x: round(x))"
   ]
  },
  {
   "cell_type": "code",
   "execution_count": 14,
   "metadata": {
    "collapsed": true
   },
   "outputs": [],
   "source": [
    "# can only plot 2k values on google maps"
   ]
  },
  {
   "cell_type": "code",
   "execution_count": 15,
   "metadata": {
    "collapsed": true
   },
   "outputs": [],
   "source": [
    "#pickup_sum_fare.loc[:2000,:].to_csv(\"data/geohash_sum_fare_all_jan.csv\",sep=\"\\t\", index=False)"
   ]
  },
  {
   "cell_type": "code",
   "execution_count": 16,
   "metadata": {
    "collapsed": false
   },
   "outputs": [
    {
     "data": {
      "text/plain": [
       "<matplotlib.text.Text at 0x1ba86d588>"
      ]
     },
     "execution_count": 16,
     "metadata": {},
     "output_type": "execute_result"
    },
    {
     "data": {
      "image/png": "[encoded data removed]",
      "text/plain": [
       "<matplotlib.figure.Figure at 0x114a8b588>"
      ]
     },
     "metadata": {},
     "output_type": "display_data"
    }
   ],
   "source": [
    "#plt.figure(figsize=(10,5))\n",
    "ax = pickup_sum_fare[:50].plot(x='geohash_pickup',y='total_amount',kind='bar',figsize=(13,5))\n",
    "ax.get_yaxis().set_major_formatter(\n",
    "    matplotlib.ticker.FuncFormatter(lambda x, p: format(int(x), ',')))\n",
    "plt.ylabel('Total fares received - Jan - Top 50 Geohashes')"
   ]
  },
  {
   "cell_type": "markdown",
   "metadata": {
    "collapsed": true
   },
   "source": [
    "## Break up the day into ten minute intervals( the time to traverse a geohash of ~3803 meters).\n",
    "### Note: This code is already run in the make_data.main() call in the first cell\n",
    "- Aggregate all of the days together so that you have one 24 hour block\n",
    "- For this 24 hour block, group by five minute periods\n",
    "- For each period, take the geohash as the key and a list of tuples of ( average fares over the month, trip times in minutes)\n",
    "- This gives an end result of the average fare and corresponding trip time and ration of fare/trip time for each geohash for a given ten minutes over each day in January"
   ]
  },
  {
   "cell_type": "code",
   "execution_count": 34,
   "metadata": {
    "collapsed": true
   },
   "outputs": [],
   "source": [
    "\n",
    "    \n",
    "taxi_yellowcab_df['trip_time_minutes'] = taxi_yellowcab_df.trip_distance.apply(lambda x: convert_miles_to_minutes_nyc(x))"
   ]
  },
  {
   "cell_type": "code",
   "execution_count": 35,
   "metadata": {
    "collapsed": true
   },
   "outputs": [],
   "source": [
    "# distribution of trip times\n",
    "trip_minutes_grouped = taxi_yellowcab_df.groupby('trip_time_minutes').count()"
   ]
  },
  {
   "cell_type": "code",
   "execution_count": 36,
   "metadata": {
    "collapsed": false
   },
   "outputs": [
    {
     "data": {
      "text/plain": [
       "<matplotlib.text.Text at 0x1903c8e48>"
      ]
     },
     "execution_count": 36,
     "metadata": {},
     "output_type": "execute_result"
    },
    {
     "data": {
      "image/png": "[encoded data removed]",
      "text/plain": [
       "<matplotlib.figure.Figure at 0x1ac699748>"
      ]
     },
     "metadata": {},
     "output_type": "display_data"
    }
   ],
   "source": [
    "plt.figure(figsize=(20,10))\n",
    "grid = sns.barplot(x = trip_minutes_grouped['VendorID'].reset_index()['trip_time_minutes'][:50],\n",
    "            y= trip_minutes_grouped['VendorID'].reset_index()['VendorID'][:50])\n",
    "grid.set( yscale=\"log\")\n",
    "plt.ylabel('Number of trips (base 10)')\n",
    "plt.title('Disitribution of Trip Times')"
   ]
  },
  {
   "cell_type": "markdown",
   "metadata": {},
   "source": [
    "## Index the geohashes to a number\n",
    "#### List of possible times"
   ]
  },
  {
   "cell_type": "code",
   "execution_count": 17,
   "metadata": {
    "collapsed": false
   },
   "outputs": [
    {
     "data": {
      "text/plain": [
       "3086"
      ]
     },
     "execution_count": 17,
     "metadata": {},
     "output_type": "execute_result"
    }
   ],
   "source": [
    "## get a list of unique geohashes\n",
    "list_of_unique_geohashes = taxi_yellowcab_df.geohash_pickup.unique()\n",
    "len(list_of_unique_geohashes)"
   ]
  },
  {
   "cell_type": "code",
   "execution_count": 18,
   "metadata": {
    "collapsed": true
   },
   "outputs": [],
   "source": [
    "list_of_geohash_index  = defaultdict(int)\n",
    "for idx,hash_n in enumerate(list_of_unique_geohashes):\n",
    "    list_of_geohash_index [hash_n] = idx"
   ]
  },
  {
   "cell_type": "code",
   "execution_count": 19,
   "metadata": {
    "collapsed": true
   },
   "outputs": [],
   "source": [
    "list_of_inverse_heohash_index = defaultdict(str)\n",
    "for idx,hash_n in enumerate(list_of_unique_geohashes):\n",
    "    list_of_inverse_heohash_index[idx] = hash_n"
   ]
  },
  {
   "cell_type": "code",
   "execution_count": 20,
   "metadata": {
    "collapsed": false
   },
   "outputs": [
    {
     "data": {
      "text/plain": [
       "defaultdict(str,\n",
       "            {0: 'Zct8X',\n",
       "             1: 'Zct8c',\n",
       "             2: 'Zct5T',\n",
       "             3: 'Zct8Q',\n",
       "             4: 'Zc4oK',\n",
       "             5: 'Zct9J',\n",
       "             6: 'Zc4oj',\n",
       "             7: 'Zct8R',\n",
       "             8: 'Zct3r',\n",
       "             9: 'Zct9a',\n",
       "             10: 'Zct8T',\n",
       "             11: 'Zct3q',\n",
       "             12: 'Zct8S',\n",
       "             13: 'Zct9T',\n",
       "             14: 'Zc4oM',\n",
       "             15: 'Zct9W',\n",
       "             16: 'Zct5w',\n",
       "             17: 'Zct8W',\n",
       "             18: 'Zct9B',\n",
       "             19: 'Zct8V',\n",
       "             20: 'Zct8P',\n",
       "             21: 'Zct91',\n",
       "             22: 'Zct9H',\n",
       "             23: 'Zct9m',\n",
       "             24: 'Zct8U',\n",
       "             25: 'Zct9c',\n",
       "             26: 'Zct8Y',\n",
       "             27: 'Zct9e',\n",
       "             28: 'wAAAA',\n",
       "             29: 'Zc4oO',\n",
       "             30: 'Zct6T',\n",
       "             31: 'Zct9M',\n",
       "             32: 'Zc4og',\n",
       "             33: 'Zct5f',\n",
       "             34: 'Zct9R',\n",
       "             35: 'Zct8d',\n",
       "             36: 'Zct9D',\n",
       "             37: 'Zct9N',\n",
       "             38: 'Zc4ot',\n",
       "             39: 'Zct9E',\n",
       "             40: 'Zct9Y',\n",
       "             41: 'Zct9b',\n",
       "             42: 'Zct9I',\n",
       "             43: 'Zct9x',\n",
       "             44: 'ZcvQ1',\n",
       "             45: 'Zct9C',\n",
       "             46: 'ZcvQf',\n",
       "             47: 'Zct9G',\n",
       "             48: 'Zct9d',\n",
       "             49: 'Zc4oP',\n",
       "             50: 'Zct2u',\n",
       "             51: 'Zct9Q',\n",
       "             52: 'Zct9A',\n",
       "             53: 'Zct9s',\n",
       "             54: 'Zct9Z',\n",
       "             55: 'Zc4oI',\n",
       "             56: 'Zct8o',\n",
       "             57: 'Zct9P',\n",
       "             58: 'Zc4ow',\n",
       "             59: 'Zct26',\n",
       "             60: 'Zc4oi',\n",
       "             61: 'Zc4ol',\n",
       "             62: 'Zct90',\n",
       "             63: 'Zc4pi',\n",
       "             64: 'Zct_x',\n",
       "             65: 'ZcvRL',\n",
       "             66: 'Zct9w',\n",
       "             67: 'Zct2v',\n",
       "             68: 'Zct9F',\n",
       "             69: 'Zct27',\n",
       "             70: 'Zc4om',\n",
       "             71: 'Zc4oL',\n",
       "             72: 'Zct2t',\n",
       "             73: 'Zct5U',\n",
       "             74: 'Zct9f',\n",
       "             75: 'Zct94',\n",
       "             76: 'Zct2-',\n",
       "             77: 'Zct2s',\n",
       "             78: 'Zct5R',\n",
       "             79: 'Zct2_',\n",
       "             80: 'Zct_e',\n",
       "             81: 'Zc4oJ',\n",
       "             82: 'Zct8H',\n",
       "             83: 'Zc4oa',\n",
       "             84: 'Zct93',\n",
       "             85: 'Zct_W',\n",
       "             86: 'Zct8D',\n",
       "             87: 'Zct8Z',\n",
       "             88: 'Zct8F',\n",
       "             89: 'Zct9S',\n",
       "             90: 'Zct_0',\n",
       "             91: 'Zct92',\n",
       "             92: 'Zct3u',\n",
       "             93: 'Zct9O',\n",
       "             94: 'Zct2r',\n",
       "             95: 'Zc4ox',\n",
       "             96: 'Zct8E',\n",
       "             97: 'Zct9-',\n",
       "             98: 'Zct9l',\n",
       "             99: 'Zct9X',\n",
       "             100: 'Zct5c',\n",
       "             101: 'Zct5W',\n",
       "             102: 'Zct95',\n",
       "             103: 'Zc4oy',\n",
       "             104: 'Zct24',\n",
       "             105: 'Zct_c',\n",
       "             106: 'Zct_E',\n",
       "             107: 'Zc4o0',\n",
       "             108: 'Zct_J',\n",
       "             109: 'Zct5X',\n",
       "             110: 'Zc4os',\n",
       "             111: 'Zct5o',\n",
       "             112: 'Zc4oC',\n",
       "             113: 'Zc4oh',\n",
       "             114: 'Zct_B',\n",
       "             115: 'Zct8C',\n",
       "             116: 'Zct8I',\n",
       "             117: 'Zct97',\n",
       "             118: 'Zct5d',\n",
       "             119: 'Zc4pj',\n",
       "             120: 'Zct96',\n",
       "             121: 'Zct8l',\n",
       "             122: 'Zct9v',\n",
       "             123: 'Zc4on',\n",
       "             124: 'Zc4oz',\n",
       "             125: 'Zc4o2',\n",
       "             126: 'Zct-1',\n",
       "             127: 'ZcvQe',\n",
       "             128: 'Zct9r',\n",
       "             129: 'Zctzq',\n",
       "             130: 'Zct5a',\n",
       "             131: 'Zc4o1',\n",
       "             132: 'Zct51',\n",
       "             133: 'Zct5Y',\n",
       "             134: 'Zct5Q',\n",
       "             135: 'Zct_Q',\n",
       "             136: 'Zct5l',\n",
       "             137: 'Zct8s',\n",
       "             138: 'Zct_U',\n",
       "             139: 'Zct_D',\n",
       "             140: 'Zct4f',\n",
       "             141: 'Zct5N',\n",
       "             142: 'Zct8w',\n",
       "             143: 'Zc4pv',\n",
       "             144: 'Zct_K',\n",
       "             145: 'Zct9n',\n",
       "             146: 'ZcvUF',\n",
       "             147: 'Zct5n',\n",
       "             148: 'Zct_R',\n",
       "             149: 'Zct5O',\n",
       "             150: 'ZcvUE',\n",
       "             151: 'Zct8n',\n",
       "             152: 'Zct8p',\n",
       "             153: 'Zc4o4',\n",
       "             154: 'Zct53',\n",
       "             155: 'Zct4y',\n",
       "             156: 'Zct57',\n",
       "             157: 'Zc4o3',\n",
       "             158: 'Zct_L',\n",
       "             159: 'Zct48',\n",
       "             160: 'Zct9u',\n",
       "             161: 'Zct-5',\n",
       "             162: 'Zc4rj',\n",
       "             163: 'Zc4ok',\n",
       "             164: 'Zct5H',\n",
       "             165: 'Zct_M',\n",
       "             166: 'Zct52',\n",
       "             167: 'Zct58',\n",
       "             168: 'Zc4p4',\n",
       "             169: 'Zct_l',\n",
       "             170: 'Zctyj',\n",
       "             171: 'Zct8u',\n",
       "             172: 'Zc4pm',\n",
       "             173: 'Zct8z',\n",
       "             174: 'Zct5s',\n",
       "             175: 'Zc4ob',\n",
       "             176: 'Zct5Z',\n",
       "             177: 'ZcvQd',\n",
       "             178: 'Zct5K',\n",
       "             179: 'Zct8x',\n",
       "             180: 'ZcvUG',\n",
       "             181: 'Zct9g',\n",
       "             182: 'Zct8m',\n",
       "             183: 'Zct8g',\n",
       "             184: 'Zct8k',\n",
       "             185: 'Zct-0',\n",
       "             186: 'Zc4pn',\n",
       "             187: 'ZctyA',\n",
       "             188: 'Zct_I',\n",
       "             189: 'Zc4pg',\n",
       "             190: 'Zc4oE',\n",
       "             191: 'Zc4p5',\n",
       "             192: 'Zct8j',\n",
       "             193: 'Zct5_',\n",
       "             194: 'Zc4p_',\n",
       "             195: 'Zct9p',\n",
       "             196: 'Zct_C',\n",
       "             197: 'Zct80',\n",
       "             198: 'Zc4p-',\n",
       "             199: 'Zc4o5',\n",
       "             200: 'Zct_G',\n",
       "             201: 'Zct8B',\n",
       "             202: 'Zct8r',\n",
       "             203: 'Zc4p8',\n",
       "             204: 'Zc4qf',\n",
       "             205: 'Zct-T',\n",
       "             206: 'Zct_m',\n",
       "             207: 'Zct6W',\n",
       "             208: 'Zct98',\n",
       "             209: 'Zct-H',\n",
       "             210: 'Zct_N',\n",
       "             211: 'Zct2w',\n",
       "             212: 'Zct8h',\n",
       "             213: 'Zc4py',\n",
       "             214: 'Zct7Z',\n",
       "             215: 'Zct8a',\n",
       "             216: 'Zcty4',\n",
       "             217: 'Zct50',\n",
       "             218: 'Zct_k',\n",
       "             219: 'Zc4rA',\n",
       "             220: 'Zct_H',\n",
       "             221: 'Zct-F',\n",
       "             222: 'Zc4o-',\n",
       "             223: 'ZcvVF',\n",
       "             224: 'Zct7l',\n",
       "             225: 'Zct5x',\n",
       "             226: 'Zct_h',\n",
       "             227: 'Zc4pr',\n",
       "             228: 'Zct9U',\n",
       "             229: 'Zct8A',\n",
       "             230: 'Zc4pq',\n",
       "             231: 'ZcvRM',\n",
       "             232: 'Zct5e',\n",
       "             233: 'Zct8t',\n",
       "             234: 'Zct9h',\n",
       "             235: 'ZcvRY',\n",
       "             236: 'Zct42',\n",
       "             237: 'Zct55',\n",
       "             238: 'Zc4uA',\n",
       "             239: 'Zctt0',\n",
       "             240: 'Zc4o7',\n",
       "             241: 'Zct-A',\n",
       "             242: 'Zct-B',\n",
       "             243: 'Zct8q',\n",
       "             244: 'Zct-x',\n",
       "             245: 'Zct59',\n",
       "             246: 'Zct_P',\n",
       "             247: 'Zct5M',\n",
       "             248: 'Zct5r',\n",
       "             249: 'Zct7P',\n",
       "             250: 'Zc4ps',\n",
       "             251: 'Zc4p9',\n",
       "             252: 'Zct9t',\n",
       "             253: 'Zct5b',\n",
       "             254: 'Zct81',\n",
       "             255: 'Zct7G',\n",
       "             256: 'Zct5u',\n",
       "             257: 'Zct_V',\n",
       "             258: 'Zct5G',\n",
       "             259: 'Zct43',\n",
       "             260: 'Zct5E',\n",
       "             261: 'Zc4qd',\n",
       "             262: 'Zct_F',\n",
       "             263: 'Zc6AA',\n",
       "             264: 'Zctnf',\n",
       "             265: 'Zc4uI',\n",
       "             266: 'Zc4uz',\n",
       "             267: 'Zct20',\n",
       "             268: 'Zct-2',\n",
       "             269: 'Zct5z',\n",
       "             270: 'Zct4e',\n",
       "             271: 'Zc4rQ',\n",
       "             272: 'Zc4iG',\n",
       "             273: 'Zct3m',\n",
       "             274: 'Zc4o6',\n",
       "             275: 'Zct4P',\n",
       "             276: 'Zc4rd',\n",
       "             277: 'Zc4qV',\n",
       "             278: 'Zct_S',\n",
       "             279: 'Zct7T',\n",
       "             280: 'ZcvUS',\n",
       "             281: 'Zct8K',\n",
       "             282: 'Zct7N',\n",
       "             283: 'Zct8y',\n",
       "             284: 'ZcvUM',\n",
       "             285: 'Zc4rN',\n",
       "             286: 'Zc4iK',\n",
       "             287: 'Zct7V',\n",
       "             288: 'Zct9o',\n",
       "             289: 'Zct7R',\n",
       "             290: 'Zct3S',\n",
       "             291: 'Zct5p',\n",
       "             292: 'Zct5-',\n",
       "             293: 'Zc4pu',\n",
       "             294: 'Zct7Y',\n",
       "             295: 'Zct82',\n",
       "             296: 'Zct5S',\n",
       "             297: 'Zc4rc',\n",
       "             298: 'Zct5h',\n",
       "             299: 'Zc4rX',\n",
       "             300: 'Zctt3',\n",
       "             301: 'Zct6Z',\n",
       "             302: 'ZcvUP',\n",
       "             303: 'Zct4n',\n",
       "             304: 'Zctys',\n",
       "             305: 'Zct5g',\n",
       "             306: 'Zct9q',\n",
       "             307: 'Zct_i',\n",
       "             308: 'ZcvUN',\n",
       "             309: 'Zct-v',\n",
       "             310: 'Zct73',\n",
       "             311: 'Zct4I',\n",
       "             312: 'ZcvUZ',\n",
       "             313: 'Zct8O',\n",
       "             314: 'Zc4o9',\n",
       "             315: 'Zcty_',\n",
       "             316: 'Zct5t',\n",
       "             317: 'Zct5y',\n",
       "             318: 'Zct5k',\n",
       "             319: 'Zct_X',\n",
       "             320: 'Zct9y',\n",
       "             321: 'Zct5V',\n",
       "             322: 'Zc4rO',\n",
       "             323: 'Zct8N',\n",
       "             324: 'Zct8i',\n",
       "             325: 'Zct2x',\n",
       "             326: 'Zct8L',\n",
       "             327: 'Zct32',\n",
       "             328: 'Zct4d',\n",
       "             329: 'Zct9j',\n",
       "             330: 'Zct7Q',\n",
       "             331: 'Zct9i',\n",
       "             332: 'Zct2c',\n",
       "             333: 'ZcvRl',\n",
       "             334: 'Zct4V',\n",
       "             335: 'ZcvUA',\n",
       "             336: 'Zc4rR',\n",
       "             337: 'ZcvRX',\n",
       "             338: 'Zctz7',\n",
       "             339: 'Zct8G',\n",
       "             340: 'Zct6f',\n",
       "             341: 'Zc4rK',\n",
       "             342: 'ZcvRN',\n",
       "             343: 'Zct7w',\n",
       "             344: 'Zct7H',\n",
       "             345: 'Zct7e',\n",
       "             346: 'Zct9k',\n",
       "             347: 'Zc4pt',\n",
       "             348: 'Zc4pZ',\n",
       "             349: 'Zc4rL',\n",
       "             350: 'Zc4rE',\n",
       "             351: 'Zc4rT',\n",
       "             352: 'Zct7U',\n",
       "             353: 'ZcttO',\n",
       "             354: 'Zct3l',\n",
       "             355: 'Zctty',\n",
       "             356: 'Zct3y',\n",
       "             357: 'Zct8_',\n",
       "             358: 'Zct-y',\n",
       "             359: 'Zct-9',\n",
       "             360: 'Zct7a',\n",
       "             361: 'Zct40',\n",
       "             362: 'Zct7S',\n",
       "             363: 'Zct71',\n",
       "             364: 'Zct-e',\n",
       "             365: 'Zc4bx',\n",
       "             366: 'Zct_a',\n",
       "             367: 'Zct_r',\n",
       "             368: 'Zc4ih',\n",
       "             369: 'Zctb-',\n",
       "             370: 'Zc4r0',\n",
       "             371: 'Zct56',\n",
       "             372: 'Zc4o8',\n",
       "             373: 'Zct7B',\n",
       "             374: 'Zct-z',\n",
       "             375: 'Zct_v',\n",
       "             376: 'Zct_A',\n",
       "             377: 'Zcty6',\n",
       "             378: 'Zct7J',\n",
       "             379: 'ZcvVQ',\n",
       "             380: 'Zc4uG',\n",
       "             381: 'Zct_O',\n",
       "             382: 'Zc4rh',\n",
       "             383: 'Zct4R',\n",
       "             384: 'Zct-f',\n",
       "             385: 'Zct_n',\n",
       "             386: 'Zct5q',\n",
       "             387: 'Zct-C',\n",
       "             388: 'Zc4oe',\n",
       "             389: 'ZcvV9',\n",
       "             390: 'Zct89',\n",
       "             391: 'Zctym',\n",
       "             392: 'ZcttT',\n",
       "             393: 'Zct-R',\n",
       "             394: 'Zcty9',\n",
       "             395: 'Zct0A',\n",
       "             396: 'Zct3j',\n",
       "             397: 'Zcty8',\n",
       "             398: 'Zc4uL',\n",
       "             399: 'Zc4o_',\n",
       "             400: 'Zc4q9',\n",
       "             401: 'Zcv_Q',\n",
       "             402: 'Zc4uO',\n",
       "             403: 'Zct-E',\n",
       "             404: 'Zct8-',\n",
       "             405: 'Zct4v',\n",
       "             406: 'Zc4qQ',\n",
       "             407: 'Zct4j',\n",
       "             408: 'Zct-U',\n",
       "             409: 'Zct_6',\n",
       "             410: 'Zc4po',\n",
       "             411: 'Zct4x',\n",
       "             412: 'Zc6AW',\n",
       "             413: 'Zct5B',\n",
       "             414: 'Zct3n',\n",
       "             415: 'Zct2e',\n",
       "             416: 'ZcvRV',\n",
       "             417: 'Zct39',\n",
       "             418: 'Zct23',\n",
       "             419: 'Zctf_',\n",
       "             420: 'Zct3g',\n",
       "             421: 'Zc4oN',\n",
       "             422: 'Zct4J',\n",
       "             423: 'Zc4rB',\n",
       "             424: 'ZcvRI',\n",
       "             425: 'ZcvUz',\n",
       "             426: 'ZcvQr',\n",
       "             427: 'Zct4Y',\n",
       "             428: 'Zct6V',\n",
       "             429: 'Zct5F',\n",
       "             430: 'Zct4c',\n",
       "             431: 'ZZnnz',\n",
       "             432: 'Zct9z',\n",
       "             433: 'Zct6R',\n",
       "             434: 'Zct-6',\n",
       "             435: 'Zct_Z',\n",
       "             436: 'Zctb_',\n",
       "             437: 'Zct54',\n",
       "             438: 'ZcvRD',\n",
       "             439: 'Zcttw',\n",
       "             440: 'Zct5L',\n",
       "             441: 'Zc4rC',\n",
       "             442: 'ZcvRO',\n",
       "             443: 'Zct4Z',\n",
       "             444: 'Zc4rU',\n",
       "             445: 'ZcvRW',\n",
       "             446: 'Zc4op',\n",
       "             447: 'Zct9_',\n",
       "             448: 'Zct9L',\n",
       "             449: 'Zct-L',\n",
       "             450: 'Zct_7',\n",
       "             451: 'Zctx-',\n",
       "             452: 'Zc4rM',\n",
       "             453: 'ZcvRZ',\n",
       "             454: 'Zc4iu',\n",
       "             455: 'Zct3v',\n",
       "             456: 'ZcttZ',\n",
       "             457: 'ZcvU-',\n",
       "             458: 'ZcvRK',\n",
       "             459: 'Zct_b',\n",
       "             460: 'ZcvRC',\n",
       "             461: 'Zct_T',\n",
       "             462: 'Zc4oo',\n",
       "             463: 'Zc4uh',\n",
       "             464: 'Zc6BR',\n",
       "             465: 'ZcvQ0',\n",
       "             466: 'Zct_Y',\n",
       "             467: 'ZcvUD',\n",
       "             468: 'Zct-r',\n",
       "             469: 'Zct-i',\n",
       "             470: 'ZcvUQ',\n",
       "             471: 'Zct4a',\n",
       "             472: 'Zct_o',\n",
       "             473: 'Zct21',\n",
       "             474: 'Zc4rP',\n",
       "             475: 'Zct75',\n",
       "             476: 'Zc4uK',\n",
       "             477: 'Zc4uD',\n",
       "             478: 'Zct7X',\n",
       "             479: 'Zct5P',\n",
       "             480: 'Zcty5',\n",
       "             481: 'Zc4qR',\n",
       "             482: 'Zc6BU',\n",
       "             483: 'Zc4uj',\n",
       "             484: 'Zc4uC',\n",
       "             485: 'Zct7O',\n",
       "             486: 'Zc7Cr',\n",
       "             487: 'Zct-V',\n",
       "             488: 'Zc4so',\n",
       "             489: 'ZcttX',\n",
       "             490: 'Zc4uB',\n",
       "             491: 'Zct4b',\n",
       "             492: 'Zcttf',\n",
       "             493: 'ZcvVS',\n",
       "             494: 'ZcvRE',\n",
       "             495: 'ZctXj',\n",
       "             496: 'Zctx5',\n",
       "             497: 'Zctt8',\n",
       "             498: 'Zct3t',\n",
       "             499: 'Zc4rn',\n",
       "             500: 'Zc4rH',\n",
       "             501: 'ZctvX',\n",
       "             502: 'Zct5A',\n",
       "             503: 'ZcvUq',\n",
       "             504: 'Zct84',\n",
       "             505: 'Zct-Z',\n",
       "             506: 'ZcvU3',\n",
       "             507: 'Zc4rS',\n",
       "             508: 'Zc4qT',\n",
       "             509: 'Zc4ov',\n",
       "             510: 'Zc4rF',\n",
       "             511: 'Zc4pp',\n",
       "             512: 'ZctMJ',\n",
       "             513: 'ZcvRd',\n",
       "             514: 'Zc4rI',\n",
       "             515: 'Zctz6',\n",
       "             516: 'Zct-u',\n",
       "             517: 'Zc4rm',\n",
       "             518: 'ZcvVR',\n",
       "             519: 'Zc4rW',\n",
       "             520: 'Zc4rp',\n",
       "             521: 'Zct77',\n",
       "             522: 'ZctyJ',\n",
       "             523: 'Zct5J',\n",
       "             524: 'Zctzo',\n",
       "             525: 'Zc4sq',\n",
       "             526: 'Zc4qX',\n",
       "             527: 'Zct-n',\n",
       "             528: 'Zctz4',\n",
       "             529: 'Zct-W',\n",
       "             530: 'Zc4rl',\n",
       "             531: 'Zctyy',\n",
       "             532: 'Zct6Q',\n",
       "             533: 'Zc4g5',\n",
       "             534: 'Zct41',\n",
       "             535: 'Zct45',\n",
       "             536: 'Zc4qU',\n",
       "             537: 'Zct8v',\n",
       "             538: 'Zct5D',\n",
       "             539: 'Zct7F',\n",
       "             540: 'Zctyn',\n",
       "             541: 'ZcvVY',\n",
       "             542: 'ZcvTF',\n",
       "             543: 'ZcvUJ',\n",
       "             544: 'Zc4JX',\n",
       "             545: 'Zct-c',\n",
       "             546: 'Zct-S',\n",
       "             547: 'Zctw_',\n",
       "             548: 'Zc6AT',\n",
       "             549: 'Zc4q3',\n",
       "             550: 'Zc4rg',\n",
       "             551: 'Zc4oQ',\n",
       "             552: 'ZctMO',\n",
       "             553: 'Zc4rx',\n",
       "             554: 'Zct6X',\n",
       "             555: 'ZctyW',\n",
       "             556: 'Zc4u7',\n",
       "             557: 'ZcvXS',\n",
       "             558: 'Zct-D',\n",
       "             559: 'Zct30',\n",
       "             560: 'Zct4K',\n",
       "             561: 'Zc4p7',\n",
       "             562: 'Zct4F',\n",
       "             563: 'Zc4zg',\n",
       "             564: 'Zc4q1',\n",
       "             565: 'Zct3s',\n",
       "             566: 'Zctyt',\n",
       "             567: 'Zct2a',\n",
       "             568: 'Zct-q',\n",
       "             569: 'Zc4qW',\n",
       "             570: 'Zct4i',\n",
       "             571: 'Zct6U',\n",
       "             572: 'Zct-3',\n",
       "             573: 'Zct-Q',\n",
       "             574: 'Zc6V8',\n",
       "             575: 'Zct-d',\n",
       "             576: 'ZcttW',\n",
       "             577: 'Zct5v',\n",
       "             578: 'Zc4qZ',\n",
       "             579: 'Zct22',\n",
       "             580: 'Zct_p',\n",
       "             581: 'Zc4oA',\n",
       "             582: 'Zct-X',\n",
       "             583: 'Zct4W',\n",
       "             584: 'Zc4iS',\n",
       "             585: 'Zct-4',\n",
       "             586: 'Zc4r9',\n",
       "             587: 'Zct76',\n",
       "             588: 'Zct5m',\n",
       "             589: 'Zct7A',\n",
       "             590: 'Zc6Bb',\n",
       "             591: 'Zct-G',\n",
       "             592: 'ZcttS',\n",
       "             593: 'Zc4t0',\n",
       "             594: 'Zc4ro',\n",
       "             595: 'Zc4uE',\n",
       "             596: 'Zc4qy',\n",
       "             597: 'Zct_g',\n",
       "             598: 'ZcvUW',\n",
       "             599: 'Zc6Fb',\n",
       "             600: 'Zc6Cs',\n",
       "             601: 'Zct79',\n",
       "             602: 'Zcty7',\n",
       "             603: 'Zct-t',\n",
       "             604: 'Zct3i',\n",
       "             605: 'Zc4vq',\n",
       "             606: 'Zct-j',\n",
       "             607: 'ZcvUC',\n",
       "             608: 'Zc4uF',\n",
       "             609: 'Zc4qc',\n",
       "             610: 'Zct4B',\n",
       "             611: 'Zct4z',\n",
       "             612: 'Zct-b',\n",
       "             613: 'Zc4H7',\n",
       "             614: 'Zc4oB',\n",
       "             615: 'Zc4rD',\n",
       "             616: 'ZcvVT',\n",
       "             617: 'Zc4u0',\n",
       "             618: 'Zct34',\n",
       "             619: 'Zc4rJ',\n",
       "             620: 'ZcttG',\n",
       "             621: 'Zct5I',\n",
       "             622: 'Zc4pz',\n",
       "             623: 'Zc4hg',\n",
       "             624: 'Zct7M',\n",
       "             625: 'Zct4X',\n",
       "             626: 'Zc4uy',\n",
       "             627: 'Zc4mu',\n",
       "             628: 'Zct7_',\n",
       "             629: 'ZcvVD',\n",
       "             630: 'Zc4ur',\n",
       "             631: 'Zcttd',\n",
       "             632: 'Zct4G',\n",
       "             633: 'Zc4rG',\n",
       "             634: 'Zc4ri',\n",
       "             635: 'Zcta5',\n",
       "             636: 'Zc4-3',\n",
       "             637: 'Zc4rz',\n",
       "             638: 'Zc4p6',\n",
       "             639: 'Zctz-',\n",
       "             640: 'Zc6EB',\n",
       "             641: 'ZcvUB',\n",
       "             642: 'Zc4xo',\n",
       "             643: 'ZcvUH',\n",
       "             644: 'Zc6BV',\n",
       "             645: 'ZcttE',\n",
       "             646: 'Zct2l',\n",
       "             647: 'Zc6Au',\n",
       "             648: 'Zc4hG',\n",
       "             649: 'Zct5j',\n",
       "             650: 'Zc4qo',\n",
       "             651: 'Zc4rw',\n",
       "             652: 'Zct_j',\n",
       "             653: 'Zct7n',\n",
       "             654: 'Zc41G',\n",
       "             655: 'ZcttU',\n",
       "             656: 'Zc4ry',\n",
       "             657: 'Zct70',\n",
       "             658: 'Zctt9',\n",
       "             659: 'ZcttV',\n",
       "             660: 'Zc4r1',\n",
       "             661: 'ZcvTc',\n",
       "             662: 'Zct72',\n",
       "             663: 'Zc4rZ',\n",
       "             664: 'Zc4Kz',\n",
       "             665: 'Zcvek',\n",
       "             666: 'Zct4g',\n",
       "             667: 'Zct8J',\n",
       "             668: 'Zct3h',\n",
       "             669: 'ZcvUI',\n",
       "             670: 'ZcvVU',\n",
       "             671: 'Zct5i',\n",
       "             672: 'Zctyz',\n",
       "             673: 'ZcvUO',\n",
       "             674: 'ZctMz',\n",
       "             675: 'Zct-8',\n",
       "             676: 'Zc6AI',\n",
       "             677: 'ZcvXN',\n",
       "             678: 'Zcty-',\n",
       "             679: 'Zct2Z',\n",
       "             680: 'Zc4tc',\n",
       "             681: 'Zc6AC',\n",
       "             682: 'Zc4sk',\n",
       "             683: 'Zc4pw',\n",
       "             684: 'Zc4qA',\n",
       "             685: 'Zc4j1',\n",
       "             686: 'Zct-P',\n",
       "             687: 'Zc4-z',\n",
       "             688: 'ZZ67E',\n",
       "             689: 'Zct7E',\n",
       "             690: 'ZcvUX',\n",
       "             691: 'Zct4w',\n",
       "             692: 'Zc6Ef',\n",
       "             693: 'Zc6Qw',\n",
       "             694: 'Zc4i4',\n",
       "             695: 'Zctte',\n",
       "             696: 'Zc4rV',\n",
       "             697: 'ZcvUT',\n",
       "             698: 'Zc6Cw',\n",
       "             699: 'Zct7t',\n",
       "             700: 'Zc4or',\n",
       "             701: 'Zc4Gb',\n",
       "             702: 'Zc4oH',\n",
       "             703: 'Zc4hq',\n",
       "             704: 'Zctcb',\n",
       "             705: 'Zctt1',\n",
       "             706: 'Zct-7',\n",
       "             707: 'Zct4m',\n",
       "             708: 'ZcvcF',\n",
       "             709: 'Zc6R2',\n",
       "             710: 'Zc4gh',\n",
       "             711: 'Zct0X',\n",
       "             712: 'Zc4ua',\n",
       "             713: 'Zcttx',\n",
       "             714: 'Zc4r_',\n",
       "             715: 'ZcvFb',\n",
       "             716: 'Zct4s',\n",
       "             717: 'Zct4O',\n",
       "             718: 'Zc4rk',\n",
       "             719: 'Zc4ph',\n",
       "             720: 'Zc4rs',\n",
       "             721: 'Zct_w',\n",
       "             722: 'ZcvR1',\n",
       "             723: 'Zc4jl',\n",
       "             724: 'Zct6S',\n",
       "             725: 'Zc4r6',\n",
       "             726: 'Zct4A',\n",
       "             727: 'Zct35',\n",
       "             728: 'Zc4gw',\n",
       "             729: 'ZcvRU',\n",
       "             730: 'Zc4ut',\n",
       "             731: 'Zc4uU',\n",
       "             732: 'Zct4U',\n",
       "             733: 'Zc6Fu',\n",
       "             734: 'ZcvVV',\n",
       "             735: 'Zc44X',\n",
       "             736: 'Zct88',\n",
       "             737: 'ZZai2',\n",
       "             738: 'Zc4uP',\n",
       "             739: 'ZcvUR',\n",
       "             740: 'ZcvTC',\n",
       "             741: 'ZcvT4',\n",
       "             742: 'Zct4Q',\n",
       "             743: 'ZcvVy',\n",
       "             744: 'Zcttb',\n",
       "             745: 'Zct4S',\n",
       "             746: 'Zc6EE',\n",
       "             747: 'Zct85',\n",
       "             748: 'Zct3z',\n",
       "             749: 'ZcvdM',\n",
       "             750: 'Zc4sJ',\n",
       "             751: 'Zct47',\n",
       "             752: 'ZcvUK',\n",
       "             753: 'ZctW6',\n",
       "             754: 'Zc4up',\n",
       "             755: 'Zc4Bg',\n",
       "             756: 'ZcvRT',\n",
       "             757: 'Zct4C',\n",
       "             758: 'Zct-J',\n",
       "             759: 'Zct4u',\n",
       "             760: 'ZctWH',\n",
       "             761: 'Zc4jc',\n",
       "             762: 'Zc4jv',\n",
       "             763: 'Zc6cR',\n",
       "             764: 'Zct3I',\n",
       "             765: 'ZctwD',\n",
       "             766: 'Zctyq',\n",
       "             767: 'Zc4uM',\n",
       "             768: 'Zct-l',\n",
       "             769: 'ZcvUt',\n",
       "             770: 'ZctnU',\n",
       "             771: 'Zc4r5',\n",
       "             772: 'Zctl6',\n",
       "             773: 'Zc4uq',\n",
       "             774: 'Zct3L',\n",
       "             775: 'Zct7b',\n",
       "             776: 'ZcvRp',\n",
       "             777: 'Zc4li',\n",
       "             778: 'Zcvba',\n",
       "             779: 'Zcttk',\n",
       "             780: 'Zcttz',\n",
       "             781: 'ZctNG',\n",
       "             782: 'Zct-p',\n",
       "             783: 'Zc4uH',\n",
       "             784: 'Zct99',\n",
       "             785: 'Zc4rb',\n",
       "             786: 'Zc4ux',\n",
       "             787: 'Zc4v5',\n",
       "             788: 'Zc4uk',\n",
       "             789: 'Zc4KO',\n",
       "             790: 'Zc6AU',\n",
       "             791: 'Zct7x',\n",
       "             792: 'Zc4g7',\n",
       "             793: 'ZcvVB',\n",
       "             794: 'Zc4pk',\n",
       "             795: 'Zc4q2',\n",
       "             796: 'Zct4E',\n",
       "             797: 'ZcvU5',\n",
       "             798: 'Zc4pT',\n",
       "             799: 'Zct-o',\n",
       "             800: 'Zct-N',\n",
       "             801: 'Zctvv',\n",
       "             802: 'Zct2z',\n",
       "             803: 'Zc6HU',\n",
       "             804: 'Zc4oq',\n",
       "             805: 'Zc4qx',\n",
       "             806: 'ZcvVH',\n",
       "             807: 'Zc4m6',\n",
       "             808: 'ZcvVd',\n",
       "             809: 'Zc4Lj',\n",
       "             810: 'Zc4iL',\n",
       "             811: 'Zc6BH',\n",
       "             812: 'Zc4uf',\n",
       "             813: 'Zct3O',\n",
       "             814: 'Zc4rr',\n",
       "             815: 'ZcvU1',\n",
       "             816: 'Zc6AV',\n",
       "             817: 'Zc4rY',\n",
       "             818: 'Zc6BA',\n",
       "             819: 'Zc4th',\n",
       "             820: 'ZctB7',\n",
       "             821: 'ZcvUU',\n",
       "             822: 'Zc6BB',\n",
       "             823: 'ZcvVO',\n",
       "             824: 'ZcvWG',\n",
       "             825: 'Zc7Gz',\n",
       "             826: 'Zc6Ck',\n",
       "             827: 'Zcttl',\n",
       "             828: 'Zct2P',\n",
       "             829: 'Zc4pY',\n",
       "             830: 'Zct1E',\n",
       "             831: 'Zc6Fs',\n",
       "             832: 'Zct7I',\n",
       "             833: 'Zc4ug',\n",
       "             834: 'ZctS3',\n",
       "             835: 'Zc4hd',\n",
       "             836: 'Zc6BF',\n",
       "             837: 'ZcvWU',\n",
       "             838: 'Zct7s',\n",
       "             839: 'ZcvUb',\n",
       "             840: 'Zc4uJ',\n",
       "             841: 'ZcvRF',\n",
       "             842: 'Zc4gy',\n",
       "             843: 'Zc4gg',\n",
       "             844: 'Zc4OS',\n",
       "             845: 'ZcvUi',\n",
       "             846: 'Zct46',\n",
       "             847: 'Zc4L2',\n",
       "             848: 'Zcttc',\n",
       "             849: 'Zct7D',\n",
       "             850: 'ZcvRs',\n",
       "             851: 'Zc4ui',\n",
       "             852: 'ZcvVC',\n",
       "             853: 'ZcvRP',\n",
       "             854: 'ZctSz',\n",
       "             855: 'Zctzr',\n",
       "             856: 'Zct7q',\n",
       "             857: 'Zctx8',\n",
       "             858: 'Zc4rt',\n",
       "             859: 'ZcvR4',\n",
       "             860: 'Zct49',\n",
       "             861: 'Zct74',\n",
       "             862: 'ZctfB',\n",
       "             863: 'Zc4iq',\n",
       "             864: 'ZcvTE',\n",
       "             865: 'Zct4T',\n",
       "             866: 'Zc4-l',\n",
       "             867: 'Zct4l',\n",
       "             868: 'Zct2d',\n",
       "             869: 'Zctyu',\n",
       "             870: 'Zctvs',\n",
       "             871: 'Zc4pd',\n",
       "             872: 'Zct--',\n",
       "             873: 'Zc6AJ',\n",
       "             874: 'Zc4iv',\n",
       "             875: 'Zct4t',\n",
       "             876: 'Zc6eI',\n",
       "             877: 'ZcvUY',\n",
       "             878: 'ZcvRc',\n",
       "             879: 'Zc4un',\n",
       "             880: 'Zc4uX',\n",
       "             881: 'Zc4h1',\n",
       "             882: 'Zct2n',\n",
       "             883: 'ZcvU4',\n",
       "             884: 'Zc4vC',\n",
       "             885: 'ZcvUy',\n",
       "             886: 'ZcvUk',\n",
       "             887: 'Zc4uv',\n",
       "             888: 'Zct-_',\n",
       "             889: 'Zc6EA',\n",
       "             890: 'Zc7AL',\n",
       "             891: 'Zct3k',\n",
       "             892: 'ZcvTf',\n",
       "             893: 'ZcvRg',\n",
       "             894: 'Zc4is',\n",
       "             895: 'Zct83',\n",
       "             896: 'Zc4uT',\n",
       "             897: 'Zctvd',\n",
       "             898: 'ZcvVE',\n",
       "             899: 'Zct86',\n",
       "             900: 'ZcttR',\n",
       "             901: 'ZctxE',\n",
       "             902: 'Zc4of',\n",
       "             903: 'ZcvTA',\n",
       "             904: 'ZcvRR',\n",
       "             905: 'ZcvUo',\n",
       "             906: 'Zctpi',\n",
       "             907: 'Zct-w',\n",
       "             908: 'cYu1D',\n",
       "             909: 'Zctt2',\n",
       "             910: 'Zct7c',\n",
       "             911: 'Zc6AB',\n",
       "             912: 'ZcvRH',\n",
       "             913: 'ZcvUl',\n",
       "             914: 'b-v9L',\n",
       "             915: 'Zcs3K',\n",
       "             916: 'Zcvf9',\n",
       "             917: 'Zctce',\n",
       "             918: 'ZcvVA',\n",
       "             919: 'ZcvV1',\n",
       "             920: 'Zct6b',\n",
       "             921: 'Zc4Ln',\n",
       "             922: 'Zct2k',\n",
       "             923: 'Zc4pR',\n",
       "             924: 'Zctjg',\n",
       "             925: 'ZcvWV',\n",
       "             926: 'Zc4r4',\n",
       "             927: 'ZcvVK',\n",
       "             928: 'Zct0E',\n",
       "             929: 'Zc4q-',\n",
       "             930: 'ZctxV',\n",
       "             931: 'ZcvR_',\n",
       "             932: 'Zcter',\n",
       "             933: 'Zc6Ft',\n",
       "             934: 'Zctyp',\n",
       "             935: 'Zct__',\n",
       "             936: 'ZcvVG',\n",
       "             937: 'Zc4qb',\n",
       "             938: 'Zct2p',\n",
       "             939: 'Zct7g',\n",
       "             940: 'ZcvRG',\n",
       "             941: 'Zc4q0',\n",
       "             942: 'Zct6C',\n",
       "             943: 'Zct4_',\n",
       "             944: 'Zc4sI',\n",
       "             945: 'Zct4M',\n",
       "             946: 'ZctyS',\n",
       "             947: 'Zctvl',\n",
       "             948: 'ZcttH',\n",
       "             949: 'Zct7C',\n",
       "             950: 'Zc4uW',\n",
       "             951: 'Zc6R8',\n",
       "             952: 'ZcvRx',\n",
       "             953: 'Zct7k',\n",
       "             954: 'Zc4ni',\n",
       "             955: 'Zc4IJ',\n",
       "             956: 'ZcvRi',\n",
       "             957: 'Zct_s',\n",
       "             958: 'Zc4iP',\n",
       "             959: 'ZctVY',\n",
       "             960: 'ZctsX',\n",
       "             961: 'Zctm7',\n",
       "             962: 'Zcver',\n",
       "             963: 'ZcvF2',\n",
       "             964: 'ZcttC',\n",
       "             965: 'ZcvQk',\n",
       "             966: 'Zc44f',\n",
       "             967: 'Zcveu',\n",
       "             968: 'Za0p9',\n",
       "             969: 'Zc4qp',\n",
       "             970: 'ZcvUL',\n",
       "             971: 'Zct36',\n",
       "             972: 'Zc4it',\n",
       "             973: 'Zc4pb',\n",
       "             974: 'Zct_y',\n",
       "             975: 'Zc4sb',\n",
       "             976: 'Zctyi',\n",
       "             977: 'Zct_1',\n",
       "             978: 'Zc4r-',\n",
       "             979: 'Zct4L',\n",
       "             980: 'Zctva',\n",
       "             981: 'ZcvTD',\n",
       "             982: 'Zct0N',\n",
       "             983: 'Zctbu',\n",
       "             984: 'Zctoa',\n",
       "             985: 'Zc4ou',\n",
       "             986: 'Zc6Fn',\n",
       "             987: 'Zcti6',\n",
       "             988: 'ZctiT',\n",
       "             989: 'Zc4jq',\n",
       "             990: 'ZcvRu',\n",
       "             991: 'Zc4rv',\n",
       "             992: 'Zc4vh',\n",
       "             993: 'ZctiG',\n",
       "             994: 'ZctiE',\n",
       "             995: 'Zc4t1',\n",
       "             996: 'Zct-O',\n",
       "             997: 'ZcvUp',\n",
       "             998: 'ZcvUa',\n",
       "             999: 'Zct3_',\n",
       "             ...})"
      ]
     },
     "execution_count": 20,
     "metadata": {},
     "output_type": "execute_result"
    }
   ],
   "source": [
    "list_of_inverse_heohash_index"
   ]
  },
  {
   "cell_type": "code",
   "execution_count": 21,
   "metadata": {
    "collapsed": true
   },
   "outputs": [],
   "source": [
    "hours = [str(_) for _ in range(24)]\n",
    "minutes = [str(_) for _ in range(0,60,10)]\n",
    "minutes.append('00')\n",
    "list_of_time_index =[]\n",
    "for h in hours:\n",
    "    for m in minutes:\n",
    "\n",
    "        list_of_time_index.append(int(str(h)+str(m)))\n",
    "list_of_time_index = list(set(list_of_time_index))"
   ]
  },
  {
   "cell_type": "code",
   "execution_count": 22,
   "metadata": {
    "collapsed": false
   },
   "outputs": [
    {
     "data": {
      "text/plain": [
       "[0,\n",
       " 2050,\n",
       " 1540,\n",
       " 1030,\n",
       " 520,\n",
       " 10,\n",
       " 1550,\n",
       " 1040,\n",
       " 530,\n",
       " 20,\n",
       " 1050,\n",
       " 540,\n",
       " 30,\n",
       " 550,\n",
       " 40,\n",
       " 50,\n",
       " 2100,\n",
       " 60,\n",
       " 2110,\n",
       " 1600,\n",
       " 70,\n",
       " 2120,\n",
       " 1610,\n",
       " 1100,\n",
       " 80,\n",
       " 2130,\n",
       " 1620,\n",
       " 1110,\n",
       " 600,\n",
       " 90,\n",
       " 2140,\n",
       " 1630,\n",
       " 1120,\n",
       " 610,\n",
       " 100,\n",
       " 2150,\n",
       " 1640,\n",
       " 1130,\n",
       " 620,\n",
       " 110,\n",
       " 1650,\n",
       " 1140,\n",
       " 630,\n",
       " 120,\n",
       " 1150,\n",
       " 640,\n",
       " 130,\n",
       " 650,\n",
       " 140,\n",
       " 150,\n",
       " 2200,\n",
       " 160,\n",
       " 2210,\n",
       " 1700,\n",
       " 170,\n",
       " 2220,\n",
       " 1710,\n",
       " 1200,\n",
       " 180,\n",
       " 2230,\n",
       " 1720,\n",
       " 1210,\n",
       " 700,\n",
       " 190,\n",
       " 2240,\n",
       " 1730,\n",
       " 1220,\n",
       " 710,\n",
       " 200,\n",
       " 2250,\n",
       " 1740,\n",
       " 1230,\n",
       " 720,\n",
       " 210,\n",
       " 1750,\n",
       " 1240,\n",
       " 730,\n",
       " 220,\n",
       " 1250,\n",
       " 740,\n",
       " 230,\n",
       " 750,\n",
       " 240,\n",
       " 250,\n",
       " 2300,\n",
       " 2310,\n",
       " 1800,\n",
       " 2320,\n",
       " 1810,\n",
       " 1300,\n",
       " 2330,\n",
       " 1820,\n",
       " 1310,\n",
       " 800,\n",
       " 2340,\n",
       " 1830,\n",
       " 1320,\n",
       " 810,\n",
       " 300,\n",
       " 2350,\n",
       " 1840,\n",
       " 1330,\n",
       " 820,\n",
       " 310,\n",
       " 1850,\n",
       " 1340,\n",
       " 830,\n",
       " 320,\n",
       " 1350,\n",
       " 840,\n",
       " 330,\n",
       " 850,\n",
       " 340,\n",
       " 350,\n",
       " 1900,\n",
       " 1910,\n",
       " 1400,\n",
       " 1920,\n",
       " 1410,\n",
       " 900,\n",
       " 1930,\n",
       " 1420,\n",
       " 910,\n",
       " 400,\n",
       " 1940,\n",
       " 1430,\n",
       " 920,\n",
       " 410,\n",
       " 1950,\n",
       " 1440,\n",
       " 930,\n",
       " 420,\n",
       " 1450,\n",
       " 940,\n",
       " 430,\n",
       " 950,\n",
       " 440,\n",
       " 450,\n",
       " 2000,\n",
       " 2010,\n",
       " 1500,\n",
       " 2020,\n",
       " 1510,\n",
       " 1000,\n",
       " 2030,\n",
       " 1520,\n",
       " 1010,\n",
       " 500,\n",
       " 2040,\n",
       " 1530,\n",
       " 1020,\n",
       " 510]"
      ]
     },
     "execution_count": 22,
     "metadata": {},
     "output_type": "execute_result"
    }
   ],
   "source": [
    "list_of_time_index"
   ]
  },
  {
   "cell_type": "code",
   "execution_count": 23,
   "metadata": {
    "collapsed": false
   },
   "outputs": [
    {
     "data": {
      "text/plain": [
       "Index(['Unnamed: 0', 'VendorID', 'tpep_pickup_datetime',\n",
       "       'tpep_dropoff_datetime', 'passenger_count', 'trip_distance',\n",
       "       'pickup_longitude', 'pickup_latitude', 'RatecodeID',\n",
       "       'store_and_fwd_flag', 'dropoff_longitude', 'dropoff_latitude',\n",
       "       'payment_type', 'fare_amount', 'extra', 'mta_tax', 'tip_amount',\n",
       "       'tolls_amount', 'improvement_surcharge', 'total_amount',\n",
       "       'geohash_pickup', 'geohas_dropoff', 'jan_day', 'jan_minute',\n",
       "       'geohash_dropoff', 'trip_time_minutes'],\n",
       "      dtype='object')"
      ]
     },
     "execution_count": 23,
     "metadata": {},
     "output_type": "execute_result"
    }
   ],
   "source": [
    "taxi_yellowcab_df.columns"
   ]
  },
  {
   "cell_type": "markdown",
   "metadata": {
    "collapsed": true
   },
   "source": [
    "# Use an Actor Critic Model\n",
    "- https://yanpanlau.github.io/2016/10/11/Torcs-Keras.html"
   ]
  },
  {
   "cell_type": "code",
   "execution_count": 75,
   "metadata": {
    "collapsed": true
   },
   "outputs": [],
   "source": [
    "def create_actor_network(self, state_size,action_dim):\n",
    "        print(\"Now we build the model\")\n",
    "        S = Input(shape=[state_size])  \n",
    "        h0 = Dense(HIDDEN1_UNITS, activation='relu')(S)\n",
    "        h1 = Dense(HIDDEN2_UNITS, activation='relu')(h0)\n",
    "        Steering = Dense(1,activation='tanh',init=lambda shape, name: normal(shape, scale=1e-4, name=name))(h1)   \n",
    "        Acceleration = Dense(1,activation='sigmoid',init=lambda shape, name: normal(shape, scale=1e-4, name=name))(h1)   \n",
    "        Brake = Dense(1,activation='sigmoid',init=lambda shape, name: normal(shape, scale=1e-4, name=name))(h1)   \n",
    "        V = merge([Steering,Acceleration,Brake],mode='concat')          \n",
    "        model = Model(input=S,output=V)\n",
    "        print(\"We finished building the model\")\n",
    "        return model, model.trainable_weights, S"
   ]
  },
  {
   "cell_type": "markdown",
   "metadata": {},
   "source": [
    "# MLP model architecture - DQN"
   ]
  },
  {
   "cell_type": "code",
   "execution_count": 40,
   "metadata": {
    "collapsed": false
   },
   "outputs": [
    {
     "name": "stdout",
     "output_type": "stream",
     "text": [
      "_________________________________________________________________\n",
      "Layer (type)                 Output Shape              Param #   \n",
      "=================================================================\n",
      "dense_30 (Dense)             (None, 100)               300       \n",
      "_________________________________________________________________\n",
      "batch_normalization_22 (Batc (None, 100)               400       \n",
      "_________________________________________________________________\n",
      "activation_22 (Activation)   (None, 100)               0         \n",
      "_________________________________________________________________\n",
      "dropout_22 (Dropout)         (None, 100)               0         \n",
      "_________________________________________________________________\n",
      "dense_31 (Dense)             (None, 500)               50500     \n",
      "_________________________________________________________________\n",
      "batch_normalization_23 (Batc (None, 500)               2000      \n",
      "_________________________________________________________________\n",
      "activation_23 (Activation)   (None, 500)               0         \n",
      "_________________________________________________________________\n",
      "dropout_23 (Dropout)         (None, 500)               0         \n",
      "_________________________________________________________________\n",
      "dense_32 (Dense)             (None, 1000)              501000    \n",
      "_________________________________________________________________\n",
      "batch_normalization_24 (Batc (None, 1000)              4000      \n",
      "_________________________________________________________________\n",
      "activation_24 (Activation)   (None, 1000)              0         \n",
      "_________________________________________________________________\n",
      "dropout_24 (Dropout)         (None, 1000)              0         \n",
      "_________________________________________________________________\n",
      "dense_33 (Dense)             (None, 9)                 9009      \n",
      "=================================================================\n",
      "Total params: 567,209.0\n",
      "Trainable params: 564,009.0\n",
      "Non-trainable params: 3,200.0\n",
      "_________________________________________________________________\n"
     ]
    }
   ],
   "source": [
    "##Define a simple model where the output is a softmax probability over the eight states\n",
    "# Inputs will be the time, current geohash-index ()\n",
    "# Outputs are nine numbers which correspond to a direction to go in\n",
    "# 0) NW 1) N                     2) NE\n",
    "# 3) W  4) Stay in same geohash  5)E\n",
    "# 6)SW  7) S                    8) SE\n",
    "model_mlp = Sequential()\n",
    "model_mlp.add(Dense(100, input_shape=(2,)))\n",
    "model_mlp.add(BatchNormalization())\n",
    "model_mlp.add(Activation('relu'))\n",
    "model_mlp.add(Dropout(.3))\n",
    "model_mlp.add(Dense(500))\n",
    "model_mlp.add(BatchNormalization())\n",
    "model_mlp.add(Activation('relu'))\n",
    "model_mlp.add(Dropout(.3))\n",
    "model_mlp.add(Dense(1000))\n",
    "model_mlp.add(BatchNormalization())\n",
    "model_mlp.add(Activation('relu'))\n",
    "model_mlp.add(Dropout(.3))\n",
    "model_mlp.add(Dense(9, activation='linear')) ## predict which geohash to move to next\n",
    "adam = Adam(lr=.1)\n",
    "model_mlp.compile(loss='mse',optimizer=adam)\n",
    "model_mlp.summary()"
   ]
  },
  {
   "cell_type": "markdown",
   "metadata": {},
   "source": [
    "# LSTM model architecture - DQN\n"
   ]
  },
  {
   "cell_type": "code",
   "execution_count": 174,
   "metadata": {
    "collapsed": true
   },
   "outputs": [],
   "source": [
    "sample_size = 5000\n",
    "batch_sizze = 32"
   ]
  },
  {
   "cell_type": "code",
   "execution_count": 186,
   "metadata": {
    "collapsed": false
   },
   "outputs": [
    {
     "name": "stdout",
     "output_type": "stream",
     "text": [
      "_________________________________________________________________\n",
      "Layer (type)                 Output Shape              Param #   \n",
      "=================================================================\n",
      "lstm_51 (LSTM)               (1, 5000, 100)            41200     \n",
      "_________________________________________________________________\n",
      "lstm_52 (LSTM)               (1, 5000, 100)            80400     \n",
      "_________________________________________________________________\n",
      "lstm_53 (LSTM)               (1, 5000, 100)            80400     \n",
      "_________________________________________________________________\n",
      "dense_78 (Dense)             (1, 5000, 100)            10100     \n",
      "_________________________________________________________________\n",
      "dense_79 (Dense)             (1, 5000, 9)              909       \n",
      "=================================================================\n",
      "Total params: 213,009.0\n",
      "Trainable params: 213,009\n",
      "Non-trainable params: 0.0\n",
      "_________________________________________________________________\n"
     ]
    }
   ],
   "source": [
    "#(sequences, timesteps, dimensions). \n",
    "model_lstm = Sequential()\n",
    "model_lstm .add(LSTM(100, dropout=0.4,batch_input_shape=(1,sample_size,2),\n",
    "                     recurrent_dropout=0.5,return_sequences =True))\n",
    "model_lstm .add(LSTM(100, dropout=0.4,\n",
    "                     recurrent_dropout=0.5, return_sequences = True))\n",
    "model_lstm .add(LSTM(100, dropout=0.4,\n",
    "                     recurrent_dropout=0.5,return_sequences = True))\n",
    "model_lstm.add(Dense(100, activation='relu'))\n",
    "model_lstm .add(Dense(9, activation='linear'))\n",
    "model_lstm .compile(loss='mean_squared_error', optimizer='adam')\n",
    "model_lstm.summary()"
   ]
  },
  {
   "cell_type": "code",
   "execution_count": 382,
   "metadata": {
    "collapsed": false
   },
   "outputs": [],
   "source": [
    "x = np.load(\"../src/models-DQN/training_x.npy\")\n",
    "#x = x.reshape(1,50001,2)\n",
    "#x = x[: , :5000 , :]\n",
    "y = np.load(\"../src/models-DQN/training_y.npy\")\n",
    "#y = y.reshape(1, 50001, 9 )\n",
    "#y = y[:, :5000, :]"
   ]
  },
  {
   "cell_type": "code",
   "execution_count": 383,
   "metadata": {
    "collapsed": false
   },
   "outputs": [
    {
     "data": {
      "text/plain": [
       "(15000, 9)"
      ]
     },
     "execution_count": 383,
     "metadata": {},
     "output_type": "execute_result"
    }
   ],
   "source": [
    "y.shape"
   ]
  },
  {
   "cell_type": "code",
   "execution_count": 384,
   "metadata": {
    "collapsed": false
   },
   "outputs": [
    {
     "data": {
      "text/plain": [
       "(15000, 2)"
      ]
     },
     "execution_count": 384,
     "metadata": {},
     "output_type": "execute_result"
    }
   ],
   "source": [
    "x.shape"
   ]
  },
  {
   "cell_type": "code",
   "execution_count": 323,
   "metadata": {
    "collapsed": true
   },
   "outputs": [],
   "source": [
    "#x= np.delete(x, np.array([68,2525,11927,16094,21553,24015,25747,34193,39398,43567,48340,48781,16988,16987]), axis=0)"
   ]
  },
  {
   "cell_type": "code",
   "execution_count": 322,
   "metadata": {
    "collapsed": true
   },
   "outputs": [],
   "source": [
    "#y= np.delete(y, np.array([68,2525,11927,16094,21553,24015,25747,34193,39398,43567,48340,48781,16988,16987]), axis=0)"
   ]
  },
  {
   "cell_type": "code",
   "execution_count": 329,
   "metadata": {
    "collapsed": true
   },
   "outputs": [],
   "source": [
    "np.save(\"../src/models-DQN/training_x.npy\",x[:15000])\n",
    "np.save(\"../src/models-DQN/training_y.npy\",y[:15000])"
   ]
  },
  {
   "cell_type": "code",
   "execution_count": 385,
   "metadata": {
    "collapsed": false
   },
   "outputs": [],
   "source": [
    "\n",
    "for idx,i in enumerate(y):\n",
    "    if np.all(i==0):\n",
    "        print(i)\n",
    "        print(idx,'row')\n",
    "    else:\n",
    "        pass\n",
    "    "
   ]
  },
  {
   "cell_type": "code",
   "execution_count": 337,
   "metadata": {
    "collapsed": true
   },
   "outputs": [],
   "source": [
    "y = y[:,:10000,:]#"
   ]
  },
  {
   "cell_type": "code",
   "execution_count": 352,
   "metadata": {
    "collapsed": false
   },
   "outputs": [],
   "source": [
    "y = y.reshape(1,15000,9)"
   ]
  },
  {
   "cell_type": "code",
   "execution_count": 353,
   "metadata": {
    "collapsed": false
   },
   "outputs": [],
   "source": [
    "test,train = np.split(y,2,axis=1)"
   ]
  },
  {
   "cell_type": "code",
   "execution_count": 346,
   "metadata": {
    "collapsed": false
   },
   "outputs": [
    {
     "data": {
      "text/plain": [
       "(7500, 9)"
      ]
     },
     "execution_count": 346,
     "metadata": {},
     "output_type": "execute_result"
    }
   ],
   "source": [
    "test.shape"
   ]
  },
  {
   "cell_type": "code",
   "execution_count": 347,
   "metadata": {
    "collapsed": false
   },
   "outputs": [
    {
     "data": {
      "text/plain": [
       "(7500, 9)"
      ]
     },
     "execution_count": 347,
     "metadata": {},
     "output_type": "execute_result"
    }
   ],
   "source": [
    "train.shape"
   ]
  },
  {
   "cell_type": "code",
   "execution_count": null,
   "metadata": {
    "collapsed": false
   },
   "outputs": [],
   "source": [
    "model_simple.train_on_batch()"
   ]
  },
  {
   "cell_type": "code",
   "execution_count": 20,
   "metadata": {
    "collapsed": false
   },
   "outputs": [
    {
     "data": {
      "text/plain": [
       "array([[  9.99218583e-01,   3.69379142e-13,   1.08317809e-22,\n",
       "          5.93804972e-21,   4.04363523e-16,   6.70722822e-25,\n",
       "          9.62229051e-26,   3.95748365e-12,   7.81367882e-04]], dtype=float32)"
      ]
     },
     "execution_count": 20,
     "metadata": {},
     "output_type": "execute_result"
    }
   ],
   "source": [
    "model_simple.predict(X)"
   ]
  },
  {
   "cell_type": "code",
   "execution_count": 21,
   "metadata": {
    "collapsed": false
   },
   "outputs": [
    {
     "data": {
      "text/plain": [
       "37"
      ]
     },
     "execution_count": 21,
     "metadata": {},
     "output_type": "execute_result"
    }
   ],
   "source": [
    "list_of_geohash_index[np.random.choice(list_of_unique_geohashes)] # index of geohash"
   ]
  },
  {
   "cell_type": "code",
   "execution_count": 259,
   "metadata": {
    "collapsed": false
   },
   "outputs": [
    {
     "data": {
      "text/plain": [
       "1410"
      ]
     },
     "execution_count": 259,
     "metadata": {},
     "output_type": "execute_result"
    }
   ],
   "source": [
    "np.random.choice(list_of_time_index) # time"
   ]
  },
  {
   "cell_type": "code",
   "execution_count": 271,
   "metadata": {
    "collapsed": false
   },
   "outputs": [
    {
     "data": {
      "text/plain": [
       "array([[ 605, 2775]])"
      ]
     },
     "execution_count": 271,
     "metadata": {},
     "output_type": "execute_result"
    }
   ],
   "source": [
    "np.array([[np.random.choice(list_of_time_index),\n",
    "                     list_of_geohash_index[np.random.choice(list_of_unique_geohashes)]]])\n",
    "    "
   ]
  },
  {
   "cell_type": "code",
   "execution_count": 278,
   "metadata": {
    "collapsed": false
   },
   "outputs": [
    {
     "data": {
      "text/plain": [
       "8"
      ]
     },
     "execution_count": 278,
     "metadata": {},
     "output_type": "execute_result"
    }
   ],
   "source": [
    "random.randrange(ACTIONS)"
   ]
  },
  {
   "cell_type": "markdown",
   "metadata": {},
   "source": []
  },
  {
   "cell_type": "markdown",
   "metadata": {},
   "source": [
    "# Show that the model can overfit a small training set\n",
    "#### DQN and MLP\n",
    "--- Assume that all trips are ten minutes"
   ]
  },
  {
   "cell_type": "code",
   "execution_count": 363,
   "metadata": {
    "collapsed": false
   },
   "outputs": [],
   "source": [
    "starting_geohash = 'Zc4o0'\n",
    "geohash_index_1 = list_of_geohash_index['Zc4o-']\n",
    "starting_time = 110"
   ]
  },
  {
   "cell_type": "code",
   "execution_count": null,
   "metadata": {
    "collapsed": false
   },
   "outputs": [],
   "source": [
    "# time, geohash for predictions"
   ]
  },
  {
   "cell_type": "code",
   "execution_count": 272,
   "metadata": {
    "collapsed": false
   },
   "outputs": [
    {
     "data": {
      "text/plain": [
       "{'e': 'Zc4o2',\n",
       " 'n': 'Zc4o1',\n",
       " 'ne': 'Zc4o3',\n",
       " 'nw': 'Zc4of',\n",
       " 's': 'Zc4ox',\n",
       " 'se': 'Zc4oz',\n",
       " 'sw': 'Zc4ob',\n",
       " 'w': 'Zc4oe'}"
      ]
     },
     "execution_count": 272,
     "metadata": {},
     "output_type": "execute_result"
    }
   ],
   "source": []
  },
  {
   "cell_type": "code",
   "execution_count": 273,
   "metadata": {
    "collapsed": false
   },
   "outputs": [
    {
     "data": {
      "text/plain": [
       "{'e': 'Zc4o2',\n",
       " 'n': 'Zc4o1',\n",
       " 'ne': 'Zc4o3',\n",
       " 'nw': 'Zc4of',\n",
       " 's': 'Zc4ox',\n",
       " 'se': 'Zc4oz',\n",
       " 'sw': 'Zc4ob',\n",
       " 'w': 'Zc4oe'}"
      ]
     },
     "execution_count": 273,
     "metadata": {},
     "output_type": "execute_result"
    }
   ],
   "source": [
    "gh.neighbors('Zc4o0')"
   ]
  },
  {
   "cell_type": "code",
   "execution_count": 355,
   "metadata": {
    "collapsed": false
   },
   "outputs": [],
   "source": [
    "# options to move to\n",
    "nw_1 = final_data_structure[110]['Zc4of']\n",
    "n_1 =  final_data_structure[110]['Zc4o1']\n",
    "ne_1 = final_data_structure[110]['Zc4o3']\n",
    "w_1 = final_data_structure[110]['Zc4oe']\n",
    "stay_1 = final_data_structure[110][starting_geohash]\n",
    "e_1 = final_data_structure[110]['Zc4o2']\n",
    "sw_1 = final_data_structure[110]['Zc4ob']\n",
    "s_1 = final_data_structure[110]['Zc4ox']\n",
    "se_1 = final_data_structure[110]['Zc4oz']\n"
   ]
  },
  {
   "cell_type": "code",
   "execution_count": 358,
   "metadata": {
    "collapsed": false
   },
   "outputs": [],
   "source": [
    "## find the best ratio of fare / time traveled\n",
    "max_nw_1 = 0\n",
    "max_n_1 = max(n_1,key=itemgetter(2))[2]\n",
    "max_ne_1 =max(ne_1,key=itemgetter(2))[2]\n",
    "max_w_1 = max(w_1,key=itemgetter(2))[2]\n",
    "max_stay_1 = max(stay_1,key=itemgetter(2))[2]\n",
    "max_e_1 = max(e_1,key=itemgetter(2))[2]\n",
    "max_sw_1 = max(sw_1,key=itemgetter(2))[2]\n",
    "max_s_1 = max(s_1,key=itemgetter(2))[2]\n",
    "max_se_1 = max(se_1,key=itemgetter(2))[2]"
   ]
  },
  {
   "cell_type": "code",
   "execution_count": 359,
   "metadata": {
    "collapsed": false
   },
   "outputs": [
    {
     "data": {
      "text/plain": [
       "0"
      ]
     },
     "execution_count": 359,
     "metadata": {},
     "output_type": "execute_result"
    }
   ],
   "source": [
    "## Find the optimal move\n",
    "np.argmax(np.array([max_n_1,max_ne_1,max_w_1,max_stay_1,max_e_1,max_sw_1,max_s_1,max_se_1]))"
   ]
  },
  {
   "cell_type": "code",
   "execution_count": 360,
   "metadata": {
    "collapsed": false
   },
   "outputs": [
    {
     "data": {
      "text/plain": [
       "2.679999999732"
      ]
     },
     "execution_count": 360,
     "metadata": {},
     "output_type": "execute_result"
    }
   ],
   "source": [
    "max_n_1"
   ]
  },
  {
   "cell_type": "code",
   "execution_count": 366,
   "metadata": {
    "collapsed": true
   },
   "outputs": [],
   "source": []
  },
  {
   "cell_type": "code",
   "execution_count": 388,
   "metadata": {
    "collapsed": true
   },
   "outputs": [],
   "source": [
    "### optimal move is to go North\n",
    "# First training point, time followed by geohash\n",
    "first_x = np.array([[110,geohash_index_1]])\n",
    "first_y = np.array([[0,1,0,0,0,0,0,0,0]])"
   ]
  },
  {
   "cell_type": "code",
   "execution_count": 370,
   "metadata": {
    "collapsed": true
   },
   "outputs": [],
   "source": [
    "### Next time step\n",
    "## geohash two\n",
    "geohash_2 = 'Zc4o1'\n",
    "geohash_index_2 = list_of_geohash_index['Zc4o1']\n",
    "time_2 = 120"
   ]
  },
  {
   "cell_type": "code",
   "execution_count": 371,
   "metadata": {
    "collapsed": false
   },
   "outputs": [
    {
     "data": {
      "text/plain": [
       "{'e': 'Zc4o3',\n",
       " 'n': 'Zc4pg',\n",
       " 'ne': 'Zc4pi',\n",
       " 'nw': 'Zc4pK',\n",
       " 's': 'Zc4o0',\n",
       " 'se': 'Zc4o2',\n",
       " 'sw': 'Zc4oe',\n",
       " 'w': 'Zc4of'}"
      ]
     },
     "execution_count": 371,
     "metadata": {},
     "output_type": "execute_result"
    }
   ],
   "source": [
    "## find potential moves\n",
    "gh.neighbors('Zc4o1')"
   ]
  },
  {
   "cell_type": "code",
   "execution_count": 376,
   "metadata": {
    "collapsed": false
   },
   "outputs": [],
   "source": [
    "# options to move to\n",
    "nw_2 = final_data_structure[120]['Zc4pK']\n",
    "n_2 =  final_data_structure[120]['Zc4pg']\n",
    "ne_2 = final_data_structure[120]['Zc4pi']\n",
    "w_2 = final_data_structure[120]['Zc4of']\n",
    "stay_2 = final_data_structure[120][geohash_2]\n",
    "e_2 = final_data_structure[120]['Zc4o3']\n",
    "sw_2 = final_data_structure[120]['Zc4oe']\n",
    "s_2 = final_data_structure[120]['Zc4o0']\n",
    "se_2 = final_data_structure[120]['Zc4o2']\n"
   ]
  },
  {
   "cell_type": "code",
   "execution_count": 386,
   "metadata": {
    "collapsed": false
   },
   "outputs": [],
   "source": [
    "## find the best ratio of fare / time traveled, zeros indicate no fare data available \n",
    "max_nw_2 = 0\n",
    "max_n_2 = max(n_2,key=itemgetter(2))[2]\n",
    "max_ne_2 =max(ne_2,key=itemgetter(2))[2]\n",
    "max_w_2 = 0\n",
    "max_stay_2 = max(stay_2,key=itemgetter(2))[2]\n",
    "max_e_2 = max(e_2,key=itemgetter(2))[2]\n",
    "max_sw_2 = max(sw_2,key=itemgetter(2))[2]\n",
    "max_s_2 = max(s_2,key=itemgetter(2))[2]\n",
    "max_se_2 = max(se_2,key=itemgetter(2))[2]"
   ]
  },
  {
   "cell_type": "code",
   "execution_count": 387,
   "metadata": {
    "collapsed": false
   },
   "outputs": [
    {
     "data": {
      "text/plain": [
       "8"
      ]
     },
     "execution_count": 387,
     "metadata": {},
     "output_type": "execute_result"
    }
   ],
   "source": [
    "## Find the optimal move\n",
    "np.argmax(np.array([0,max_n_2,max_ne_2,0,max_stay_2,max_e_2,max_sw_2,max_s_2,max_se_2]))"
   ]
  },
  {
   "cell_type": "code",
   "execution_count": 389,
   "metadata": {
    "collapsed": true
   },
   "outputs": [],
   "source": [
    "# best move is to go SE!\n",
    "second_x = np.array([[120,geohash_index_2]])\n",
    "second_y = np.array([[0,0,0,0,0,0,0,0,1]])"
   ]
  },
  {
   "cell_type": "code",
   "execution_count": 390,
   "metadata": {
    "collapsed": true
   },
   "outputs": [],
   "source": [
    "### Next time step\n",
    "## geohash three\n",
    "geohash_3 = 'Zc4o2'\n",
    "geohash_index_3 = list_of_geohash_index['Zc4o2']\n",
    "time_3 = 130"
   ]
  },
  {
   "cell_type": "code",
   "execution_count": 391,
   "metadata": {
    "collapsed": false
   },
   "outputs": [
    {
     "data": {
      "text/plain": [
       "{'e': 'Zc4o8',\n",
       " 'n': 'Zc4o3',\n",
       " 'ne': 'Zc4o9',\n",
       " 'nw': 'Zc4o1',\n",
       " 's': 'Zc4oz',\n",
       " 'se': 'Zc4o5',\n",
       " 'sw': 'Zc4ox',\n",
       " 'w': 'Zc4o0'}"
      ]
     },
     "execution_count": 391,
     "metadata": {},
     "output_type": "execute_result"
    }
   ],
   "source": [
    "## find potential moves\n",
    "gh.neighbors('Zc4o2')"
   ]
  },
  {
   "cell_type": "code",
   "execution_count": null,
   "metadata": {
    "collapsed": true
   },
   "outputs": [],
   "source": [
    "# options to move to\n",
    "nw_3 = final_data_structure[130]['Zc4pK']\n",
    "n_3 =  final_data_structure[130]['Zc4pg']\n",
    "ne_3 = final_data_structure[130]['Zc4pi']\n",
    "w_3 = final_data_structure[130]['Zc4of']\n",
    "stay_3 = final_data_structure[130][geohash_2]\n",
    "e_3 = final_data_structure[130]['Zc4o3']\n",
    "sw_3 = final_data_structure[130]['Zc4oe']\n",
    "s_3 = final_data_structure[130]['Zc4o0']\n",
    "se_3 = final_data_structure[130]['Zc4o2']\n"
   ]
  },
  {
   "cell_type": "code",
   "execution_count": null,
   "metadata": {
    "collapsed": true
   },
   "outputs": [],
   "source": []
  },
  {
   "cell_type": "code",
   "execution_count": null,
   "metadata": {
    "collapsed": true
   },
   "outputs": [],
   "source": []
  },
  {
   "cell_type": "code",
   "execution_count": null,
   "metadata": {
    "collapsed": true
   },
   "outputs": [],
   "source": []
  },
  {
   "cell_type": "markdown",
   "metadata": {},
   "source": [
    "# Hyperas results for MLP model"
   ]
  },
  {
   "cell_type": "markdown",
   "metadata": {},
   "source": [
    "```python\n",
    "model_mlp = Sequential()\n",
    "model_mlp.add(Dense({{choice([32, 64,126, 256, 512, 1024])}},\n",
    "                        activation='relu', input_shape= (2,)))\n",
    "model_mlp.add(Dropout({{uniform(0, .5)}}))\n",
    "model_mlp.add(Dense({{choice([32, 64, 126, 256, 512, 1024])}}))\n",
    "model_mlp.add(Activation({{choice(['relu', 'sigmoid'])}}))\n",
    "model_mlp.add(Dropout({{uniform(0, .5)}}))\n",
    "model_mlp.add(Dense({{choice([32, 64, 126, 256, 512, 1024])}}))\n",
    "model_mlp.add(Activation({{choice(['relu', 'sigmoid'])}}))\n",
    "model_mlp.add(Dropout({{uniform(0, .5)}}))\n",
    "model_mlp.add(Dense({{choice([32, 64, 126, 256, 512, 1024])}}))\n",
    "model_mlp.add(Activation({{choice(['relu', 'sigmoid'])}}))\n",
    "model_mlp.add(Dropout({{uniform(0, .5)}}))\n",
    "model_mlp.add(Dense(9))\n",
    "model_mlp.add(Activation({{choice(['softmax','linear'])}}))\n",
    "model_mlp.compile(loss={{choice(['categorical_crossentropy','mse'])}}, metrics=['accuracy'],\n",
    "                  optimizer={{choice(['rmsprop', 'adam', 'sgd'])}})```\n",
    "\n",
    "\n",
    "\n",
    "> model_mlp.fit(x_train, y_train,\n",
    "              batch_size={{choice([16, 32, 64, 128])}},\n",
    "              epochs=50,\n",
    "              verbose=2,\n",
    "              validation_data=(x_test, y_test))\n",
    "    score, acc = model_mlp.evaluate(x_test, y_test, verbose=0)\n",
    "\n",
    "\n",
    "\n"
   ]
  },
  {
   "cell_type": "markdown",
   "metadata": {},
   "source": [
    ">Best performing model chosen hyper-parameters:\n",
    "- {'Activation': 1, 'Activation_1': 0, 'Activation_2': 0, 'Activation_3': 0, 'Dense': 0, 'Dense_1': 1, 'Dense_2': 1, 'Dense_3': 5, 'Dropout': 0.056229870832780804, 'Dropout_1': 0.1603763880022983, 'Dropout_2': 0.3671073489296299, 'Dropout_3': 0.3462695171578595, 'batch_size': 0, 'loss': 1, 'optimizer': 2}\n",
    "- Interesting, use MSE with softmax"
   ]
  },
  {
   "cell_type": "markdown",
   "metadata": {
    "collapsed": true
   },
   "source": [
    "# Hyperas results for LSTM model"
   ]
  },
  {
   "cell_type": "markdown",
   "metadata": {
    "collapsed": true
   },
   "source": [
    "```python \n",
    "model_lstm = Sequential()\n",
    "model_lstm .add(LSTM({{choice([64, 126, 256, 512, 1024])}}, dropout={{uniform(0, .5)}},\n",
    "                     batch_input_shape=(1,x_train.shape[1], 2),\n",
    "                 recurrent_dropout={{uniform(0, .5)}},return_sequences = True))\n",
    "model_lstm.add(BatchNormalization())\n",
    "condition = conditional({{choice(['one','two','three', 'four'])}})\n",
    "\n",
    "if condition == 'one':\n",
    "    pass\n",
    "elif condition == 'two':\n",
    "    model_lstm .add(LSTM({{choice([64, 126, 256, 512, 1024])}}, dropout={{uniform(0, .5)}},\n",
    "                 recurrent_dropout={{uniform(0, .5)}},\n",
    "                 return_sequences = True))\n",
    "    model_lstm.add(BatchNormalization())\n",
    "elif condition  == 'three':\n",
    "    model_lstm .add(LSTM({{choice([64, 126, 256, 512, 1024])}}, dropout={{uniform(0, .5)}},\n",
    "                 recurrent_dropout={{uniform(0, .5)}},\n",
    "                 return_sequences = True))\n",
    "    model_lstm.add(BatchNormalization())\n",
    "    model_lstm.add(Dense({{choice([126, 256, 512, 1024])}}))\n",
    "    model_lstm.add(BatchNormalization())\n",
    "    model_lstm.add(Activation({{choice(['relu','tanh','sigmoid'])}}))\n",
    "elif condition == 'four':\n",
    "    model_lstm .add(LSTM({{choice([64, 126, 256, 512, 1024])}}, dropout={{uniform(0, .5)}},\n",
    "                 recurrent_dropout={{uniform(0, .5)}},\n",
    "                 return_sequences = True))\n",
    "    model_lstm.add(BatchNormalization())\n",
    "    model_lstm.add(Dense({{choice([126, 256, 512, 1024])}}))\n",
    "    model_lstm.add(BatchNormalization())\n",
    "    model_lstm.add(Activation({{choice(['relu','tanh','sigmoid'])}}))\n",
    "    model_lstm.add(Dense({{choice([126, 256, 512, 1024])}}, activation='relu'))\n",
    "    model_lstm.add(BatchNormalization())\n",
    "    model_lstm.add(Activation({{choice(['relu','tanh','sigmoid'])}}))\n",
    "\n",
    "\n",
    "model_lstm .add(Dense(9, activation='linear',name='dense_output'))\n",
    "adam = Adam(clipnorm=.5, clipvalue=.5)\n",
    "model_lstm .compile(loss='mean_squared_error', optimizer=adam,\n",
    "                    metrics=['accuracy'])\n",
    "model_lstm.summary()\n",
    "\n",
    "\n",
    "\n",
    "```"
   ]
  },
  {
   "cell_type": "markdown",
   "metadata": {},
   "source": [
    "- Results\n",
    "\n"
   ]
  },
  {
   "cell_type": "markdown",
   "metadata": {
    "collapsed": true
   },
   "source": [
    "- {'Activation': 2, 'Activation_1': 2, 'Activation_2': 0, \n",
    "- 'Dense': 2, 'Dense_1': 2, 'Dense_2': 0,\n",
    "- 'LSTM': 3, 'LSTM_1': 0, 'LSTM_2': 4, 'LSTM_3': 1, \n",
    "- 'conditional': 2, \n",
    "- 'dropout': 0.24262496679483414, 'dropout_1': 0.24083776969398046, 'dropout_2': 0.4440995372232807, 'dropout_3': 0.19378913952416787, 'dropout_4': 0.18058579914657197, 'dropout_5': 0.1820122957634046, 'dropout_6': 0.11399536937803484, 'dropout_7': 0.13709791545993666}\n",
    "- Three layers performed best\n",
    "\n"
   ]
  },
  {
   "cell_type": "markdown",
   "metadata": {},
   "source": [
    "# GPU vs CPU"
   ]
  },
  {
   "cell_type": "code",
   "execution_count": 17,
   "metadata": {
    "collapsed": true
   },
   "outputs": [],
   "source": [
    "gpu_speed_1k = 55\n",
    "cpu_speed_1k = 59\n"
   ]
  },
  {
   "cell_type": "code",
   "execution_count": 19,
   "metadata": {
    "collapsed": false
   },
   "outputs": [
    {
     "name": "stdout",
     "output_type": "stream",
     "text": [
      "We save about 67 minutes over 1 million training iterations\n"
     ]
    }
   ],
   "source": [
    "# How much time is saved over 1,000,000 training examples?\n",
    "print('We save about {} minutes over 1 million training iterations'.format(round((1000000/1000 * \\\n",
    "                                                                                     (cpu_speed_1k -gpu_speed_1k ))/60)))"
   ]
  },
  {
   "cell_type": "code",
   "execution_count": null,
   "metadata": {
    "collapsed": true
   },
   "outputs": [],
   "source": []
  },
  {
   "cell_type": "markdown",
   "metadata": {},
   "source": [
    "# DQN approach\n",
    "\n",
    "### Investigate the loss over time"
   ]
  },
  {
   "cell_type": "code",
   "execution_count": 54,
   "metadata": {
    "collapsed": true
   },
   "outputs": [],
   "source": [
    "with open(r\"mlp_model/loss_over_time_linear\", \"rb\") as input_file:\n",
    "     loss_over_time_mlp = pickle.load(input_file)\n",
    "\n"
   ]
  },
  {
   "cell_type": "code",
   "execution_count": 56,
   "metadata": {
    "collapsed": false
   },
   "outputs": [
    {
     "data": {
      "text/plain": [
       "995000"
      ]
     },
     "execution_count": 56,
     "metadata": {},
     "output_type": "execute_result"
    }
   ],
   "source": [
    "len(loss_over_time_mlp)"
   ]
  },
  {
   "cell_type": "code",
   "execution_count": 60,
   "metadata": {
    "collapsed": false
   },
   "outputs": [
    {
     "data": {
      "text/plain": [
       "<matplotlib.text.Text at 0x126bfd7f0>"
      ]
     },
     "execution_count": 60,
     "metadata": {},
     "output_type": "execute_result"
    },
    {
     "data": {
      "image/png": "[encoded data removed]",
      "text/plain": [
       "<matplotlib.figure.Figure at 0x13aafff98>"
      ]
     },
     "metadata": {},
     "output_type": "display_data"
    }
   ],
   "source": [
    "plt.figure(figsize=(12,7))\n",
    "plt.plot(loss_over_time_mlp)\n",
    "plt.title('Loss over 1 million iterations MLP')\n",
    "plt.xlabel('Training number')"
   ]
  },
  {
   "cell_type": "code",
   "execution_count": 64,
   "metadata": {
    "collapsed": false
   },
   "outputs": [
    {
     "data": {
      "text/plain": [
       "<matplotlib.text.Text at 0x162242550>"
      ]
     },
     "execution_count": 64,
     "metadata": {},
     "output_type": "execute_result"
    },
    {
     "data": {
      "image/png": "[encoded data removed]",
      "text/plain": [
       "<matplotlib.figure.Figure at 0x12834fcf8>"
      ]
     },
     "metadata": {},
     "output_type": "display_data"
    }
   ],
   "source": [
    "plt.figure(figsize=(12,7))\n",
    "plt.plot(loss_over_time_mlp[:5000])\n",
    "plt.title('Loss over 1 million iterations MLP (first 50k iterations)')\n",
    "plt.xlabel('Training number')"
   ]
  },
  {
   "cell_type": "markdown",
   "metadata": {},
   "source": [
    "## Investigate the fare earned in a naive approach vs 1 million training iterations"
   ]
  },
  {
   "cell_type": "code",
   "execution_count": 262,
   "metadata": {
    "collapsed": false
   },
   "outputs": [
    {
     "name": "stdout",
     "output_type": "stream",
     "text": [
      "The autoreload extension is already loaded. To reload it, use:\n",
      "  %reload_ext autoreload\n"
     ]
    }
   ],
   "source": [
    "%load_ext autoreload\n",
    "\n",
    "%autoreload 2"
   ]
  },
  {
   "cell_type": "code",
   "execution_count": 61,
   "metadata": {
    "collapsed": true
   },
   "outputs": [],
   "source": [
    "total_fare_received_over_time_no_train = total_fare_received_over_time\n",
    "naive_fare_over_time_no_train = naive_fare_over_time"
   ]
  },
  {
   "cell_type": "markdown",
   "metadata": {},
   "source": [
    "### No training, fares between RL and naive"
   ]
  },
  {
   "cell_type": "code",
   "execution_count": null,
   "metadata": {
    "collapsed": true
   },
   "outputs": [],
   "source": [
    "train_rl_taxi = RLNYCTaxiCab(list_of_unique_geohashes,list_of_time_index,list_of_geohash_index,\n",
    "                            list_of_inverse_heohash_index, final_data_structure, return_metrics=True)\n",
    "arg = {'mode':'Test','save_model':False,'model_weights_load':'model_mlp.h5',\n",
    "               'save_model_weights':'mlp_linear.h5'}# for the million parameter weights\n",
    "loss_list, total_fare_received_over_time_no_train,list_of_geohashes_visited, \\\n",
    "naive_fare_over_time_no_train, days_driven, naive_geohashes =\\\n",
    "    train_rl_taxi.trainNetworkNeuralNetworkTaxicab(arg, training_length=3000, return_training_data = False)"
   ]
  },
  {
   "cell_type": "code",
   "execution_count": 62,
   "metadata": {
    "collapsed": false
   },
   "outputs": [
    {
     "data": {
      "text/plain": [
       "<matplotlib.text.Text at 0x12759b278>"
      ]
     },
     "execution_count": 62,
     "metadata": {},
     "output_type": "execute_result"
    },
    {
     "data": {
      "image/png": "[encoded data removed]",
      "text/plain": [
       "<matplotlib.figure.Figure at 0x127577080>"
      ]
     },
     "metadata": {},
     "output_type": "display_data"
    }
   ],
   "source": [
    "plt.figure(figsize=(12,7))\n",
    "plt.plot(total_fare_received_over_time_no_train, label = 'RL taxi driver')\n",
    "plt.plot(naive_fare_over_time_no_train, color='green',label='Naive Taxi Driver')\n",
    "plt.legend()\n",
    "plt.title('No training- 3k test runs. Naive vs RL')\n",
    "plt.ylabel('Total fare received')\n",
    "plt.xlabel('Training Steps')"
   ]
  },
  {
   "cell_type": "markdown",
   "metadata": {},
   "source": [
    "## One million training iterations, fares between RL and Naive"
   ]
  },
  {
   "cell_type": "code",
   "execution_count": 250,
   "metadata": {
    "collapsed": false
   },
   "outputs": [
    {
     "name": "stdout",
     "output_type": "stream",
     "text": [
      "Now we load weight\n",
      "Weight load successfully\n",
      "TIMESTEP 0 / STATE observe / EPSILON 0.0001 / ACTION 3 / REWARD -0.1 / Q_MAX  0 / Loss  0 / Total fare RL  0 / Total fare naive 0\n",
      "500 steps took 4.892161130905151\n",
      "We finished a day!\n",
      "We finished a day!\n",
      "We finished a day!\n",
      "We finished a day!\n",
      "We finished a day!\n",
      "We finished a day!\n",
      "TIMESTEP 500 / STATE observe / EPSILON 0.0001 / ACTION 3 / REWARD 1.29481481469 / Q_MAX  0 / Loss  0 / Total fare RL  0 / Total fare naive 0\n",
      "500 steps took 2.8019661903381348\n",
      "We finished a day!\n",
      "We finished a day!\n",
      "We finished a day!\n"
     ]
    },
    {
     "ename": "KeyboardInterrupt",
     "evalue": "",
     "output_type": "error",
     "traceback": [
      "\u001b[0;31m---------------------------------------------------------------------------\u001b[0m",
      "\u001b[0;31mKeyboardInterrupt\u001b[0m                         Traceback (most recent call last)",
      "\u001b[0;32m<ipython-input-250-074f835e9919>\u001b[0m in \u001b[0;36m<module>\u001b[0;34m()\u001b[0m\n\u001b[1;32m      6\u001b[0m       'save_model_weights':'mlp_linear_1million.h5'} # for the million parameter weights\n\u001b[1;32m      7\u001b[0m \u001b[0;34m\u001b[0m\u001b[0m\n\u001b[0;32m----> 8\u001b[0;31m \u001b[0mloss_list\u001b[0m\u001b[0;34m,\u001b[0m \u001b[0mtotal_fare_received_over_time_onemillion_training\u001b[0m\u001b[0;34m,\u001b[0m\u001b[0mlist_of_geohashes_visited\u001b[0m\u001b[0;34m,\u001b[0m \u001b[0mnaive_fare_over_time_onemillion_training\u001b[0m\u001b[0;34m,\u001b[0m \u001b[0mdays_driven\u001b[0m\u001b[0;34m,\u001b[0m \u001b[0mnaive_geohashes\u001b[0m \u001b[0;34m=\u001b[0m    \u001b[0mtrain_rl_taxi\u001b[0m\u001b[0;34m.\u001b[0m\u001b[0mtrainNetworkNeuralNetworkTaxicab\u001b[0m\u001b[0;34m(\u001b[0m\u001b[0marg\u001b[0m\u001b[0;34m,\u001b[0m \u001b[0mtraining_length\u001b[0m\u001b[0;34m=\u001b[0m\u001b[0;36m1000\u001b[0m\u001b[0;34m,\u001b[0m \u001b[0mreturn_training_data\u001b[0m \u001b[0;34m=\u001b[0m \u001b[0;32mFalse\u001b[0m\u001b[0;34m)\u001b[0m\u001b[0;34m\u001b[0m\u001b[0m\n\u001b[0m",
      "\u001b[0;32m/Users/jonathanhilgart/galvanize-projects/deep_learning/src/models/model_mlp.py\u001b[0m in \u001b[0;36mtrainNetworkNeuralNetworkTaxicab\u001b[0;34m(self, args, training_length, return_training_data, save_model)\u001b[0m\n\u001b[1;32m    335\u001b[0m \u001b[0;34m\u001b[0m\u001b[0m\n\u001b[1;32m    336\u001b[0m                     \u001b[0mtargets\u001b[0m\u001b[0;34m[\u001b[0m\u001b[0mi\u001b[0m\u001b[0;34m]\u001b[0m \u001b[0;34m=\u001b[0m \u001b[0mself\u001b[0m\u001b[0;34m.\u001b[0m\u001b[0mmodel_mlp\u001b[0m\u001b[0;34m.\u001b[0m\u001b[0mpredict\u001b[0m\u001b[0;34m(\u001b[0m\u001b[0mstate_t\u001b[0m\u001b[0;34m)\u001b[0m  \u001b[0;31m# update entire row\u001b[0m\u001b[0;34m\u001b[0m\u001b[0m\n\u001b[0;32m--> 337\u001b[0;31m                     \u001b[0mQ_sa\u001b[0m \u001b[0;34m=\u001b[0m \u001b[0mself\u001b[0m\u001b[0;34m.\u001b[0m\u001b[0mmodel_mlp\u001b[0m\u001b[0;34m.\u001b[0m\u001b[0mpredict\u001b[0m\u001b[0;34m(\u001b[0m\u001b[0mstate_t1\u001b[0m\u001b[0;34m)\u001b[0m\u001b[0;34m\u001b[0m\u001b[0m\n\u001b[0m\u001b[1;32m    338\u001b[0m                     \u001b[0;31m#print(Q_sa, ' Q function for a given state')\u001b[0m\u001b[0;34m\u001b[0m\u001b[0;34m\u001b[0m\u001b[0m\n\u001b[1;32m    339\u001b[0m                     \u001b[0;32mif\u001b[0m \u001b[0mterminal\u001b[0m\u001b[0;34m==\u001b[0m\u001b[0;36m1\u001b[0m\u001b[0;34m:\u001b[0m \u001b[0;31m## The day ended, pick a new starting geohash and time\u001b[0m\u001b[0;34m\u001b[0m\u001b[0m\n",
      "\u001b[0;32m/Users/jonathanhilgart/anaconda/envs/dl/lib/python3.6/site-packages/keras/models.py\u001b[0m in \u001b[0;36mpredict\u001b[0;34m(self, x, batch_size, verbose)\u001b[0m\n\u001b[1;32m    889\u001b[0m         \u001b[0;32mif\u001b[0m \u001b[0mself\u001b[0m\u001b[0;34m.\u001b[0m\u001b[0mmodel\u001b[0m \u001b[0;32mis\u001b[0m \u001b[0;32mNone\u001b[0m\u001b[0;34m:\u001b[0m\u001b[0;34m\u001b[0m\u001b[0m\n\u001b[1;32m    890\u001b[0m             \u001b[0mself\u001b[0m\u001b[0;34m.\u001b[0m\u001b[0mbuild\u001b[0m\u001b[0;34m(\u001b[0m\u001b[0;34m)\u001b[0m\u001b[0;34m\u001b[0m\u001b[0m\n\u001b[0;32m--> 891\u001b[0;31m         \u001b[0;32mreturn\u001b[0m \u001b[0mself\u001b[0m\u001b[0;34m.\u001b[0m\u001b[0mmodel\u001b[0m\u001b[0;34m.\u001b[0m\u001b[0mpredict\u001b[0m\u001b[0;34m(\u001b[0m\u001b[0mx\u001b[0m\u001b[0;34m,\u001b[0m \u001b[0mbatch_size\u001b[0m\u001b[0;34m=\u001b[0m\u001b[0mbatch_size\u001b[0m\u001b[0;34m,\u001b[0m \u001b[0mverbose\u001b[0m\u001b[0;34m=\u001b[0m\u001b[0mverbose\u001b[0m\u001b[0;34m)\u001b[0m\u001b[0;34m\u001b[0m\u001b[0m\n\u001b[0m\u001b[1;32m    892\u001b[0m \u001b[0;34m\u001b[0m\u001b[0m\n\u001b[1;32m    893\u001b[0m     \u001b[0;32mdef\u001b[0m \u001b[0mpredict_on_batch\u001b[0m\u001b[0;34m(\u001b[0m\u001b[0mself\u001b[0m\u001b[0;34m,\u001b[0m \u001b[0mx\u001b[0m\u001b[0;34m)\u001b[0m\u001b[0;34m:\u001b[0m\u001b[0;34m\u001b[0m\u001b[0m\n",
      "\u001b[0;32m/Users/jonathanhilgart/anaconda/envs/dl/lib/python3.6/site-packages/keras/engine/training.py\u001b[0m in \u001b[0;36mpredict\u001b[0;34m(self, x, batch_size, verbose)\u001b[0m\n\u001b[1;32m   1570\u001b[0m         \u001b[0mf\u001b[0m \u001b[0;34m=\u001b[0m \u001b[0mself\u001b[0m\u001b[0;34m.\u001b[0m\u001b[0mpredict_function\u001b[0m\u001b[0;34m\u001b[0m\u001b[0m\n\u001b[1;32m   1571\u001b[0m         return self._predict_loop(f, ins,\n\u001b[0;32m-> 1572\u001b[0;31m                                   batch_size=batch_size, verbose=verbose)\n\u001b[0m\u001b[1;32m   1573\u001b[0m \u001b[0;34m\u001b[0m\u001b[0m\n\u001b[1;32m   1574\u001b[0m     def train_on_batch(self, x, y,\n",
      "\u001b[0;32m/Users/jonathanhilgart/anaconda/envs/dl/lib/python3.6/site-packages/keras/engine/training.py\u001b[0m in \u001b[0;36m_predict_loop\u001b[0;34m(self, f, ins, batch_size, verbose)\u001b[0m\n\u001b[1;32m   1200\u001b[0m                 \u001b[0mins_batch\u001b[0m \u001b[0;34m=\u001b[0m \u001b[0m_slice_arrays\u001b[0m\u001b[0;34m(\u001b[0m\u001b[0mins\u001b[0m\u001b[0;34m,\u001b[0m \u001b[0mbatch_ids\u001b[0m\u001b[0;34m)\u001b[0m\u001b[0;34m\u001b[0m\u001b[0m\n\u001b[1;32m   1201\u001b[0m \u001b[0;34m\u001b[0m\u001b[0m\n\u001b[0;32m-> 1202\u001b[0;31m             \u001b[0mbatch_outs\u001b[0m \u001b[0;34m=\u001b[0m \u001b[0mf\u001b[0m\u001b[0;34m(\u001b[0m\u001b[0mins_batch\u001b[0m\u001b[0;34m)\u001b[0m\u001b[0;34m\u001b[0m\u001b[0m\n\u001b[0m\u001b[1;32m   1203\u001b[0m             \u001b[0;32mif\u001b[0m \u001b[0;32mnot\u001b[0m \u001b[0misinstance\u001b[0m\u001b[0;34m(\u001b[0m\u001b[0mbatch_outs\u001b[0m\u001b[0;34m,\u001b[0m \u001b[0mlist\u001b[0m\u001b[0;34m)\u001b[0m\u001b[0;34m:\u001b[0m\u001b[0;34m\u001b[0m\u001b[0m\n\u001b[1;32m   1204\u001b[0m                 \u001b[0mbatch_outs\u001b[0m \u001b[0;34m=\u001b[0m \u001b[0;34m[\u001b[0m\u001b[0mbatch_outs\u001b[0m\u001b[0;34m]\u001b[0m\u001b[0;34m\u001b[0m\u001b[0m\n",
      "\u001b[0;32m/Users/jonathanhilgart/anaconda/envs/dl/lib/python3.6/site-packages/keras/backend/tensorflow_backend.py\u001b[0m in \u001b[0;36m__call__\u001b[0;34m(self, inputs)\u001b[0m\n\u001b[1;32m   2069\u001b[0m                 \u001b[0mvalue\u001b[0m \u001b[0;34m=\u001b[0m \u001b[0;34m(\u001b[0m\u001b[0mindices\u001b[0m\u001b[0;34m,\u001b[0m \u001b[0msparse_coo\u001b[0m\u001b[0;34m.\u001b[0m\u001b[0mdata\u001b[0m\u001b[0;34m,\u001b[0m \u001b[0msparse_coo\u001b[0m\u001b[0;34m.\u001b[0m\u001b[0mshape\u001b[0m\u001b[0;34m)\u001b[0m\u001b[0;34m\u001b[0m\u001b[0m\n\u001b[1;32m   2070\u001b[0m             \u001b[0mfeed_dict\u001b[0m\u001b[0;34m[\u001b[0m\u001b[0mtensor\u001b[0m\u001b[0;34m]\u001b[0m \u001b[0;34m=\u001b[0m \u001b[0mvalue\u001b[0m\u001b[0;34m\u001b[0m\u001b[0m\n\u001b[0;32m-> 2071\u001b[0;31m         \u001b[0msession\u001b[0m \u001b[0;34m=\u001b[0m \u001b[0mget_session\u001b[0m\u001b[0;34m(\u001b[0m\u001b[0;34m)\u001b[0m\u001b[0;34m\u001b[0m\u001b[0m\n\u001b[0m\u001b[1;32m   2072\u001b[0m         updated = session.run(self.outputs + [self.updates_op],\n\u001b[1;32m   2073\u001b[0m                               feed_dict=feed_dict)\n",
      "\u001b[0;32m/Users/jonathanhilgart/anaconda/envs/dl/lib/python3.6/site-packages/keras/backend/tensorflow_backend.py\u001b[0m in \u001b[0;36mget_session\u001b[0;34m()\u001b[0m\n\u001b[1;32m    151\u001b[0m         \u001b[0msession\u001b[0m \u001b[0;34m=\u001b[0m \u001b[0m_SESSION\u001b[0m\u001b[0;34m\u001b[0m\u001b[0m\n\u001b[1;32m    152\u001b[0m     \u001b[0;32mif\u001b[0m \u001b[0;32mnot\u001b[0m \u001b[0m_MANUAL_VAR_INIT\u001b[0m\u001b[0;34m:\u001b[0m\u001b[0;34m\u001b[0m\u001b[0m\n\u001b[0;32m--> 153\u001b[0;31m         \u001b[0m_initialize_variables\u001b[0m\u001b[0;34m(\u001b[0m\u001b[0;34m)\u001b[0m\u001b[0;34m\u001b[0m\u001b[0m\n\u001b[0m\u001b[1;32m    154\u001b[0m     \u001b[0;32mreturn\u001b[0m \u001b[0msession\u001b[0m\u001b[0;34m\u001b[0m\u001b[0m\n\u001b[1;32m    155\u001b[0m \u001b[0;34m\u001b[0m\u001b[0m\n",
      "\u001b[0;32m/Users/jonathanhilgart/anaconda/envs/dl/lib/python3.6/site-packages/keras/backend/tensorflow_backend.py\u001b[0m in \u001b[0;36m_initialize_variables\u001b[0;34m()\u001b[0m\n\u001b[1;32m    299\u001b[0m     \u001b[0muninitialized_variables\u001b[0m \u001b[0;34m=\u001b[0m \u001b[0;34m[\u001b[0m\u001b[0;34m]\u001b[0m\u001b[0;34m\u001b[0m\u001b[0m\n\u001b[1;32m    300\u001b[0m     \u001b[0;32mfor\u001b[0m \u001b[0mv\u001b[0m \u001b[0;32min\u001b[0m \u001b[0mvariables\u001b[0m\u001b[0;34m:\u001b[0m\u001b[0;34m\u001b[0m\u001b[0m\n\u001b[0;32m--> 301\u001b[0;31m         \u001b[0;32mif\u001b[0m \u001b[0;32mnot\u001b[0m \u001b[0mhasattr\u001b[0m\u001b[0;34m(\u001b[0m\u001b[0mv\u001b[0m\u001b[0;34m,\u001b[0m \u001b[0;34m'_keras_initialized'\u001b[0m\u001b[0;34m)\u001b[0m \u001b[0;32mor\u001b[0m \u001b[0;32mnot\u001b[0m \u001b[0mv\u001b[0m\u001b[0;34m.\u001b[0m\u001b[0m_keras_initialized\u001b[0m\u001b[0;34m:\u001b[0m\u001b[0;34m\u001b[0m\u001b[0m\n\u001b[0m\u001b[1;32m    302\u001b[0m             \u001b[0muninitialized_variables\u001b[0m\u001b[0;34m.\u001b[0m\u001b[0mappend\u001b[0m\u001b[0;34m(\u001b[0m\u001b[0mv\u001b[0m\u001b[0;34m)\u001b[0m\u001b[0;34m\u001b[0m\u001b[0m\n\u001b[1;32m    303\u001b[0m             \u001b[0mv\u001b[0m\u001b[0;34m.\u001b[0m\u001b[0m_keras_initialized\u001b[0m \u001b[0;34m=\u001b[0m \u001b[0;32mTrue\u001b[0m\u001b[0;34m\u001b[0m\u001b[0m\n",
      "\u001b[0;31mKeyboardInterrupt\u001b[0m: "
     ]
    }
   ],
   "source": [
    "\n",
    "    \n",
    "train_rl_taxi = RLNYCTaxiCab(list_of_unique_geohashes,list_of_time_index,list_of_geohash_index,\n",
    "                            list_of_inverse_heohash_index, final_data_structure, return_metrics=True)\n",
    "arg = {'mode':'Run','model_weights_load':'mlp_model/model_mlp_linear_onemillion.h5',\n",
    "      'save_model_weights':'mlp_linear_1million.h5'} # for the million parameter weights\n",
    "\n",
    "loss_list, total_fare_received_over_time_onemillion_training,list_of_geohashes_visited, \\\n",
    "naive_fare_over_time_onemillion_training, days_driven, naive_geohashes =\\\n",
    "    train_rl_taxi.trainNetworkNeuralNetworkTaxicab(arg, training_length=3000, return_training_data = False)"
   ]
  },
  {
   "cell_type": "code",
   "execution_count": 89,
   "metadata": {
    "collapsed": false
   },
   "outputs": [
    {
     "data": {
      "text/plain": [
       "<matplotlib.text.Text at 0x12e9d6c50>"
      ]
     },
     "execution_count": 89,
     "metadata": {},
     "output_type": "execute_result"
    },
    {
     "data": {
      "image/png": "[encoded data removed]",
      "text/plain": [
       "<matplotlib.figure.Figure at 0x12ced3f28>"
      ]
     },
     "metadata": {},
     "output_type": "display_data"
    }
   ],
   "source": [
    "plt.figure(figsize=(12,7))\n",
    "plt.plot(total_fare_received_over_time_onemillion_training, label = 'RL taxi driver')\n",
    "plt.plot(naive_fare_over_time_onemillion_training, color='green',label='Naive Taxi Driver')\n",
    "plt.legend()\n",
    "plt.title('After training 1 million times- 3k test runs. Naive vs RL')\n",
    "plt.ylabel('Total fare received')\n",
    "plt.xlabel('Training Steps')"
   ]
  },
  {
   "cell_type": "markdown",
   "metadata": {},
   "source": [
    "### 1.5 million training iterations, fares between rl and naive, DQN MLP"
   ]
  },
  {
   "cell_type": "code",
   "execution_count": 35,
   "metadata": {
    "collapsed": false
   },
   "outputs": [
    {
     "name": "stdout",
     "output_type": "stream",
     "text": [
      "Now we load weight\n",
      "Weight load successfully\n",
      "TIMESTEP 0 / STATE observe / EPSILON 0.0001 / ACTION 8 / REWARD -0.1 / Q_MAX  0 / Loss  0 / Total fare RL  0 / Total fare naive 0\n",
      "500 steps took 0.442213773727417\n",
      "We finished a day!\n",
      "We finished a day!\n",
      "We finished a day!\n",
      "We finished a day!\n",
      "We finished a day!\n",
      "TIMESTEP 500 / STATE explore / EPSILON 0.0001 / ACTION 6 / REWARD 0.977999999951 / Q_MAX  30.6298 / Loss  0.0234769843519 / Total fare RL  2263.40475892 / Total fare naive 3212.80827072\n",
      "500 steps took 80.66987490653992\n",
      "We finished a day!\n",
      "We finished a day!\n",
      "We finished a day!\n",
      "We finished a day!\n",
      "We finished a day!\n",
      "TIMESTEP 1000 / STATE explore / EPSILON 0.0001 / ACTION 8 / REWARD 1.11499999994 / Q_MAX  33.7408 / Loss  3.82280755043 / Total fare RL  5462.41590721 / Total fare naive 5684.45654461\n",
      "500 steps took 91.17907524108887\n",
      "We finished a day!\n",
      "We finished a day!\n",
      "We finished a day!\n",
      "We finished a day!\n",
      "We finished a day!\n",
      "We finished a day!\n",
      "TIMESTEP 1500 / STATE explore / EPSILON 0.0001 / ACTION 2 / REWARD -0.1 / Q_MAX  30.6501 / Loss  0.0236617643386 / Total fare RL  8332.30014723 / Total fare naive 9796.58877811\n",
      "500 steps took 83.82018303871155\n",
      "We finished a day!\n",
      "We finished a day!\n",
      "We finished a day!\n",
      "We finished a day!\n",
      "TIMESTEP 2000 / STATE explore / EPSILON 0.0001 / ACTION 3 / REWARD -0.1 / Q_MAX  29.804 / Loss  0.557558298111 / Total fare RL  11551.0166561 / Total fare naive 12614.6227807\n",
      "500 steps took 84.1482789516449\n",
      "We finished a day!\n",
      "We finished a day!\n",
      "We finished a day!\n",
      "We finished a day!\n",
      "We finished a day!\n",
      "TIMESTEP 2500 / STATE explore / EPSILON 0.0001 / ACTION 6 / REWARD -0.1 / Q_MAX  29.7263 / Loss  0.057688690722 / Total fare RL  14544.7383879 / Total fare naive 16700.4300512\n",
      "500 steps took 101.24469780921936\n",
      "We finished a day!\n",
      "We finished a day!\n",
      "We finished a day!\n",
      "TIMESTEP 3000 / STATE explore / EPSILON 0.0001 / ACTION 6 / REWARD -0.1 / Q_MAX  29.8285 / Loss  2.93661212921 / Total fare RL  18823.7288208 / Total fare naive 19769.6609832\n",
      "500 steps took 97.54404401779175\n"
     ]
    }
   ],
   "source": [
    "train_rl_taxi = RLNYCTaxiCab(list_of_unique_geohashes,list_of_time_index,list_of_geohash_index,\n",
    "                            list_of_inverse_heohash_index, final_data_structure, return_metrics=True)\n",
    "arg = {'mode':'Run','model_weights_load':'mlp_model/model_mlp_linear_1.5million.h5',\n",
    "      'save_model_weights':'mlp_linear_1.5million.h5'} # for the million parameter weights\n",
    "\n",
    "\n",
    "loss_list_1_5million, total_fare_received_over_time_1_5million_training,list_of_geohashes_visited_1_5million, \\\n",
    "naive_fare_over_time_1_5million_training, days_driven1_5million, naive_geohashes_1_5million =\\\n",
    "    train_rl_taxi.trainNetworkNeuralNetworkTaxicab(arg, training_length=3000, return_training_data = False)"
   ]
  },
  {
   "cell_type": "code",
   "execution_count": 36,
   "metadata": {
    "collapsed": false
   },
   "outputs": [
    {
     "data": {
      "text/plain": [
       "<matplotlib.text.Text at 0x12fe95940>"
      ]
     },
     "execution_count": 36,
     "metadata": {},
     "output_type": "execute_result"
    },
    {
     "data": {
      "image/png": "[encoded data removed]",
      "text/plain": [
       "<matplotlib.figure.Figure at 0x124e1cba8>"
      ]
     },
     "metadata": {},
     "output_type": "display_data"
    }
   ],
   "source": [
    "plt.figure(figsize=(12,7))\n",
    "plt.plot(total_fare_received_over_time_1_5million_training, label = 'RL taxi driver')\n",
    "plt.plot(naive_fare_over_time_1_5million_training, color='green',label='Naive Taxi Driver')\n",
    "plt.legend()\n",
    "plt.title('After training 1.5 million times- 3k test runs. Naive vs RL')\n",
    "plt.ylabel('Total fare received')\n",
    "plt.xlabel('Training Steps')"
   ]
  },
  {
   "cell_type": "markdown",
   "metadata": {},
   "source": [
    "# Two million training examples - MLP DQN"
   ]
  },
  {
   "cell_type": "code",
   "execution_count": 263,
   "metadata": {
    "collapsed": false
   },
   "outputs": [
    {
     "name": "stdout",
     "output_type": "stream",
     "text": [
      "Now we load weight\n",
      "Weight load successfully\n",
      "Now we save model\n",
      "TIMESTEP 0 / STATE observe / EPSILON 0.0001 / ACTION 7 / REWARD -0.1 / Q_MAX  0 / Loss  0 / Total fare RL  0 / Total fare naive 0\n",
      "500 steps took 37.30184078216553\n",
      "We finished a day!\n",
      "We finished a day!\n",
      "We finished a day!\n",
      "We finished a day!\n",
      "We finished a day!\n",
      "We finished a day!\n",
      "TIMESTEP 500 / STATE observe / EPSILON 0.0001 / ACTION 7 / REWARD -0.1 / Q_MAX  0 / Loss  0 / Total fare RL  0 / Total fare naive 0\n",
      "500 steps took 8.266385316848755\n",
      "We finished a day!\n",
      "We finished a day!\n",
      "We finished a day!\n",
      "We finished a day!\n",
      "We finished a day!\n",
      "Now we save model\n",
      "TIMESTEP 1000 / STATE explore / EPSILON 0.0001 / ACTION 0 / REWARD -0.1 / Q_MAX  31.9134 / Loss  0.0412013083696 / Total fare RL  3065.8938011 / Total fare naive 3337.90947413\n",
      "500 steps took 342.94936180114746\n",
      "We finished a day!\n",
      "We finished a day!\n",
      "We finished a day!\n",
      "TIMESTEP 1500 / STATE explore / EPSILON 0.0001 / ACTION 3 / REWARD 0.655857142824 / Q_MAX  33.4584 / Loss  0.188446998596 / Total fare RL  5684.89501115 / Total fare naive 6725.98292493\n",
      "500 steps took 176.09449195861816\n",
      "We finished a day!\n",
      "We finished a day!\n",
      "We finished a day!\n",
      "We finished a day!\n",
      "Now we save model\n",
      "TIMESTEP 2000 / STATE explore / EPSILON 0.0001 / ACTION 7 / REWARD -0.1 / Q_MAX  32.5548 / Loss  0.0292518455535 / Total fare RL  8477.27320953 / Total fare naive 10107.0999738\n",
      "500 steps took 263.99208211898804\n",
      "We finished a day!\n",
      "We finished a day!\n",
      "We finished a day!\n",
      "We finished a day!\n",
      "We finished a day!\n",
      "We finished a day!\n",
      "We finished a day!\n",
      "We finished a day!\n",
      "We finished a day!\n",
      "We finished a day!\n",
      "TIMESTEP 2500 / STATE explore / EPSILON 0.0001 / ACTION 3 / REWARD -0.1 / Q_MAX  31.9625 / Loss  0.035857193172 / Total fare RL  12060.1514434 / Total fare naive 13430.7161992\n",
      "500 steps took 258.43881702423096\n",
      "We finished a day!\n",
      "We finished a day!\n",
      "We finished a day!\n",
      "We finished a day!\n",
      "Now we save model\n",
      "TIMESTEP 3000 / STATE explore / EPSILON 0.0001 / ACTION 3 / REWARD 0.752532258027 / Q_MAX  32.8598 / Loss  0.0533718205988 / Total fare RL  14221.55428 / Total fare naive 16006.0271886\n",
      "500 steps took 148.28877091407776\n",
      "Now we save model\n"
     ]
    }
   ],
   "source": [
    "train_rl_taxi = RLNYCTaxiCab(list_of_unique_geohashes,list_of_time_index,list_of_geohash_index,\n",
    "                            list_of_inverse_heohash_index, final_data_structure, return_metrics=True)\n",
    "arg = {'mode':'Run','model_weights_load':'mlp_model/model_mlp_linear_2million.h5',\n",
    "      'save_model_weights':'mlp_linear_2million.h5'} # for the million parameter weights\n",
    "\n",
    "\n",
    "loss_list_2million, total_fare_received_over_time_2million_training,list_of_geohashes_visited_2million, \\\n",
    "naive_fare_over_time_2million_training, days_driven2million, naive_geohashes_2million =\\\n",
    "    train_rl_taxi.trainNetworkNeuralNetworkTaxicab(arg, training_length=3000, return_training_data = False, \n",
    "                                                   save_model = False)"
   ]
  },
  {
   "cell_type": "code",
   "execution_count": 264,
   "metadata": {
    "collapsed": false
   },
   "outputs": [
    {
     "data": {
      "text/plain": [
       "<matplotlib.text.Text at 0x173592710>"
      ]
     },
     "execution_count": 264,
     "metadata": {},
     "output_type": "execute_result"
    },
    {
     "data": {
      "image/png": "[encoded data removed]",
      "text/plain": [
       "<matplotlib.figure.Figure at 0x1735ba0f0>"
      ]
     },
     "metadata": {},
     "output_type": "display_data"
    }
   ],
   "source": [
    "plt.figure(figsize=(12,7))\n",
    "plt.plot(total_fare_received_over_time_2million_training, label = 'RL taxi driver')\n",
    "plt.plot(naive_fare_over_time_2million_training, color='green',label='Naive Taxi Driver')\n",
    "plt.legend()\n",
    "plt.title('After training 2 million times- 3k test runs. Naive vs RL')\n",
    "plt.ylabel('Total fare received')\n",
    "plt.xlabel('Training Steps')"
   ]
  },
  {
   "cell_type": "code",
   "execution_count": 193,
   "metadata": {
    "collapsed": false
   },
   "outputs": [
    {
     "name": "stdout",
     "output_type": "stream",
     "text": [
      "With two million training examples, we can expect to make this much more 3.433888% per day.\n"
     ]
    }
   ],
   "source": [
    "print(\"With two million training examples, we can expect to make this much more {:%} per day.\".format(\n",
    "    (10369.2298465-10024.9831939)/10024.9831939))\n"
   ]
  },
  {
   "cell_type": "code",
   "execution_count": null,
   "metadata": {
    "collapsed": true
   },
   "outputs": [],
   "source": []
  },
  {
   "cell_type": "code",
   "execution_count": null,
   "metadata": {
    "collapsed": true
   },
   "outputs": [],
   "source": []
  },
  {
   "cell_type": "markdown",
   "metadata": {},
   "source": [
    "# Total fare received over one million training examples"
   ]
  },
  {
   "cell_type": "code",
   "execution_count": 72,
   "metadata": {
    "collapsed": true
   },
   "outputs": [],
   "source": [
    "with open(r\"mlp_model/rl_total_fare_time_linear\", \"rb\") as input_file:\n",
    "     rl_total_fare_time_linear = pickle.load(input_file)"
   ]
  },
  {
   "cell_type": "code",
   "execution_count": 73,
   "metadata": {
    "collapsed": true
   },
   "outputs": [],
   "source": [
    "with open(r\"mlp_model/naive_fare_time_linear\", \"rb\") as input_file:\n",
    "     naive_fare_time_linear = pickle.load(input_file)"
   ]
  },
  {
   "cell_type": "code",
   "execution_count": 76,
   "metadata": {
    "collapsed": false
   },
   "outputs": [
    {
     "data": {
      "text/plain": [
       "<matplotlib.text.Text at 0x12e511198>"
      ]
     },
     "execution_count": 76,
     "metadata": {},
     "output_type": "execute_result"
    },
    {
     "data": {
      "image/png": "[encoded data removed]",
      "text/plain": [
       "<matplotlib.figure.Figure at 0x1233db358>"
      ]
     },
     "metadata": {},
     "output_type": "display_data"
    }
   ],
   "source": [
    "plt.figure(figsize=(12,7))\n",
    "plt.plot(rl_total_fare_time_linear , label = 'RL taxi driver during 1 million training examples')\n",
    "plt.plot(naive_fare_time_linear, color='green',label='Naive Taxi Driver during 1 million training examples')\n",
    "plt.legend()\n",
    "plt.title('Fare received over one million training examples')"
   ]
  },
  {
   "cell_type": "code",
   "execution_count": null,
   "metadata": {
    "collapsed": true
   },
   "outputs": [],
   "source": []
  },
  {
   "cell_type": "code",
   "execution_count": null,
   "metadata": {
    "collapsed": true
   },
   "outputs": [],
   "source": []
  },
  {
   "cell_type": "code",
   "execution_count": 68,
   "metadata": {
    "collapsed": false
   },
   "outputs": [],
   "source": [
    "%load_ext autoreload\n",
    "%autoreload 2\n"
   ]
  },
  {
   "cell_type": "code",
   "execution_count": 69,
   "metadata": {
    "collapsed": false
   },
   "outputs": [],
   "source": []
  },
  {
   "cell_type": "markdown",
   "metadata": {},
   "source": [
    "# Visualize the path taken - Two million training examples, 3k test"
   ]
  },
  {
   "cell_type": "code",
   "execution_count": 244,
   "metadata": {
    "collapsed": false
   },
   "outputs": [
    {
     "name": "stdout",
     "output_type": "stream",
     "text": [
      "RL path taken\n",
      "rl , rl , 40.696105, -73.954467 , 2\n",
      "rl , rl , 40.690612, -73.954467 , 4\n",
      "rl , rl , 40.685119, -73.954467 , 2\n",
      "rl , rl , 40.679626, -73.954467 , 2\n",
      "rl , rl , 40.674133, -73.954467 , 3\n",
      "rl , rl , 40.66864, -73.954467 , 3\n",
      "rl , rl , 40.663146, -73.954467 , 2\n",
      "rl , rl , 40.657653, -73.954467 , 1\n",
      "rl , rl , 40.65216, -73.954467 , 1\n",
      "rl , rl , 40.646667, -73.954467 , 1\n",
      "rl , rl , 40.641174, -73.954467 , 1\n",
      "rl , rl , 40.635681, -73.954467 , 2\n",
      "rl , rl , 40.630187, -73.954467 , 1\n",
      "rl , rl , 40.624694, -73.954467 , 1\n",
      "rl , rl , 40.619201, -73.954467 , 1\n",
      "rl , rl , 40.613708, -73.954467 , 1\n",
      "rl , rl , 40.608215, -73.954467 , 1\n",
      "rl , rl , 40.602722, -73.954467 , 1\n",
      "rl , rl , 40.597229, -73.954467 , 1\n",
      "rl , rl , 40.591735, -73.954467 , 1\n",
      "rl , rl , 40.586242, -73.954467 , 1\n",
      "rl , rl , 40.580749, -73.954467 , 1\n",
      "rl , rl , 40.575256, -73.954467 , 1\n",
      "rl , rl , 40.569763, -73.954467 , 1\n",
      "rl , rl , 40.729064, -73.987426 , 58\n",
      "rl , rl , 40.723571, -73.987426 , 55\n",
      "rl , rl , 40.718078, -73.987426 , 52\n",
      "rl , rl , 40.712585, -73.987426 , 48\n",
      "rl , rl , 40.707092, -73.987426 , 48\n",
      "rl , rl , 40.701599, -73.987426 , 47\n",
      "rl , rl , 40.696105, -73.987426 , 47\n",
      "rl , rl , 40.690612, -73.987426 , 49\n",
      "rl , rl , 40.685119, -73.987426 , 45\n",
      "rl , rl , 40.679626, -73.987426 , 42\n",
      "rl , rl , 40.674133, -73.987426 , 43\n",
      "rl , rl , 40.66864, -73.987426 , 40\n",
      "rl , rl , 40.663146, -73.987426 , 38\n",
      "rl , rl , 40.657653, -73.987426 , 37\n",
      "rl , rl , 40.65216, -73.987426 , 36\n",
      "rl , rl , 40.789489, -74.075317 , 1\n",
      "rl , rl , 40.783996, -74.075317 , 1\n",
      "rl , rl , 40.778503, -74.075317 , 5\n",
      "rl , rl , 40.77301, -74.075317 , 1\n",
      "rl , rl , 40.624694, -73.778686 , 1\n",
      "rl , rl , 40.624694, -73.998413 , 1\n",
      "rl , rl , 40.619201, -73.998413 , 2\n",
      "rl , rl , 40.613708, -73.998413 , 1\n",
      "rl , rl , 40.608215, -73.998413 , 1\n",
      "rl , rl , 40.602722, -73.998413 , 1\n",
      "rl , rl , 40.597229, -73.998413 , 1\n",
      "rl , rl , 40.591735, -73.998413 , 1\n",
      "rl , rl , 40.586242, -73.998413 , 1\n",
      "rl , rl , 40.805969, -73.85559 , 1\n",
      "rl , rl , 40.800476, -73.85559 , 1\n",
      "rl , rl , 40.794982, -73.85559 , 1\n",
      "rl , rl , 40.789489, -73.85559 , 2\n",
      "rl , rl , 40.679626, -73.97644 , 4\n",
      "rl , rl , 40.685119, -73.965454 , 4\n",
      "rl , rl , 40.696105, -73.943481 , 4\n",
      "rl , rl , 40.701599, -73.932495 , 3\n",
      "rl , rl , 40.707092, -73.921508 , 2\n",
      "rl , rl , 40.712585, -73.910522 , 7\n",
      "rl , rl , 40.718078, -73.899536 , 5\n",
      "rl , rl , 40.723571, -73.888549 , 2\n",
      "rl , rl , 40.729064, -73.877563 , 2\n",
      "rl , rl , 40.734558, -73.866577 , 10\n",
      "rl , rl , 40.740051, -73.85559 , 2\n",
      "rl , rl , 40.745544, -73.844604 , 4\n",
      "rl , rl , 40.751037, -73.833618 , 3\n",
      "rl , rl , 40.75653, -73.822631 , 2\n",
      "rl , rl , 40.762023, -73.811645 , 2\n",
      "rl , rl , 40.767517, -73.800659 , 2\n",
      "rl , rl , 40.740051, -73.97644 , 57\n",
      "rl , rl , 40.745544, -73.965454 , 56\n",
      "rl , rl , 40.751037, -73.954467 , 53\n",
      "rl , rl , 40.75653, -73.943481 , 53\n",
      "rl , rl , 40.762023, -73.932495 , 49\n",
      "rl , rl , 40.767517, -73.921508 , 48\n",
      "rl , rl , 40.77301, -73.910522 , 46\n",
      "rl , rl , 40.778503, -73.899536 , 39\n",
      "rl , rl , 40.783996, -73.888549 , 34\n",
      "rl , rl , 40.762023, -73.921508 , 5\n",
      "rl , rl , 40.75653, -73.921508 , 6\n",
      "rl , rl , 40.751037, -73.921508 , 3\n",
      "rl , rl , 40.745544, -73.921508 , 4\n",
      "rl , rl , 40.751037, -73.910522 , 8\n",
      "rl , rl , 40.75653, -73.899536 , 5\n",
      "rl , rl , 40.762023, -73.888549 , 2\n",
      "rl , rl , 40.767517, -73.877563 , 1\n",
      "rl , rl , 40.77301, -73.866577 , 2\n",
      "rl , rl , 40.778503, -73.85559 , 2\n",
      "rl , rl , 40.783996, -73.844604 , 1\n",
      "rl , rl , 40.789489, -73.833618 , 1\n",
      "rl , rl , 40.794982, -73.822631 , 1\n",
      "rl , rl , 40.800476, -73.811645 , 1\n",
      "rl , rl , 40.657653, -73.789672 , 1\n",
      "rl , rl , 40.663146, -73.778686 , 1\n",
      "rl , rl , 40.66864, -73.7677 , 1\n",
      "rl , rl , 40.674133, -73.756713 , 1\n",
      "rl , rl , 40.679626, -73.745727 , 1\n",
      "rl , rl , 40.685119, -73.734741 , 1\n",
      "rl , rl , 40.679626, -73.734741 , 1\n",
      "rl , rl , 40.674133, -73.734741 , 1\n",
      "rl , rl , 40.66864, -73.734741 , 1\n",
      "rl , rl , 40.663146, -73.734741 , 1\n",
      "rl , rl , 40.657653, -73.734741 , 1\n",
      "rl , rl , 40.65216, -73.734741 , 1\n",
      "rl , rl , 40.646667, -73.734741 , 1\n",
      "rl , rl , 40.723571, -73.97644 , 2\n",
      "rl , rl , 40.729064, -73.965454 , 3\n",
      "rl , rl , 40.734558, -73.954467 , 20\n",
      "rl , rl , 40.740051, -73.943481 , 4\n",
      "rl , rl , 40.745544, -73.932495 , 4\n",
      "rl , rl , 40.75653, -73.910522 , 7\n",
      "rl , rl , 40.762023, -73.899536 , 4\n",
      "rl , rl , 40.767517, -73.888549 , 1\n",
      "rl , rl , 40.77301, -73.877563 , 2\n",
      "rl , rl , 40.778503, -73.866577 , 1\n",
      "rl , rl , 40.783996, -73.85559 , 1\n",
      "rl , rl , 40.789489, -73.844604 , 1\n",
      "rl , rl , 40.794982, -73.833618 , 1\n",
      "rl , rl , 40.800476, -73.822631 , 1\n",
      "rl , rl , 40.805969, -73.811645 , 1\n",
      "rl , rl , 40.734558, -73.97644 , 21\n",
      "rl , rl , 40.729064, -73.97644 , 3\n",
      "rl , rl , 40.718078, -73.97644 , 2\n",
      "rl , rl , 40.712585, -73.97644 , 2\n",
      "rl , rl , 40.707092, -73.97644 , 1\n",
      "rl , rl , 40.701599, -73.97644 , 1\n",
      "rl , rl , 40.696105, -73.97644 , 4\n",
      "rl , rl , 40.690612, -73.97644 , 2\n",
      "rl , rl , 40.685119, -73.97644 , 1\n",
      "rl , rl , 40.674133, -73.97644 , 2\n",
      "rl , rl , 40.66864, -73.97644 , 1\n",
      "rl , rl , 40.663146, -73.97644 , 1\n",
      "rl , rl , 40.657653, -73.97644 , 1\n",
      "rl , rl , 40.65216, -73.97644 , 2\n",
      "rl , rl , 40.646667, -73.97644 , 1\n",
      "rl , rl , 40.641174, -73.97644 , 1\n",
      "rl , rl , 40.635681, -73.97644 , 1\n",
      "rl , rl , 40.630187, -73.97644 , 1\n",
      "rl , rl , 40.624694, -73.97644 , 1\n",
      "rl , rl , 40.630187, -73.965454 , 2\n",
      "rl , rl , 40.641174, -73.943481 , 1\n",
      "rl , rl , 40.646667, -73.932495 , 1\n",
      "rl , rl , 40.65216, -73.921508 , 2\n",
      "rl , rl , 40.657653, -73.910522 , 6\n",
      "rl , rl , 40.663146, -73.899536 , 1\n",
      "rl , rl , 40.66864, -73.888549 , 1\n",
      "rl , rl , 40.674133, -73.877563 , 3\n",
      "rl , rl , 40.679626, -73.866577 , 4\n",
      "rl , rl , 40.685119, -73.85559 , 3\n",
      "rl , rl , 40.690612, -73.844604 , 3\n",
      "rl , rl , 40.696105, -73.833618 , 3\n",
      "rl , rl , 40.701599, -73.822631 , 5\n",
      "rl , rl , 40.707092, -73.811645 , 2\n",
      "rl , rl , 40.712585, -73.800659 , 2\n",
      "rl , rl , 40.718078, -73.789672 , 2\n",
      "rl , rl , 40.723571, -73.778686 , 2\n",
      "rl , rl , 40.729064, -73.7677 , 2\n",
      "rl , rl , 40.734558, -73.756713 , 2\n",
      "rl , rl , 40.740051, -73.745727 , 2\n",
      "rl , rl , 40.745544, -73.734741 , 2\n",
      "rl , rl , 40.751037, -73.723754 , 2\n",
      "rl , rl , 40.75653, -73.712768 , 2\n",
      "rl , rl , 40.762023, -73.701782 , 2\n",
      "rl , rl , 40.767517, -73.690795 , 2\n",
      "rl , rl , 40.767517, -73.910522 , 7\n",
      "rl , rl , 40.762023, -73.910522 , 7\n",
      "rl , rl , 40.745544, -73.910522 , 9\n",
      "rl , rl , 40.740051, -73.910522 , 4\n",
      "rl , rl , 40.734558, -73.910522 , 16\n",
      "rl , rl , 40.729064, -73.910522 , 7\n",
      "rl , rl , 40.723571, -73.910522 , 5\n",
      "rl , rl , 40.718078, -73.910522 , 6\n",
      "rl , rl , 40.707092, -73.910522 , 5\n",
      "rl , rl , 40.701599, -73.910522 , 6\n",
      "rl , rl , 40.696105, -73.910522 , 5\n",
      "rl , rl , 40.690612, -73.910522 , 6\n",
      "rl , rl , 40.685119, -73.910522 , 7\n",
      "rl , rl , 40.679626, -73.910522 , 5\n",
      "rl , rl , 40.674133, -73.910522 , 6\n",
      "rl , rl , 40.66864, -73.910522 , 5\n",
      "rl , rl , 40.663146, -73.910522 , 5\n",
      "rl , rl , 40.65216, -73.910522 , 5\n",
      "rl , rl , 40.646667, -73.910522 , 5\n",
      "rl , rl , 40.641174, -73.910522 , 4\n",
      "rl , rl , 40.635681, -73.910522 , 4\n",
      "rl , rl , 40.630187, -73.910522 , 4\n",
      "rl , rl , 40.624694, -73.910522 , 4\n",
      "rl , rl , 40.619201, -73.910522 , 4\n",
      "rl , rl , 40.613708, -73.910522 , 4\n",
      "rl , rl , 40.608215, -73.910522 , 3\n",
      "rl , rl , 40.602722, -73.910522 , 2\n",
      "rl , rl , 40.597229, -73.910522 , 2\n",
      "rl , rl , 40.591735, -73.910522 , 2\n",
      "rl , rl , 40.586242, -73.910522 , 2\n",
      "rl , rl , 40.580749, -73.910522 , 2\n",
      "rl , rl , 40.718078, -73.965454 , 4\n",
      "rl , rl , 40.723571, -73.954467 , 2\n",
      "rl , rl , 40.729064, -73.943481 , 3\n",
      "rl , rl , 40.734558, -73.932495 , 17\n",
      "rl , rl , 40.740051, -73.921508 , 3\n",
      "rl , rl , 40.751037, -73.899536 , 7\n",
      "rl , rl , 40.75653, -73.888549 , 4\n",
      "rl , rl , 40.762023, -73.877563 , 3\n",
      "rl , rl , 40.767517, -73.866577 , 3\n",
      "rl , rl , 40.77301, -73.85559 , 4\n",
      "rl , rl , 40.778503, -73.844604 , 3\n",
      "rl , rl , 40.783996, -73.833618 , 3\n",
      "rl , rl , 40.789489, -73.822631 , 3\n",
      "rl , rl , 40.794982, -73.811645 , 3\n",
      "rl , rl , 40.800476, -73.800659 , 3\n",
      "rl , rl , 40.77301, -73.899536 , 6\n",
      "rl , rl , 40.767517, -73.899536 , 8\n",
      "rl , rl , 41.20697, -73.723754 , 1\n",
      "rl , rl , 41.201477, -73.723754 , 1\n",
      "rl , rl , 41.036682, -74.064331 , 1\n",
      "rl , rl , 40.685119, -73.998413 , 3\n",
      "rl , rl , 40.701599, -73.965454 , 5\n",
      "rl , rl , 40.707092, -73.954467 , 4\n",
      "rl , rl , 40.712585, -73.943481 , 4\n",
      "rl , rl , 40.718078, -73.932495 , 3\n",
      "rl , rl , 40.723571, -73.921508 , 2\n",
      "rl , rl , 40.734558, -73.899536 , 15\n",
      "rl , rl , 40.679626, -74.009399 , 2\n",
      "rl , rl , 40.674133, -74.020385 , 1\n",
      "rl , rl , 40.66864, -74.031372 , 1\n",
      "rl , rl , 40.729064, -73.998413 , 13\n",
      "rl , rl , 40.723571, -74.009399 , 13\n",
      "rl , rl , 40.718078, -74.020385 , 13\n",
      "rl , rl , 40.712585, -74.031372 , 9\n",
      "rl , rl , 40.707092, -74.042358 , 7\n",
      "rl , rl , 40.701599, -74.053344 , 7\n",
      "rl , rl , 40.696105, -74.064331 , 6\n",
      "rl , rl , 41.053161, -73.778686 , 1\n",
      "rl , rl , 40.734558, -73.987426 , 7\n",
      "rl , rl , 40.745544, -73.899536 , 7\n",
      "rl , rl , 40.740051, -73.899536 , 3\n",
      "rl , rl , 40.729064, -73.899536 , 3\n",
      "rl , rl , 40.734558, -73.888549 , 11\n",
      "rl , rl , 40.740051, -73.877563 , 1\n",
      "rl , rl , 40.745544, -73.866577 , 3\n",
      "rl , rl , 40.751037, -73.85559 , 2\n",
      "rl , rl , 40.75653, -73.844604 , 1\n",
      "rl , rl , 40.762023, -73.833618 , 1\n",
      "rl , rl , 40.767517, -73.822631 , 1\n",
      "rl , rl , 40.77301, -73.811645 , 2\n",
      "rl , rl , 40.740051, -73.965454 , 5\n",
      "rl , rl , 40.745544, -73.954467 , 8\n",
      "rl , rl , 40.751037, -73.943481 , 6\n",
      "rl , rl , 40.75653, -73.932495 , 4\n",
      "rl , rl , 40.723571, -73.998413 , 3\n",
      "rl , rl , 40.718078, -74.009399 , 3\n",
      "rl , rl , 40.712585, -74.020385 , 2\n",
      "rl , rl , 40.707092, -74.031372 , 1\n",
      "rl , rl , 40.701599, -74.042358 , 1\n",
      "rl , rl , 40.696105, -73.888549 , 1\n",
      "rl , rl , 40.690612, -73.899536 , 1\n",
      "rl , rl , 40.679626, -73.921508 , 1\n",
      "rl , rl , 40.674133, -73.932495 , 2\n",
      "rl , rl , 40.66864, -73.943481 , 1\n",
      "rl , rl , 40.657653, -73.965454 , 3\n",
      "rl , rl , 40.646667, -73.987426 , 1\n",
      "rl , rl , 40.641174, -73.998413 , 1\n",
      "rl , rl , 40.635681, -74.009399 , 1\n",
      "rl , rl , 40.630187, -74.020385 , 2\n",
      "rl , rl , 40.624694, -74.031372 , 1\n",
      "rl , rl , 40.619201, -74.042358 , 1\n",
      "rl , rl , 40.613708, -74.053344 , 1\n",
      "rl , rl , 40.740051, -73.987426 , 21\n",
      "rl , rl , 40.745544, -73.987426 , 24\n",
      "rl , rl , 40.751037, -73.987426 , 20\n",
      "rl , rl , 40.75653, -73.987426 , 19\n",
      "rl , rl , 40.762023, -73.987426 , 18\n",
      "rl , rl , 40.767517, -73.987426 , 18\n",
      "rl , rl , 40.77301, -73.987426 , 16\n",
      "rl , rl , 40.778503, -73.987426 , 16\n",
      "rl , rl , 40.783996, -73.987426 , 14\n",
      "rl , rl , 40.789489, -73.987426 , 12\n",
      "rl , rl , 40.794982, -73.987426 , 11\n",
      "rl , rl , 40.800476, -73.987426 , 11\n",
      "rl , rl , 40.805969, -73.987426 , 8\n",
      "rl , rl , 40.811462, -73.987426 , 10\n",
      "rl , rl , 40.816955, -73.987426 , 7\n",
      "rl , rl , 40.822448, -73.987426 , 6\n",
      "rl , rl , 40.827941, -73.987426 , 5\n",
      "rl , rl , 40.833435, -73.987426 , 5\n",
      "rl , rl , 40.838928, -73.987426 , 4\n",
      "rl , rl , 40.844421, -73.987426 , 4\n",
      "rl , rl , 40.849914, -73.987426 , 3\n",
      "rl , rl , 40.855407, -73.987426 , 3\n",
      "rl , rl , 40.8609, -73.987426 , 3\n",
      "rl , rl , 40.866394, -73.987426 , 3\n",
      "rl , rl , 40.871887, -73.987426 , 3\n",
      "rl , rl , 40.87738, -73.987426 , 3\n",
      "rl , rl , 40.882873, -73.987426 , 3\n",
      "rl , rl , 40.888366, -73.987426 , 3\n",
      "rl , rl , 40.893859, -73.987426 , 2\n",
      "rl , rl , 41.19049, -73.218383 , 1\n",
      "rl , rl , 40.827941, -73.97644 , 2\n",
      "rl , rl , 40.833435, -73.965454 , 2\n",
      "rl , rl , 40.77301, -73.921508 , 4\n",
      "rl , rl , 40.778503, -73.921508 , 4\n",
      "rl , rl , 40.783996, -73.921508 , 2\n",
      "rl , rl , 40.789489, -73.921508 , 2\n",
      "rl , rl , 40.794982, -73.921508 , 3\n",
      "rl , rl , 40.800476, -73.921508 , 5\n",
      "rl , rl , 40.805969, -73.921508 , 2\n",
      "rl , rl , 40.811462, -73.921508 , 2\n",
      "rl , rl , 40.816955, -73.921508 , 4\n",
      "rl , rl , 40.822448, -73.921508 , 2\n",
      "rl , rl , 40.827941, -73.921508 , 2\n",
      "rl , rl , 40.833435, -73.921508 , 2\n",
      "rl , rl , 40.838928, -73.921508 , 2\n",
      "rl , rl , 40.844421, -73.921508 , 2\n",
      "rl , rl , 40.849914, -73.921508 , 3\n",
      "rl , rl , 40.855407, -73.921508 , 2\n",
      "rl , rl , 40.8609, -73.921508 , 2\n",
      "rl , rl , 40.866394, -73.921508 , 1\n",
      "rl , rl , 40.871887, -73.921508 , 1\n",
      "rl , rl , 40.87738, -73.921508 , 1\n",
      "rl , rl , 40.882873, -73.921508 , 1\n",
      "rl , rl , 40.888366, -73.921508 , 1\n",
      "rl , rl , 40.734558, -73.965454 , 22\n",
      "rl , rl , 40.740051, -73.954467 , 3\n",
      "rl , rl , 40.745544, -73.943481 , 8\n",
      "rl , rl , 40.751037, -73.932495 , 4\n",
      "rl , rl , 40.77301, -73.888549 , 3\n",
      "rl , rl , 40.778503, -73.877563 , 2\n",
      "rl , rl , 40.783996, -73.866577 , 2\n",
      "rl , rl , 40.762023, -73.97644 , 4\n",
      "rl , rl , 40.597229, -73.701782 , 1\n",
      "rl , rl , 40.762023, -73.943481 , 6\n",
      "rl , rl , 40.767517, -73.943481 , 7\n",
      "rl , rl , 40.77301, -73.943481 , 5\n",
      "rl , rl , 40.778503, -73.943481 , 3\n",
      "rl , rl , 40.734558, -73.943481 , 19\n",
      "rl , rl , 40.723571, -73.943481 , 2\n",
      "rl , rl , 40.789489, -73.97644 , 2\n",
      "rl , rl , 40.794982, -73.965454 , 7\n",
      "rl , rl , 40.800476, -73.954467 , 4\n",
      "rl , rl , 40.805969, -73.943481 , 4\n",
      "rl , rl , 40.811462, -73.932495 , 2\n",
      "rl , rl , 40.822448, -73.910522 , 2\n",
      "rl , rl , 40.827941, -73.899536 , 2\n",
      "rl , rl , 40.833435, -73.888549 , 2\n",
      "rl , rl , 40.838928, -73.877563 , 2\n",
      "rl , rl , 40.844421, -73.866577 , 2\n",
      "rl , rl , 40.849914, -73.85559 , 2\n",
      "rl , rl , 40.855407, -73.844604 , 2\n",
      "rl , rl , 40.8609, -73.833618 , 2\n",
      "rl , rl , 40.866394, -73.822631 , 2\n",
      "rl , rl , 40.871887, -73.811645 , 2\n",
      "rl , rl , 40.657653, -73.613891 , 1\n",
      "rl , rl , 40.65216, -73.613891 , 1\n",
      "rl , rl , 40.783996, -73.877563 , 2\n",
      "rl , rl , 40.789489, -73.877563 , 2\n",
      "rl , rl , 40.794982, -73.877563 , 1\n",
      "rl , rl , 40.800476, -73.877563 , 1\n",
      "rl , rl , 40.805969, -73.877563 , 1\n",
      "rl , rl , 40.849914, -73.97644 , 1\n",
      "rl , rl , 40.855407, -73.965454 , 1\n",
      "rl , rl , 40.8609, -73.954467 , 1\n",
      "rl , rl , 40.866394, -73.943481 , 3\n",
      "rl , rl , 40.745544, -73.97644 , 6\n",
      "rl , rl , 40.751037, -73.97644 , 2\n",
      "rl , rl , 40.75653, -73.97644 , 1\n",
      "rl , rl , 40.767517, -73.97644 , 3\n",
      "rl , rl , 40.751037, -74.317016 , 1\n",
      "rl , rl , 40.75653, -74.317016 , 1\n",
      "rl , rl , 40.751037, -73.965454 , 7\n",
      "rl , rl , 40.75653, -73.954467 , 3\n",
      "rl , rl , 40.767517, -73.932495 , 2\n",
      "rl , rl , 40.855407, -73.932495 , 1\n",
      "rl , rl , 40.783996, -73.943481 , 3\n",
      "rl , rl , 40.789489, -73.943481 , 5\n",
      "rl , rl , 40.794982, -73.943481 , 3\n",
      "rl , rl , 40.800476, -73.943481 , 4\n",
      "rl , rl , 40.811462, -73.943481 , 2\n",
      "rl , rl , 40.816955, -73.943481 , 2\n",
      "rl , rl , 40.822448, -73.943481 , 2\n",
      "rl , rl , 40.827941, -73.943481 , 2\n",
      "rl , rl , 40.833435, -73.943481 , 2\n",
      "rl , rl , 40.838928, -73.943481 , 3\n",
      "rl , rl , 40.844421, -73.943481 , 2\n",
      "rl , rl , 40.849914, -73.943481 , 2\n",
      "rl , rl , 40.855407, -73.943481 , 2\n",
      "rl , rl , 40.8609, -73.943481 , 2\n",
      "rl , rl , 40.833435, -73.97644 , 1\n",
      "rl , rl , 40.838928, -73.965454 , 1\n",
      "rl , rl , 40.674133, -73.866577 , 2\n",
      "rl , rl , 40.679626, -73.85559 , 1\n",
      "rl , rl , 40.685119, -73.844604 , 1\n",
      "rl , rl , 40.690612, -73.833618 , 1\n",
      "rl , rl , 40.696105, -73.822631 , 1\n",
      "rl , rl , 40.701599, -73.811645 , 4\n",
      "rl , rl , 40.707092, -73.800659 , 1\n",
      "rl , rl , 40.712585, -73.789672 , 1\n",
      "rl , rl , 40.718078, -73.778686 , 1\n",
      "rl , rl , 40.723571, -73.7677 , 1\n",
      "rl , rl , 40.729064, -73.756713 , 1\n",
      "rl , rl , 40.696105, -73.965454 , 2\n",
      "rl , rl , 40.690612, -73.965454 , 2\n",
      "rl , rl , 40.679626, -73.965454 , 2\n",
      "rl , rl , 40.674133, -73.965454 , 4\n",
      "rl , rl , 40.66864, -73.965454 , 2\n",
      "rl , rl , 40.663146, -73.965454 , 2\n",
      "rl , rl , 40.65216, -73.965454 , 2\n",
      "rl , rl , 40.646667, -73.965454 , 2\n",
      "rl , rl , 40.641174, -73.965454 , 1\n",
      "rl , rl , 40.707092, -73.965454 , 2\n",
      "rl , rl , 40.712585, -73.965454 , 2\n",
      "rl , rl , 40.723571, -73.965454 , 2\n",
      "rl , rl , 40.75653, -73.965454 , 4\n",
      "rl , rl , 40.762023, -73.965454 , 4\n",
      "rl , rl , 40.767517, -73.965454 , 5\n",
      "rl , rl , 40.77301, -73.965454 , 5\n",
      "rl , rl , 40.778503, -73.965454 , 6\n",
      "rl , rl , 40.783996, -73.965454 , 4\n",
      "rl , rl , 40.789489, -73.965454 , 4\n",
      "rl , rl , 40.800476, -73.965454 , 9\n",
      "rl , rl , 40.805969, -73.965454 , 4\n",
      "rl , rl , 40.811462, -73.965454 , 3\n",
      "rl , rl , 40.816955, -73.965454 , 2\n",
      "rl , rl , 40.822448, -73.965454 , 2\n",
      "rl , rl , 40.827941, -73.965454 , 2\n",
      "rl , rl , 40.745544, -73.613891 , 1\n",
      "rl , rl , 40.751037, -73.613891 , 1\n",
      "rl , rl , 40.75653, -73.613891 , 1\n",
      "rl , rl , 41.042175, -73.624877 , 1\n",
      "rl , rl , 40.707092, -73.943481 , 2\n",
      "rl , rl , 40.701599, -73.943481 , 3\n",
      "rl , rl , 40.690612, -73.943481 , 1\n",
      "rl , rl , 40.718078, -73.943481 , 2\n",
      "rl , rl , 40.822448, -73.97644 , 1\n",
      "rl , rl , 40.833435, -73.954467 , 1\n",
      "rl , rl , 40.844421, -73.932495 , 1\n",
      "rl , rl , 40.855407, -73.910522 , 1\n",
      "rl , rl , 40.8609, -73.899536 , 1\n",
      "rl , rl , 40.866394, -73.888549 , 1\n",
      "rl , rl , 40.871887, -73.877563 , 1\n",
      "rl , rl , 40.87738, -73.866577 , 1\n",
      "rl , rl , 40.882873, -73.85559 , 1\n",
      "rl , rl , 40.888366, -73.844604 , 1\n",
      "rl , rl , 40.893859, -73.833618 , 1\n",
      "rl , rl , 40.899353, -73.822631 , 1\n",
      "rl , rl , 40.723571, -73.899536 , 2\n",
      "rl , rl , 40.712585, -73.899536 , 1\n",
      "rl , rl , 40.783996, -73.899536 , 2\n",
      "rl , rl , 40.789489, -73.899536 , 2\n",
      "rl , rl , 40.794982, -73.899536 , 3\n",
      "rl , rl , 40.778503, -73.954467 , 1\n",
      "rl , rl , 40.871887, -74.075317 , 1\n",
      "rl , rl , 40.87738, -74.064331 , 1\n",
      "rl , rl , 40.882873, -74.053344 , 1\n",
      "rl , rl , 40.888366, -74.042358 , 1\n",
      "rl , rl , 40.712585, -74.009399 , 1\n",
      "rl , rl , 40.707092, -74.009399 , 1\n",
      "rl , rl , 40.701599, -74.009399 , 1\n",
      "rl , rl , 40.696105, -74.009399 , 2\n",
      "rl , rl , 40.690612, -74.009399 , 1\n",
      "rl , rl , 40.685119, -74.009399 , 1\n",
      "rl , rl , 40.674133, -74.009399 , 1\n",
      "rl , rl , 40.674133, -73.998413 , 1\n",
      "rl , rl , 40.674133, -73.943481 , 2\n",
      "rl , rl , 40.674133, -73.921508 , 1\n",
      "rl , rl , 40.674133, -73.899536 , 1\n",
      "rl , rl , 40.674133, -73.888549 , 1\n",
      "rl , rl , 40.674133, -73.85559 , 1\n",
      "rl , rl , 40.685119, -73.877563 , 1\n",
      "rl , rl , 40.690612, -73.888549 , 1\n",
      "rl , rl , 40.740051, -73.998413 , 13\n",
      "rl , rl , 40.745544, -74.009399 , 12\n",
      "rl , rl , 40.751037, -74.009399 , 1\n",
      "rl , rl , 40.75653, -74.009399 , 3\n",
      "rl , rl , 40.762023, -74.009399 , 2\n",
      "rl , rl , 40.767517, -74.020385 , 3\n",
      "rl , rl , 40.77301, -74.031372 , 1\n",
      "rl , rl , 40.778503, -74.042358 , 1\n",
      "rl , rl , 40.783996, -74.042358 , 1\n",
      "rl , rl , 40.789489, -74.042358 , 1\n",
      "rl , rl , 40.685119, -73.899536 , 1\n",
      "rl , rl , 40.734558, -73.921508 , 13\n",
      "rl , rl , 40.734558, -73.877563 , 11\n",
      "rl , rl , 40.740051, -73.888549 , 2\n",
      "rl , rl , 40.77301, -73.954467 , 3\n",
      "rl , rl , 40.783996, -73.97644 , 1\n",
      "rl , rl , 40.794982, -73.998413 , 2\n",
      "rl , rl , 40.800476, -74.009399 , 2\n",
      "rl , rl , 40.800476, -73.998413 , 2\n",
      "rl , rl , 40.800476, -73.97644 , 2\n",
      "rl , rl , 40.800476, -73.932495 , 2\n",
      "rl , rl , 40.800476, -73.910522 , 2\n",
      "rl , rl , 40.800476, -73.899536 , 3\n",
      "rl , rl , 40.740051, -73.932495 , 1\n",
      "rl , rl , 40.77301, -73.998413 , 1\n",
      "rl , rl , 40.778503, -74.009399 , 1\n",
      "rl , rl , 40.783996, -74.020385 , 1\n",
      "rl , rl , 40.789489, -74.031372 , 1\n",
      "rl , rl , 40.794982, -74.042358 , 1\n",
      "rl , rl , 40.794982, -74.031372 , 1\n",
      "rl , rl , 40.794982, -74.020385 , 2\n",
      "rl , rl , 40.794982, -74.009399 , 1\n",
      "rl , rl , 40.794982, -73.97644 , 1\n",
      "rl , rl , 40.794982, -73.954467 , 3\n",
      "rl , rl , 40.794982, -73.932495 , 2\n",
      "rl , rl , 40.794982, -73.910522 , 1\n",
      "rl , rl , 40.734558, -73.85559 , 7\n",
      "rl , rl , 40.734558, -73.844604 , 7\n",
      "rl , rl , 40.734558, -73.833618 , 7\n",
      "rl , rl , 40.734558, -73.822631 , 7\n",
      "rl , rl , 40.751037, -73.888549 , 1\n",
      "rl , rl , 40.751037, -73.877563 , 1\n",
      "rl , rl , 40.751037, -73.866577 , 1\n",
      "rl , rl , 40.751037, -73.844604 , 1\n",
      "rl , rl , 40.751037, -73.822631 , 1\n",
      "rl , rl , 40.751037, -73.811645 , 1\n",
      "rl , rl , 40.751037, -73.800659 , 1\n",
      "rl , rl , 40.75653, -73.811645 , 1\n",
      "rl , rl , 40.762023, -73.822631 , 1\n",
      "rl , rl , 40.767517, -73.833618 , 1\n",
      "rl , rl , 40.77301, -73.844604 , 2\n",
      "rl , rl , 40.794982, -73.888549 , 1\n",
      "rl , rl , 40.262145, -74.547729 , 1\n",
      "rl , rl , 40.751037, -74.020385 , 8\n",
      "rl , rl , 40.75653, -74.031372 , 6\n",
      "rl , rl , 40.762023, -74.042358 , 6\n",
      "rl , rl , 40.767517, -74.053344 , 5\n",
      "rl , rl , 40.767517, -74.042358 , 1\n",
      "rl , rl , 40.767517, -74.031372 , 2\n",
      "rl , rl , 40.767517, -74.009399 , 1\n",
      "rl , rl , 40.767517, -73.998413 , 1\n",
      "rl , rl , 40.767517, -73.954467 , 1\n",
      "rl , rl , 40.783996, -73.932495 , 2\n",
      "rl , rl , 40.805969, -73.97644 , 3\n",
      "rl , rl , 40.77301, -73.97644 , 3\n",
      "rl , rl , 40.77301, -73.932495 , 1\n",
      "rl , rl , 40.77301, -73.833618 , 1\n",
      "rl , rl , 40.77301, -73.822631 , 1\n",
      "rl , rl , 40.75653, -73.877563 , 1\n",
      "rl , rl , 40.816955, -73.998413 , 2\n",
      "rl , rl , 40.822448, -74.009399 , 2\n",
      "rl , rl , 40.827941, -74.020385 , 2\n",
      "rl , rl , 40.745544, -73.998413 , 2\n",
      "rl , rl , 40.745544, -73.888549 , 2\n",
      "rl , rl , 40.745544, -73.877563 , 2\n",
      "rl , rl , 40.745544, -73.85559 , 2\n",
      "rl , rl , 40.745544, -73.833618 , 2\n",
      "rl , rl , 40.745544, -73.822631 , 2\n",
      "rl , rl , 40.745544, -73.811645 , 2\n",
      "rl , rl , 40.745544, -73.800659 , 2\n",
      "rl , rl , 40.646667, -73.712768 , 1\n",
      "rl , rl , 40.646667, -73.701782 , 1\n",
      "rl , rl , 40.778503, -73.888549 , 1\n",
      "rl , rl , 40.789489, -73.866577 , 1\n",
      "rl , rl , 40.657653, -73.932495 , 1\n",
      "rl , rl , 40.663146, -73.943481 , 1\n",
      "rl , rl , 40.690612, -73.998413 , 2\n",
      "rl , rl , 40.696105, -74.020385 , 2\n",
      "rl , rl , 40.696105, -74.031372 , 1\n",
      "rl , rl , 40.696105, -74.042358 , 1\n",
      "rl , rl , 40.734558, -73.998413 , 7\n",
      "rl , rl , 40.734558, -74.009399 , 5\n",
      "rl , rl , 40.734558, -74.020385 , 5\n",
      "rl , rl , 40.734558, -74.031372 , 4\n",
      "rl , rl , 40.734558, -74.042358 , 3\n",
      "rl , rl , 40.734558, -74.053344 , 2\n",
      "rl , rl , 40.734558, -74.064331 , 2\n",
      "rl , rl , 40.734558, -74.075317 , 2\n",
      "rl , rl , 40.734558, -74.086303 , 2\n",
      "rl , rl , 40.734558, -74.09729 , 1\n",
      "rl , rl , 40.734558, -74.108276 , 1\n",
      "rl , rl , 40.904846, -74.141235 , 1\n",
      "rl , rl , 40.729064, -73.954467 , 1\n",
      "rl , rl , 40.718078, -73.954467 , 2\n",
      "rl , rl , 40.712585, -73.954467 , 1\n",
      "rl , rl , 40.701599, -73.954467 , 2\n",
      "rl , rl , 40.679626, -73.932495 , 1\n",
      "rl , rl , 40.685119, -73.921508 , 1\n",
      "rl , rl , 40.696105, -73.899536 , 1\n",
      "rl , rl , 40.701599, -73.888549 , 4\n",
      "rl , rl , 40.707092, -73.877563 , 1\n",
      "rl , rl , 40.712585, -73.866577 , 1\n",
      "rl , rl , 40.718078, -73.85559 , 1\n",
      "rl , rl , 40.718078, -73.866577 , 1\n",
      "rl , rl , 40.718078, -73.877563 , 1\n",
      "rl , rl , 40.718078, -73.888549 , 1\n",
      "rl , rl , 40.718078, -73.921508 , 1\n",
      "rl , rl , 40.718078, -73.998413 , 2\n",
      "rl , rl , 40.718078, -74.031372 , 1\n",
      "rl , rl , 40.718078, -74.042358 , 1\n",
      "rl , rl , 40.718078, -74.053344 , 1\n",
      "rl , rl , 40.718078, -74.064331 , 1\n",
      "rl , rl , 40.718078, -74.075317 , 1\n",
      "rl , rl , 40.718078, -74.086303 , 1\n",
      "rl , rl , 40.718078, -74.09729 , 1\n",
      "rl , rl , 40.740051, -74.020385 , 2\n",
      "rl , rl , 40.745544, -74.031372 , 1\n",
      "rl , rl , 40.751037, -74.042358 , 1\n",
      "rl , rl , 40.75653, -74.053344 , 1\n",
      "rl , rl , 40.306091, -74.63562 , 1\n",
      "rl , rl , 40.712585, -73.998413 , 1\n",
      "rl , rl , 40.707092, -73.998413 , 1\n",
      "rl , rl , 40.701599, -73.998413 , 1\n",
      "rl , rl , 40.696105, -73.998413 , 1\n",
      "rl , rl , 40.701599, -73.921508 , 1\n",
      "rl , rl , 40.701599, -73.899536 , 2\n",
      "rl , rl , 40.701599, -73.877563 , 3\n",
      "rl , rl , 40.701599, -73.866577 , 3\n",
      "rl , rl , 40.701599, -73.85559 , 3\n",
      "rl , rl , 40.701599, -73.844604 , 3\n",
      "rl , rl , 40.701599, -73.833618 , 3\n",
      "rl , rl , 40.701599, -73.800659 , 2\n",
      "rl , rl , 40.701599, -73.789672 , 2\n",
      "rl , rl , 40.701599, -73.778686 , 2\n",
      "rl , rl , 40.701599, -73.7677 , 1\n",
      "rl , rl , 40.707092, -73.822631 , 1\n",
      "rl , rl , 40.712585, -73.833618 , 1\n",
      "rl , rl , 40.718078, -73.844604 , 1\n",
      "rl , rl , 40.723571, -73.85559 , 1\n",
      "rl , rl , 40.729064, -73.866577 , 1\n",
      "rl , rl , 40.838928, -73.998413 , 1\n",
      "rl , rl , 40.762023, -73.998413 , 2\n",
      "rl , rl , 40.783996, -73.954467 , 1\n",
      "rl , rl , 40.805969, -73.910522 , 1\n",
      "rl , rl , 40.811462, -73.899536 , 1\n",
      "rl , rl , 40.816955, -73.888549 , 1\n",
      "rl , rl , 40.822448, -73.877563 , 1\n",
      "rl , rl , 40.827941, -73.866577 , 1\n",
      "rl , rl , 40.833435, -73.85559 , 1\n",
      "rl , rl , 40.838928, -73.844604 , 1\n",
      "rl , rl , 40.844421, -73.833618 , 1\n",
      "rl , rl , 40.849914, -73.822631 , 1\n",
      "rl , rl , 40.855407, -73.811645 , 1\n",
      "rl , rl , 40.751037, -73.998413 , 1\n",
      "rl , rl , 40.762023, -74.020385 , 2\n",
      "rl , rl , 40.77301, -74.042358 , 1\n",
      "rl , rl , 40.778503, -74.053344 , 1\n",
      "rl , rl , 40.783996, -74.064331 , 1\n",
      "rl , rl , 40.915832, -73.910522 , 1\n",
      "rl , rl , 40.624694, -73.965454 , 1\n",
      "rl , rl , 40.619201, -73.965454 , 1\n",
      "rl , rl , 40.613708, -73.965454 , 1\n",
      "rl , rl , 40.608215, -73.965454 , 1\n",
      "rl , rl , 40.602722, -73.965454 , 1\n",
      "rl , rl , 40.608215, -73.97644 , 1\n",
      "rl , rl , 40.613708, -73.987426 , 1\n",
      "rl , rl , 40.624694, -74.009399 , 1\n",
      "rl , rl , 40.635681, -74.031372 , 1\n",
      "rl , rl , 40.641174, -74.042358 , 1\n",
      "rl , rl , 40.77301, -74.064331 , 4\n",
      "rl , rl , 40.783996, -74.086303 , 4\n",
      "rl , rl , 40.762023, -74.031372 , 2\n",
      "rl , rl , 40.762023, -73.954467 , 2\n",
      "rl , rl , 40.800476, -74.042358 , 2\n",
      "rl , rl , 40.800476, -74.020385 , 1\n",
      "rl , rl , 40.800476, -74.031372 , 2\n",
      "rl , rl , 40.740051, -74.075317 , 1\n",
      "rl , rl , 40.745544, -74.064331 , 1\n",
      "rl , rl , 40.751037, -74.053344 , 1\n",
      "rl , rl , 40.75653, -74.042358 , 1\n",
      "rl , rl , 40.77301, -74.009399 , 1\n",
      "rl , rl , 40.778503, -73.998413 , 1\n",
      "rl , rl , 40.783996, -73.998413 , 1\n",
      "rl , rl , 40.789489, -74.009399 , 1\n",
      "rl , rl , 40.805969, -74.042358 , 1\n",
      "rl , rl , 40.745544, -74.020385 , 1\n",
      "rl , rl , 40.729064, -74.020385 , 1\n",
      "rl , rl , 40.723571, -74.020385 , 1\n",
      "rl , rl , 40.707092, -74.020385 , 1\n",
      "rl , rl , 40.701599, -74.020385 , 1\n",
      "rl , rl , 40.690612, -74.020385 , 1\n",
      "rl , rl , 40.740051, -74.009399 , 1\n",
      "rl , rl , 40.789489, -74.196166 , 1\n"
     ]
    }
   ],
   "source": [
    "decoded_rl = [gh.decode(i) for i in list_of_geohashes_visited_2million if type(i)!=int]\n",
    "print('RL path taken')\n",
    "list_of_rl_path = defaultdict(int)\n",
    "for line in decoded_rl:\n",
    "    list_of_rl_path[str(line['lat'])+',',line['lon']]+=1\n",
    "for k,v in list_of_rl_path.items():\n",
    "    print('rl',',','rl',',',k[0],k[1],\",\",v)"
   ]
  },
  {
   "cell_type": "code",
   "execution_count": 261,
   "metadata": {
    "collapsed": false
   },
   "outputs": [
    {
     "name": "stdout",
     "output_type": "stream",
     "text": [
      "Naive path taken\n",
      "naive , naive , 40.740051, -73.97644 , 80\n",
      "naive , naive , 40.844421, -73.833618 , 1\n",
      "naive , naive , 40.844421, -73.844604 , 1\n",
      "naive , naive , 40.838928, -73.844604 , 1\n",
      "naive , naive , 40.833435, -73.85559 , 1\n",
      "naive , naive , 40.729064, -73.998413 , 82\n",
      "naive , naive , 40.723571, -73.987426 , 39\n",
      "naive , naive , 40.718078, -73.987426 , 18\n",
      "naive , naive , 40.712585, -73.97644 , 9\n",
      "naive , naive , 40.745544, -73.97644 , 41\n",
      "naive , naive , 40.745544, -73.965454 , 38\n",
      "naive , naive , 40.740051, -73.965454 , 51\n",
      "naive , naive , 40.729064, -73.987426 , 90\n",
      "naive , naive , 40.734558, -73.987426 , 56\n",
      "naive , naive , 40.734558, -73.965454 , 53\n",
      "naive , naive , 40.740051, -73.954467 , 33\n",
      "naive , naive , 40.734558, -73.97644 , 83\n",
      "naive , naive , 40.745544, -73.987426 , 57\n",
      "naive , naive , 40.740051, -73.998413 , 74\n",
      "naive , naive , 40.751037, -73.97644 , 17\n",
      "naive , naive , 40.745544, -73.954467 , 29\n",
      "naive , naive , 40.740051, -73.943481 , 21\n",
      "naive , naive , 40.745544, -73.932495 , 10\n",
      "naive , naive , 40.745544, -73.943481 , 16\n",
      "naive , naive , 40.751037, -73.943481 , 9\n",
      "naive , naive , 40.75653, -73.954467 , 7\n",
      "naive , naive , 40.751037, -73.965454 , 16\n",
      "naive , naive , 40.75653, -73.97644 , 6\n",
      "naive , naive , 40.75653, -73.965454 , 7\n",
      "naive , naive , 40.751037, -73.954467 , 11\n",
      "naive , naive , 40.740051, -73.987426 , 80\n",
      "naive , naive , 40.454406, -74.053344 , 3\n",
      "naive , naive , 40.448913, -74.053344 , 2\n",
      "naive , naive , 40.454406, -74.042358 , 2\n",
      "naive , naive , 40.729064, -73.97644 , 67\n",
      "naive , naive , 40.734558, -73.998413 , 82\n",
      "naive , naive , 40.734558, -74.009399 , 29\n",
      "naive , naive , 40.729064, -74.020385 , 9\n",
      "naive , naive , 40.729064, -74.009399 , 36\n",
      "naive , naive , 40.745544, -74.009399 , 19\n",
      "naive , naive , 40.740051, -74.009399 , 24\n",
      "naive , naive , 40.734558, -74.020385 , 17\n",
      "naive , naive , 40.723571, -73.998413 , 30\n",
      "naive , naive , 40.712585, -73.965454 , 5\n",
      "naive , naive , 40.712585, -73.954467 , 7\n",
      "naive , naive , 40.707092, -73.965454 , 3\n",
      "naive , naive , 40.701599, -73.954467 , 2\n",
      "naive , naive , 40.696105, -73.954467 , 2\n",
      "naive , naive , 40.696105, -73.965454 , 2\n",
      "naive , naive , 40.723571, -74.009399 , 21\n",
      "naive , naive , 40.718078, -73.998413 , 19\n",
      "naive , naive , 40.712585, -73.998413 , 11\n",
      "naive , naive , 40.707092, -73.998413 , 7\n",
      "naive , naive , 40.701599, -73.987426 , 3\n",
      "naive , naive , 40.696105, -73.987426 , 1\n",
      "naive , naive , 40.701599, -73.998413 , 4\n",
      "naive , naive , 40.701599, -74.009399 , 3\n",
      "naive , naive , 40.701599, -74.020385 , 1\n",
      "naive , naive , 40.707092, -74.031372 , 2\n",
      "naive , naive , 40.712585, -74.031372 , 3\n",
      "naive , naive , 40.718078, -74.031372 , 10\n",
      "naive , naive , 40.712585, -74.020385 , 7\n",
      "naive , naive , 40.712585, -74.009399 , 12\n",
      "naive , naive , 40.707092, -73.987426 , 4\n",
      "naive , naive , 40.849914, -73.987426 , 1\n",
      "naive , naive , 40.558776, -74.295043 , 1\n",
      "naive , naive , 40.745544, -74.020385 , 15\n",
      "naive , naive , 40.751037, -74.031372 , 6\n",
      "naive , naive , 40.75653, -74.031372 , 1\n",
      "naive , naive , 40.75653, -74.042358 , 2\n",
      "naive , naive , 40.762023, -74.031372 , 1\n",
      "naive , naive , 40.751037, -73.987426 , 16\n",
      "naive , naive , 40.751037, -73.998413 , 12\n",
      "naive , naive , 40.745544, -73.998413 , 30\n",
      "naive , naive , 40.734558, -74.031372 , 8\n",
      "naive , naive , 40.734558, -74.042358 , 2\n",
      "naive , naive , 40.740051, -74.042358 , 7\n",
      "naive , naive , 40.723571, -73.97644 , 37\n",
      "naive , naive , 40.718078, -73.965454 , 17\n",
      "naive , naive , 40.740051, -74.020385 , 18\n",
      "naive , naive , 40.734558, -73.943481 , 17\n",
      "naive , naive , 40.729064, -73.943481 , 19\n",
      "naive , naive , 40.729064, -73.954467 , 18\n",
      "naive , naive , 40.734558, -73.954467 , 32\n",
      "naive , naive , 40.723571, -73.954467 , 17\n",
      "naive , naive , 40.729064, -73.932495 , 7\n",
      "naive , naive , 40.740051, -73.932495 , 16\n",
      "naive , naive , 40.745544, -73.921508 , 7\n",
      "naive , naive , 40.762023, -73.800659 , 1\n",
      "naive , naive , 40.690612, -73.921508 , 2\n",
      "naive , naive , 40.696105, -73.921508 , 1\n",
      "naive , naive , 40.696105, -73.910522 , 1\n",
      "naive , naive , 40.696105, -73.899536 , 1\n",
      "naive , naive , 40.690612, -73.888549 , 1\n",
      "naive , naive , 40.723571, -74.020385 , 12\n",
      "naive , naive , 40.718078, -74.009399 , 12\n",
      "naive , naive , 40.718078, -74.020385 , 8\n",
      "naive , naive , 40.718078, -73.97644 , 12\n",
      "naive , naive , 40.701599, -73.965454 , 1\n",
      "naive , naive , 40.707092, -73.954467 , 4\n",
      "naive , naive , 40.707092, -73.943481 , 3\n",
      "naive , naive , 40.701599, -73.943481 , 2\n",
      "naive , naive , 40.707092, -73.932495 , 2\n",
      "naive , naive , 40.707092, -73.921508 , 1\n",
      "naive , naive , 40.75653, -73.987426 , 9\n",
      "naive , naive , 40.762023, -73.987426 , 3\n",
      "naive , naive , 40.75653, -73.998413 , 4\n",
      "naive , naive , 40.762023, -73.998413 , 2\n",
      "naive , naive , 40.707092, -74.020385 , 2\n",
      "naive , naive , 40.696105, -74.009399 , 1\n",
      "naive , naive , 40.696105, -73.97644 , 1\n",
      "naive , naive , 40.690612, -73.965454 , 3\n",
      "naive , naive , 40.481872, -74.470825 , 1\n",
      "naive , naive , 40.723571, -73.943481 , 10\n",
      "naive , naive , 40.718078, -73.954467 , 8\n",
      "naive , naive , 40.723571, -73.965454 , 14\n",
      "naive , naive , 40.718078, -74.042358 , 5\n",
      "naive , naive , 40.729064, -73.965454 , 42\n",
      "naive , naive , 40.734558, -73.932495 , 10\n",
      "naive , naive , 40.751037, -74.009399 , 7\n",
      "naive , naive , 40.751037, -74.020385 , 2\n",
      "naive , naive , 40.8609, -73.85559 , 1\n",
      "naive , naive , 40.866394, -73.866577 , 1\n",
      "naive , naive , 40.740051, -74.031372 , 8\n",
      "naive , naive , 40.745544, -74.042358 , 3\n",
      "naive , naive , 40.751037, -73.877563 , 1\n",
      "naive , naive , 40.75653, -73.877563 , 1\n",
      "naive , naive , 40.751037, -73.888549 , 1\n",
      "naive , naive , 40.745544, -73.877563 , 1\n",
      "naive , naive , 40.751037, -74.042358 , 3\n",
      "naive , naive , 40.745544, -74.053344 , 2\n",
      "naive , naive , 40.751037, -74.053344 , 1\n",
      "naive , naive , 40.751037, -74.064331 , 1\n",
      "naive , naive , 40.745544, -74.075317 , 1\n",
      "naive , naive , 40.751037, -73.932495 , 1\n",
      "naive , naive , 40.751037, -73.921508 , 1\n",
      "naive , naive , 40.745544, -74.031372 , 6\n",
      "naive , naive , 40.75653, -74.053344 , 1\n",
      "naive , naive , 40.783996, -74.086303 , 1\n",
      "naive , naive , 40.580749, -73.943481 , 1\n",
      "naive , naive , 40.712585, -73.987426 , 7\n",
      "naive , naive , 40.707092, -74.042358 , 1\n",
      "naive , naive , 40.712585, -74.042358 , 1\n",
      "naive , naive , 40.729064, -74.031372 , 3\n",
      "naive , naive , 40.734558, -74.053344 , 3\n",
      "naive , naive , 40.740051, -74.064331 , 1\n",
      "naive , naive , 40.762023, -73.97644 , 1\n",
      "naive , naive , 40.679626, -73.7677 , 1\n",
      "naive , naive , 40.96527, -73.679809 , 1\n",
      "naive , naive , 40.959777, -73.690795 , 1\n",
      "naive , naive , 40.448913, -74.086303 , 5\n",
      "naive , naive , 40.454406, -74.086303 , 4\n",
      "naive , naive , 40.454406, -74.075317 , 5\n",
      "naive , naive , 40.459899, -74.086303 , 2\n",
      "naive , naive , 40.448913, -74.075317 , 1\n",
      "naive , naive , 40.454406, -74.064331 , 2\n",
      "naive , naive , 40.459899, -74.042358 , 1\n",
      "naive , naive , 40.465393, -74.042358 , 1\n",
      "naive , naive , 40.459899, -74.053344 , 1\n",
      "naive , naive , 40.459899, -74.075317 , 1\n",
      "naive , naive , 40.701599, -73.97644 , 1\n",
      "naive , naive , 40.696105, -73.943481 , 1\n",
      "naive , naive , 40.690612, -73.954467 , 1\n",
      "naive , naive , 40.685119, -73.954467 , 1\n",
      "naive , naive , 40.685119, -73.965454 , 1\n",
      "naive , naive , 40.690612, -73.97644 , 1\n",
      "naive , naive , 40.685119, -73.987426 , 1\n",
      "naive , naive , 40.679626, -73.987426 , 1\n",
      "naive , naive , 40.674133, -73.998413 , 1\n",
      "naive , naive , 40.66864, -73.998413 , 1\n",
      "naive , naive , 40.663146, -73.998413 , 1\n",
      "naive , naive , 40.663146, -73.987426 , 2\n",
      "naive , naive , 40.657653, -73.97644 , 2\n",
      "naive , naive , 40.663146, -73.97644 , 1\n",
      "naive , naive , 40.66864, -73.965454 , 1\n",
      "naive , naive , 40.66864, -73.97644 , 1\n",
      "naive , naive , 40.723571, -74.031372 , 1\n",
      "naive , naive , 40.707092, -74.009399 , 4\n",
      "naive , naive , 40.712585, -74.053344 , 2\n",
      "naive , naive , 40.718078, -74.053344 , 1\n",
      "naive , naive , 40.723571, -74.064331 , 1\n",
      "naive , naive , 40.718078, -74.075317 , 1\n",
      "naive , naive , 40.712585, -74.086303 , 1\n",
      "naive , naive , 40.712585, -74.09729 , 1\n",
      "naive , naive , 40.707092, -74.09729 , 1\n",
      "naive , naive , 40.707092, -74.086303 , 1\n",
      "naive , naive , 41.058654, -73.745727 , 1\n",
      "naive , naive , 40.734558, -73.866577 , 1\n",
      "naive , naive , 40.740051, -73.723754 , 1\n",
      "naive , naive , 40.745544, -73.723754 , 1\n",
      "naive , naive , 40.740051, -73.712768 , 1\n",
      "naive , naive , 40.745544, -73.701782 , 1\n",
      "naive , naive , 40.745544, -73.690795 , 1\n",
      "naive , naive , 40.696105, -73.701782 , 1\n",
      "naive , naive , 40.767517, -73.987426 , 1\n",
      "naive , naive , 40.77301, -73.998413 , 1\n",
      "naive , naive , 40.778503, -74.009399 , 1\n",
      "naive , naive , 40.783996, -74.020385 , 1\n",
      "naive , naive , 40.789489, -74.020385 , 2\n",
      "naive , naive , 40.794982, -74.020385 , 1\n",
      "naive , naive , 40.723571, -73.932495 , 9\n",
      "naive , naive , 40.718078, -73.921508 , 1\n",
      "naive , naive , 40.723571, -73.921508 , 3\n",
      "naive , naive , 40.729064, -73.910522 , 2\n",
      "naive , naive , 41.267395, -74.481811 , 1\n",
      "naive , naive , 40.712585, -73.943481 , 1\n",
      "naive , naive , 40.718078, -73.932495 , 2\n",
      "naive , naive , 40.729064, -73.921508 , 5\n",
      "naive , naive , 41.031188, -71.943969 , 1\n",
      "naive , naive , 40.723571, -74.053344 , 1\n",
      "naive , naive , 40.734558, -73.921508 , 6\n",
      "naive , naive , 40.767517, -73.921508 , 1\n",
      "naive , naive , 40.580749, -74.295043 , 1\n",
      "naive , naive , 40.805969, -74.141235 , 1\n",
      "naive , naive , 40.734558, -73.910522 , 3\n",
      "naive , naive , 40.740051, -73.921508 , 5\n",
      "naive , naive , 40.740051, -73.910522 , 3\n",
      "naive , naive , 40.734558, -73.899536 , 1\n",
      "naive , naive , 40.729064, -73.899536 , 1\n",
      "naive , naive , 40.723571, -73.888549 , 1\n",
      "naive , naive , 40.718078, -73.888549 , 2\n",
      "naive , naive , 40.712585, -73.888549 , 1\n",
      "naive , naive , 40.723571, -73.899536 , 1\n",
      "naive , naive , 40.729064, -73.888549 , 1\n",
      "naive , naive , 40.75653, -73.932495 , 1\n",
      "naive , naive , 40.762023, -73.943481 , 3\n",
      "naive , naive , 40.718078, -73.866577 , 1\n",
      "naive , naive , 40.899353, -74.042358 , 1\n",
      "naive , naive , 40.899353, -74.053344 , 1\n",
      "naive , naive , 40.904846, -74.064331 , 1\n",
      "naive , naive , 40.712585, -73.921508 , 1\n",
      "naive , naive , 40.635681, -74.020385 , 1\n",
      "naive , naive , 40.630187, -74.009399 , 1\n",
      "naive , naive , 40.624694, -73.998413 , 1\n",
      "naive , naive , 40.630187, -73.987426 , 2\n",
      "naive , naive , 40.624694, -73.97644 , 4\n",
      "naive , naive , 40.624694, -73.987426 , 1\n",
      "naive , naive , 40.630187, -73.965454 , 1\n",
      "naive , naive , 40.630187, -73.97644 , 3\n",
      "naive , naive , 40.635681, -73.965454 , 1\n",
      "naive , naive , 40.635681, -73.97644 , 2\n",
      "naive , naive , 40.641174, -73.965454 , 1\n",
      "naive , naive , 40.646667, -73.965454 , 1\n",
      "naive , naive , 40.641174, -73.97644 , 2\n",
      "naive , naive , 40.635681, -73.987426 , 2\n",
      "naive , naive , 40.635681, -73.998413 , 1\n",
      "naive , naive , 40.641174, -73.998413 , 1\n",
      "naive , naive , 40.641174, -73.987426 , 1\n",
      "naive , naive , 40.75653, -73.943481 , 1\n",
      "naive , naive , 40.762023, -73.954467 , 3\n",
      "naive , naive , 40.767517, -73.965454 , 1\n",
      "naive , naive , 40.767517, -73.943481 , 1\n",
      "naive , naive , 40.707092, -74.053344 , 1\n",
      "naive , naive , 40.707092, -74.064331 , 1\n",
      "naive , naive , 40.701599, -74.064331 , 1\n",
      "naive , naive , 40.701599, -74.075317 , 1\n",
      "naive , naive , 40.696105, -74.064331 , 1\n",
      "naive , naive , 40.745544, -73.910522 , 1\n",
      "naive , naive , 40.707092, -73.97644 , 1\n",
      "naive , naive , 40.723571, -74.042358 , 1\n"
     ]
    }
   ],
   "source": [
    "decoded_naive = [gh.decode(i) for i in naive_geohashes_2million if type(i)!=int]\n",
    "print('Naive path taken')\n",
    "list_of_naive_path = defaultdict(int)\n",
    "for line in decoded_naive:\n",
    "    list_of_naive_path[str(line['lat'])+',',line['lon']]+=1\n",
    "for k,v in list_of_naive_path.items():\n",
    "    print('naive',',','naive',',',k[0],k[1],\",\",v)"
   ]
  },
  {
   "cell_type": "markdown",
   "metadata": {},
   "source": [
    "## Loss after 600k iterations\n"
   ]
  },
  {
   "cell_type": "code",
   "execution_count": 136,
   "metadata": {
    "collapsed": false
   },
   "outputs": [
    {
     "data": {
      "text/plain": [
       "<matplotlib.text.Text at 0x12ee9e198>"
      ]
     },
     "execution_count": 136,
     "metadata": {},
     "output_type": "execute_result"
    },
    {
     "data": {
      "image/png": "[encoded data removed]",
      "text/plain": [
       "<matplotlib.figure.Figure at 0x12f995518>"
      ]
     },
     "metadata": {},
     "output_type": "display_data"
    }
   ],
   "source": [
    "plt.figure(figsize=(12,7))\n",
    "sns.regplot(np.array([_ for _ in range(len(loss_list))]),np.array(loss_list))  # 50 k\n",
    "plt.title('RL loss after 600k iterations')"
   ]
  },
  {
   "cell_type": "markdown",
   "metadata": {
    "collapsed": false
   },
   "source": [
    "# Deep Deterministic Policy Gradient"
   ]
  },
  {
   "cell_type": "code",
   "execution_count": 231,
   "metadata": {
    "collapsed": false
   },
   "outputs": [
    {
     "ename": "SyntaxError",
     "evalue": "positional argument follows keyword argument (<ipython-input-231-1d46d8e7205e>, line 51)",
     "output_type": "error",
     "traceback": [
      "\u001b[0;36m  File \u001b[0;32m\"<ipython-input-231-1d46d8e7205e>\"\u001b[0;36m, line \u001b[0;32m51\u001b[0m\n\u001b[0;31m    ddpg_mlp_actor.add(InputLayer(input_tensor = S, input_shape(state_size,)))\u001b[0m\n\u001b[0m                                                   ^\u001b[0m\n\u001b[0;31mSyntaxError\u001b[0m\u001b[0;31m:\u001b[0m positional argument follows keyword argument\n"
     ]
    }
   ],
   "source": [
    "import numpy as np\n",
    "import math\n",
    "\n",
    "from keras.models import model_from_json\n",
    "from keras.models import Sequential, Model\n",
    "#from keras.engine.training import collect_trainable_weights\n",
    "from keras.layers import Dense, Flatten, Input, merge, Lambda\n",
    "from keras.optimizers import Adam\n",
    "import tensorflow as tf\n",
    "import keras.backend as K\n",
    "\n",
    "HIDDEN1_UNITS = 300\n",
    "HIDDEN2_UNITS = 600\n",
    "\n",
    "class ActorNetwork(object):\n",
    "    def __init__(self, sess, state_size, action_size, BATCH_SIZE, TAU, LEARNING_RATE):\n",
    "        self.sess = sess\n",
    "        self.BATCH_SIZE = BATCH_SIZE\n",
    "        self.TAU = TAU\n",
    "        self.LEARNING_RATE = LEARNING_RATE\n",
    "\n",
    "        K.set_session(sess)\n",
    "\n",
    "        #Now create the model\n",
    "        self.model , self.weights, self.state = self.create_actor_network(state_size, action_size)   \n",
    "        self.target_model, self.target_weights, self.target_state = self.create_actor_network(state_size, action_size) \n",
    "        self.action_gradient = tf.placeholder(tf.float32,[None, action_size])\n",
    "        self.params_grad = tf.gradients(self.model.output, self.weights, -self.action_gradient)\n",
    "        grads = zip(self.params_grad, self.weights)\n",
    "        self.optimize = tf.train.AdamOptimizer(LEARNING_RATE).apply_gradients(grads)\n",
    "        self.sess.run(tf.global_variables_initializer())\n",
    "\n",
    "    def train(self, states, action_grads):\n",
    "        self.sess.run(self.optimize, feed_dict={\n",
    "            self.state: states,\n",
    "            self.action_gradient: action_grads\n",
    "        })\n",
    "\n",
    "    def target_train(self):\n",
    "        actor_weights = self.model.get_weights()\n",
    "        actor_target_weights = self.target_model.get_weights()\n",
    "        for i in xrange(len(actor_weights)):\n",
    "            actor_target_weights[i] = self.TAU * actor_weights[i] + (1 - self.TAU)* actor_target_weights[i]\n",
    "        self.target_model.set_weights(actor_target_weights)\n",
    "\n",
    "    def create_actor_network(self, state_size,action_dim):\n",
    "        print(\"Now we build the model\")\n",
    "        S = Input(shape=[state_size])\n",
    "        \n",
    "        ddpg_mlp_actor = Sequential()\n",
    "        ddpg_mlp_actor.add(InputLayer(input_tensor = S, input_shape(state_size,)))\n",
    "        ddpg_mlp_actor.add(Dense(HIDDEN1_UNITS))\n",
    "        ddpg_mlp_actor.add(BatchNormalization())\n",
    "        ddpg_mlp_actor.add(Activation('relu'))\n",
    "        ddpg_mlp_actor.add(Dense(HIDDEN2_UNITS))\n",
    "        ddpg_mlp_actor.add(BatchNormalization())\n",
    "        ddpg_mlp_actor.add(Activation('relu'))\n",
    "        ddpg_mlp_actor.add(Dense(9, activation='linear'))\n",
    "        \n",
    "#         model = Sequential()\n",
    "#         model.add(InputLayer(input_tensor=custom_input_tensor,\n",
    "#                      input_shape=(None, 784)))\n",
    "         \n",
    "        print(S, ' S state size')\n",
    "        #print( ddpg_mlp_actor.trainable_weights,'trainable weights')\n",
    "        return ddpg_mlp_actor, ddpg_mlp_actor.trainable_weights, S"
   ]
  },
  {
   "cell_type": "code",
   "execution_count": null,
   "metadata": {
    "collapsed": true
   },
   "outputs": [],
   "source": [
    "import numpy as np\n",
    "import math\n",
    "from keras.initializations import normal, identity\n",
    "from keras.models import model_from_json, load_model\n",
    "from keras.engine.training import collect_trainable_weights\n",
    "from keras.models import Sequential\n",
    "from keras.layers import Dense, Flatten, Input, merge, Lambda, Activation\n",
    "from keras.models import Sequential, Model\n",
    "from keras.optimizers import Adam\n",
    "import keras.backend as K\n",
    "import tensorflow as tf\n",
    "\n",
    "HIDDEN1_UNITS = 300\n",
    "HIDDEN2_UNITS = 600\n",
    "\n",
    "class CriticNetwork(object):\n",
    "    def __init__(self, sess, state_size, action_size, BATCH_SIZE, TAU, LEARNING_RATE):\n",
    "        self.sess = sess\n",
    "        self.BATCH_SIZE = BATCH_SIZE\n",
    "        self.TAU = TAU\n",
    "        self.LEARNING_RATE = LEARNING_RATE\n",
    "        self.action_size = action_size\n",
    "        \n",
    "        K.set_session(sess)\n",
    "\n",
    "        #Now create the model\n",
    "        self.model, self.action, self.state = self.create_critic_network(state_size, action_size)  \n",
    "        self.target_model, self.target_action, self.target_state = self.create_critic_network(state_size, action_size)  \n",
    "        self.action_grads = tf.gradients(self.model.output, self.action)  #GRADIENTS for policy update\n",
    "        self.sess.run(tf.initialize_all_variables())\n",
    "\n",
    "    def gradients(self, states, actions):\n",
    "        return self.sess.run(self.action_grads, feed_dict={\n",
    "            self.state: states,\n",
    "            self.action: actions\n",
    "        })[0]\n",
    "\n",
    "    def target_train(self):\n",
    "        critic_weights = self.model.get_weights()\n",
    "        critic_target_weights = self.target_model.get_weights()\n",
    "        for i in xrange(len(critic_weights)):\n",
    "            critic_target_weights[i] = self.TAU * critic_weights[i] + (1 - self.TAU)* critic_target_weights[i]\n",
    "        self.target_model.set_weights(critic_target_weights)\n",
    "\n",
    "    def create_critic_network(self, state_size,action_dim):\n",
    "        print(\"Now we build the model\")\n",
    "        S = Input(shape=[state_size]) \n",
    "        ddpg_mlp_critic = Sequential()\n",
    "        \n",
    "        A = Input(shape=[action_dim],name='action2')   \n",
    "        w1 = Dense(HIDDEN1_UNITS, activation='relu')(S)\n",
    "        a1 = Dense(HIDDEN2_UNITS, activation='linear')(A) \n",
    "        h1 = Dense(HIDDEN2_UNITS, activation='linear')(w1)\n",
    "        h2 = merge([h1,a1],mode='sum')    \n",
    "        h3 = Dense(HIDDEN2_UNITS, activation='relu')(h2)\n",
    "        V = Dense(action_dim,activation='linear')(h3)   \n",
    "        model = Model(input=[S,A],output=V)\n",
    "        adam = Adam(lr=self.LEARNING_RATE)\n",
    "        model.compile(loss='mse', optimizer=adam)\n",
    "        return model, A, S "
   ]
  },
  {
   "cell_type": "code",
   "execution_count": 204,
   "metadata": {
    "collapsed": true
   },
   "outputs": [],
   "source": [
    "STATE_SIZE = 2\n",
    "ACTION_SIZE = 9\n",
    "BUFFER_SIZE = 100000\n",
    "BATCH_SIZE = 32\n",
    "GAMMA = 0.99\n",
    "TAU = 0.001     #Target Network HyperParameters\n",
    "LRA = 0.0001    #Learning rate for Actor\n",
    "LRC = 0.001     #Lerning rate for Critic\n"
   ]
  },
  {
   "cell_type": "code",
   "execution_count": 217,
   "metadata": {
    "collapsed": false
   },
   "outputs": [
    {
     "name": "stdout",
     "output_type": "stream",
     "text": [
      "Now we build the model\n",
      "Tensor(\"input_11:0\", shape=(?, 2), dtype=float32)  S state size\n",
      "[<tensorflow.python.ops.variables.Variable object at 0x18a1f23c8>, <tensorflow.python.ops.variables.Variable object at 0x18a1f2320>, <tensorflow.python.ops.variables.Variable object at 0x18a2108d0>, <tensorflow.python.ops.variables.Variable object at 0x18a2102b0>, <tensorflow.python.ops.variables.Variable object at 0x18a22bcf8>, <tensorflow.python.ops.variables.Variable object at 0x18a22b7b8>] trainable weights\n",
      "Now we build the model\n",
      "Tensor(\"input_12:0\", shape=(?, 2), dtype=float32)  S state size\n",
      "[<tensorflow.python.ops.variables.Variable object at 0x18a295668>, <tensorflow.python.ops.variables.Variable object at 0x18a295160>, <tensorflow.python.ops.variables.Variable object at 0x18a295a20>, <tensorflow.python.ops.variables.Variable object at 0x18a2955f8>, <tensorflow.python.ops.variables.Variable object at 0x18a2c1f98>, <tensorflow.python.ops.variables.Variable object at 0x18a2c1fd0>] trainable weights\n"
     ]
    },
    {
     "ename": "KeyboardInterrupt",
     "evalue": "",
     "output_type": "error",
     "traceback": [
      "\u001b[0;31m---------------------------------------------------------------------------\u001b[0m",
      "\u001b[0;31mKeyboardInterrupt\u001b[0m                         Traceback (most recent call last)",
      "\u001b[0;32m<ipython-input-217-011d72cd2457>\u001b[0m in \u001b[0;36m<module>\u001b[0;34m()\u001b[0m\n\u001b[1;32m      2\u001b[0m \u001b[0;32mfrom\u001b[0m \u001b[0mkeras\u001b[0m \u001b[0;32mimport\u001b[0m \u001b[0mbackend\u001b[0m \u001b[0;32mas\u001b[0m \u001b[0mK\u001b[0m\u001b[0;34m\u001b[0m\u001b[0m\n\u001b[1;32m      3\u001b[0m \u001b[0mK\u001b[0m\u001b[0;34m.\u001b[0m\u001b[0mset_session\u001b[0m\u001b[0;34m(\u001b[0m\u001b[0msess\u001b[0m\u001b[0;34m)\u001b[0m\u001b[0;34m\u001b[0m\u001b[0m\n\u001b[0;32m----> 4\u001b[0;31m \u001b[0mact\u001b[0m \u001b[0;34m=\u001b[0m \u001b[0mActorNetwork\u001b[0m\u001b[0;34m(\u001b[0m\u001b[0msess\u001b[0m\u001b[0;34m,\u001b[0m\u001b[0mSTATE_SIZE\u001b[0m\u001b[0;34m,\u001b[0m \u001b[0mACTION_SIZE\u001b[0m\u001b[0;34m,\u001b[0m \u001b[0mBATCH_SIZE\u001b[0m\u001b[0;34m,\u001b[0m\u001b[0mTAU\u001b[0m\u001b[0;34m,\u001b[0m \u001b[0mLRA\u001b[0m  \u001b[0;34m)\u001b[0m\u001b[0;34m\u001b[0m\u001b[0m\n\u001b[0m",
      "\u001b[0;32m<ipython-input-216-993a33080d5d>\u001b[0m in \u001b[0;36m__init__\u001b[0;34m(self, sess, state_size, action_size, BATCH_SIZE, TAU, LEARNING_RATE)\u001b[0m\n\u001b[1;32m     29\u001b[0m         \u001b[0mgrads\u001b[0m \u001b[0;34m=\u001b[0m \u001b[0mzip\u001b[0m\u001b[0;34m(\u001b[0m\u001b[0mself\u001b[0m\u001b[0;34m.\u001b[0m\u001b[0mparams_grad\u001b[0m\u001b[0;34m,\u001b[0m \u001b[0mself\u001b[0m\u001b[0;34m.\u001b[0m\u001b[0mweights\u001b[0m\u001b[0;34m)\u001b[0m\u001b[0;34m\u001b[0m\u001b[0m\n\u001b[1;32m     30\u001b[0m         \u001b[0mself\u001b[0m\u001b[0;34m.\u001b[0m\u001b[0moptimize\u001b[0m \u001b[0;34m=\u001b[0m \u001b[0mtf\u001b[0m\u001b[0;34m.\u001b[0m\u001b[0mtrain\u001b[0m\u001b[0;34m.\u001b[0m\u001b[0mAdamOptimizer\u001b[0m\u001b[0;34m(\u001b[0m\u001b[0mLEARNING_RATE\u001b[0m\u001b[0;34m)\u001b[0m\u001b[0;34m.\u001b[0m\u001b[0mapply_gradients\u001b[0m\u001b[0;34m(\u001b[0m\u001b[0mgrads\u001b[0m\u001b[0;34m)\u001b[0m\u001b[0;34m\u001b[0m\u001b[0m\n\u001b[0;32m---> 31\u001b[0;31m         \u001b[0mself\u001b[0m\u001b[0;34m.\u001b[0m\u001b[0msess\u001b[0m\u001b[0;34m.\u001b[0m\u001b[0mrun\u001b[0m\u001b[0;34m(\u001b[0m\u001b[0mtf\u001b[0m\u001b[0;34m.\u001b[0m\u001b[0mglobal_variables_initializer\u001b[0m\u001b[0;34m(\u001b[0m\u001b[0;34m)\u001b[0m\u001b[0;34m)\u001b[0m\u001b[0;34m\u001b[0m\u001b[0m\n\u001b[0m\u001b[1;32m     32\u001b[0m \u001b[0;34m\u001b[0m\u001b[0m\n\u001b[1;32m     33\u001b[0m     \u001b[0;32mdef\u001b[0m \u001b[0mtrain\u001b[0m\u001b[0;34m(\u001b[0m\u001b[0mself\u001b[0m\u001b[0;34m,\u001b[0m \u001b[0mstates\u001b[0m\u001b[0;34m,\u001b[0m \u001b[0maction_grads\u001b[0m\u001b[0;34m)\u001b[0m\u001b[0;34m:\u001b[0m\u001b[0;34m\u001b[0m\u001b[0m\n",
      "\u001b[0;32m/Users/jonathanhilgart/anaconda/envs/dl/lib/python3.6/site-packages/tensorflow/python/client/session.py\u001b[0m in \u001b[0;36mrun\u001b[0;34m(self, fetches, feed_dict, options, run_metadata)\u001b[0m\n\u001b[1;32m    765\u001b[0m     \u001b[0;32mtry\u001b[0m\u001b[0;34m:\u001b[0m\u001b[0;34m\u001b[0m\u001b[0m\n\u001b[1;32m    766\u001b[0m       result = self._run(None, fetches, feed_dict, options_ptr,\n\u001b[0;32m--> 767\u001b[0;31m                          run_metadata_ptr)\n\u001b[0m\u001b[1;32m    768\u001b[0m       \u001b[0;32mif\u001b[0m \u001b[0mrun_metadata\u001b[0m\u001b[0;34m:\u001b[0m\u001b[0;34m\u001b[0m\u001b[0m\n\u001b[1;32m    769\u001b[0m         \u001b[0mproto_data\u001b[0m \u001b[0;34m=\u001b[0m \u001b[0mtf_session\u001b[0m\u001b[0;34m.\u001b[0m\u001b[0mTF_GetBuffer\u001b[0m\u001b[0;34m(\u001b[0m\u001b[0mrun_metadata_ptr\u001b[0m\u001b[0;34m)\u001b[0m\u001b[0;34m\u001b[0m\u001b[0m\n",
      "\u001b[0;32m/Users/jonathanhilgart/anaconda/envs/dl/lib/python3.6/site-packages/tensorflow/python/client/session.py\u001b[0m in \u001b[0;36m_run\u001b[0;34m(self, handle, fetches, feed_dict, options, run_metadata)\u001b[0m\n\u001b[1;32m    963\u001b[0m     \u001b[0;32mif\u001b[0m \u001b[0mfinal_fetches\u001b[0m \u001b[0;32mor\u001b[0m \u001b[0mfinal_targets\u001b[0m\u001b[0;34m:\u001b[0m\u001b[0;34m\u001b[0m\u001b[0m\n\u001b[1;32m    964\u001b[0m       results = self._do_run(handle, final_targets, final_fetches,\n\u001b[0;32m--> 965\u001b[0;31m                              feed_dict_string, options, run_metadata)\n\u001b[0m\u001b[1;32m    966\u001b[0m     \u001b[0;32melse\u001b[0m\u001b[0;34m:\u001b[0m\u001b[0;34m\u001b[0m\u001b[0m\n\u001b[1;32m    967\u001b[0m       \u001b[0mresults\u001b[0m \u001b[0;34m=\u001b[0m \u001b[0;34m[\u001b[0m\u001b[0;34m]\u001b[0m\u001b[0;34m\u001b[0m\u001b[0m\n",
      "\u001b[0;32m/Users/jonathanhilgart/anaconda/envs/dl/lib/python3.6/site-packages/tensorflow/python/client/session.py\u001b[0m in \u001b[0;36m_do_run\u001b[0;34m(self, handle, target_list, fetch_list, feed_dict, options, run_metadata)\u001b[0m\n\u001b[1;32m   1013\u001b[0m     \u001b[0;32mif\u001b[0m \u001b[0mhandle\u001b[0m \u001b[0;32mis\u001b[0m \u001b[0;32mNone\u001b[0m\u001b[0;34m:\u001b[0m\u001b[0;34m\u001b[0m\u001b[0m\n\u001b[1;32m   1014\u001b[0m       return self._do_call(_run_fn, self._session, feed_dict, fetch_list,\n\u001b[0;32m-> 1015\u001b[0;31m                            target_list, options, run_metadata)\n\u001b[0m\u001b[1;32m   1016\u001b[0m     \u001b[0;32melse\u001b[0m\u001b[0;34m:\u001b[0m\u001b[0;34m\u001b[0m\u001b[0m\n\u001b[1;32m   1017\u001b[0m       return self._do_call(_prun_fn, self._session, handle, feed_dict,\n",
      "\u001b[0;32m/Users/jonathanhilgart/anaconda/envs/dl/lib/python3.6/site-packages/tensorflow/python/client/session.py\u001b[0m in \u001b[0;36m_do_call\u001b[0;34m(self, fn, *args)\u001b[0m\n\u001b[1;32m   1020\u001b[0m   \u001b[0;32mdef\u001b[0m \u001b[0m_do_call\u001b[0m\u001b[0;34m(\u001b[0m\u001b[0mself\u001b[0m\u001b[0;34m,\u001b[0m \u001b[0mfn\u001b[0m\u001b[0;34m,\u001b[0m \u001b[0;34m*\u001b[0m\u001b[0margs\u001b[0m\u001b[0;34m)\u001b[0m\u001b[0;34m:\u001b[0m\u001b[0;34m\u001b[0m\u001b[0m\n\u001b[1;32m   1021\u001b[0m     \u001b[0;32mtry\u001b[0m\u001b[0;34m:\u001b[0m\u001b[0;34m\u001b[0m\u001b[0m\n\u001b[0;32m-> 1022\u001b[0;31m       \u001b[0;32mreturn\u001b[0m \u001b[0mfn\u001b[0m\u001b[0;34m(\u001b[0m\u001b[0;34m*\u001b[0m\u001b[0margs\u001b[0m\u001b[0;34m)\u001b[0m\u001b[0;34m\u001b[0m\u001b[0m\n\u001b[0m\u001b[1;32m   1023\u001b[0m     \u001b[0;32mexcept\u001b[0m \u001b[0merrors\u001b[0m\u001b[0;34m.\u001b[0m\u001b[0mOpError\u001b[0m \u001b[0;32mas\u001b[0m \u001b[0me\u001b[0m\u001b[0;34m:\u001b[0m\u001b[0;34m\u001b[0m\u001b[0m\n\u001b[1;32m   1024\u001b[0m       \u001b[0mmessage\u001b[0m \u001b[0;34m=\u001b[0m \u001b[0mcompat\u001b[0m\u001b[0;34m.\u001b[0m\u001b[0mas_text\u001b[0m\u001b[0;34m(\u001b[0m\u001b[0me\u001b[0m\u001b[0;34m.\u001b[0m\u001b[0mmessage\u001b[0m\u001b[0;34m)\u001b[0m\u001b[0;34m\u001b[0m\u001b[0m\n",
      "\u001b[0;32m/Users/jonathanhilgart/anaconda/envs/dl/lib/python3.6/site-packages/tensorflow/python/client/session.py\u001b[0m in \u001b[0;36m_run_fn\u001b[0;34m(session, feed_dict, fetch_list, target_list, options, run_metadata)\u001b[0m\n\u001b[1;32m    998\u001b[0m                 run_metadata):\n\u001b[1;32m    999\u001b[0m       \u001b[0;31m# Ensure any changes to the graph are reflected in the runtime.\u001b[0m\u001b[0;34m\u001b[0m\u001b[0;34m\u001b[0m\u001b[0m\n\u001b[0;32m-> 1000\u001b[0;31m       \u001b[0mself\u001b[0m\u001b[0;34m.\u001b[0m\u001b[0m_extend_graph\u001b[0m\u001b[0;34m(\u001b[0m\u001b[0;34m)\u001b[0m\u001b[0;34m\u001b[0m\u001b[0m\n\u001b[0m\u001b[1;32m   1001\u001b[0m       \u001b[0;32mwith\u001b[0m \u001b[0merrors\u001b[0m\u001b[0;34m.\u001b[0m\u001b[0mraise_exception_on_not_ok_status\u001b[0m\u001b[0;34m(\u001b[0m\u001b[0;34m)\u001b[0m \u001b[0;32mas\u001b[0m \u001b[0mstatus\u001b[0m\u001b[0;34m:\u001b[0m\u001b[0;34m\u001b[0m\u001b[0m\n\u001b[1;32m   1002\u001b[0m         return tf_session.TF_Run(session, options,\n",
      "\u001b[0;32m/Users/jonathanhilgart/anaconda/envs/dl/lib/python3.6/site-packages/tensorflow/python/client/session.py\u001b[0m in \u001b[0;36m_extend_graph\u001b[0;34m(self)\u001b[0m\n\u001b[1;32m   1042\u001b[0m         graph_def, self._current_version = self._graph._as_graph_def(\n\u001b[1;32m   1043\u001b[0m             \u001b[0mfrom_version\u001b[0m\u001b[0;34m=\u001b[0m\u001b[0mself\u001b[0m\u001b[0;34m.\u001b[0m\u001b[0m_current_version\u001b[0m\u001b[0;34m,\u001b[0m\u001b[0;34m\u001b[0m\u001b[0m\n\u001b[0;32m-> 1044\u001b[0;31m             add_shapes=self._add_shapes)\n\u001b[0m\u001b[1;32m   1045\u001b[0m         \u001b[0;31m# pylint: enable=protected-access\u001b[0m\u001b[0;34m\u001b[0m\u001b[0;34m\u001b[0m\u001b[0m\n\u001b[1;32m   1046\u001b[0m \u001b[0;34m\u001b[0m\u001b[0m\n",
      "\u001b[0;32m/Users/jonathanhilgart/anaconda/envs/dl/lib/python3.6/site-packages/tensorflow/python/framework/ops.py\u001b[0m in \u001b[0;36m_as_graph_def\u001b[0;34m(self, from_version, add_shapes)\u001b[0m\n\u001b[1;32m   2211\u001b[0m         \u001b[0mop\u001b[0m \u001b[0;34m=\u001b[0m \u001b[0mself\u001b[0m\u001b[0;34m.\u001b[0m\u001b[0m_nodes_by_id\u001b[0m\u001b[0;34m[\u001b[0m\u001b[0mop_id\u001b[0m\u001b[0;34m]\u001b[0m\u001b[0;34m\u001b[0m\u001b[0m\n\u001b[1;32m   2212\u001b[0m         \u001b[0;32mif\u001b[0m \u001b[0mfrom_version\u001b[0m \u001b[0;32mis\u001b[0m \u001b[0;32mNone\u001b[0m \u001b[0;32mor\u001b[0m \u001b[0mop_id\u001b[0m \u001b[0;34m>\u001b[0m \u001b[0mfrom_version\u001b[0m\u001b[0;34m:\u001b[0m\u001b[0;34m\u001b[0m\u001b[0m\n\u001b[0;32m-> 2213\u001b[0;31m           \u001b[0mgraph\u001b[0m\u001b[0;34m.\u001b[0m\u001b[0mnode\u001b[0m\u001b[0;34m.\u001b[0m\u001b[0mextend\u001b[0m\u001b[0;34m(\u001b[0m\u001b[0;34m[\u001b[0m\u001b[0mop\u001b[0m\u001b[0;34m.\u001b[0m\u001b[0mnode_def\u001b[0m\u001b[0;34m]\u001b[0m\u001b[0;34m)\u001b[0m\u001b[0;34m\u001b[0m\u001b[0m\n\u001b[0m\u001b[1;32m   2214\u001b[0m           \u001b[0;32mif\u001b[0m \u001b[0mop\u001b[0m\u001b[0;34m.\u001b[0m\u001b[0moutputs\u001b[0m \u001b[0;32mand\u001b[0m \u001b[0madd_shapes\u001b[0m\u001b[0;34m:\u001b[0m\u001b[0;34m\u001b[0m\u001b[0m\n\u001b[1;32m   2215\u001b[0m             \u001b[0;32massert\u001b[0m \u001b[0;34m\"_output_shapes\"\u001b[0m \u001b[0;32mnot\u001b[0m \u001b[0;32min\u001b[0m \u001b[0mgraph\u001b[0m\u001b[0;34m.\u001b[0m\u001b[0mnode\u001b[0m\u001b[0;34m[\u001b[0m\u001b[0;34m-\u001b[0m\u001b[0;36m1\u001b[0m\u001b[0;34m]\u001b[0m\u001b[0;34m.\u001b[0m\u001b[0mattr\u001b[0m\u001b[0;34m\u001b[0m\u001b[0m\n",
      "\u001b[0;32m/Users/jonathanhilgart/anaconda/envs/dl/lib/python3.6/site-packages/google/protobuf/internal/containers.py\u001b[0m in \u001b[0;36mextend\u001b[0;34m(self, elem_seq)\u001b[0m\n\u001b[1;32m    385\u001b[0m     \u001b[0mvalues\u001b[0m \u001b[0;34m=\u001b[0m \u001b[0mself\u001b[0m\u001b[0;34m.\u001b[0m\u001b[0m_values\u001b[0m\u001b[0;34m\u001b[0m\u001b[0m\n\u001b[1;32m    386\u001b[0m     \u001b[0;32mfor\u001b[0m \u001b[0mmessage\u001b[0m \u001b[0;32min\u001b[0m \u001b[0melem_seq\u001b[0m\u001b[0;34m:\u001b[0m\u001b[0;34m\u001b[0m\u001b[0m\n\u001b[0;32m--> 387\u001b[0;31m       \u001b[0mnew_element\u001b[0m \u001b[0;34m=\u001b[0m \u001b[0mmessage_class\u001b[0m\u001b[0;34m(\u001b[0m\u001b[0;34m)\u001b[0m\u001b[0;34m\u001b[0m\u001b[0m\n\u001b[0m\u001b[1;32m    388\u001b[0m       \u001b[0mnew_element\u001b[0m\u001b[0;34m.\u001b[0m\u001b[0m_SetListener\u001b[0m\u001b[0;34m(\u001b[0m\u001b[0mlistener\u001b[0m\u001b[0;34m)\u001b[0m\u001b[0;34m\u001b[0m\u001b[0m\n\u001b[1;32m    389\u001b[0m       \u001b[0mnew_element\u001b[0m\u001b[0;34m.\u001b[0m\u001b[0mMergeFrom\u001b[0m\u001b[0;34m(\u001b[0m\u001b[0mmessage\u001b[0m\u001b[0;34m)\u001b[0m\u001b[0;34m\u001b[0m\u001b[0m\n",
      "\u001b[0;32m/Users/jonathanhilgart/anaconda/envs/dl/lib/python3.6/site-packages/google/protobuf/internal/python_message.py\u001b[0m in \u001b[0;36minit\u001b[0;34m(self, **kwargs)\u001b[0m\n\u001b[1;32m    478\u001b[0m     \u001b[0mself\u001b[0m\u001b[0;34m.\u001b[0m\u001b[0m_is_present_in_parent\u001b[0m \u001b[0;34m=\u001b[0m \u001b[0;32mFalse\u001b[0m\u001b[0;34m\u001b[0m\u001b[0m\n\u001b[1;32m    479\u001b[0m     \u001b[0mself\u001b[0m\u001b[0;34m.\u001b[0m\u001b[0m_listener\u001b[0m \u001b[0;34m=\u001b[0m \u001b[0mmessage_listener_mod\u001b[0m\u001b[0;34m.\u001b[0m\u001b[0mNullMessageListener\u001b[0m\u001b[0;34m(\u001b[0m\u001b[0;34m)\u001b[0m\u001b[0;34m\u001b[0m\u001b[0m\n\u001b[0;32m--> 480\u001b[0;31m     \u001b[0mself\u001b[0m\u001b[0;34m.\u001b[0m\u001b[0m_listener_for_children\u001b[0m \u001b[0;34m=\u001b[0m \u001b[0m_Listener\u001b[0m\u001b[0;34m(\u001b[0m\u001b[0mself\u001b[0m\u001b[0;34m)\u001b[0m\u001b[0;34m\u001b[0m\u001b[0m\n\u001b[0m\u001b[1;32m    481\u001b[0m     \u001b[0;32mfor\u001b[0m \u001b[0mfield_name\u001b[0m\u001b[0;34m,\u001b[0m \u001b[0mfield_value\u001b[0m \u001b[0;32min\u001b[0m \u001b[0mlist\u001b[0m\u001b[0;34m(\u001b[0m\u001b[0mkwargs\u001b[0m\u001b[0;34m.\u001b[0m\u001b[0mitems\u001b[0m\u001b[0;34m(\u001b[0m\u001b[0;34m)\u001b[0m\u001b[0;34m)\u001b[0m\u001b[0;34m:\u001b[0m\u001b[0;34m\u001b[0m\u001b[0m\n\u001b[1;32m    482\u001b[0m       \u001b[0mfield\u001b[0m \u001b[0;34m=\u001b[0m \u001b[0m_GetFieldByName\u001b[0m\u001b[0;34m(\u001b[0m\u001b[0mmessage_descriptor\u001b[0m\u001b[0;34m,\u001b[0m \u001b[0mfield_name\u001b[0m\u001b[0;34m)\u001b[0m\u001b[0;34m\u001b[0m\u001b[0m\n",
      "\u001b[0;31mKeyboardInterrupt\u001b[0m: "
     ]
    }
   ],
   "source": [
    "sess = tf.Session()\n",
    "from keras import backend as K\n",
    "K.set_session(sess)\n",
    "act = ActorNetwork(sess,STATE_SIZE, ACTION_SIZE, BATCH_SIZE,TAU, LRA  )"
   ]
  },
  {
   "cell_type": "code",
   "execution_count": null,
   "metadata": {
    "collapsed": true
   },
   "outputs": [],
   "source": []
  },
  {
   "cell_type": "markdown",
   "metadata": {
    "collapsed": true
   },
   "source": []
  }
 ],
 "metadata": {
  "kernelspec": {
   "display_name": "dl",
   "language": "python",
   "name": "dl"
  },
  "language_info": {
   "codemirror_mode": {
    "name": "ipython",
    "version": 3
   },
   "file_extension": ".py",
   "mimetype": "text/x-python",
   "name": "python",
   "nbconvert_exporter": "python",
   "pygments_lexer": "ipython3",
   "version": "3.6.1"
  }
 },
 "nbformat": 4,
 "nbformat_minor": 2
}
